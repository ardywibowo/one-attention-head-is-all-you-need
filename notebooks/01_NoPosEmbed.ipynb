{
  "cells": [
    {
      "cell_type": "markdown",
      "metadata": {
        "id": "jKyC3mZ72qlH"
      },
      "source": [
        "Copy-paste the contents of this notebook at the beginning of every other notebook in this project."
      ]
    },
    {
      "cell_type": "markdown",
      "metadata": {
        "id": "PBe5K-JpHXFs"
      },
      "source": [
        "## Variable hyperparameters"
      ]
    },
    {
      "cell_type": "code",
      "execution_count": 29,
      "metadata": {
        "id": "httbkgCwHYF4"
      },
      "outputs": [],
      "source": [
        "# Fixed length of list to be sorted\n",
        "LIST_LENGTH = 5\n",
        "\n",
        "# Size of vocabulary\n",
        "D_VOCAB = 66\n",
        "\n",
        "# Should lists have repetitions?\n",
        "ALLOW_REPETITIONS = False\n",
        "\n",
        "# Attention only? (False -> model includes MLPs)\n",
        "ATTN_ONLY = True\n",
        "\n",
        "# Model dimenions\n",
        "N_LAYERS = 1\n",
        "N_HEADS = 1\n",
        "D_MODEL = 128\n",
        "D_HEAD = 32\n",
        "D_MLP = None\n",
        "\n",
        "if ATTN_ONLY:\n",
        "    D_MLP = None\n",
        "\n",
        "# Default batch size\n",
        "DEFAULT_BATCH_SIZE = 32"
      ]
    },
    {
      "cell_type": "markdown",
      "metadata": {
        "id": "7o--LiD_HMGs"
      },
      "source": [
        "## Prelude"
      ]
    },
    {
      "cell_type": "markdown",
      "metadata": {
        "id": "7yjVSLZbEEJX"
      },
      "source": [
        "### Install and import"
      ]
    },
    {
      "cell_type": "code",
      "execution_count": 30,
      "metadata": {
        "id": "Wqa5uVY-2oC7"
      },
      "outputs": [],
      "source": [
        "try:\n",
        "    import transformer_lens\n",
        "except:\n",
        "    !pip install git+https://github.com/neelnanda-io/TransformerLens\n",
        "    !pip install circuitsvis"
      ]
    },
    {
      "cell_type": "code",
      "execution_count": 31,
      "metadata": {
        "colab": {
          "base_uri": "https://localhost:8080/",
          "height": 64
        },
        "id": "dqFfW5V32yaO",
        "outputId": "323df961-4b90-49e8-8ab8-ef66c85061d1"
      },
      "outputs": [
        {
          "data": {
            "text/html": [
              "<div id=\"circuits-vis-66c96142-5457\" style=\"margin: 15px 0;\"/>\n",
              "    <script crossorigin type=\"module\">\n",
              "    import { render, Hello } from \"https://unpkg.com/circuitsvis@1.43.2/dist/cdn/esm.js\";\n",
              "    render(\n",
              "      \"circuits-vis-66c96142-5457\",\n",
              "      Hello,\n",
              "      {\"name\": \"You\"}\n",
              "    )\n",
              "    </script>"
            ],
            "text/plain": [
              "<circuitsvis.utils.render.RenderedHTML at 0x290675e20>"
            ]
          },
          "execution_count": 31,
          "metadata": {},
          "output_type": "execute_result"
        }
      ],
      "source": [
        "from __future__ import annotations\n",
        "from dataclasses import dataclass, field\n",
        "from datetime import datetime as dt\n",
        "from itertools import repeat\n",
        "import os\n",
        "import pickle\n",
        "import random\n",
        "from typing import cast, Generator, Literal\n",
        "\n",
        "import circuitsvis as cv\n",
        "from fancy_einsum import einsum\n",
        "from matplotlib import pyplot as plt\n",
        "import numpy as np\n",
        "import torch\n",
        "from torch import nn, tensor, Tensor, TensorType as TT\n",
        "from torch.nn import functional as F\n",
        "from transformer_lens import HookedTransformerConfig, HookedTransformer\n",
        "from tqdm import tqdm\n",
        "from typing_extensions import Self\n",
        "\n",
        "cv.examples.hello(\"You\")"
      ]
    },
    {
      "cell_type": "markdown",
      "metadata": {
        "id": "Oo4oP4dSrYhD"
      },
      "source": [
        "### Invariable hyperparameters"
      ]
    },
    {
      "cell_type": "code",
      "execution_count": 32,
      "metadata": {
        "colab": {
          "base_uri": "https://localhost:8080/"
        },
        "id": "_XwivtyM_Hru",
        "outputId": "253931dc-5c4d-4f11-a4e9-b80730e9372c"
      },
      "outputs": [
        {
          "name": "stdout",
          "output_type": "stream",
          "text": [
            "DEVICE = 'mps'\n"
          ]
        }
      ],
      "source": [
        "# DEVICE = \"cuda\" if torch.cuda.is_available() else \"cpu\"\n",
        "DEVICE = \"mps\"\n",
        "print(f\"{DEVICE = }\")\n",
        "\n",
        "# Seeds to generate training, validation, and test data\n",
        "TRAIN_SEED = 42\n",
        "VAL_SEED = 66\n",
        "TEST_SEED = 1729\n",
        "\n",
        "# Context length: [start, *(unsorted_)list_length, mid, *(sorted_)list_length]\n",
        "N_CTX = 2 * LIST_LENGTH + 2\n",
        "\n",
        "# \"Real\" tokens range from 0 to D_VOCAB - 2 (non-inclusive)\n",
        "VOCAB_MIN_ID = 0\n",
        "VOCAB_MAX_ID = D_VOCAB - 2\n",
        "\n",
        "# START token is D_VOCAB - 2 and MID token is D_VOCAB - 1\n",
        "START_TOKEN_ID = VOCAB_MAX_ID\n",
        "MID_TOKEN_ID = D_VOCAB - 1"
      ]
    },
    {
      "cell_type": "markdown",
      "metadata": {
        "id": "dlWGwox63j24"
      },
      "source": [
        "### Data generator and datasets"
      ]
    },
    {
      "cell_type": "code",
      "execution_count": 33,
      "metadata": {
        "colab": {
          "base_uri": "https://localhost:8080/"
        },
        "id": "44OZjOq83k1H",
        "outputId": "413c82ad-aa84-42bc-f9ab-fe4c0608481a"
      },
      "outputs": [],
      "source": [
        "import torch\n",
        "from torch.utils.data import TensorDataset, DataLoader, random_split\n",
        "\n",
        "def generate_unique_list(total_size: int) -> torch.Tensor:\n",
        "    # Generate a list of unique sequences\n",
        "    unique_sequences = set()\n",
        "    while len(unique_sequences) < total_size:\n",
        "        if ALLOW_REPETITIONS:\n",
        "            sequence = tuple(torch.randint(VOCAB_MIN_ID, VOCAB_MAX_ID, (LIST_LENGTH,)).tolist())\n",
        "        else:\n",
        "            sequence = tuple(random.sample(range(VOCAB_MIN_ID, VOCAB_MAX_ID), k=LIST_LENGTH))\n",
        "        unique_sequences.add(sequence)\n",
        "\n",
        "    # Convert to tensor and move to the correct DEVICE\n",
        "    return torch.tensor(list(unique_sequences), dtype=torch.int32)\n",
        "\n",
        "def process_data(data: torch.Tensor) -> torch.Tensor:\n",
        "    # Sort the data\n",
        "    data_sorted = torch.sort(data, dim=1).values\n",
        "    # Add START tokens\n",
        "    data_start = START_TOKEN_ID * torch.ones(data.size(0), 1, dtype=torch.int32)\n",
        "    # Add MID tokens\n",
        "    data_mid = MID_TOKEN_ID * torch.ones(data.size(0), 1, dtype=torch.int32)\n",
        "    # Concatenate all parts\n",
        "    return torch.cat((data_start, data, data_mid, data_sorted), dim=1)\n",
        "\n",
        "# Set the seeds\n",
        "torch.manual_seed(TRAIN_SEED)\n",
        "if not ALLOW_REPETITIONS:\n",
        "    # Generate the complete list of unique sequences\n",
        "    data = generate_unique_list(1_000_000 + 200_000)  # extra for validation and test\n",
        "else:\n",
        "    # If repetitions are allowed, just generate a large random tensor\n",
        "    data = torch.randint(VOCAB_MIN_ID, VOCAB_MAX_ID, (1_200_000, LIST_LENGTH), dtype=torch.int32)\n",
        "\n",
        "# Process the data with start, mid tokens and sorted sequences\n",
        "full_data = process_data(data)\n",
        "full_data = full_data.long()\n",
        "\n",
        "# Define the length of splits for train, validation, and test sets\n",
        "train_length = 1_000_000\n",
        "val_length = 100_000\n",
        "test_length = 100_000\n",
        "\n",
        "# Split the data into training, validation, and test sets\n",
        "train_data, val_data, test_data = random_split(\n",
        "    full_data, [train_length, val_length, test_length],\n",
        "    generator=torch.Generator().manual_seed(42)  # for reproducibility\n",
        ")\n",
        "\n",
        "# Create DataLoaders for each set\n",
        "# Wrap the actual data in a TensorDataset\n",
        "train_loader = DataLoader(TensorDataset(train_data.dataset[train_data.indices]), batch_size=128, shuffle=True)\n",
        "val_loader = DataLoader(TensorDataset(val_data.dataset[val_data.indices]), batch_size=1024, shuffle=True)\n",
        "test_loader = DataLoader(TensorDataset(test_data.dataset[test_data.indices]), batch_size=1024, shuffle=True)"
      ]
    },
    {
      "cell_type": "code",
      "execution_count": 34,
      "metadata": {},
      "outputs": [
        {
          "data": {
            "text/plain": [
              "tensor([[28, 19, 16, 17, 10],\n",
              "        [ 5, 36, 32, 18, 61],\n",
              "        [41, 48, 61, 46, 13],\n",
              "        ...,\n",
              "        [58, 13, 18, 15, 12],\n",
              "        [46, 35, 13, 14,  4],\n",
              "        [27, 34, 40, 13, 45]], dtype=torch.int32)"
            ]
          },
          "execution_count": 34,
          "metadata": {},
          "output_type": "execute_result"
        }
      ],
      "source": [
        "data"
      ]
    },
    {
      "cell_type": "code",
      "execution_count": 35,
      "metadata": {},
      "outputs": [
        {
          "data": {
            "text/plain": [
              "tensor([64,  8,  0, 34,  3, 25, 65,  0,  3,  8, 25, 34])"
            ]
          },
          "execution_count": 35,
          "metadata": {},
          "output_type": "execute_result"
        }
      ],
      "source": [
        "next(iter(test_loader))[0][0]"
      ]
    },
    {
      "cell_type": "markdown",
      "metadata": {
        "id": "hBJn1fKm3pMX"
      },
      "source": [
        "### Loss function"
      ]
    },
    {
      "cell_type": "code",
      "execution_count": 36,
      "metadata": {
        "colab": {
          "base_uri": "https://localhost:8080/"
        },
        "id": "PTlNfaKY3qkd",
        "outputId": "7d962ac8-efe5-4681-bb20-a4ff8b675156"
      },
      "outputs": [],
      "source": [
        "def loss_fn(\n",
        "    logits: Tensor, # [batch, pos, d_vocab] \n",
        "    tokens: Tensor, # [batch, pos] \n",
        "    return_per_token: bool = False\n",
        ") -> Tensor: # scalar\n",
        "    \"\"\"Mean cross-entropy between tokens in the sorted list part of the \n",
        "    sequence (last `LIST_LENGTH`) and model's predictions about them.\n",
        "    \"\"\"\n",
        "    sorted_start_pos = LIST_LENGTH + 2\n",
        "    logits = logits[:, (sorted_start_pos-1):-1]\n",
        "    tokens = tokens[:, sorted_start_pos : None]\n",
        "    log_probs = logits.log_softmax(-1)\n",
        "    correct_log_probs = log_probs.gather(-1, tokens[..., None])[..., 0]\n",
        "    if return_per_token:\n",
        "        return -correct_log_probs\n",
        "    return -correct_log_probs.mean()"
      ]
    },
    {
      "cell_type": "markdown",
      "metadata": {
        "id": "GKKrzLEq3sun"
      },
      "source": [
        "### Accuracy and validation"
      ]
    },
    {
      "cell_type": "code",
      "execution_count": 37,
      "metadata": {
        "id": "1x6q7b7O3rZa"
      },
      "outputs": [],
      "source": [
        "def get_diff_row_inds(\n",
        "    a: Tensor, # [dim1, dim2]\n",
        "    b: Tensor  # [dim1, dim2]\n",
        ") -> Tensor:   # [dim1]\n",
        "    \"\"\"Find indices of rows where a and b differ\"\"\"\n",
        "    assert a.shape == b.shape\n",
        "    return ((a == b).prod(dim=1) == 0).nonzero(as_tuple=True)[0]\n",
        "\n",
        "def acc_fn(\n",
        "    logits: Tensor, # [batch, pos, d_vocab]\n",
        "    tokens: Tensor, # [batch, pos]\n",
        "    per: Literal[\"token\", \"sequence\"] = \"sequence\"\n",
        ") -> float:\n",
        "    \"\"\"Compute accuracy as percentage of correct predictions\"\"\"\n",
        "    assert per in (\"token\", \"sequence\")\n",
        "    sorted_start_pos = LIST_LENGTH + 2\n",
        "    # Get logits of predictions for position\n",
        "    logits = logits[:, (sorted_start_pos-1):-1]\n",
        "    preds = logits.argmax(-1).to(tokens.device)\n",
        "    tokens = tokens[:, sorted_start_pos:]\n",
        "    if per == \"sequence\":\n",
        "        return (preds == tokens).prod(dim=1).float().mean().item()\n",
        "    return (preds == tokens).float().mean().item()\n",
        "\n",
        "def validate(\n",
        "    model: HookedTransformer, \n",
        "    data: Tensor, # [batch, pos]\n",
        "    per: Literal[\"token\", \"sequence\"] = \"sequence\"\n",
        ") -> float:\n",
        "    \"\"\"Test this model on `data`\"\"\"\n",
        "    logits = model(data)\n",
        "    acc = acc_fn(logits, tokens=data, per=per)\n",
        "    return acc\n",
        "\n",
        "def show_mispreds(\n",
        "    model: HookedTransformer, \n",
        "    data: Tensor # [batch, pos]\n",
        ") -> None:\n",
        "    \"\"\"Test this model on `data` and print mispredictions\"\"\"\n",
        "    logits = model(data)\n",
        "    sorted_start_pos = LIST_LENGTH + 2\n",
        "    logits = logits[:, (sorted_start_pos-1):-1]\n",
        "    tokens = data[:, sorted_start_pos:].cpu()\n",
        "    preds = logits.argmax(-1).cpu()\n",
        "    mispred_inds = get_diff_row_inds(tokens, preds)\n",
        "    for i in mispred_inds:\n",
        "        print(f\"[{i}] {tokens[i].numpy().tolist()} | {preds[i].numpy().tolist()}\")\n",
        "    print(f\"{len(mispred_inds)}/{len(preds)} ({len(mispred_inds) / len(preds) :.2%})\")"
      ]
    },
    {
      "cell_type": "markdown",
      "metadata": {
        "id": "V5trW5nKhF3I"
      },
      "source": [
        "## Training"
      ]
    },
    {
      "cell_type": "markdown",
      "metadata": {
        "id": "32Hj7N1nhHrI"
      },
      "source": [
        "### Model"
      ]
    },
    {
      "cell_type": "code",
      "execution_count": 38,
      "metadata": {
        "id": "YwIffvImhT4g"
      },
      "outputs": [],
      "source": [
        "cfg = HookedTransformerConfig(\n",
        "    d_model=D_MODEL,\n",
        "    n_layers=N_LAYERS,\n",
        "    n_heads=N_HEADS,\n",
        "    d_head=D_HEAD,\n",
        "    n_ctx=N_CTX,\n",
        "    d_vocab=D_VOCAB,\n",
        "    act_fn=\"relu\",\n",
        "    seed=42,\n",
        "    device=DEVICE,\n",
        "    attn_only=ATTN_ONLY\n",
        ")\n",
        "model = HookedTransformer(cfg, move_to_device=True)\n"
      ]
    },
    {
      "cell_type": "code",
      "execution_count": 39,
      "metadata": {},
      "outputs": [],
      "source": [
        "model.pos_embed.W_pos.data[:] = 0\n",
        "model.pos_embed.W_pos.requires_grad = False"
      ]
    },
    {
      "cell_type": "markdown",
      "metadata": {
        "id": "9vYV7QAd3vCT"
      },
      "source": [
        "### Training setup"
      ]
    },
    {
      "cell_type": "code",
      "execution_count": 40,
      "metadata": {
        "id": "LHBPL3Xw3uAt"
      },
      "outputs": [],
      "source": [
        "@dataclass(frozen=True)\n",
        "class TrainingHistory:\n",
        "    losses: list[float]\n",
        "    train_accuracies: list[float]\n",
        "    val_accuracies: list[float]\n",
        "\n",
        "def converged(val_accs: list[float], n_last: int = 10) -> bool:\n",
        "    return cast(bool, (tensor(val_accs[-n_last:]) == 1).all().item())\n",
        "\n",
        "# Number of epochs\n",
        "# n_epochs = 20000\n",
        "n_epochs = 2500\n",
        "\n",
        "# Optimization\n",
        "lr = 1e-3\n",
        "betas = (.9, .999)\n",
        "optim = torch.optim.AdamW(model.parameters(), lr=lr, betas=betas)\n",
        "scheduler = torch.optim.lr_scheduler.ReduceLROnPlateau(optim, \"min\", patience=100)\n",
        "\n",
        "# Training data generator\n",
        "def train_model(model: HookedTransformer) -> TrainingHistory:\n",
        "    losses = []\n",
        "    train_accuracies = []\n",
        "    val_accuracies = []\n",
        "    \n",
        "    train_gen = iter(train_loader)\n",
        "    for epoch in range(n_epochs):\n",
        "        \n",
        "        try:\n",
        "            tokens = next(train_gen)[0].to(device=DEVICE)\n",
        "        except StopIteration:\n",
        "            train_gen = iter(train_loader)\n",
        "            tokens = next(train_gen)[0].to(device=DEVICE)\n",
        "        \n",
        "        logits = model(tokens)\n",
        "        loss = loss_fn(logits, tokens)\n",
        "        loss.backward()\n",
        "        optim.step()\n",
        "        optim.zero_grad()\n",
        "        scheduler.step(loss)\n",
        "        \n",
        "        if epoch % 100 == 0:\n",
        "            losses.append(loss.item())\n",
        "            train_batch_acc = acc_fn(logits, tokens)\n",
        "            \n",
        "            val_data = next(iter(val_loader))[0].to(device=DEVICE)\n",
        "            val_acc = validate(model, val_data)\n",
        "            val_loss = loss_fn(model(val_data), val_data)\n",
        "\n",
        "            train_accuracies.append(train_batch_acc)\n",
        "            val_accuracies.append(val_acc)\n",
        "            print(\n",
        "                f\"Epoch {epoch}/{n_epochs} ({epoch / n_epochs:.0%}) : \"\n",
        "                f\"loss = {loss.item():.4f}; {train_batch_acc=:.3%}; \"\n",
        "                f\"{val_acc=:.3%}; lr={scheduler._last_lr[0]}\" #type:ignore\n",
        "            )\n",
        "            # If last 10 recorded val_accuracies are 100%\n",
        "            if converged(val_accuracies):\n",
        "                print(f\"\\nAchieved consistent perfect validation accuracy after {epoch} epochs\")\n",
        "                break\n",
        "    return TrainingHistory(losses, train_accuracies, val_accuracies)\n",
        "\n",
        "def load_model_state(model: HookedTransformer, filename: str) -> None:\n",
        "    assert os.path.isdir(\"models\"), \"Make a directory `models` with model state dicts\"\n",
        "    if not filename.startswith(\"models/\"):\n",
        "        filename = f\"models/{filename}\"\n",
        "    with open(filename, \"rb\") as f:\n",
        "        state_dict = pickle.load(f)\n",
        "    model.load_state_dict(state_dict)"
      ]
    },
    {
      "cell_type": "code",
      "execution_count": 41,
      "metadata": {},
      "outputs": [
        {
          "data": {
            "text/plain": [
              "torch.Size([128, 12])"
            ]
          },
          "execution_count": 41,
          "metadata": {},
          "output_type": "execute_result"
        }
      ],
      "source": [
        "train_gen = iter(train_loader)\n",
        "next(train_gen)[0].shape"
      ]
    },
    {
      "cell_type": "markdown",
      "metadata": {
        "id": "HXhR2JBjdXkD"
      },
      "source": [
        "### Train or load model"
      ]
    },
    {
      "cell_type": "code",
      "execution_count": 42,
      "metadata": {
        "id": "CMH8DwNHdWLA"
      },
      "outputs": [
        {
          "name": "stdout",
          "output_type": "stream",
          "text": [
            "Epoch 0/2500 (0%) : loss = 4.3968; train_batch_acc=0.000%; val_acc=0.000%; lr=0.001\n",
            "Epoch 100/2500 (4%) : loss = 0.2802; train_batch_acc=69.531%; val_acc=69.141%; lr=0.001\n",
            "Epoch 200/2500 (8%) : loss = 0.0907; train_batch_acc=89.062%; val_acc=91.602%; lr=0.001\n",
            "Epoch 300/2500 (12%) : loss = 0.0395; train_batch_acc=97.656%; val_acc=95.312%; lr=0.001\n",
            "Epoch 400/2500 (16%) : loss = 0.0251; train_batch_acc=97.656%; val_acc=98.145%; lr=0.001\n",
            "Epoch 500/2500 (20%) : loss = 0.0138; train_batch_acc=99.219%; val_acc=98.340%; lr=0.001\n",
            "Epoch 600/2500 (24%) : loss = 0.0129; train_batch_acc=98.438%; val_acc=99.023%; lr=0.001\n",
            "Epoch 700/2500 (28%) : loss = 0.0174; train_batch_acc=99.219%; val_acc=98.926%; lr=0.001\n",
            "Epoch 800/2500 (32%) : loss = 0.0105; train_batch_acc=100.000%; val_acc=99.512%; lr=0.001\n",
            "Epoch 900/2500 (36%) : loss = 0.0061; train_batch_acc=100.000%; val_acc=99.805%; lr=0.0001\n",
            "Epoch 1000/2500 (40%) : loss = 0.0051; train_batch_acc=99.219%; val_acc=99.902%; lr=0.0001\n",
            "Epoch 1100/2500 (44%) : loss = 0.0066; train_batch_acc=99.219%; val_acc=99.707%; lr=0.0001\n",
            "Epoch 1200/2500 (48%) : loss = 0.0045; train_batch_acc=100.000%; val_acc=99.902%; lr=1e-05\n",
            "Epoch 1300/2500 (52%) : loss = 0.0100; train_batch_acc=99.219%; val_acc=99.805%; lr=1e-05\n",
            "Epoch 1400/2500 (56%) : loss = 0.0058; train_batch_acc=99.219%; val_acc=100.000%; lr=1.0000000000000002e-06\n",
            "Epoch 1500/2500 (60%) : loss = 0.0032; train_batch_acc=100.000%; val_acc=99.902%; lr=1.0000000000000002e-07\n",
            "Epoch 1600/2500 (64%) : loss = 0.0040; train_batch_acc=100.000%; val_acc=99.902%; lr=1.0000000000000004e-08\n",
            "Epoch 1700/2500 (68%) : loss = 0.0040; train_batch_acc=100.000%; val_acc=99.902%; lr=1.0000000000000004e-08\n",
            "Epoch 1800/2500 (72%) : loss = 0.0039; train_batch_acc=100.000%; val_acc=99.805%; lr=1.0000000000000004e-08\n",
            "Epoch 1900/2500 (76%) : loss = 0.0046; train_batch_acc=100.000%; val_acc=99.902%; lr=1.0000000000000004e-08\n",
            "Epoch 2000/2500 (80%) : loss = 0.0043; train_batch_acc=100.000%; val_acc=99.902%; lr=1.0000000000000004e-08\n",
            "Epoch 2100/2500 (84%) : loss = 0.0051; train_batch_acc=100.000%; val_acc=100.000%; lr=1.0000000000000004e-08\n",
            "Epoch 2200/2500 (88%) : loss = 0.0042; train_batch_acc=100.000%; val_acc=99.902%; lr=1.0000000000000004e-08\n",
            "Epoch 2300/2500 (92%) : loss = 0.0046; train_batch_acc=100.000%; val_acc=99.805%; lr=1.0000000000000004e-08\n",
            "Epoch 2400/2500 (96%) : loss = 0.0035; train_batch_acc=100.000%; val_acc=99.805%; lr=1.0000000000000004e-08\n"
          ]
        }
      ],
      "source": [
        "history = train_model(model)\n",
        "# load_model_state(model, <filename>)"
      ]
    },
    {
      "cell_type": "code",
      "execution_count": 45,
      "metadata": {},
      "outputs": [
        {
          "name": "stdout",
          "output_type": "stream",
          "text": [
            "Validation loss: 0.0048\n",
            "Validation accuracy: 0.9985\n"
          ]
        },
        {
          "data": {
            "text/plain": [
              "([0.004913096781820059,\n",
              "  0.005421649198979139,\n",
              "  0.004932438023388386,\n",
              "  0.004340875893831253,\n",
              "  0.005567852407693863,\n",
              "  0.004415149334818125,\n",
              "  0.004412435926496983,\n",
              "  0.004714047070592642,\n",
              "  0.004602384753525257,\n",
              "  0.004677065648138523,\n",
              "  0.005335947033017874,\n",
              "  0.004340256564319134,\n",
              "  0.004371408838778734,\n",
              "  0.003763758111745119,\n",
              "  0.006254880223423243,\n",
              "  0.00389621639624238,\n",
              "  0.004537637811154127,\n",
              "  0.005488967057317495,\n",
              "  0.005692815873771906,\n",
              "  0.004324744921177626,\n",
              "  0.0061941626481711864,\n",
              "  0.004837512969970703,\n",
              "  0.005294461734592915,\n",
              "  0.005167791154235601,\n",
              "  0.004932087380439043,\n",
              "  0.004307884257286787,\n",
              "  0.004247637465596199,\n",
              "  0.00451645627617836,\n",
              "  0.004398474935442209,\n",
              "  0.004251237493008375,\n",
              "  0.004900309722870588,\n",
              "  0.004279461223632097,\n",
              "  0.00534371193498373,\n",
              "  0.0041823782958090305,\n",
              "  0.0042902398854494095,\n",
              "  0.0045078219845891,\n",
              "  0.007031968329101801,\n",
              "  0.005208564456552267,\n",
              "  0.004677440971136093,\n",
              "  0.004287778865545988,\n",
              "  0.006008525379002094,\n",
              "  0.004416362848132849,\n",
              "  0.0048449975438416,\n",
              "  0.004409777466207743,\n",
              "  0.005312662106007338,\n",
              "  0.005998520180583,\n",
              "  0.004482352174818516,\n",
              "  0.004239709582179785,\n",
              "  0.004544168710708618,\n",
              "  0.004207895137369633,\n",
              "  0.003967457916587591,\n",
              "  0.004258683416992426,\n",
              "  0.004714582581073046,\n",
              "  0.004683868493884802,\n",
              "  0.004559812135994434,\n",
              "  0.00440602470189333,\n",
              "  0.004966309759765863,\n",
              "  0.00452709523960948,\n",
              "  0.005104259122163057,\n",
              "  0.006346456706523895,\n",
              "  0.00500397477298975,\n",
              "  0.005126989912241697,\n",
              "  0.004958669655025005,\n",
              "  0.00425742706283927,\n",
              "  0.004942302592098713,\n",
              "  0.004924673121422529,\n",
              "  0.005028387065976858,\n",
              "  0.005122126545757055,\n",
              "  0.005646017380058765,\n",
              "  0.004618215840309858,\n",
              "  0.004626362584531307,\n",
              "  0.0045555769465863705,\n",
              "  0.004916974809020758,\n",
              "  0.004053331445902586,\n",
              "  0.004314276855438948,\n",
              "  0.004313131328672171,\n",
              "  0.004395735915750265,\n",
              "  0.005114302039146423,\n",
              "  0.004662954714149237,\n",
              "  0.005702634807676077,\n",
              "  0.004037652630358934,\n",
              "  0.005618260242044926,\n",
              "  0.0043560899794101715,\n",
              "  0.003906898200511932,\n",
              "  0.004549365025013685,\n",
              "  0.004407165106385946,\n",
              "  0.004022798500955105,\n",
              "  0.00422386359423399,\n",
              "  0.004824917297810316,\n",
              "  0.0047354623675346375,\n",
              "  0.004246220923960209,\n",
              "  0.004712574649602175,\n",
              "  0.0042681568302214146,\n",
              "  0.005830391775816679,\n",
              "  0.0035508067812770605,\n",
              "  0.0038060087244957685,\n",
              "  0.004743059631437063,\n",
              "  0.004863667767494917],\n",
              " [1.0,\n",
              "  0.9970703125,\n",
              "  0.998046875,\n",
              "  1.0,\n",
              "  0.998046875,\n",
              "  0.9990234375,\n",
              "  0.9990234375,\n",
              "  0.9990234375,\n",
              "  1.0,\n",
              "  1.0,\n",
              "  0.998046875,\n",
              "  1.0,\n",
              "  0.9990234375,\n",
              "  1.0,\n",
              "  0.998046875,\n",
              "  1.0,\n",
              "  0.998046875,\n",
              "  0.9970703125,\n",
              "  0.99609375,\n",
              "  0.9990234375,\n",
              "  0.99609375,\n",
              "  0.9970703125,\n",
              "  0.998046875,\n",
              "  0.9970703125,\n",
              "  0.998046875,\n",
              "  0.9990234375,\n",
              "  1.0,\n",
              "  0.9970703125,\n",
              "  0.998046875,\n",
              "  0.9990234375,\n",
              "  1.0,\n",
              "  0.9990234375,\n",
              "  0.99609375,\n",
              "  1.0,\n",
              "  0.998046875,\n",
              "  0.9990234375,\n",
              "  0.99609375,\n",
              "  0.9970703125,\n",
              "  0.9990234375,\n",
              "  0.998046875,\n",
              "  0.9951171875,\n",
              "  0.9990234375,\n",
              "  0.998046875,\n",
              "  1.0,\n",
              "  0.9970703125,\n",
              "  0.99609375,\n",
              "  1.0,\n",
              "  0.9990234375,\n",
              "  0.9990234375,\n",
              "  1.0,\n",
              "  0.9990234375,\n",
              "  1.0,\n",
              "  1.0,\n",
              "  0.998046875,\n",
              "  0.9990234375,\n",
              "  0.9990234375,\n",
              "  1.0,\n",
              "  0.9990234375,\n",
              "  0.998046875,\n",
              "  0.994140625,\n",
              "  0.998046875,\n",
              "  0.998046875,\n",
              "  0.998046875,\n",
              "  0.9990234375,\n",
              "  0.998046875,\n",
              "  0.9990234375,\n",
              "  0.9970703125,\n",
              "  0.998046875,\n",
              "  0.99609375,\n",
              "  0.998046875,\n",
              "  0.9970703125,\n",
              "  0.9990234375,\n",
              "  0.998046875,\n",
              "  1.0,\n",
              "  0.9990234375,\n",
              "  0.9990234375,\n",
              "  0.998046875,\n",
              "  0.9990234375,\n",
              "  1.0,\n",
              "  0.9990234375,\n",
              "  1.0,\n",
              "  0.9970703125,\n",
              "  1.0,\n",
              "  1.0,\n",
              "  0.998046875,\n",
              "  0.998046875,\n",
              "  1.0,\n",
              "  1.0,\n",
              "  0.998046875,\n",
              "  0.9990234375,\n",
              "  0.9990234375,\n",
              "  0.998046875,\n",
              "  0.9990234375,\n",
              "  0.9990234375,\n",
              "  1.0,\n",
              "  1.0,\n",
              "  0.998046875,\n",
              "  0.9955357313156128])"
            ]
          },
          "execution_count": 45,
          "metadata": {},
          "output_type": "execute_result"
        }
      ],
      "source": [
        "def validate_all(val_loader):\n",
        "    \n",
        "    val_losses = []\n",
        "    val_accs = []\n",
        "    \n",
        "    for batch in val_loader:\n",
        "        val_data = batch[0].to(device=DEVICE)\n",
        "        val_acc = validate(model, val_data)\n",
        "        val_loss = loss_fn(model(val_data), val_data)\n",
        "        \n",
        "        val_losses.append(val_loss.item())\n",
        "        val_accs.append(val_acc)\n",
        "    \n",
        "    print(f\"Validation loss: {np.mean(val_losses):.4f}\")\n",
        "    print(f\"Validation accuracy: {np.mean(val_accs):.4f}\")\n",
        "    \n",
        "    return val_losses, val_accs\n",
        "\n",
        "validate_all(val_loader)"
      ]
    },
    {
      "cell_type": "code",
      "execution_count": 22,
      "metadata": {},
      "outputs": [
        {
          "data": {
            "text/plain": [
              "[tensor([[64, 39, 49,  ..., 22, 39, 49],\n",
              "         [64, 28, 46,  ..., 28, 46, 51],\n",
              "         [64,  5, 26,  ..., 26, 34, 39],\n",
              "         ...,\n",
              "         [64, 16, 29,  ..., 45, 47, 59],\n",
              "         [64, 58, 46,  ..., 46, 54, 58],\n",
              "         [64, 38, 57,  ..., 38, 44, 57]])]"
            ]
          },
          "execution_count": 22,
          "metadata": {},
          "output_type": "execute_result"
        }
      ],
      "source": [
        "next(iter(val_loader))"
      ]
    },
    {
      "cell_type": "markdown",
      "metadata": {
        "id": "HABWttcH34dv"
      },
      "source": [
        "### Testing post-training"
      ]
    },
    {
      "cell_type": "code",
      "execution_count": 23,
      "metadata": {
        "colab": {
          "base_uri": "https://localhost:8080/"
        },
        "id": "lakshPyuwdO7",
        "outputId": "259e2ca7-0398-476f-f6ba-094006179a44"
      },
      "outputs": [
        {
          "name": "stdout",
          "output_type": "stream",
          "text": [
            "Validating on validation data:\n",
            "\tval_acc=99.902%\n",
            "\n",
            "[60] [0, 44, 60, 61, 62] | [0, 60, 60, 61, 62]\n",
            "1/1024 (0.10%)\n",
            "\n",
            "Validating on test data:\n",
            "\ttest_acc=100.000%\n",
            "\n"
          ]
        }
      ],
      "source": [
        "print(\"Validating on validation data:\")\n",
        "val_batch = next(iter(val_loader))[0]\n",
        "val_acc = validate(model, val_batch)\n",
        "print(f\"\\t{val_acc=:.3%}\\n\")\n",
        "if val_acc < 1:\n",
        "    show_mispreds(model, val_batch)\n",
        "\n",
        "test_batch = next(iter(test_loader))[0]\n",
        "print(\"\\nValidating on test data:\")\n",
        "test_acc = validate(model, test_batch)\n",
        "print(f\"\\t{test_acc=:.3%}\\n\")\n",
        "if test_acc < 1:\n",
        "    show_mispreds(model, test_batch)"
      ]
    },
    {
      "cell_type": "markdown",
      "metadata": {
        "id": "pNofXtfSQvh2"
      },
      "source": [
        "### Saving trained model"
      ]
    },
    {
      "cell_type": "code",
      "execution_count": 24,
      "metadata": {
        "id": "i9lLO9p1d8mC"
      },
      "outputs": [],
      "source": [
        "def save_model_state_dict(\n",
        "    model: HookedTransformer, \n",
        "    filename: str | None = None\n",
        ") -> None:\n",
        "    if not os.path.isdir(\"models\"):\n",
        "        os.mkdir(\"models\")\n",
        "    if not filename:\n",
        "        timestamp = dt.now().isoformat(\"T\", \"minutes\").replace(\":\", \"-\")\n",
        "        filename = f\"model_state_dict_{timestamp}.pkl\"\n",
        "    with open(f\"models/{filename}\", \"wb\") as f:\n",
        "        pickle.dump(model.state_dict(), f)\n",
        "\n",
        "save_model_state_dict(model)"
      ]
    },
    {
      "cell_type": "code",
      "execution_count": 109,
      "metadata": {},
      "outputs": [
        {
          "data": {
            "image/png": "[encoded data removed]",
            "text/plain": [
              "<Figure size 800x800 with 2 Axes>"
            ]
          },
          "metadata": {},
          "output_type": "display_data"
        }
      ],
      "source": [
        "attn = model.blocks[0].attn\n",
        "all_token_embeddings = model.embed(range(D_VOCAB))\n",
        "\n",
        "embeddings_key = einsum(\"d_vocab d_model, n_heads d_model d_head -> n_heads d_vocab d_head\", \n",
        "                        all_token_embeddings, attn.W_K) \n",
        "embeddings_query = einsum(\"d_vocab d_model, n_heads d_model d_head -> n_heads d_vocab d_head\", \n",
        "                          all_token_embeddings, attn.W_Q) \n",
        "\n",
        "plt.rcParams['figure.figsize'] = [20, 10]\n",
        "qk_circuit_attn_heatmap = einsum(\n",
        "    \"n_heads d_vocab_q d_head, n_heads d_vocab_k d_head -> ... d_vocab_q d_vocab_k\", \n",
        "    embeddings_query, embeddings_key\n",
        "    ).detach().cpu().numpy()\n",
        "fig, ax = plt.subplots(figsize=(8, 8))\n",
        "graph = ax.imshow(qk_circuit_attn_heatmap, cmap=\"hot\", interpolation=\"nearest\")\n",
        "plt.colorbar(graph)\n",
        "plt.tight_layout()"
      ]
    },
    {
      "cell_type": "code",
      "execution_count": 114,
      "metadata": {},
      "outputs": [
        {
          "data": {
            "image/png": "[encoded data removed]",
            "text/plain": [
              "<Figure size 800x800 with 2 Axes>"
            ]
          },
          "metadata": {},
          "output_type": "display_data"
        }
      ],
      "source": [
        "attn = model.blocks[0].attn\n",
        "all_token_embeddings = model.embed(range(D_VOCAB))\n",
        "\n",
        "embeddings_value = einsum(\"d_vocab d_model, n_heads d_model d_head -> n_heads d_vocab d_head\", \n",
        "                          all_token_embeddings, attn.W_V) \n",
        "\n",
        "plt.rcParams['figure.figsize'] = [20, 10]\n",
        "qk_circuit_attn_heatmap = einsum(\n",
        "    \"n_heads d_vocab_e1 d_head, n_heads d_vocab_e2 d_head -> ... d_vocab_e1 d_vocab_e2\", \n",
        "    embeddings_value, embeddings_value\n",
        "    ).detach().cpu().numpy()\n",
        "fig, ax = plt.subplots(figsize=(8, 8))\n",
        "graph = ax.imshow(qk_circuit_attn_heatmap, cmap=\"hot\", interpolation=\"nearest\")\n",
        "plt.colorbar(graph)\n",
        "plt.tight_layout()"
      ]
    },
    {
      "cell_type": "code",
      "execution_count": 118,
      "metadata": {},
      "outputs": [
        {
          "data": {
            "image/png": "[encoded data removed]",
            "text/plain": [
              "<Figure size 800x800 with 1 Axes>"
            ]
          },
          "metadata": {},
          "output_type": "display_data"
        }
      ],
      "source": [
        "fig, ax = plt.subplots(figsize=(8, 8))\n",
        "graph = ax.imshow(embeddings_value[0].detach().cpu().numpy(), cmap=\"hot\", interpolation=\"nearest\")"
      ]
    },
    {
      "cell_type": "code",
      "execution_count": 119,
      "metadata": {},
      "outputs": [
        {
          "data": {
            "text/plain": [
              "HookedTransformer(\n",
              "  (embed): Embed()\n",
              "  (hook_embed): HookPoint()\n",
              "  (pos_embed): PosEmbed()\n",
              "  (hook_pos_embed): HookPoint()\n",
              "  (blocks): ModuleList(\n",
              "    (0): TransformerBlock(\n",
              "      (ln1): LayerNorm(\n",
              "        (hook_scale): HookPoint()\n",
              "        (hook_normalized): HookPoint()\n",
              "      )\n",
              "      (attn): Attention(\n",
              "        (hook_k): HookPoint()\n",
              "        (hook_q): HookPoint()\n",
              "        (hook_v): HookPoint()\n",
              "        (hook_z): HookPoint()\n",
              "        (hook_attn_scores): HookPoint()\n",
              "        (hook_pattern): HookPoint()\n",
              "        (hook_result): HookPoint()\n",
              "      )\n",
              "      (hook_attn_in): HookPoint()\n",
              "      (hook_q_input): HookPoint()\n",
              "      (hook_k_input): HookPoint()\n",
              "      (hook_v_input): HookPoint()\n",
              "      (hook_mlp_in): HookPoint()\n",
              "      (hook_attn_out): HookPoint()\n",
              "      (hook_mlp_out): HookPoint()\n",
              "      (hook_resid_pre): HookPoint()\n",
              "      (hook_resid_post): HookPoint()\n",
              "    )\n",
              "  )\n",
              "  (ln_final): LayerNorm(\n",
              "    (hook_scale): HookPoint()\n",
              "    (hook_normalized): HookPoint()\n",
              "  )\n",
              "  (unembed): Unembed()\n",
              ")"
            ]
          },
          "execution_count": 119,
          "metadata": {},
          "output_type": "execute_result"
        }
      ],
      "source": [
        "model"
      ]
    },
    {
      "cell_type": "code",
      "execution_count": 44,
      "metadata": {},
      "outputs": [
        {
          "name": "stdout",
          "output_type": "stream",
          "text": [
            "tensor([64,  0,  1,  2,  3,  4, 65,  0,  1,  2,  3,  4], device='mps:0')\n"
          ]
        },
        {
          "data": {
            "text/html": [
              "<div style='max-width: 700px;'><h2>What</h2><br/><div id=\"circuits-vis-d7b1976d-f041\" style=\"margin: 15px 0;\"/>\n",
              "    <script crossorigin type=\"module\">\n",
              "    import { render, AttentionHeads } from \"https://unpkg.com/circuitsvis@1.43.2/dist/cdn/esm.js\";\n",
              "    render(\n",
              "      \"circuits-vis-d7b1976d-f041\",\n",
              "      AttentionHeads,\n",
              "      {\"attention\": [[[1.0, 0.0, 0.0, 0.0, 0.0, 0.0, 0.0, 0.0, 0.0, 0.0, 0.0, 0.0], [0.6441550850868225, 0.3558449149131775, 0.0, 0.0, 0.0, 0.0, 0.0, 0.0, 0.0, 0.0, 0.0, 0.0], [0.5354819893836975, 0.19860206544399261, 0.26591598987579346, 0.0, 0.0, 0.0, 0.0, 0.0, 0.0, 0.0, 0.0, 0.0], [0.2926783263683319, 0.12071221321821213, 0.3070901036262512, 0.27951934933662415, 0.0, 0.0, 0.0, 0.0, 0.0, 0.0, 0.0, 0.0], [0.31371453404426575, 0.29412519931793213, 0.07291832566261292, 0.13018879294395447, 0.18905311822891235, 0.0, 0.0, 0.0, 0.0, 0.0, 0.0, 0.0], [0.29299959540367126, 0.053507886826992035, 0.11216668784618378, 0.17579928040504456, 0.183156356215477, 0.18237020075321198, 0.0, 0.0, 0.0, 0.0, 0.0, 0.0], [6.82125573803205e-07, 0.5014899373054504, 0.2577498257160187, 0.11427449434995651, 0.09188809990882874, 0.03459681198000908, 8.874684453985537e-08, 0.0, 0.0, 0.0, 0.0, 0.0], [0.00020341518393252045, 0.00011237091530347243, 0.6968353390693665, 0.16376948356628418, 0.08978261798620224, 0.04910368472337723, 8.076902304310352e-05, 0.00011237091530347243, 0.0, 0.0, 0.0, 0.0], [0.00036971247754991055, 0.00013712080544792116, 0.00018359627574682236, 0.5008413791656494, 0.2888263761997223, 0.20924526453018188, 7.575593190267682e-05, 0.00013712080544792116, 0.00018359627574682236, 0.0, 0.0, 0.0], [0.00038256749394349754, 0.00015778615488670766, 0.0004014055011793971, 0.0003653669264167547, 0.6234987378120422, 0.37416180968284607, 0.0001076976113836281, 0.00015778615488670766, 0.0004014055011793971, 0.0003653669264167547, 0.0, 0.0], [0.004052257630974054, 0.0037992217112332582, 0.000941887847147882, 0.001681651221588254, 0.0024420032277703285, 0.9771037697792053, 0.0011145132593810558, 0.0037992217112332582, 0.000941887847147882, 0.001681651221588254, 0.0024420032277703285, 0.0], [0.16920267045497894, 0.030899962410330772, 0.06477449834346771, 0.1015213206410408, 0.10576992481946945, 0.1053159236907959, 0.014234078116714954, 0.030899962410330772, 0.06477449834346771, 0.1015213206410408, 0.10576992481946945, 0.1053159236907959]]], \"attentionHeadNames\": [\"L0H0\"], \"tokens\": [\"64\", \"0\", \"1\", \"2\", \"3\", \"4\", \"65\", \"0\", \"1\", \"2\", \"3\", \"4\"]}\n",
              "    )\n",
              "    </script></div>"
            ],
            "text/plain": [
              "<IPython.core.display.HTML object>"
            ]
          },
          "execution_count": 44,
          "metadata": {},
          "output_type": "execute_result"
        }
      ],
      "source": [
        "from IPython.display import HTML, IFrame\n",
        "\n",
        "from typing import *\n",
        "from transformer_lens import ActivationCache, HookedTransformer\n",
        "from jaxtyping import Float\n",
        "from circuitsvis.attention import attention_heads\n",
        "\n",
        "def visualize_attention_patterns(\n",
        "    heads: Union[List[int], int, Float[torch.Tensor, \"heads\"]],\n",
        "    local_cache: ActivationCache,\n",
        "    local_tokens: torch.Tensor,\n",
        "    title: Optional[str] = \"\",\n",
        "    max_width: Optional[int] = 700,\n",
        ") -> str:\n",
        "    # If a single head is given, convert to a list\n",
        "    if isinstance(heads, int):\n",
        "        heads = [heads]\n",
        "\n",
        "    # Create the plotting data\n",
        "    labels: List[str] = []\n",
        "    patterns: List[Float[torch.Tensor, \"dest_pos src_pos\"]] = []\n",
        "\n",
        "    # Assume we have a single batch item\n",
        "    batch_index = 0\n",
        "\n",
        "    for head in heads:\n",
        "        # Set the label\n",
        "        layer = head // model.cfg.n_heads\n",
        "        head_index = head % model.cfg.n_heads\n",
        "        labels.append(f\"L{layer}H{head_index}\")\n",
        "\n",
        "        # Get the attention patterns for the head\n",
        "        # Attention patterns have shape [batch, head_index, query_pos, key_pos]\n",
        "        patterns.append(local_cache[\"attn\", layer][batch_index, head_index])\n",
        "\n",
        "    # Convert the tokens to strings (for the axis labels)\n",
        "    str_tokens = local_tokens.detach().cpu().numpy().astype(str).tolist()\n",
        "\n",
        "    # Combine the patterns into a single tensor\n",
        "    patterns: Float[torch.Tensor, \"head_index dest_pos src_pos\"] = torch.stack(\n",
        "        patterns, dim=0\n",
        "    )\n",
        "\n",
        "    # Circuitsvis Plot (note we get the code version so we can concatenate with the title)\n",
        "    plot = attention_heads(\n",
        "        attention=patterns, tokens=str_tokens, attention_head_names=labels\n",
        "    ).show_code()\n",
        "\n",
        "    # Display the title\n",
        "    title_html = f\"<h2>{title}</h2><br/>\"\n",
        "\n",
        "    # Return the visualisation as raw code\n",
        "    return f\"<div style='max-width: {str(max_width)}px;'>{title_html + plot}</div>\"\n",
        "\n",
        "# input_tokens = torch.Tensor([START_TOKEN_ID] + [0] * 5 + [1] * 5 + [MID_TOKEN_ID] + 5 * [0] + 5 * [1]).long().to(DEVICE)\n",
        "\n",
        "# list_to_sort = [0,1,1,0,1,0,2,3,4,5]\n",
        "list_to_sort = [0,1,2,3,4]\n",
        "tokens = torch.Tensor([START_TOKEN_ID] + list_to_sort + [MID_TOKEN_ID] + sorted(list_to_sort)).long().to(DEVICE)\n",
        "\n",
        "# tokens = next(train_gen)[0].to(device=DEVICE)[0]\n",
        "print(tokens)\n",
        "\n",
        "# Run the model and cache all activations\n",
        "original_logits, cache = model.run_with_cache(tokens)\n",
        "\n",
        "positive_html = visualize_attention_patterns(\n",
        "    0,\n",
        "    cache,\n",
        "    tokens,\n",
        "    f\"What\",\n",
        ")\n",
        "\n",
        "\n",
        "HTML(positive_html)"
      ]
    },
    {
      "cell_type": "code",
      "execution_count": null,
      "metadata": {},
      "outputs": [],
      "source": []
    }
  ],
  "metadata": {
    "colab": {
      "collapsed_sections": [
        "7o--LiD_HMGs"
      ],
      "provenance": []
    },
    "kernelspec": {
      "display_name": "Python 3",
      "language": "python",
      "name": "python3"
    },
    "language_info": {
      "codemirror_mode": {
        "name": "ipython",
        "version": 3
      },
      "file_extension": ".py",
      "mimetype": "text/x-python",
      "name": "python",
      "nbconvert_exporter": "python",
      "pygments_lexer": "ipython3",
      "version": "3.9.16"
    },
    "vscode": {
      "interpreter": {
        "hash": "916dbcbb3f70747c44a77c7bcd40155683ae19c65e1c03b4aa3499c5328201f1"
      }
    }
  },
  "nbformat": 4,
  "nbformat_minor": 0
}
