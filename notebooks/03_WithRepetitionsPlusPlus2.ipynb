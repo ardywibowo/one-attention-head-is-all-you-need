{
  "cells": [
    {
      "cell_type": "markdown",
      "metadata": {
        "id": "jKyC3mZ72qlH"
      },
      "source": [
        "Copy-paste the contents of this notebook at the beginning of every other notebook in this project."
      ]
    },
    {
      "cell_type": "markdown",
      "metadata": {
        "id": "PBe5K-JpHXFs"
      },
      "source": [
        "## Variable hyperparameters"
      ]
    },
    {
      "cell_type": "code",
      "execution_count": 1,
      "metadata": {
        "id": "httbkgCwHYF4"
      },
      "outputs": [],
      "source": [
        "# Fixed length of list to be sorted\n",
        "LIST_LENGTH = 23\n",
        "\n",
        "# Size of vocabulary\n",
        "D_VOCAB = 7\n",
        "\n",
        "# Should lists have repetitions?\n",
        "ALLOW_REPETITIONS = True\n",
        "\n",
        "# Attention only? (False -> model includes MLPs)\n",
        "ATTN_ONLY = True\n",
        "# ATTN_ONLY = False\n",
        "\n",
        "# Model dimensions\n",
        "N_LAYERS = 1\n",
        "N_HEADS = 1\n",
        "D_MODEL = 128\n",
        "D_HEAD = 32\n",
        "D_MLP = None\n",
        "\n",
        "if ATTN_ONLY:\n",
        "    D_MLP = None\n",
        "\n",
        "# Default batch size\n",
        "DEFAULT_BATCH_SIZE = 128"
      ]
    },
    {
      "cell_type": "markdown",
      "metadata": {
        "id": "7o--LiD_HMGs"
      },
      "source": [
        "## Prelude"
      ]
    },
    {
      "cell_type": "markdown",
      "metadata": {
        "id": "7yjVSLZbEEJX"
      },
      "source": [
        "### Install and import"
      ]
    },
    {
      "cell_type": "code",
      "execution_count": 2,
      "metadata": {
        "id": "Wqa5uVY-2oC7"
      },
      "outputs": [
        {
          "name": "stderr",
          "output_type": "stream",
          "text": [
            "/Users/randyardywibowo/miniconda3/envs/lit/lib/python3.9/site-packages/tqdm/auto.py:21: TqdmWarning: IProgress not found. Please update jupyter and ipywidgets. See https://ipywidgets.readthedocs.io/en/stable/user_install.html\n",
            "  from .autonotebook import tqdm as notebook_tqdm\n"
          ]
        }
      ],
      "source": [
        "try:\n",
        "    import transformer_lens\n",
        "except:\n",
        "    !pip install git+https://github.com/neelnanda-io/TransformerLens\n",
        "    !pip install circuitsvis"
      ]
    },
    {
      "cell_type": "code",
      "execution_count": 3,
      "metadata": {
        "colab": {
          "base_uri": "https://localhost:8080/",
          "height": 64
        },
        "id": "dqFfW5V32yaO",
        "outputId": "323df961-4b90-49e8-8ab8-ef66c85061d1"
      },
      "outputs": [
        {
          "data": {
            "text/html": [
              "<div id=\"circuits-vis-d95824dd-4e91\" style=\"margin: 15px 0;\"/>\n",
              "    <script crossorigin type=\"module\">\n",
              "    import { render, Hello } from \"https://unpkg.com/circuitsvis@1.43.2/dist/cdn/esm.js\";\n",
              "    render(\n",
              "      \"circuits-vis-d95824dd-4e91\",\n",
              "      Hello,\n",
              "      {\"name\": \"You\"}\n",
              "    )\n",
              "    </script>"
            ],
            "text/plain": [
              "<circuitsvis.utils.render.RenderedHTML at 0x28dacf6d0>"
            ]
          },
          "execution_count": 3,
          "metadata": {},
          "output_type": "execute_result"
        }
      ],
      "source": [
        "from __future__ import annotations\n",
        "from dataclasses import dataclass, field\n",
        "from datetime import datetime as dt\n",
        "from itertools import repeat\n",
        "import os\n",
        "import pickle\n",
        "import random\n",
        "from typing import cast, Generator, Literal\n",
        "\n",
        "import circuitsvis as cv\n",
        "from fancy_einsum import einsum\n",
        "from matplotlib import pyplot as plt\n",
        "import numpy as np\n",
        "import torch\n",
        "from torch import nn, tensor, Tensor, TensorType as TT\n",
        "from torch.nn import functional as F\n",
        "from transformer_lens import HookedTransformerConfig, HookedTransformer\n",
        "from tqdm import tqdm\n",
        "from typing_extensions import Self\n",
        "\n",
        "cv.examples.hello(\"You\")"
      ]
    },
    {
      "cell_type": "markdown",
      "metadata": {
        "id": "Oo4oP4dSrYhD"
      },
      "source": [
        "### Invariable hyperparameters"
      ]
    },
    {
      "cell_type": "code",
      "execution_count": 4,
      "metadata": {
        "colab": {
          "base_uri": "https://localhost:8080/"
        },
        "id": "_XwivtyM_Hru",
        "outputId": "253931dc-5c4d-4f11-a4e9-b80730e9372c"
      },
      "outputs": [
        {
          "name": "stdout",
          "output_type": "stream",
          "text": [
            "DEVICE = 'mps'\n"
          ]
        }
      ],
      "source": [
        "# DEVICE = \"cuda\" if torch.cuda.is_available() else \"cpu\"\n",
        "DEVICE = \"mps\"\n",
        "print(f\"{DEVICE = }\")\n",
        "\n",
        "# Seeds to generate training, validation, and test data\n",
        "TRAIN_SEED = 42\n",
        "VAL_SEED = 66\n",
        "TEST_SEED = 1729\n",
        "\n",
        "# Context length: [start, *(unsorted_)list_length, mid, *(sorted_)list_length]\n",
        "N_CTX = 2 * LIST_LENGTH + 2\n",
        "\n",
        "# \"Real\" tokens range from 0 to D_VOCAB - 2 (non-inclusive)\n",
        "VOCAB_MIN_ID = 0\n",
        "VOCAB_MAX_ID = D_VOCAB - 2\n",
        "\n",
        "# START token is D_VOCAB - 2 and MID token is D_VOCAB - 1\n",
        "START_TOKEN_ID = VOCAB_MAX_ID\n",
        "MID_TOKEN_ID = D_VOCAB - 1"
      ]
    },
    {
      "cell_type": "markdown",
      "metadata": {
        "id": "dlWGwox63j24"
      },
      "source": [
        "### Data generator and datasets"
      ]
    },
    {
      "cell_type": "code",
      "execution_count": 5,
      "metadata": {
        "colab": {
          "base_uri": "https://localhost:8080/"
        },
        "id": "44OZjOq83k1H",
        "outputId": "413c82ad-aa84-42bc-f9ab-fe4c0608481a"
      },
      "outputs": [],
      "source": [
        "import time\n",
        "import torch\n",
        "from torch.utils.data import TensorDataset, DataLoader, random_split\n",
        "from itertools import combinations\n",
        "\n",
        "vocab_list = list(range(VOCAB_MIN_ID, VOCAB_MAX_ID))\n",
        "\n",
        "def map_integers_to_subsets(lst):\n",
        "    subset_map = {}\n",
        "    # Create subsets for all lengths\n",
        "    for i in range(len(lst) + 1):\n",
        "        for subset in combinations(lst, i):\n",
        "            # Convert subset to list (because combinations returns tuples)\n",
        "            subset_map[len(subset_map)] = list(subset)\n",
        "    return subset_map\n",
        "\n",
        "subset_map = map_integers_to_subsets(vocab_list)\n",
        "subset_map.pop(0)\n",
        "\n",
        "def generate_unique_list(total_size: int) -> torch.Tensor:\n",
        "    # Generate a list of unique sequences\n",
        "    start_time = time.time()\n",
        "    unique_sequences = set()\n",
        "    while len(unique_sequences) < total_size:\n",
        "        if ALLOW_REPETITIONS:\n",
        "            # Generate random number between 0 and 2\n",
        "            random_number = random.choices(list(subset_map.keys()), k=1)[0]\n",
        "            random_subset = subset_map[random_number]\n",
        "            \n",
        "            sequence = tuple(random.choices(random_subset, k=LIST_LENGTH))\n",
        "            \n",
        "            # if random_number == 0:\n",
        "            #     sequence = tuple(torch.randint(VOCAB_MIN_ID, VOCAB_MAX_ID, (LIST_LENGTH,)).tolist())\n",
        "            # elif random_number == 1:\n",
        "            #     sequence = tuple(random.choices([0, 1], k=LIST_LENGTH))\n",
        "            # elif random_number == 2:\n",
        "            #     sequence = tuple(random.choices([0, 2], k=LIST_LENGTH))\n",
        "            # elif random_number == 3:\n",
        "            #     sequence = tuple(random.choices([1, 2], k=LIST_LENGTH))\n",
        "        else:\n",
        "            sequence = tuple(random.sample(range(VOCAB_MIN_ID, VOCAB_MAX_ID), k=LIST_LENGTH))\n",
        "        unique_sequences.add(sequence)\n",
        "        \n",
        "        # Stop after 60 seconds\n",
        "        if time.time() - start_time > 60:\n",
        "            break  # Exit the loop\n",
        "\n",
        "    # Convert to tensor and move to the correct DEVICE\n",
        "    return torch.tensor(list(unique_sequences), dtype=torch.int32)\n",
        "\n",
        "def process_data(data: torch.Tensor) -> torch.Tensor:\n",
        "    # Sort the data\n",
        "    data_sorted = torch.sort(data, dim=1).values\n",
        "    # Add START tokens\n",
        "    data_start = START_TOKEN_ID * torch.ones(data.size(0), 1, dtype=torch.int32)\n",
        "    # Add MID tokens\n",
        "    data_mid = MID_TOKEN_ID * torch.ones(data.size(0), 1, dtype=torch.int32)\n",
        "    # Concatenate all parts\n",
        "    return torch.cat((data_start, data, data_mid, data_sorted), dim=1)\n",
        "\n",
        "# Set the seeds\n",
        "torch.manual_seed(TRAIN_SEED)\n",
        "data = generate_unique_list(2_000_000 + 200_000)  # extra for validation and test\n",
        "\n",
        "# if not ALLOW_REPETITIONS:\n",
        "#     # Generate the complete list of unique sequences\n",
        "#     data = generate_unique_list(1_000_000 + 200_000)  # extra for validation and test\n",
        "# else:\n",
        "#     # If repetitions are allowed, just generate a large random tensor\n",
        "#     data = torch.randint(VOCAB_MIN_ID, VOCAB_MAX_ID, (1_200_000, LIST_LENGTH), dtype=torch.int32)\n",
        "\n",
        "# Process the data with start, mid tokens and sorted sequences\n",
        "full_data = process_data(data)\n",
        "full_data = full_data.long()\n",
        "\n",
        "num_samples = full_data.size(0)"
      ]
    },
    {
      "cell_type": "code",
      "execution_count": 6,
      "metadata": {},
      "outputs": [],
      "source": [
        "# Define the length of splits for train, validation, and test sets\n",
        "train_length = num_samples * 8 // 10\n",
        "val_length = num_samples * 1 // 10\n",
        "test_length = num_samples - train_length - val_length\n",
        "\n",
        "# Split the data into training, validation, and test sets\n",
        "train_data, val_data, test_data = random_split(\n",
        "    full_data, [train_length, val_length, test_length],\n",
        "    generator=torch.Generator().manual_seed(42)  # for reproducibility\n",
        ")\n",
        "\n",
        "# Create DataLoaders for each set\n",
        "# Wrap the actual data in a TensorDataset\n",
        "train_loader = DataLoader(TensorDataset(train_data.dataset[train_data.indices]), batch_size=DEFAULT_BATCH_SIZE, shuffle=True)\n",
        "val_loader = DataLoader(TensorDataset(val_data.dataset[val_data.indices]), batch_size=1024, shuffle=True)\n",
        "test_loader = DataLoader(TensorDataset(test_data.dataset[test_data.indices]), batch_size=1024, shuffle=True)"
      ]
    },
    {
      "cell_type": "code",
      "execution_count": 7,
      "metadata": {},
      "outputs": [
        {
          "data": {
            "text/plain": [
              "2200000"
            ]
          },
          "execution_count": 7,
          "metadata": {},
          "output_type": "execute_result"
        }
      ],
      "source": [
        "num_samples"
      ]
    },
    {
      "cell_type": "code",
      "execution_count": 8,
      "metadata": {},
      "outputs": [
        {
          "data": {
            "text/plain": [
              "5"
            ]
          },
          "execution_count": 8,
          "metadata": {},
          "output_type": "execute_result"
        }
      ],
      "source": [
        "START_TOKEN_ID"
      ]
    },
    {
      "cell_type": "code",
      "execution_count": 9,
      "metadata": {},
      "outputs": [
        {
          "data": {
            "text/plain": [
              "tensor([5, 3, 4, 4, 2, 2, 3, 2, 3, 4, 4, 4, 2, 4, 3, 2, 2, 2, 3, 4, 2, 2, 3, 2,\n",
              "        6, 2, 2, 2, 2, 2, 2, 2, 2, 2, 2, 3, 3, 3, 3, 3, 3, 4, 4, 4, 4, 4, 4, 4])"
            ]
          },
          "execution_count": 9,
          "metadata": {},
          "output_type": "execute_result"
        }
      ],
      "source": [
        "next(iter(test_loader))[0][0]"
      ]
    },
    {
      "cell_type": "markdown",
      "metadata": {
        "id": "hBJn1fKm3pMX"
      },
      "source": [
        "### Loss function"
      ]
    },
    {
      "cell_type": "code",
      "execution_count": 10,
      "metadata": {
        "colab": {
          "base_uri": "https://localhost:8080/"
        },
        "id": "PTlNfaKY3qkd",
        "outputId": "7d962ac8-efe5-4681-bb20-a4ff8b675156"
      },
      "outputs": [],
      "source": [
        "def loss_fn(\n",
        "    logits: Tensor, # [batch, pos, d_vocab] \n",
        "    tokens: Tensor, # [batch, pos] \n",
        "    return_per_token: bool = False\n",
        ") -> Tensor: # scalar\n",
        "    \"\"\"Mean cross-entropy between tokens in the sorted list part of the \n",
        "    sequence (last `LIST_LENGTH`) and model's predictions about them.\n",
        "    \"\"\"\n",
        "    sorted_start_pos = LIST_LENGTH + 2\n",
        "    logits = logits[:, (sorted_start_pos-1):-1]\n",
        "    tokens = tokens[:, sorted_start_pos : None]\n",
        "    log_probs = logits.log_softmax(-1)\n",
        "    correct_log_probs = log_probs.gather(-1, tokens[..., None])[..., 0]\n",
        "    if return_per_token:\n",
        "        return -correct_log_probs\n",
        "    return -correct_log_probs.mean()"
      ]
    },
    {
      "cell_type": "markdown",
      "metadata": {
        "id": "GKKrzLEq3sun"
      },
      "source": [
        "### Accuracy and validation"
      ]
    },
    {
      "cell_type": "code",
      "execution_count": 63,
      "metadata": {
        "id": "1x6q7b7O3rZa"
      },
      "outputs": [],
      "source": [
        "def get_diff_row_inds(\n",
        "    a: Tensor, # [dim1, dim2]\n",
        "    b: Tensor  # [dim1, dim2]\n",
        ") -> Tensor:   # [dim1]\n",
        "    \"\"\"Find indices of rows where a and b differ\"\"\"\n",
        "    assert a.shape == b.shape\n",
        "    return ((a == b).prod(dim=1) == 0).nonzero(as_tuple=True)[0]\n",
        "\n",
        "def acc_fn(\n",
        "    logits: Tensor, # [batch, pos, d_vocab]\n",
        "    tokens: Tensor, # [batch, pos]\n",
        "    per: Literal[\"token\", \"sequence\"] = \"sequence\"\n",
        ") -> float:\n",
        "    \"\"\"Compute accuracy as percentage of correct predictions\"\"\"\n",
        "    assert per in (\"token\", \"sequence\")\n",
        "    sorted_start_pos = LIST_LENGTH + 2\n",
        "    # Get logits of predictions for position\n",
        "    logits = logits[:, (sorted_start_pos-1):-1]\n",
        "    preds = logits.argmax(-1).to(tokens.device)\n",
        "    tokens = tokens[:, sorted_start_pos:]\n",
        "    \n",
        "    print(sorted_start_pos)\n",
        "    print(preds)\n",
        "    print(tokens)\n",
        "    \n",
        "    if per == \"sequence\":\n",
        "        return (preds == tokens).prod(dim=1).float().mean().item()\n",
        "    return (preds == tokens).float().mean().item()\n",
        "\n",
        "def validate(\n",
        "    model: HookedTransformer, \n",
        "    data: Tensor, # [batch, pos]\n",
        "    per: Literal[\"token\", \"sequence\"] = \"sequence\"\n",
        ") -> float:\n",
        "    \"\"\"Test this model on `data`\"\"\"\n",
        "    logits = model(data)\n",
        "    acc = acc_fn(logits, tokens=data, per=per)\n",
        "    return acc\n",
        "\n",
        "def show_mispreds(\n",
        "    model: HookedTransformer, \n",
        "    data: Tensor # [batch, pos]\n",
        ") -> None:\n",
        "    \"\"\"Test this model on `data` and print mispredictions\"\"\"\n",
        "    logits = model(data)\n",
        "    sorted_start_pos = LIST_LENGTH + 2\n",
        "    logits = logits[:, (sorted_start_pos-1):-1]\n",
        "    tokens = data[:, sorted_start_pos:].cpu()\n",
        "    preds = logits.argmax(-1).cpu()\n",
        "    mispred_inds = get_diff_row_inds(tokens, preds)\n",
        "    for i in mispred_inds:\n",
        "        print(f\"[{i}] {tokens[i].numpy().tolist()} | {preds[i].numpy().tolist()}\")\n",
        "    print(f\"{len(mispred_inds)}/{len(preds)} ({len(mispred_inds) / len(preds) :.2%})\")"
      ]
    },
    {
      "cell_type": "markdown",
      "metadata": {
        "id": "V5trW5nKhF3I"
      },
      "source": [
        "## Training"
      ]
    },
    {
      "cell_type": "markdown",
      "metadata": {
        "id": "32Hj7N1nhHrI"
      },
      "source": [
        "### Model"
      ]
    },
    {
      "cell_type": "code",
      "execution_count": 12,
      "metadata": {
        "id": "YwIffvImhT4g"
      },
      "outputs": [],
      "source": [
        "cfg = HookedTransformerConfig(\n",
        "    d_model=D_MODEL,\n",
        "    n_layers=N_LAYERS,\n",
        "    n_heads=N_HEADS,\n",
        "    d_head=D_HEAD,\n",
        "    n_ctx=N_CTX,\n",
        "    d_vocab=D_VOCAB,\n",
        "    act_fn=\"relu\",\n",
        "    seed=42,\n",
        "    device=DEVICE,\n",
        "    attn_only=ATTN_ONLY\n",
        ")\n",
        "model = HookedTransformer(cfg, move_to_device=True)\n"
      ]
    },
    {
      "cell_type": "code",
      "execution_count": 13,
      "metadata": {},
      "outputs": [],
      "source": [
        "# model.pos_embed.W_pos.data[:] = 0\n",
        "# model.pos_embed.W_pos.requires_grad = False"
      ]
    },
    {
      "cell_type": "markdown",
      "metadata": {
        "id": "9vYV7QAd3vCT"
      },
      "source": [
        "### Training setup"
      ]
    },
    {
      "cell_type": "code",
      "execution_count": 14,
      "metadata": {
        "id": "LHBPL3Xw3uAt"
      },
      "outputs": [],
      "source": [
        "@dataclass(frozen=True)\n",
        "class TrainingHistory:\n",
        "    losses: list[float]\n",
        "    train_accuracies: list[float]\n",
        "    val_accuracies: list[float]\n",
        "\n",
        "def converged(val_accs: list[float], n_last: int = 10) -> bool:\n",
        "    return cast(bool, (tensor(val_accs[-n_last:]) == 1).all().item())\n",
        "\n",
        "# Number of epochs\n",
        "# n_epochs = 20000\n",
        "n_epochs = 2500\n",
        "\n",
        "# Optimization\n",
        "lr = 1e-3\n",
        "betas = (.9, .999)\n",
        "optim = torch.optim.AdamW(model.parameters(), lr=lr, betas=betas)\n",
        "scheduler = torch.optim.lr_scheduler.ReduceLROnPlateau(optim, \"min\", patience=100)\n",
        "\n",
        "# Training data generator\n",
        "def train_model(model: HookedTransformer) -> TrainingHistory:\n",
        "    losses = []\n",
        "    train_accuracies = []\n",
        "    val_accuracies = []\n",
        "    \n",
        "    train_gen = iter(train_loader)\n",
        "    for epoch in range(n_epochs):\n",
        "        \n",
        "        try:\n",
        "            tokens = next(train_gen)[0].to(device=DEVICE)\n",
        "        except StopIteration:\n",
        "            train_gen = iter(train_loader)\n",
        "            tokens = next(train_gen)[0].to(device=DEVICE)\n",
        "        \n",
        "        logits = model(tokens)\n",
        "        loss = loss_fn(logits, tokens)\n",
        "        loss.backward()\n",
        "        optim.step()\n",
        "        optim.zero_grad()\n",
        "        scheduler.step(loss)\n",
        "        \n",
        "        if epoch % 100 == 0:\n",
        "            losses.append(loss.item())\n",
        "            train_batch_acc = acc_fn(logits, tokens)\n",
        "            \n",
        "            val_data = next(iter(val_loader))[0].to(device=DEVICE)\n",
        "            val_acc = validate(model, val_data)\n",
        "            val_loss = loss_fn(model(val_data), val_data)\n",
        "\n",
        "            train_accuracies.append(train_batch_acc)\n",
        "            val_accuracies.append(val_acc)\n",
        "            print(\n",
        "                f\"Epoch {epoch}/{n_epochs} ({epoch / n_epochs:.0%}) : \"\n",
        "                f\"loss = {loss.item():.4f}; {train_batch_acc=:.3%}; \"\n",
        "                f\"{val_acc=:.3%}; lr={scheduler._last_lr[0]}\" #type:ignore\n",
        "            )\n",
        "            # If last 10 recorded val_accuracies are 100%\n",
        "            if converged(val_accuracies):\n",
        "                print(f\"\\nAchieved consistent perfect validation accuracy after {epoch} epochs\")\n",
        "                break\n",
        "    return TrainingHistory(losses, train_accuracies, val_accuracies)\n",
        "\n",
        "def load_model_state(model: HookedTransformer, filename: str) -> None:\n",
        "    assert os.path.isdir(\"models\"), \"Make a directory `models` with model state dicts\"\n",
        "    if not filename.startswith(\"models/\"):\n",
        "        filename = f\"models/{filename}\"\n",
        "    with open(filename, \"rb\") as f:\n",
        "        state_dict = pickle.load(f)\n",
        "    model.load_state_dict(state_dict)"
      ]
    },
    {
      "cell_type": "code",
      "execution_count": 15,
      "metadata": {},
      "outputs": [
        {
          "data": {
            "text/plain": [
              "torch.Size([128, 48])"
            ]
          },
          "execution_count": 15,
          "metadata": {},
          "output_type": "execute_result"
        }
      ],
      "source": [
        "train_gen = iter(train_loader)\n",
        "next(train_gen)[0].shape"
      ]
    },
    {
      "cell_type": "markdown",
      "metadata": {
        "id": "HXhR2JBjdXkD"
      },
      "source": [
        "### Train or load model"
      ]
    },
    {
      "cell_type": "code",
      "execution_count": 44,
      "metadata": {
        "id": "CMH8DwNHdWLA"
      },
      "outputs": [
        {
          "name": "stdout",
          "output_type": "stream",
          "text": [
            "Epoch 0/2500 (0%) : loss = 0.0391; train_batch_acc=89.062%; val_acc=88.184%; lr=1.0000000000000004e-08\n",
            "Epoch 100/2500 (4%) : loss = 0.0459; train_batch_acc=78.906%; val_acc=85.645%; lr=1.0000000000000004e-08\n",
            "Epoch 200/2500 (8%) : loss = 0.0417; train_batch_acc=90.625%; val_acc=83.398%; lr=1.0000000000000004e-08\n",
            "Epoch 300/2500 (12%) : loss = 0.0471; train_batch_acc=80.469%; val_acc=84.668%; lr=1.0000000000000004e-08\n",
            "Epoch 400/2500 (16%) : loss = 0.0407; train_batch_acc=88.281%; val_acc=84.766%; lr=1.0000000000000004e-08\n",
            "Epoch 500/2500 (20%) : loss = 0.0397; train_batch_acc=89.844%; val_acc=83.887%; lr=1.0000000000000004e-08\n",
            "Epoch 600/2500 (24%) : loss = 0.0458; train_batch_acc=81.250%; val_acc=83.301%; lr=1.0000000000000004e-08\n",
            "Epoch 700/2500 (28%) : loss = 0.0437; train_batch_acc=82.031%; val_acc=87.598%; lr=1.0000000000000004e-08\n",
            "Epoch 800/2500 (32%) : loss = 0.0460; train_batch_acc=84.375%; val_acc=84.570%; lr=1.0000000000000004e-08\n",
            "Epoch 900/2500 (36%) : loss = 0.0389; train_batch_acc=89.844%; val_acc=85.645%; lr=1.0000000000000004e-08\n",
            "Epoch 1000/2500 (40%) : loss = 0.0382; train_batch_acc=86.719%; val_acc=83.594%; lr=1.0000000000000004e-08\n",
            "Epoch 1100/2500 (44%) : loss = 0.0422; train_batch_acc=90.625%; val_acc=83.301%; lr=1.0000000000000004e-08\n",
            "Epoch 1200/2500 (48%) : loss = 0.0437; train_batch_acc=88.281%; val_acc=82.227%; lr=1.0000000000000004e-08\n",
            "Epoch 1300/2500 (52%) : loss = 0.0426; train_batch_acc=85.156%; val_acc=85.156%; lr=1.0000000000000004e-08\n",
            "Epoch 1400/2500 (56%) : loss = 0.0438; train_batch_acc=86.719%; val_acc=83.691%; lr=1.0000000000000004e-08\n",
            "Epoch 1500/2500 (60%) : loss = 0.0482; train_batch_acc=85.156%; val_acc=85.449%; lr=1.0000000000000004e-08\n",
            "Epoch 1600/2500 (64%) : loss = 0.0407; train_batch_acc=81.250%; val_acc=87.207%; lr=1.0000000000000004e-08\n",
            "Epoch 1700/2500 (68%) : loss = 0.0430; train_batch_acc=85.938%; val_acc=86.133%; lr=1.0000000000000004e-08\n",
            "Epoch 1800/2500 (72%) : loss = 0.0425; train_batch_acc=84.375%; val_acc=84.473%; lr=1.0000000000000004e-08\n",
            "Epoch 1900/2500 (76%) : loss = 0.0430; train_batch_acc=84.375%; val_acc=86.426%; lr=1.0000000000000004e-08\n",
            "Epoch 2000/2500 (80%) : loss = 0.0443; train_batch_acc=84.375%; val_acc=86.328%; lr=1.0000000000000004e-08\n",
            "Epoch 2100/2500 (84%) : loss = 0.0439; train_batch_acc=86.719%; val_acc=85.547%; lr=1.0000000000000004e-08\n",
            "Epoch 2200/2500 (88%) : loss = 0.0420; train_batch_acc=85.156%; val_acc=83.984%; lr=1.0000000000000004e-08\n",
            "Epoch 2300/2500 (92%) : loss = 0.0407; train_batch_acc=86.719%; val_acc=85.547%; lr=1.0000000000000004e-08\n",
            "Epoch 2400/2500 (96%) : loss = 0.0435; train_batch_acc=81.250%; val_acc=87.598%; lr=1.0000000000000004e-08\n"
          ]
        }
      ],
      "source": [
        "history = train_model(model)"
      ]
    },
    {
      "cell_type": "code",
      "execution_count": 45,
      "metadata": {},
      "outputs": [
        {
          "data": {
            "text/plain": [
              "HookedTransformer(\n",
              "  (embed): Embed()\n",
              "  (hook_embed): HookPoint()\n",
              "  (pos_embed): PosEmbed()\n",
              "  (hook_pos_embed): HookPoint()\n",
              "  (blocks): ModuleList(\n",
              "    (0): TransformerBlock(\n",
              "      (ln1): LayerNorm(\n",
              "        (hook_scale): HookPoint()\n",
              "        (hook_normalized): HookPoint()\n",
              "      )\n",
              "      (attn): Attention(\n",
              "        (hook_k): HookPoint()\n",
              "        (hook_q): HookPoint()\n",
              "        (hook_v): HookPoint()\n",
              "        (hook_z): HookPoint()\n",
              "        (hook_attn_scores): HookPoint()\n",
              "        (hook_pattern): HookPoint()\n",
              "        (hook_result): HookPoint()\n",
              "      )\n",
              "      (hook_attn_in): HookPoint()\n",
              "      (hook_q_input): HookPoint()\n",
              "      (hook_k_input): HookPoint()\n",
              "      (hook_v_input): HookPoint()\n",
              "      (hook_mlp_in): HookPoint()\n",
              "      (hook_attn_out): HookPoint()\n",
              "      (hook_mlp_out): HookPoint()\n",
              "      (hook_resid_pre): HookPoint()\n",
              "      (hook_resid_post): HookPoint()\n",
              "    )\n",
              "  )\n",
              "  (ln_final): LayerNorm(\n",
              "    (hook_scale): HookPoint()\n",
              "    (hook_normalized): HookPoint()\n",
              "  )\n",
              "  (unembed): Unembed()\n",
              ")"
            ]
          },
          "execution_count": 45,
          "metadata": {},
          "output_type": "execute_result"
        }
      ],
      "source": [
        "# for name, param in model.named_parameters():\n",
        "#     if not name.startswith(\"blocks\"):\n",
        "#         print(name, param.shape)\n",
        "\n",
        "model\n",
        "\n",
        "# for name, param in model.named_parameters():\n",
        "#     print(name, param.shape)\n",
        "\n",
        "# model.cfg.positional_embedding_type\n",
        "# plt.plot(model.pos_embed.W_pos[-1].detach().cpu().numpy())\n",
        "# plt.plot(model.pos_embed.W_pos[0].detach().cpu().numpy())\n",
        "\n",
        "\n",
        "# model.pos_embed.W_pos.shape\n",
        "\n",
        "# plt.plot(model.embed.W_E[0].detach().cpu().numpy())\n",
        "# plt.plot(model.embed.W_E[1].detach().cpu().numpy())\n",
        "# plt.plot(model.embed.W_E[2].detach().cpu().numpy())"
      ]
    },
    {
      "cell_type": "code",
      "execution_count": 46,
      "metadata": {},
      "outputs": [
        {
          "data": {
            "text/plain": [
              "[tensor([[5, 4, 4,  ..., 4, 4, 4],\n",
              "         [5, 4, 1,  ..., 4, 4, 4],\n",
              "         [5, 4, 2,  ..., 4, 4, 4],\n",
              "         ...,\n",
              "         [5, 4, 4,  ..., 4, 4, 4],\n",
              "         [5, 0, 1,  ..., 3, 3, 3],\n",
              "         [5, 1, 1,  ..., 3, 3, 3]])]"
            ]
          },
          "execution_count": 46,
          "metadata": {},
          "output_type": "execute_result"
        }
      ],
      "source": [
        "next(iter(val_loader))"
      ]
    },
    {
      "cell_type": "markdown",
      "metadata": {
        "id": "HABWttcH34dv"
      },
      "source": [
        "### Testing post-training"
      ]
    },
    {
      "cell_type": "code",
      "execution_count": 47,
      "metadata": {
        "colab": {
          "base_uri": "https://localhost:8080/"
        },
        "id": "lakshPyuwdO7",
        "outputId": "259e2ca7-0398-476f-f6ba-094006179a44"
      },
      "outputs": [
        {
          "name": "stdout",
          "output_type": "stream",
          "text": [
            "Validating on validation data:\n",
            "\tval_acc=85.645%\n",
            "\n",
            "[6] [0, 0, 0, 0, 0, 0, 0, 0, 0, 0, 0, 0, 0, 0, 0, 0, 3, 3, 3, 3, 3, 3, 3] | [0, 0, 0, 0, 0, 0, 0, 0, 0, 0, 0, 0, 0, 0, 0, 3, 3, 3, 3, 3, 3, 3, 3]\n",
            "[19] [0, 0, 0, 0, 0, 0, 0, 1, 1, 1, 1, 1, 1, 1, 2, 2, 2, 2, 2, 2, 2, 2, 3] | [0, 0, 0, 0, 0, 0, 0, 0, 1, 1, 1, 1, 1, 1, 2, 2, 2, 2, 2, 2, 2, 2, 2]\n",
            "[22] [0, 0, 0, 0, 0, 0, 0, 1, 1, 1, 1, 1, 1, 1, 2, 2, 2, 2, 2, 2, 2, 2, 2] | [0, 0, 0, 0, 0, 0, 0, 0, 1, 1, 1, 1, 1, 1, 2, 2, 2, 2, 2, 2, 2, 2, 2]\n",
            "[23] [0, 0, 0, 0, 0, 0, 0, 0, 0, 0, 0, 0, 0, 0, 1, 1, 1, 1, 1, 1, 1, 1, 1] | [0, 0, 0, 0, 0, 0, 0, 0, 0, 0, 0, 0, 0, 0, 0, 1, 1, 1, 1, 1, 1, 1, 1]\n",
            "[24] [0, 0, 0, 3, 3, 3, 3, 3, 3, 3, 3, 3, 3, 4, 4, 4, 4, 4, 4, 4, 4, 4, 4] | [0, 0, 0, 3, 3, 3, 3, 3, 3, 3, 3, 3, 3, 3, 4, 4, 4, 4, 4, 4, 4, 4, 4]\n",
            "[27] [1, 1, 1, 2, 2, 2, 2, 2, 2, 2, 2, 2, 2, 2, 3, 3, 4, 4, 4, 4, 4, 4, 4] | [1, 1, 1, 2, 2, 2, 2, 2, 2, 2, 2, 2, 2, 2, 4, 3, 4, 4, 4, 4, 4, 4, 4]\n",
            "[29] [0, 0, 0, 0, 0, 0, 0, 0, 0, 0, 1, 1, 1, 1, 1, 1, 1, 1, 1, 1, 1, 1, 1] | [0, 0, 0, 0, 0, 0, 0, 0, 0, 1, 1, 1, 1, 1, 1, 1, 1, 1, 1, 1, 1, 1, 1]\n",
            "[32] [0, 0, 0, 0, 1, 1, 1, 1, 1, 1, 2, 2, 2, 2, 2, 2, 2, 3, 3, 3, 3, 3, 3] | [0, 0, 0, 0, 0, 1, 1, 1, 1, 1, 2, 2, 2, 2, 2, 2, 2, 3, 3, 3, 3, 3, 3]\n",
            "[38] [0, 0, 0, 0, 0, 0, 0, 1, 1, 1, 1, 1, 1, 2, 2, 2, 2, 2, 2, 2, 4, 4, 4] | [0, 0, 0, 0, 0, 0, 0, 0, 1, 1, 1, 1, 1, 2, 2, 2, 2, 2, 2, 2, 4, 4, 4]\n",
            "[39] [0, 0, 0, 0, 0, 0, 0, 0, 0, 0, 0, 2, 2, 2, 2, 2, 2, 3, 3, 3, 3, 3, 3] | [0, 0, 0, 0, 0, 0, 0, 0, 0, 0, 0, 0, 2, 2, 2, 2, 2, 3, 3, 3, 3, 3, 3]\n",
            "[44] [0, 0, 0, 0, 0, 0, 0, 1, 1, 1, 1, 1, 1, 1, 2, 2, 2, 2, 3, 4, 4, 4, 4] | [0, 0, 0, 0, 0, 0, 0, 1, 1, 1, 1, 1, 1, 1, 2, 2, 2, 2, 2, 4, 4, 4, 4]\n",
            "[45] [0, 0, 0, 0, 0, 0, 0, 0, 0, 0, 0, 0, 1, 1, 1, 1, 1, 2, 2, 2, 2, 2, 2] | [0, 0, 0, 0, 0, 0, 0, 0, 0, 0, 0, 0, 0, 1, 1, 1, 1, 2, 2, 2, 2, 2, 2]\n",
            "[46] [0, 0, 0, 0, 0, 0, 0, 0, 0, 0, 0, 0, 2, 2, 2, 3, 3, 3, 3, 3, 3, 3, 3] | [0, 0, 0, 0, 0, 0, 0, 0, 0, 0, 0, 0, 0, 2, 2, 3, 3, 3, 3, 3, 3, 3, 3]\n",
            "[55] [0, 0, 0, 0, 0, 0, 0, 0, 0, 0, 1, 1, 1, 1, 1, 1, 1, 1, 1, 1, 1, 1, 1] | [0, 0, 0, 0, 0, 0, 0, 0, 0, 1, 1, 1, 1, 1, 1, 1, 1, 1, 1, 1, 1, 1, 1]\n",
            "[93] [0, 0, 0, 0, 0, 0, 0, 0, 0, 0, 0, 0, 0, 0, 0, 0, 2, 2, 2, 2, 2, 2, 2] | [0, 0, 0, 0, 0, 0, 0, 0, 0, 0, 0, 0, 0, 0, 0, 0, 0, 2, 2, 2, 2, 2, 2]\n",
            "[94] [0, 0, 0, 0, 0, 0, 0, 0, 0, 0, 0, 0, 0, 0, 1, 1, 1, 1, 1, 2, 2, 2, 2] | [0, 0, 0, 0, 0, 0, 0, 0, 0, 0, 0, 0, 0, 0, 0, 1, 1, 1, 1, 2, 2, 2, 2]\n",
            "[116] [0, 0, 0, 3, 3, 3, 3, 3, 3, 3, 3, 3, 3, 3, 3, 3, 4, 4, 4, 4, 4, 4, 4] | [0, 0, 0, 3, 3, 3, 3, 3, 3, 3, 3, 3, 3, 3, 3, 3, 3, 4, 4, 4, 4, 4, 4]\n",
            "[124] [0, 0, 0, 0, 0, 0, 0, 0, 0, 0, 0, 0, 0, 0, 0, 1, 1, 1, 1, 1, 1, 1, 1] | [0, 0, 0, 0, 0, 0, 0, 0, 0, 0, 0, 0, 0, 0, 0, 0, 1, 1, 1, 1, 1, 1, 1]\n",
            "[125] [0, 0, 0, 0, 0, 0, 0, 0, 0, 0, 1, 1, 1, 1, 1, 1, 2, 2, 2, 2, 2, 2, 2] | [0, 0, 0, 0, 0, 0, 0, 0, 0, 0, 0, 1, 1, 1, 1, 1, 2, 2, 2, 2, 2, 2, 2]\n",
            "[133] [0, 0, 0, 3, 3, 3, 3, 3, 3, 3, 3, 3, 3, 3, 3, 4, 4, 4, 4, 4, 4, 4, 4] | [0, 0, 0, 3, 3, 3, 3, 3, 3, 3, 3, 3, 3, 3, 3, 3, 4, 4, 4, 4, 4, 4, 4]\n",
            "[134] [0, 0, 0, 0, 0, 0, 0, 0, 1, 1, 1, 1, 1, 1, 3, 3, 3, 3, 3, 3, 3, 3, 3] | [0, 0, 0, 0, 0, 0, 0, 0, 0, 1, 1, 1, 1, 1, 3, 3, 3, 3, 3, 3, 3, 3, 3]\n",
            "[135] [0, 0, 0, 0, 0, 0, 0, 0, 0, 0, 1, 1, 1, 1, 1, 2, 2, 2, 2, 2, 2, 3, 3] | [0, 0, 0, 0, 0, 0, 0, 0, 0, 0, 0, 1, 1, 1, 1, 2, 2, 2, 2, 2, 2, 3, 3]\n",
            "[139] [0, 0, 0, 0, 0, 1, 1, 1, 2, 2, 2, 2, 2, 3, 3, 3, 3, 3, 3, 4, 4, 4, 4] | [0, 0, 0, 0, 0, 0, 1, 1, 2, 2, 2, 2, 2, 3, 3, 3, 3, 3, 3, 4, 4, 4, 4]\n",
            "[143] [0, 0, 0, 0, 2, 2, 2, 2, 2, 2, 3, 3, 3, 3, 3, 3, 3, 3, 3, 3, 3, 3, 3] | [0, 0, 0, 0, 2, 2, 2, 2, 2, 3, 3, 3, 3, 3, 3, 3, 3, 3, 3, 3, 3, 3, 3]\n",
            "[155] [0, 0, 0, 0, 0, 0, 0, 0, 0, 0, 1, 1, 1, 1, 1, 1, 1, 1, 1, 1, 1, 1, 1] | [0, 0, 0, 0, 0, 0, 0, 0, 0, 1, 1, 1, 1, 1, 1, 1, 1, 1, 1, 1, 1, 1, 1]\n",
            "[158] [1, 1, 1, 1, 1, 1, 1, 1, 1, 2, 2, 3, 3, 3, 3, 3, 3, 3, 4, 4, 4, 4, 4] | [1, 1, 1, 1, 1, 1, 1, 1, 1, 3, 2, 3, 3, 3, 3, 3, 3, 3, 4, 4, 4, 4, 4]\n",
            "[163] [0, 0, 0, 0, 0, 0, 0, 2, 2, 2, 2, 2, 2, 2, 2, 3, 3, 4, 4, 4, 4, 4, 4] | [0, 0, 0, 0, 0, 0, 0, 2, 2, 2, 2, 2, 2, 2, 2, 4, 3, 4, 4, 4, 4, 4, 4]\n",
            "[167] [0, 0, 0, 0, 0, 0, 0, 0, 0, 0, 0, 0, 0, 0, 1, 1, 1, 1, 1, 1, 1, 1, 1] | [0, 0, 0, 0, 0, 0, 0, 0, 0, 0, 0, 0, 0, 0, 0, 1, 1, 1, 1, 1, 1, 1, 1]\n",
            "[170] [0, 0, 0, 0, 0, 0, 0, 0, 0, 0, 0, 1, 1, 1, 1, 1, 1, 1, 1, 1, 1, 1, 1] | [0, 0, 0, 0, 0, 0, 0, 0, 0, 0, 1, 1, 1, 1, 1, 1, 1, 1, 1, 1, 1, 1, 1]\n",
            "[176] [0, 0, 0, 0, 0, 0, 0, 1, 1, 1, 1, 1, 1, 1, 2, 2, 2, 2, 2, 2, 3, 3, 3] | [0, 0, 0, 0, 0, 0, 0, 0, 1, 1, 1, 1, 1, 1, 2, 2, 2, 2, 2, 2, 3, 3, 3]\n",
            "[177] [0, 0, 0, 0, 0, 0, 0, 0, 1, 1, 1, 1, 2, 2, 2, 2, 4, 4, 4, 4, 4, 4, 4] | [0, 0, 0, 0, 0, 0, 0, 0, 0, 1, 1, 1, 2, 2, 2, 2, 4, 4, 4, 4, 4, 4, 4]\n",
            "[191] [0, 0, 0, 0, 0, 0, 0, 0, 1, 1, 1, 1, 1, 3, 3, 3, 3, 3, 3, 3, 3, 3, 3] | [0, 0, 0, 0, 0, 0, 0, 0, 0, 1, 1, 1, 1, 3, 3, 3, 3, 3, 3, 3, 3, 3, 3]\n",
            "[198] [0, 0, 0, 0, 0, 1, 1, 1, 1, 1, 1, 1, 1, 1, 1, 3, 3, 4, 4, 4, 4, 4, 4] | [0, 0, 0, 0, 0, 1, 1, 1, 1, 1, 1, 1, 1, 1, 1, 4, 3, 4, 4, 4, 4, 4, 4]\n",
            "[201] [0, 0, 0, 0, 0, 0, 0, 0, 0, 0, 1, 1, 1, 1, 1, 1, 1, 1, 1, 1, 1, 1, 1] | [0, 0, 0, 0, 0, 0, 0, 0, 0, 1, 1, 1, 1, 1, 1, 1, 1, 1, 1, 1, 1, 1, 1]\n",
            "[207] [0, 0, 0, 0, 0, 1, 1, 1, 1, 1, 2, 2, 2, 2, 2, 2, 3, 3, 3, 3, 3, 3, 3] | [0, 0, 0, 0, 0, 0, 1, 1, 1, 1, 2, 2, 2, 2, 2, 2, 3, 3, 3, 3, 3, 3, 3]\n",
            "[223] [0, 0, 0, 0, 1, 1, 1, 1, 1, 1, 1, 1, 1, 2, 2, 2, 2, 2, 2, 2, 2, 2, 2] | [0, 0, 0, 0, 0, 1, 1, 1, 1, 1, 1, 1, 1, 2, 2, 2, 2, 2, 2, 2, 2, 2, 2]\n",
            "[231] [0, 0, 0, 0, 0, 0, 0, 0, 1, 1, 1, 1, 1, 1, 2, 2, 2, 2, 2, 2, 2, 2, 2] | [0, 0, 0, 0, 0, 0, 0, 0, 0, 1, 1, 1, 1, 1, 2, 2, 2, 2, 2, 2, 2, 2, 2]\n",
            "[233] [0, 0, 0, 0, 0, 0, 0, 0, 0, 0, 0, 0, 0, 0, 1, 1, 1, 1, 1, 1, 1, 1, 1] | [0, 0, 0, 0, 0, 0, 0, 0, 0, 0, 0, 0, 0, 0, 0, 1, 1, 1, 1, 1, 1, 1, 1]\n",
            "[238] [0, 0, 0, 0, 0, 0, 0, 0, 0, 1, 1, 1, 1, 1, 1, 1, 1, 2, 2, 2, 2, 2, 2] | [0, 0, 0, 0, 0, 0, 0, 0, 0, 0, 1, 1, 1, 1, 1, 1, 1, 2, 2, 2, 2, 2, 2]\n",
            "[239] [0, 0, 0, 0, 0, 0, 0, 0, 1, 1, 1, 2, 2, 2, 2, 2, 2, 2, 2, 2, 2, 2, 3] | [0, 0, 0, 0, 0, 0, 0, 0, 0, 1, 1, 2, 2, 2, 2, 2, 2, 2, 2, 2, 2, 2, 2]\n",
            "[240] [0, 0, 0, 0, 0, 0, 0, 0, 0, 0, 0, 0, 0, 0, 0, 1, 1, 1, 1, 1, 1, 1, 1] | [0, 0, 0, 0, 0, 0, 0, 0, 0, 0, 0, 0, 0, 0, 0, 0, 1, 1, 1, 1, 1, 1, 1]\n",
            "[242] [0, 0, 0, 1, 1, 1, 1, 2, 2, 2, 2, 2, 2, 2, 2, 2, 2, 3, 3, 3, 3, 3, 3] | [0, 0, 0, 0, 1, 1, 1, 2, 2, 2, 2, 2, 2, 2, 2, 2, 2, 3, 3, 3, 3, 3, 3]\n",
            "[248] [1, 1, 1, 1, 1, 1, 1, 1, 2, 2, 3, 3, 3, 3, 3, 3, 3, 3, 3, 3, 4, 4, 4] | [1, 1, 1, 1, 1, 1, 1, 1, 3, 2, 3, 3, 3, 3, 3, 3, 3, 3, 3, 3, 4, 4, 4]\n",
            "[258] [0, 0, 0, 0, 1, 1, 1, 1, 1, 1, 1, 1, 1, 1, 2, 2, 2, 2, 2, 2, 2, 2, 2] | [0, 0, 0, 0, 0, 1, 1, 1, 1, 1, 1, 1, 1, 1, 2, 2, 2, 2, 2, 2, 2, 2, 2]\n",
            "[260] [2, 2, 2, 2, 2, 2, 2, 2, 2, 3, 3, 3, 3, 4, 4, 4, 4, 4, 4, 4, 4, 4, 4] | [2, 2, 2, 2, 2, 2, 2, 2, 2, 2, 3, 3, 3, 4, 4, 4, 4, 4, 4, 4, 4, 4, 4]\n",
            "[266] [0, 0, 0, 0, 0, 0, 0, 0, 0, 0, 1, 1, 1, 1, 1, 1, 1, 1, 1, 1, 1, 1, 1] | [0, 0, 0, 0, 0, 0, 0, 0, 0, 1, 1, 1, 1, 1, 1, 1, 1, 1, 1, 1, 1, 1, 1]\n",
            "[271] [0, 0, 0, 0, 0, 0, 1, 1, 2, 2, 2, 2, 2, 2, 2, 2, 2, 2, 2, 2, 2, 4, 4] | [0, 0, 0, 0, 0, 0, 0, 1, 2, 2, 2, 2, 2, 2, 2, 2, 2, 2, 2, 2, 2, 4, 4]\n",
            "[274] [0, 0, 0, 0, 0, 0, 0, 0, 1, 1, 1, 1, 1, 1, 1, 1, 1, 1, 1, 1, 1, 1, 1] | [0, 0, 0, 0, 0, 0, 0, 1, 1, 1, 1, 1, 1, 1, 1, 1, 1, 1, 1, 1, 1, 1, 1]\n",
            "[283] [1, 1, 2, 2, 2, 2, 2, 2, 2, 3, 3, 3, 3, 3, 3, 3, 4, 4, 4, 4, 4, 4, 4] | [1, 1, 2, 2, 2, 2, 2, 2, 2, 2, 3, 3, 3, 3, 3, 3, 4, 4, 4, 4, 4, 4, 4]\n",
            "[284] [0, 0, 0, 0, 0, 1, 1, 1, 1, 1, 2, 2, 2, 2, 2, 3, 3, 3, 3, 3, 3, 3, 3] | [0, 0, 0, 0, 0, 0, 1, 1, 1, 1, 2, 2, 2, 2, 2, 3, 3, 3, 3, 3, 3, 3, 3]\n",
            "[286] [1, 1, 1, 2, 2, 2, 2, 2, 2, 2, 3, 3, 4, 4, 4, 4, 4, 4, 4, 4, 4, 4, 4] | [1, 1, 1, 2, 2, 2, 2, 2, 2, 2, 4, 3, 4, 4, 4, 4, 4, 4, 4, 4, 4, 4, 4]\n",
            "[296] [0, 0, 0, 0, 0, 1, 1, 1, 1, 1, 1, 2, 2, 2, 2, 2, 3, 3, 3, 3, 3, 3, 3] | [0, 0, 0, 0, 0, 0, 1, 1, 1, 1, 1, 2, 2, 2, 2, 2, 3, 3, 3, 3, 3, 3, 3]\n",
            "[300] [2, 2, 2, 2, 2, 2, 2, 2, 2, 2, 3, 3, 3, 3, 4, 4, 4, 4, 4, 4, 4, 4, 4] | [2, 2, 2, 2, 2, 2, 2, 2, 2, 2, 2, 3, 3, 3, 4, 4, 4, 4, 4, 4, 4, 4, 4]\n",
            "[302] [0, 0, 0, 0, 0, 0, 0, 0, 0, 0, 0, 0, 0, 0, 0, 1, 1, 1, 1, 1, 1, 1, 1] | [0, 0, 0, 0, 0, 0, 0, 0, 0, 0, 0, 0, 0, 0, 0, 0, 1, 1, 1, 1, 1, 1, 1]\n",
            "[310] [0, 0, 0, 0, 0, 0, 0, 0, 0, 0, 0, 0, 0, 0, 1, 1, 1, 1, 1, 1, 1, 1, 1] | [0, 0, 0, 0, 0, 0, 0, 0, 0, 0, 0, 0, 0, 0, 0, 1, 1, 1, 1, 1, 1, 1, 1]\n",
            "[327] [0, 0, 0, 0, 0, 0, 0, 0, 0, 0, 0, 0, 0, 0, 1, 1, 1, 1, 1, 1, 1, 1, 1] | [0, 0, 0, 0, 0, 0, 0, 0, 0, 0, 0, 0, 0, 0, 0, 1, 1, 1, 1, 1, 1, 1, 1]\n",
            "[330] [1, 1, 1, 1, 1, 2, 2, 2, 2, 2, 2, 3, 3, 4, 4, 4, 4, 4, 4, 4, 4, 4, 4] | [1, 1, 1, 1, 1, 2, 2, 2, 2, 2, 2, 2, 3, 4, 4, 4, 4, 4, 4, 4, 4, 4, 4]\n",
            "[336] [0, 0, 0, 0, 0, 0, 1, 1, 1, 1, 2, 2, 2, 2, 2, 3, 3, 3, 3, 3, 3, 4, 4] | [0, 0, 0, 0, 0, 0, 0, 1, 1, 1, 2, 2, 2, 2, 2, 3, 3, 3, 3, 3, 3, 4, 4]\n",
            "[348] [0, 0, 0, 0, 0, 0, 0, 0, 0, 0, 0, 0, 1, 1, 1, 1, 1, 1, 1, 1, 2, 2, 2] | [0, 0, 0, 0, 0, 0, 0, 0, 0, 0, 0, 0, 1, 1, 1, 1, 1, 1, 1, 1, 1, 2, 2]\n",
            "[352] [0, 0, 0, 0, 1, 1, 1, 1, 1, 1, 2, 2, 2, 2, 2, 2, 2, 3, 3, 3, 3, 3, 3] | [0, 0, 0, 0, 0, 1, 1, 1, 1, 1, 2, 2, 2, 2, 2, 2, 2, 3, 3, 3, 3, 3, 3]\n",
            "[358] [0, 0, 0, 0, 0, 0, 0, 0, 0, 0, 1, 1, 1, 1, 1, 3, 3, 3, 3, 3, 3, 3, 3] | [0, 0, 0, 0, 0, 0, 0, 0, 0, 0, 0, 1, 1, 1, 1, 3, 3, 3, 3, 3, 3, 3, 3]\n",
            "[379] [0, 0, 0, 0, 0, 0, 0, 0, 0, 0, 0, 1, 1, 1, 1, 1, 1, 3, 3, 3, 3, 3, 3] | [0, 0, 0, 0, 0, 0, 0, 0, 0, 0, 0, 0, 1, 1, 1, 1, 1, 3, 3, 3, 3, 3, 3]\n",
            "[384] [0, 0, 0, 0, 0, 1, 1, 2, 2, 2, 2, 2, 2, 2, 3, 3, 3, 3, 3, 4, 4, 4, 4] | [0, 0, 0, 0, 0, 0, 1, 2, 2, 2, 2, 2, 2, 2, 3, 3, 3, 3, 3, 4, 4, 4, 4]\n",
            "[397] [2, 2, 2, 2, 2, 2, 2, 2, 2, 2, 2, 2, 2, 2, 3, 3, 4, 4, 4, 4, 4, 4, 4] | [2, 2, 2, 2, 2, 2, 2, 2, 2, 2, 2, 2, 2, 2, 4, 3, 4, 4, 4, 4, 4, 4, 4]\n",
            "[402] [0, 0, 0, 0, 1, 1, 1, 1, 1, 1, 1, 1, 2, 2, 2, 2, 2, 2, 2, 2, 2, 3, 3] | [0, 0, 0, 0, 0, 1, 1, 1, 1, 1, 1, 1, 2, 2, 2, 2, 2, 2, 2, 2, 2, 2, 3]\n",
            "[416] [0, 0, 0, 0, 0, 0, 0, 0, 0, 0, 0, 0, 1, 1, 1, 1, 2, 2, 2, 2, 2, 2, 2] | [0, 0, 0, 0, 0, 0, 0, 0, 0, 0, 0, 0, 0, 1, 1, 1, 2, 2, 2, 2, 2, 2, 2]\n",
            "[442] [0, 0, 0, 0, 0, 0, 0, 0, 1, 1, 1, 1, 2, 2, 2, 2, 2, 3, 3, 3, 3, 3, 3] | [0, 0, 0, 0, 0, 0, 0, 0, 0, 1, 1, 1, 2, 2, 2, 2, 2, 3, 3, 3, 3, 3, 3]\n",
            "[449] [0, 0, 0, 0, 0, 0, 0, 0, 1, 1, 1, 1, 2, 2, 4, 4, 4, 4, 4, 4, 4, 4, 4] | [0, 0, 0, 0, 0, 0, 0, 0, 0, 1, 1, 1, 2, 2, 4, 4, 4, 4, 4, 4, 4, 4, 4]\n",
            "[451] [0, 0, 0, 0, 0, 0, 0, 0, 0, 0, 0, 0, 0, 0, 1, 1, 1, 1, 1, 1, 1, 1, 1] | [0, 0, 0, 0, 0, 0, 0, 0, 0, 0, 0, 0, 0, 0, 0, 1, 1, 1, 1, 1, 1, 1, 1]\n",
            "[465] [0, 0, 0, 0, 0, 0, 0, 0, 0, 0, 0, 0, 0, 2, 2, 2, 3, 3, 3, 3, 4, 4, 4] | [0, 0, 0, 0, 0, 0, 0, 0, 0, 0, 0, 0, 0, 0, 2, 2, 3, 3, 3, 3, 4, 4, 4]\n",
            "[469] [0, 0, 0, 0, 0, 0, 0, 0, 0, 1, 1, 1, 1, 3, 3, 3, 3, 3, 3, 3, 3, 3, 3] | [0, 0, 0, 0, 0, 0, 0, 0, 0, 0, 1, 1, 1, 3, 3, 3, 3, 3, 3, 3, 3, 3, 3]\n",
            "[483] [0, 0, 2, 2, 2, 2, 2, 2, 2, 2, 2, 3, 3, 3, 3, 3, 3, 4, 4, 4, 4, 4, 4] | [0, 0, 2, 2, 2, 2, 2, 2, 2, 2, 2, 2, 3, 3, 3, 3, 3, 4, 4, 4, 4, 4, 4]\n",
            "[490] [1, 1, 1, 1, 1, 1, 1, 1, 2, 3, 3, 3, 3, 3, 3, 3, 4, 4, 4, 4, 4, 4, 4] | [1, 1, 1, 1, 1, 1, 1, 1, 3, 3, 3, 3, 3, 3, 3, 3, 4, 4, 4, 4, 4, 4, 4]\n",
            "[492] [0, 0, 0, 0, 0, 0, 1, 1, 1, 1, 1, 1, 1, 2, 2, 2, 2, 2, 2, 3, 3, 3, 3] | [0, 0, 0, 0, 0, 0, 0, 1, 1, 1, 1, 1, 1, 2, 2, 2, 2, 2, 2, 3, 3, 3, 3]\n",
            "[503] [0, 0, 0, 0, 0, 0, 0, 1, 1, 1, 1, 2, 2, 2, 2, 2, 2, 3, 3, 3, 3, 3, 3] | [0, 0, 0, 0, 0, 0, 0, 0, 1, 1, 1, 2, 2, 2, 2, 2, 2, 3, 3, 3, 3, 3, 3]\n",
            "[511] [0, 0, 0, 0, 0, 0, 0, 0, 0, 1, 1, 1, 2, 2, 4, 4, 4, 4, 4, 4, 4, 4, 4] | [0, 0, 0, 0, 0, 0, 0, 0, 0, 0, 1, 1, 2, 2, 4, 4, 4, 4, 4, 4, 4, 4, 4]\n",
            "[520] [0, 0, 0, 1, 1, 1, 1, 1, 2, 2, 2, 2, 2, 2, 2, 2, 3, 3, 3, 3, 3, 3, 3] | [0, 0, 0, 0, 1, 1, 1, 1, 2, 2, 2, 2, 2, 2, 2, 2, 3, 3, 3, 3, 3, 3, 3]\n",
            "[524] [0, 0, 0, 0, 0, 0, 0, 0, 0, 0, 0, 1, 1, 1, 1, 1, 1, 2, 2, 2, 2, 2, 2] | [0, 0, 0, 0, 0, 0, 0, 0, 0, 0, 0, 0, 1, 1, 1, 1, 1, 2, 2, 2, 2, 2, 2]\n",
            "[530] [0, 0, 0, 0, 0, 0, 0, 0, 0, 0, 0, 0, 1, 1, 1, 1, 1, 1, 4, 4, 4, 4, 4] | [0, 0, 0, 0, 0, 0, 0, 0, 0, 0, 0, 0, 0, 1, 1, 1, 1, 1, 4, 4, 4, 4, 4]\n",
            "[534] [0, 0, 0, 0, 0, 0, 0, 1, 1, 1, 2, 2, 2, 2, 2, 2, 2, 3, 3, 3, 3, 3, 3] | [0, 0, 0, 0, 0, 0, 0, 0, 1, 1, 2, 2, 2, 2, 2, 2, 2, 3, 3, 3, 3, 3, 3]\n",
            "[537] [0, 0, 0, 1, 1, 1, 1, 1, 1, 1, 1, 1, 2, 2, 2, 2, 2, 2, 2, 3, 3, 3, 3] | [0, 0, 0, 0, 1, 1, 1, 1, 1, 1, 1, 1, 2, 2, 2, 2, 2, 2, 2, 3, 3, 3, 3]\n",
            "[542] [0, 0, 0, 0, 0, 0, 0, 1, 1, 1, 2, 2, 2, 2, 2, 3, 3, 3, 4, 4, 4, 4, 4] | [0, 0, 0, 0, 0, 0, 0, 0, 1, 1, 2, 2, 2, 2, 2, 3, 3, 3, 4, 4, 4, 4, 4]\n",
            "[564] [0, 0, 0, 0, 0, 0, 0, 0, 0, 0, 1, 1, 1, 1, 1, 1, 1, 2, 2, 2, 2, 2, 2] | [0, 0, 0, 0, 0, 0, 0, 0, 0, 0, 0, 1, 1, 1, 1, 1, 1, 2, 2, 2, 2, 2, 2]\n",
            "[574] [0, 0, 0, 0, 1, 1, 1, 1, 2, 2, 2, 2, 2, 2, 2, 2, 2, 2, 4, 4, 4, 4, 4] | [0, 0, 0, 0, 0, 1, 1, 1, 2, 2, 2, 2, 2, 2, 2, 2, 2, 2, 4, 4, 4, 4, 4]\n",
            "[579] [0, 0, 0, 0, 0, 0, 0, 0, 0, 0, 0, 0, 1, 1, 1, 1, 1, 3, 3, 3, 3, 3, 3] | [0, 0, 0, 0, 0, 0, 0, 0, 0, 0, 0, 0, 0, 1, 1, 1, 1, 3, 3, 3, 3, 3, 3]\n",
            "[584] [3, 3, 3, 3, 3, 3, 3, 3, 3, 3, 3, 3, 3, 3, 4, 4, 4, 4, 4, 4, 4, 4, 4] | [3, 3, 3, 3, 3, 3, 3, 3, 3, 3, 3, 3, 3, 3, 3, 4, 4, 4, 4, 4, 4, 4, 4]\n",
            "[587] [0, 0, 0, 0, 0, 1, 1, 1, 1, 1, 2, 2, 2, 2, 2, 2, 2, 3, 3, 3, 3, 3, 3] | [0, 0, 0, 0, 0, 0, 1, 1, 1, 1, 2, 2, 2, 2, 2, 2, 2, 3, 3, 3, 3, 3, 3]\n",
            "[592] [0, 0, 0, 0, 0, 0, 0, 0, 0, 1, 1, 1, 1, 1, 2, 2, 4, 4, 4, 4, 4, 4, 4] | [0, 0, 0, 0, 0, 0, 0, 0, 0, 0, 1, 1, 1, 1, 2, 2, 4, 4, 4, 4, 4, 4, 4]\n",
            "[594] [0, 0, 0, 0, 0, 0, 0, 1, 1, 1, 1, 1, 1, 1, 1, 2, 2, 2, 2, 2, 2, 2, 2] | [0, 0, 0, 0, 0, 0, 0, 0, 1, 1, 1, 1, 1, 1, 1, 2, 2, 2, 2, 2, 2, 2, 2]\n",
            "[617] [0, 0, 0, 0, 0, 0, 0, 0, 0, 0, 0, 0, 0, 0, 0, 0, 0, 4, 4, 4, 4, 4, 4] | [0, 0, 0, 0, 0, 0, 0, 0, 0, 0, 0, 0, 0, 0, 0, 0, 4, 4, 4, 4, 4, 4, 4]\n",
            "[622] [0, 0, 0, 1, 1, 1, 1, 1, 2, 2, 2, 2, 2, 2, 3, 3, 3, 3, 3, 3, 4, 4, 4] | [0, 0, 0, 0, 1, 1, 1, 1, 2, 2, 2, 2, 2, 2, 3, 3, 3, 3, 3, 3, 4, 4, 4]\n",
            "[628] [0, 0, 0, 0, 0, 0, 1, 1, 1, 1, 1, 1, 2, 2, 2, 2, 3, 4, 4, 4, 4, 4, 4] | [0, 0, 0, 0, 0, 0, 1, 1, 1, 1, 1, 1, 2, 2, 2, 2, 4, 4, 4, 4, 4, 4, 4]\n",
            "[645] [0, 0, 0, 0, 1, 1, 1, 1, 1, 1, 1, 2, 2, 2, 2, 2, 2, 2, 3, 3, 3, 3, 3] | [0, 0, 0, 0, 0, 1, 1, 1, 1, 1, 1, 2, 2, 2, 2, 2, 2, 2, 3, 3, 3, 3, 3]\n",
            "[650] [0, 0, 0, 0, 1, 1, 1, 1, 1, 1, 1, 2, 2, 2, 2, 2, 2, 2, 2, 2, 3, 3, 3] | [0, 0, 0, 0, 0, 1, 1, 1, 1, 1, 1, 2, 2, 2, 2, 2, 2, 2, 2, 2, 3, 3, 3]\n",
            "[656] [0, 0, 0, 0, 0, 0, 0, 0, 0, 0, 0, 0, 1, 1, 1, 1, 1, 4, 4, 4, 4, 4, 4] | [0, 0, 0, 0, 0, 0, 0, 0, 0, 0, 0, 0, 0, 1, 1, 1, 1, 4, 4, 4, 4, 4, 4]\n",
            "[664] [0, 0, 0, 0, 0, 0, 1, 1, 1, 1, 1, 1, 1, 1, 2, 2, 2, 2, 2, 2, 2, 2, 2] | [0, 0, 0, 0, 0, 0, 0, 1, 1, 1, 1, 1, 1, 1, 2, 2, 2, 2, 2, 2, 2, 2, 2]\n",
            "[673] [0, 0, 0, 0, 0, 0, 0, 0, 0, 1, 1, 1, 3, 3, 3, 3, 3, 3, 3, 4, 4, 4, 4] | [0, 0, 0, 0, 0, 0, 0, 0, 0, 0, 1, 1, 3, 3, 3, 3, 3, 3, 3, 4, 4, 4, 4]\n",
            "[680] [0, 0, 0, 0, 0, 1, 1, 1, 1, 1, 1, 1, 1, 2, 2, 2, 2, 2, 2, 2, 2, 2, 2] | [0, 0, 0, 0, 0, 0, 1, 1, 1, 1, 1, 1, 1, 2, 2, 2, 2, 2, 2, 2, 2, 2, 2]\n",
            "[686] [0, 0, 0, 0, 0, 0, 0, 0, 0, 0, 2, 2, 2, 3, 3, 4, 4, 4, 4, 4, 4, 4, 4] | [0, 0, 0, 0, 0, 0, 0, 0, 0, 0, 2, 2, 2, 4, 3, 4, 4, 4, 4, 4, 4, 4, 4]\n",
            "[695] [0, 0, 0, 0, 0, 0, 0, 0, 0, 2, 2, 2, 2, 2, 3, 3, 3, 3, 3, 3, 3, 3, 3] | [0, 0, 0, 0, 0, 0, 0, 0, 0, 0, 2, 2, 2, 2, 3, 3, 3, 3, 3, 3, 3, 3, 3]\n",
            "[696] [0, 0, 0, 0, 0, 0, 0, 1, 1, 1, 1, 1, 2, 2, 2, 2, 2, 2, 2, 3, 3, 3, 3] | [0, 0, 0, 0, 0, 0, 0, 0, 1, 1, 1, 1, 2, 2, 2, 2, 2, 2, 2, 3, 3, 3, 3]\n",
            "[700] [1, 1, 1, 1, 1, 1, 2, 2, 2, 2, 2, 2, 2, 2, 3, 3, 4, 4, 4, 4, 4, 4, 4] | [1, 1, 1, 1, 1, 1, 2, 2, 2, 2, 2, 2, 2, 2, 2, 3, 4, 4, 4, 4, 4, 4, 4]\n",
            "[709] [0, 0, 0, 0, 0, 0, 0, 0, 0, 0, 0, 2, 2, 3, 3, 3, 3, 3, 3, 3, 3, 3, 3] | [0, 0, 0, 0, 0, 0, 0, 0, 0, 0, 0, 0, 2, 3, 3, 3, 3, 3, 3, 3, 3, 3, 3]\n",
            "[751] [0, 0, 0, 0, 0, 0, 0, 0, 0, 0, 1, 1, 1, 1, 3, 3, 3, 3, 3, 3, 4, 4, 4] | [0, 0, 0, 0, 0, 0, 0, 0, 0, 0, 0, 1, 1, 1, 3, 3, 3, 3, 3, 3, 4, 4, 4]\n",
            "[767] [0, 0, 0, 0, 0, 1, 1, 1, 1, 1, 1, 2, 2, 2, 2, 2, 2, 2, 2, 2, 2, 2, 2] | [0, 0, 0, 0, 0, 0, 1, 1, 1, 1, 1, 2, 2, 2, 2, 2, 2, 2, 2, 2, 2, 2, 2]\n",
            "[771] [0, 0, 0, 0, 0, 0, 0, 0, 1, 1, 1, 1, 1, 2, 2, 2, 2, 2, 2, 3, 3, 3, 3] | [0, 0, 0, 0, 0, 0, 0, 0, 0, 1, 1, 1, 1, 2, 2, 2, 2, 2, 2, 3, 3, 3, 3]\n",
            "[779] [0, 0, 0, 0, 1, 1, 1, 1, 2, 2, 2, 2, 2, 3, 3, 3, 3, 3, 3, 3, 4, 4, 4] | [0, 0, 0, 0, 0, 1, 1, 1, 2, 2, 2, 2, 2, 3, 3, 3, 3, 3, 3, 3, 4, 4, 4]\n",
            "[781] [0, 0, 0, 0, 0, 0, 0, 1, 1, 1, 1, 1, 2, 2, 2, 2, 3, 3, 3, 3, 3, 3, 3] | [0, 0, 0, 0, 0, 0, 0, 0, 1, 1, 1, 1, 2, 2, 2, 2, 3, 3, 3, 3, 3, 3, 3]\n",
            "[795] [0, 0, 0, 0, 0, 0, 0, 0, 0, 0, 0, 0, 0, 0, 0, 0, 2, 2, 2, 2, 2, 2, 2] | [0, 0, 0, 0, 0, 0, 0, 0, 0, 0, 0, 0, 0, 0, 0, 0, 0, 2, 2, 2, 2, 2, 2]\n",
            "[796] [0, 0, 0, 0, 0, 0, 1, 1, 1, 2, 2, 2, 2, 2, 2, 2, 3, 3, 3, 3, 3, 3, 3] | [0, 0, 0, 0, 0, 0, 0, 1, 1, 2, 2, 2, 2, 2, 2, 2, 3, 3, 3, 3, 3, 3, 3]\n",
            "[808] [0, 0, 0, 0, 0, 0, 0, 0, 0, 0, 1, 1, 1, 1, 1, 2, 2, 2, 2, 2, 3, 3, 3] | [0, 0, 0, 0, 0, 0, 0, 0, 0, 0, 0, 1, 1, 1, 1, 2, 2, 2, 2, 2, 3, 3, 3]\n",
            "[816] [0, 0, 0, 0, 0, 0, 0, 0, 1, 2, 2, 2, 2, 2, 2, 2, 2, 3, 3, 3, 3, 3, 3] | [0, 0, 0, 0, 0, 0, 0, 0, 0, 2, 2, 2, 2, 2, 2, 2, 2, 3, 3, 3, 3, 3, 3]\n",
            "[820] [2, 2, 2, 2, 2, 2, 2, 2, 2, 2, 2, 3, 3, 3, 4, 4, 4, 4, 4, 4, 4, 4, 4] | [2, 2, 2, 2, 2, 2, 2, 2, 2, 2, 2, 2, 3, 3, 4, 4, 4, 4, 4, 4, 4, 4, 4]\n",
            "[824] [0, 0, 0, 0, 0, 0, 0, 0, 0, 0, 1, 1, 1, 3, 3, 4, 4, 4, 4, 4, 4, 4, 4] | [0, 0, 0, 0, 0, 0, 0, 0, 0, 0, 0, 1, 1, 4, 3, 4, 4, 4, 4, 4, 4, 4, 4]\n",
            "[829] [0, 0, 0, 0, 0, 0, 1, 1, 1, 1, 1, 1, 1, 1, 1, 2, 2, 2, 2, 2, 2, 2, 2] | [0, 0, 0, 0, 0, 0, 0, 1, 1, 1, 1, 1, 1, 1, 1, 2, 2, 2, 2, 2, 2, 2, 2]\n",
            "[830] [0, 0, 0, 0, 0, 0, 0, 0, 0, 0, 0, 0, 0, 0, 0, 1, 1, 1, 1, 1, 1, 1, 1] | [0, 0, 0, 0, 0, 0, 0, 0, 0, 0, 0, 0, 0, 0, 0, 0, 1, 1, 1, 1, 1, 1, 1]\n",
            "[840] [0, 0, 0, 0, 0, 0, 0, 0, 1, 1, 1, 1, 3, 3, 3, 3, 3, 3, 4, 4, 4, 4, 4] | [0, 0, 0, 0, 0, 0, 0, 0, 0, 1, 1, 1, 3, 3, 3, 3, 3, 3, 4, 4, 4, 4, 4]\n",
            "[841] [0, 1, 1, 1, 1, 1, 1, 2, 2, 2, 2, 2, 2, 2, 3, 3, 3, 4, 4, 4, 4, 4, 4] | [1, 1, 1, 1, 1, 1, 2, 2, 2, 2, 2, 2, 2, 2, 3, 3, 3, 4, 4, 4, 4, 4, 4]\n",
            "[847] [0, 0, 0, 0, 0, 0, 1, 1, 1, 1, 1, 2, 2, 2, 2, 2, 2, 2, 3, 3, 3, 3, 3] | [0, 0, 0, 0, 0, 0, 0, 1, 1, 1, 1, 2, 2, 2, 2, 2, 2, 2, 3, 3, 3, 3, 3]\n",
            "[861] [3, 3, 3, 3, 3, 3, 4, 4, 4, 4, 4, 4, 4, 4, 4, 4, 4, 4, 4, 4, 4, 4, 4] | [3, 3, 3, 3, 3, 4, 4, 4, 4, 4, 4, 4, 4, 4, 4, 4, 4, 4, 4, 4, 4, 4, 4]\n",
            "[876] [0, 0, 0, 0, 0, 0, 0, 0, 0, 0, 0, 0, 0, 0, 0, 1, 1, 1, 1, 1, 1, 1, 1] | [0, 0, 0, 0, 0, 0, 0, 0, 0, 0, 0, 0, 0, 0, 0, 0, 1, 1, 1, 1, 1, 1, 1]\n",
            "[882] [0, 0, 0, 0, 0, 0, 1, 2, 2, 2, 2, 2, 2, 3, 3, 3, 3, 4, 4, 4, 4, 4, 4] | [0, 0, 0, 0, 0, 0, 0, 2, 2, 2, 2, 2, 2, 3, 3, 3, 3, 4, 4, 4, 4, 4, 4]\n",
            "[889] [1, 2, 2, 2, 2, 2, 2, 2, 2, 2, 3, 3, 3, 3, 3, 3, 4, 4, 4, 4, 4, 4, 4] | [2, 2, 2, 2, 2, 2, 2, 2, 2, 2, 3, 3, 3, 3, 3, 3, 4, 4, 4, 4, 4, 4, 4]\n",
            "[901] [0, 0, 0, 0, 1, 1, 1, 1, 1, 2, 2, 2, 2, 2, 2, 2, 3, 3, 3, 3, 3, 3, 3] | [0, 0, 0, 0, 0, 1, 1, 1, 1, 2, 2, 2, 2, 2, 2, 2, 3, 3, 3, 3, 3, 3, 3]\n",
            "[907] [0, 0, 0, 0, 0, 0, 0, 0, 0, 0, 0, 0, 0, 0, 1, 1, 1, 1, 1, 1, 1, 1, 1] | [0, 0, 0, 0, 0, 0, 0, 0, 0, 0, 0, 0, 0, 0, 0, 1, 1, 1, 1, 1, 1, 1, 1]\n",
            "[914] [0, 0, 0, 0, 0, 0, 1, 1, 1, 1, 1, 1, 1, 1, 2, 2, 2, 2, 2, 2, 2, 2, 2] | [0, 0, 0, 0, 0, 0, 0, 1, 1, 1, 1, 1, 1, 1, 2, 2, 2, 2, 2, 2, 2, 2, 2]\n",
            "[920] [2, 2, 2, 2, 2, 2, 2, 2, 2, 3, 3, 3, 3, 4, 4, 4, 4, 4, 4, 4, 4, 4, 4] | [2, 2, 2, 2, 2, 2, 2, 2, 2, 2, 3, 3, 3, 4, 4, 4, 4, 4, 4, 4, 4, 4, 4]\n",
            "[926] [0, 0, 0, 0, 0, 0, 0, 0, 0, 0, 0, 0, 0, 0, 1, 1, 1, 1, 1, 4, 4, 4, 4] | [0, 0, 0, 0, 0, 0, 0, 0, 0, 0, 0, 0, 0, 0, 0, 1, 1, 1, 1, 4, 4, 4, 4]\n",
            "[927] [0, 0, 0, 0, 0, 0, 0, 0, 0, 1, 1, 1, 1, 1, 1, 1, 1, 1, 1, 1, 2, 2, 2] | [0, 0, 0, 0, 0, 0, 0, 0, 0, 1, 1, 1, 1, 1, 1, 1, 1, 1, 1, 1, 1, 2, 2]\n",
            "[928] [0, 0, 0, 0, 0, 0, 0, 0, 1, 1, 1, 3, 3, 3, 4, 4, 4, 4, 4, 4, 4, 4, 4] | [0, 0, 0, 0, 0, 0, 0, 0, 0, 1, 1, 3, 3, 3, 4, 4, 4, 4, 4, 4, 4, 4, 4]\n",
            "[938] [0, 0, 0, 0, 0, 0, 0, 0, 0, 0, 1, 1, 2, 2, 2, 2, 2, 3, 3, 3, 3, 3, 3] | [0, 0, 0, 0, 0, 0, 0, 0, 0, 0, 0, 1, 2, 2, 2, 2, 2, 3, 3, 3, 3, 3, 3]\n",
            "[943] [0, 0, 0, 0, 0, 0, 0, 0, 1, 1, 1, 1, 3, 3, 3, 3, 3, 3, 3, 3, 3, 3, 3] | [0, 0, 0, 0, 0, 0, 0, 0, 0, 1, 1, 1, 3, 3, 3, 3, 3, 3, 3, 3, 3, 3, 3]\n",
            "[944] [1, 1, 2, 2, 2, 2, 2, 2, 2, 2, 3, 3, 3, 3, 4, 4, 4, 4, 4, 4, 4, 4, 4] | [1, 1, 2, 2, 2, 2, 2, 2, 2, 2, 2, 3, 3, 3, 4, 4, 4, 4, 4, 4, 4, 4, 4]\n",
            "[947] [0, 0, 0, 0, 0, 0, 0, 0, 0, 0, 0, 0, 0, 0, 1, 1, 1, 1, 1, 1, 1, 1, 1] | [0, 0, 0, 0, 0, 0, 0, 0, 0, 0, 0, 0, 0, 0, 0, 1, 1, 1, 1, 1, 1, 1, 1]\n",
            "[952] [0, 0, 0, 0, 0, 0, 0, 0, 1, 1, 1, 1, 1, 1, 2, 2, 2, 2, 2, 2, 2, 4, 4] | [0, 0, 0, 0, 0, 0, 0, 0, 0, 1, 1, 1, 1, 1, 2, 2, 2, 2, 2, 2, 2, 4, 4]\n",
            "[957] [0, 0, 0, 0, 0, 0, 0, 0, 0, 0, 1, 1, 1, 1, 1, 3, 3, 3, 3, 3, 3, 3, 3] | [0, 0, 0, 0, 0, 0, 0, 0, 0, 0, 0, 1, 1, 1, 1, 3, 3, 3, 3, 3, 3, 3, 3]\n",
            "[965] [0, 0, 0, 0, 0, 0, 0, 0, 0, 0, 0, 0, 2, 2, 2, 2, 2, 3, 3, 3, 3, 3, 3] | [0, 0, 0, 0, 0, 0, 0, 0, 0, 0, 0, 0, 0, 2, 2, 2, 2, 3, 3, 3, 3, 3, 3]\n",
            "[968] [0, 0, 0, 0, 0, 0, 0, 0, 1, 1, 1, 1, 1, 2, 2, 2, 2, 2, 2, 2, 3, 3, 3] | [0, 0, 0, 0, 0, 0, 0, 0, 0, 1, 1, 1, 1, 2, 2, 2, 2, 2, 2, 2, 3, 3, 3]\n",
            "[972] [1, 1, 2, 2, 2, 2, 2, 2, 2, 2, 2, 3, 3, 3, 4, 4, 4, 4, 4, 4, 4, 4, 4] | [1, 1, 2, 2, 2, 2, 2, 2, 2, 2, 2, 2, 3, 3, 4, 4, 4, 4, 4, 4, 4, 4, 4]\n",
            "[975] [0, 1, 1, 1, 1, 1, 1, 1, 2, 2, 2, 2, 2, 2, 2, 2, 4, 4, 4, 4, 4, 4, 4] | [1, 1, 1, 1, 1, 1, 1, 1, 2, 2, 2, 2, 2, 2, 2, 2, 4, 4, 4, 4, 4, 4, 4]\n",
            "[982] [0, 0, 0, 0, 0, 0, 0, 1, 1, 1, 2, 2, 2, 2, 2, 2, 2, 2, 2, 3, 3, 3, 3] | [0, 0, 0, 0, 0, 0, 0, 0, 1, 1, 2, 2, 2, 2, 2, 2, 2, 2, 2, 3, 3, 3, 3]\n",
            "[983] [0, 0, 0, 0, 0, 0, 0, 0, 0, 0, 0, 1, 1, 1, 1, 1, 1, 2, 2, 2, 2, 2, 2] | [0, 0, 0, 0, 0, 0, 0, 0, 0, 0, 0, 0, 1, 1, 1, 1, 1, 2, 2, 2, 2, 2, 2]\n",
            "[985] [0, 0, 0, 0, 0, 0, 0, 1, 1, 1, 1, 1, 1, 1, 1, 3, 3, 4, 4, 4, 4, 4, 4] | [0, 0, 0, 0, 0, 0, 0, 1, 1, 1, 1, 1, 1, 1, 1, 4, 3, 4, 4, 4, 4, 4, 4]\n",
            "[987] [0, 0, 0, 0, 0, 0, 0, 0, 1, 1, 1, 1, 2, 2, 2, 2, 2, 2, 3, 3, 4, 4, 4] | [0, 0, 0, 0, 0, 0, 0, 0, 0, 1, 1, 1, 2, 2, 2, 2, 2, 2, 3, 3, 4, 4, 4]\n",
            "[1004] [0, 0, 0, 0, 0, 0, 0, 1, 1, 1, 1, 1, 1, 1, 2, 2, 2, 2, 2, 2, 2, 2, 2] | [0, 0, 0, 0, 0, 0, 0, 0, 1, 1, 1, 1, 1, 1, 2, 2, 2, 2, 2, 2, 2, 2, 2]\n",
            "[1018] [0, 0, 0, 0, 0, 0, 1, 1, 1, 1, 1, 1, 2, 2, 2, 2, 2, 2, 3, 3, 3, 3, 3] | [0, 0, 0, 0, 0, 0, 0, 1, 1, 1, 1, 1, 2, 2, 2, 2, 2, 2, 3, 3, 3, 3, 3]\n",
            "[1023] [0, 0, 0, 0, 0, 0, 1, 1, 1, 1, 2, 2, 2, 2, 2, 3, 3, 3, 3, 3, 3, 3, 3] | [0, 0, 0, 0, 0, 0, 0, 1, 1, 1, 2, 2, 2, 2, 2, 3, 3, 3, 3, 3, 3, 3, 3]\n",
            "147/1024 (14.36%)\n",
            "\n",
            "Validating on test data:\n",
            "\ttest_acc=85.059%\n",
            "\n",
            "[8] [0, 0, 0, 0, 0, 0, 0, 0, 0, 0, 1, 1, 1, 1, 1, 2, 2, 2, 2, 2, 4, 4, 4] | [0, 0, 0, 0, 0, 0, 0, 0, 0, 0, 0, 1, 1, 1, 1, 2, 2, 2, 2, 2, 4, 4, 4]\n",
            "[10] [0, 0, 0, 0, 0, 0, 0, 0, 1, 3, 3, 3, 3, 3, 3, 4, 4, 4, 4, 4, 4, 4, 4] | [0, 0, 0, 0, 0, 0, 0, 0, 0, 3, 3, 3, 3, 3, 3, 4, 4, 4, 4, 4, 4, 4, 4]\n",
            "[11] [0, 0, 0, 0, 0, 0, 0, 1, 1, 1, 2, 2, 2, 2, 2, 2, 2, 2, 3, 3, 3, 3, 3] | [0, 0, 0, 0, 0, 0, 0, 0, 1, 1, 2, 2, 2, 2, 2, 2, 2, 2, 3, 3, 3, 3, 3]\n",
            "[13] [0, 0, 0, 0, 0, 1, 1, 1, 2, 2, 2, 3, 3, 3, 3, 3, 3, 3, 4, 4, 4, 4, 4] | [0, 0, 0, 0, 0, 0, 1, 1, 2, 2, 2, 3, 3, 3, 3, 3, 3, 3, 4, 4, 4, 4, 4]\n",
            "[19] [0, 0, 0, 0, 0, 0, 1, 1, 1, 1, 2, 2, 2, 2, 2, 2, 2, 3, 3, 3, 3, 3, 3] | [0, 0, 0, 0, 0, 0, 0, 1, 1, 1, 2, 2, 2, 2, 2, 2, 2, 3, 3, 3, 3, 3, 3]\n",
            "[23] [1, 1, 1, 1, 1, 1, 1, 1, 3, 3, 4, 4, 4, 4, 4, 4, 4, 4, 4, 4, 4, 4, 4] | [1, 1, 1, 1, 1, 1, 1, 1, 4, 3, 4, 4, 4, 4, 4, 4, 4, 4, 4, 4, 4, 4, 4]\n",
            "[28] [0, 0, 0, 0, 0, 0, 1, 1, 1, 1, 1, 2, 2, 2, 2, 2, 2, 2, 4, 4, 4, 4, 4] | [0, 0, 0, 0, 0, 0, 0, 1, 1, 1, 1, 2, 2, 2, 2, 2, 2, 2, 4, 4, 4, 4, 4]\n",
            "[32] [0, 0, 0, 0, 0, 0, 1, 1, 1, 1, 1, 1, 1, 2, 2, 2, 2, 3, 3, 3, 3, 3, 3] | [0, 0, 0, 0, 0, 0, 0, 1, 1, 1, 1, 1, 1, 2, 2, 2, 2, 3, 3, 3, 3, 3, 3]\n",
            "[34] [2, 2, 2, 2, 2, 2, 2, 2, 2, 2, 3, 3, 3, 3, 4, 4, 4, 4, 4, 4, 4, 4, 4] | [2, 2, 2, 2, 2, 2, 2, 2, 2, 2, 2, 3, 3, 3, 4, 4, 4, 4, 4, 4, 4, 4, 4]\n",
            "[37] [0, 0, 0, 0, 1, 1, 1, 1, 1, 1, 1, 1, 1, 1, 2, 2, 2, 2, 2, 2, 2, 2, 2] | [0, 0, 0, 0, 0, 1, 1, 1, 1, 1, 1, 1, 1, 1, 2, 2, 2, 2, 2, 2, 2, 2, 2]\n",
            "[38] [0, 0, 0, 0, 0, 1, 1, 1, 1, 1, 1, 1, 1, 1, 1, 1, 2, 2, 2, 2, 2, 2, 2] | [0, 0, 0, 0, 0, 0, 1, 1, 1, 1, 1, 1, 1, 1, 1, 1, 2, 2, 2, 2, 2, 2, 2]\n",
            "[46] [0, 0, 0, 0, 0, 0, 1, 1, 1, 1, 1, 2, 2, 2, 2, 2, 2, 2, 3, 3, 3, 3, 3] | [0, 0, 0, 0, 0, 0, 0, 1, 1, 1, 1, 2, 2, 2, 2, 2, 2, 2, 3, 3, 3, 3, 3]\n",
            "[56] [0, 0, 0, 0, 0, 1, 1, 1, 1, 2, 2, 2, 2, 2, 2, 2, 2, 2, 2, 2, 2, 2, 2] | [0, 0, 0, 0, 0, 0, 1, 1, 1, 2, 2, 2, 2, 2, 2, 2, 2, 2, 2, 2, 2, 2, 2]\n",
            "[60] [0, 0, 0, 0, 0, 0, 1, 1, 1, 1, 1, 1, 1, 1, 2, 2, 2, 2, 2, 2, 2, 2, 2] | [0, 0, 0, 0, 0, 0, 0, 1, 1, 1, 1, 1, 1, 1, 2, 2, 2, 2, 2, 2, 2, 2, 2]\n",
            "[70] [0, 0, 0, 0, 0, 0, 0, 0, 0, 0, 0, 0, 0, 0, 1, 1, 1, 1, 1, 1, 1, 1, 1] | [0, 0, 0, 0, 0, 0, 0, 0, 0, 0, 0, 0, 0, 0, 0, 1, 1, 1, 1, 1, 1, 1, 1]\n",
            "[72] [0, 0, 0, 0, 0, 0, 0, 0, 0, 0, 0, 0, 0, 0, 0, 1, 1, 1, 1, 1, 1, 1, 1] | [0, 0, 0, 0, 0, 0, 0, 0, 0, 0, 0, 0, 0, 0, 0, 0, 1, 1, 1, 1, 1, 1, 1]\n",
            "[76] [0, 0, 0, 0, 0, 1, 1, 1, 1, 1, 2, 2, 2, 2, 2, 2, 2, 2, 3, 3, 3, 3, 4] | [0, 0, 0, 0, 0, 0, 1, 1, 1, 1, 2, 2, 2, 2, 2, 2, 2, 2, 3, 3, 3, 3, 4]\n",
            "[78] [0, 0, 0, 0, 0, 0, 0, 0, 0, 0, 0, 0, 0, 0, 1, 1, 1, 1, 1, 1, 1, 1, 1] | [0, 0, 0, 0, 0, 0, 0, 0, 0, 0, 0, 0, 0, 0, 0, 1, 1, 1, 1, 1, 1, 1, 1]\n",
            "[100] [2, 2, 2, 2, 2, 2, 2, 2, 2, 2, 2, 2, 2, 2, 2, 2, 2, 2, 2, 4, 4, 4, 4] | [2, 2, 2, 2, 2, 2, 2, 2, 2, 2, 2, 2, 2, 2, 2, 2, 2, 2, 4, 4, 4, 4, 4]\n",
            "[123] [0, 0, 0, 0, 0, 0, 0, 0, 1, 1, 1, 2, 2, 2, 2, 2, 4, 4, 4, 4, 4, 4, 4] | [0, 0, 0, 0, 0, 0, 0, 0, 0, 1, 1, 2, 2, 2, 2, 2, 4, 4, 4, 4, 4, 4, 4]\n",
            "[131] [0, 0, 0, 0, 0, 0, 0, 0, 0, 1, 1, 1, 1, 1, 1, 2, 2, 2, 2, 2, 2, 2, 2] | [0, 0, 0, 0, 0, 0, 0, 0, 0, 0, 1, 1, 1, 1, 1, 2, 2, 2, 2, 2, 2, 2, 2]\n",
            "[143] [0, 0, 0, 0, 0, 0, 0, 0, 0, 1, 1, 1, 1, 1, 2, 2, 2, 2, 2, 2, 2, 2, 2] | [0, 0, 0, 0, 0, 0, 0, 0, 0, 0, 1, 1, 1, 1, 2, 2, 2, 2, 2, 2, 2, 2, 2]\n",
            "[161] [0, 0, 0, 0, 0, 0, 0, 0, 0, 0, 0, 0, 0, 0, 0, 0, 1, 1, 1, 1, 1, 1, 1] | [0, 0, 0, 0, 0, 0, 0, 0, 0, 0, 0, 0, 0, 0, 0, 0, 0, 1, 1, 1, 1, 1, 1]\n",
            "[170] [0, 0, 0, 0, 0, 0, 0, 0, 0, 1, 1, 1, 1, 1, 1, 1, 2, 2, 2, 2, 2, 2, 2] | [0, 0, 0, 0, 0, 0, 0, 0, 0, 0, 1, 1, 1, 1, 1, 1, 2, 2, 2, 2, 2, 2, 2]\n",
            "[175] [0, 0, 0, 0, 0, 0, 0, 0, 1, 1, 1, 1, 1, 1, 2, 2, 2, 2, 2, 2, 2, 2, 2] | [0, 0, 0, 0, 0, 0, 0, 0, 0, 1, 1, 1, 1, 1, 2, 2, 2, 2, 2, 2, 2, 2, 2]\n",
            "[181] [0, 0, 0, 0, 0, 0, 1, 1, 1, 1, 1, 1, 1, 1, 2, 2, 2, 2, 3, 3, 3, 3, 3] | [0, 0, 0, 0, 0, 0, 0, 1, 1, 1, 1, 1, 1, 1, 2, 2, 2, 2, 3, 3, 3, 3, 3]\n",
            "[183] [0, 0, 0, 0, 0, 1, 1, 1, 2, 2, 2, 2, 2, 2, 2, 2, 2, 3, 3, 3, 4, 4, 4] | [0, 0, 0, 0, 0, 0, 1, 1, 2, 2, 2, 2, 2, 2, 2, 2, 2, 3, 3, 3, 4, 4, 4]\n",
            "[184] [0, 0, 0, 0, 0, 0, 0, 0, 1, 1, 1, 2, 2, 2, 2, 2, 2, 2, 4, 4, 4, 4, 4] | [0, 0, 0, 0, 0, 0, 0, 0, 0, 1, 1, 2, 2, 2, 2, 2, 2, 2, 4, 4, 4, 4, 4]\n",
            "[186] [0, 0, 0, 0, 0, 0, 0, 0, 1, 1, 1, 1, 2, 2, 2, 2, 3, 3, 3, 3, 3, 4, 4] | [0, 0, 0, 0, 0, 0, 0, 0, 0, 1, 1, 1, 2, 2, 2, 2, 3, 3, 3, 3, 3, 4, 4]\n",
            "[190] [0, 0, 0, 0, 0, 0, 0, 0, 1, 1, 1, 1, 3, 3, 3, 3, 3, 3, 3, 3, 3, 3, 3] | [0, 0, 0, 0, 0, 0, 0, 0, 0, 1, 1, 1, 3, 3, 3, 3, 3, 3, 3, 3, 3, 3, 3]\n",
            "[193] [3, 3, 3, 3, 3, 3, 3, 3, 3, 3, 3, 3, 3, 3, 4, 4, 4, 4, 4, 4, 4, 4, 4] | [3, 3, 3, 3, 3, 3, 3, 3, 3, 3, 3, 3, 3, 3, 3, 4, 4, 4, 4, 4, 4, 4, 4]\n",
            "[195] [1, 1, 1, 1, 1, 1, 1, 1, 1, 2, 2, 2, 2, 2, 2, 3, 4, 4, 4, 4, 4, 4, 4] | [1, 1, 1, 1, 1, 1, 1, 1, 1, 2, 2, 2, 2, 2, 2, 4, 4, 4, 4, 4, 4, 4, 4]\n",
            "[198] [0, 0, 0, 0, 0, 0, 0, 0, 0, 0, 0, 0, 0, 0, 0, 0, 1, 1, 1, 1, 1, 1, 1] | [0, 0, 0, 0, 0, 0, 0, 0, 0, 0, 0, 0, 0, 0, 0, 0, 0, 1, 1, 1, 1, 1, 1]\n",
            "[201] [0, 0, 0, 0, 0, 0, 0, 0, 0, 0, 0, 0, 0, 0, 1, 1, 1, 1, 1, 1, 1, 1, 1] | [0, 0, 0, 0, 0, 0, 0, 0, 0, 0, 0, 0, 0, 0, 0, 1, 1, 1, 1, 1, 1, 1, 1]\n",
            "[203] [0, 0, 0, 0, 0, 0, 0, 0, 0, 0, 1, 1, 1, 1, 1, 1, 1, 1, 1, 1, 1, 1, 1] | [0, 0, 0, 0, 0, 0, 0, 0, 0, 1, 1, 1, 1, 1, 1, 1, 1, 1, 1, 1, 1, 1, 1]\n",
            "[222] [0, 0, 0, 0, 1, 1, 1, 1, 1, 1, 1, 1, 1, 2, 2, 2, 2, 2, 2, 3, 3, 3, 3] | [0, 0, 0, 0, 0, 1, 1, 1, 1, 1, 1, 1, 1, 2, 2, 2, 2, 2, 2, 3, 3, 3, 3]\n",
            "[223] [0, 0, 0, 1, 1, 1, 1, 1, 1, 1, 1, 2, 2, 2, 2, 2, 2, 3, 3, 3, 3, 3, 3] | [0, 0, 0, 0, 1, 1, 1, 1, 1, 1, 1, 2, 2, 2, 2, 2, 2, 3, 3, 3, 3, 3, 3]\n",
            "[229] [0, 0, 0, 1, 1, 1, 1, 1, 1, 1, 1, 2, 2, 2, 2, 3, 3, 3, 3, 3, 3, 3, 3] | [0, 0, 0, 0, 1, 1, 1, 1, 1, 1, 1, 2, 2, 2, 2, 3, 3, 3, 3, 3, 3, 3, 3]\n",
            "[230] [0, 0, 0, 0, 0, 0, 1, 1, 1, 1, 1, 1, 1, 1, 2, 2, 2, 2, 2, 2, 2, 2, 2] | [0, 0, 0, 0, 0, 0, 0, 1, 1, 1, 1, 1, 1, 1, 2, 2, 2, 2, 2, 2, 2, 2, 2]\n",
            "[231] [0, 0, 0, 0, 0, 0, 0, 0, 1, 1, 1, 1, 1, 1, 1, 1, 2, 2, 2, 2, 2, 2, 2] | [0, 0, 0, 0, 0, 0, 0, 0, 0, 1, 1, 1, 1, 1, 1, 1, 2, 2, 2, 2, 2, 2, 2]\n",
            "[233] [0, 0, 0, 0, 0, 0, 0, 0, 0, 0, 1, 1, 1, 1, 1, 3, 3, 3, 3, 3, 3, 3, 3] | [0, 0, 0, 0, 0, 0, 0, 0, 0, 0, 0, 1, 1, 1, 1, 3, 3, 3, 3, 3, 3, 3, 3]\n",
            "[241] [0, 0, 0, 0, 0, 0, 0, 0, 0, 0, 1, 1, 1, 1, 1, 1, 1, 1, 2, 2, 2, 2, 2] | [0, 0, 0, 0, 0, 0, 0, 0, 0, 0, 0, 1, 1, 1, 1, 1, 1, 1, 2, 2, 2, 2, 2]\n",
            "[242] [0, 0, 0, 0, 1, 1, 2, 2, 2, 2, 2, 2, 2, 2, 2, 2, 3, 3, 3, 3, 4, 4, 4] | [0, 0, 0, 0, 0, 1, 2, 2, 2, 2, 2, 2, 2, 2, 2, 2, 3, 3, 3, 3, 4, 4, 4]\n",
            "[261] [0, 0, 0, 0, 1, 1, 1, 1, 1, 1, 1, 1, 2, 2, 2, 2, 3, 3, 3, 3, 3, 3, 3] | [0, 0, 0, 0, 0, 1, 1, 1, 1, 1, 1, 1, 2, 2, 2, 2, 3, 3, 3, 3, 3, 3, 3]\n",
            "[263] [0, 0, 0, 0, 0, 0, 0, 0, 0, 0, 1, 1, 3, 3, 3, 3, 3, 3, 3, 3, 3, 3, 3] | [0, 0, 0, 0, 0, 0, 0, 0, 0, 0, 0, 1, 3, 3, 3, 3, 3, 3, 3, 3, 3, 3, 3]\n",
            "[264] [0, 0, 0, 0, 0, 0, 0, 0, 1, 1, 1, 1, 1, 2, 2, 2, 2, 2, 2, 3, 3, 3, 3] | [0, 0, 0, 0, 0, 0, 0, 0, 0, 1, 1, 1, 1, 2, 2, 2, 2, 2, 2, 3, 3, 3, 3]\n",
            "[285] [0, 0, 0, 0, 0, 0, 0, 0, 1, 1, 1, 1, 1, 2, 2, 2, 2, 3, 4, 4, 4, 4, 4] | [0, 0, 0, 0, 0, 0, 0, 0, 1, 1, 1, 1, 1, 2, 2, 2, 2, 4, 4, 4, 4, 4, 4]\n",
            "[294] [0, 0, 0, 0, 0, 1, 1, 1, 1, 2, 2, 2, 2, 2, 2, 2, 2, 2, 2, 2, 2, 2, 2] | [0, 0, 0, 0, 0, 0, 1, 1, 1, 2, 2, 2, 2, 2, 2, 2, 2, 2, 2, 2, 2, 2, 2]\n",
            "[308] [0, 0, 0, 0, 0, 1, 1, 1, 1, 1, 1, 1, 1, 1, 2, 2, 2, 3, 3, 3, 3, 3, 3] | [0, 0, 0, 0, 0, 0, 1, 1, 1, 1, 1, 1, 1, 1, 2, 2, 2, 3, 3, 3, 3, 3, 3]\n",
            "[314] [0, 0, 0, 0, 0, 0, 0, 1, 1, 1, 1, 1, 1, 1, 1, 1, 2, 2, 2, 2, 2, 2, 2] | [0, 0, 0, 0, 0, 0, 0, 0, 1, 1, 1, 1, 1, 1, 1, 1, 2, 2, 2, 2, 2, 2, 2]\n",
            "[317] [0, 0, 0, 0, 0, 0, 0, 0, 1, 1, 1, 1, 1, 1, 1, 2, 2, 2, 2, 2, 2, 2, 2] | [0, 0, 0, 0, 0, 0, 0, 0, 0, 1, 1, 1, 1, 1, 1, 2, 2, 2, 2, 2, 2, 2, 2]\n",
            "[320] [0, 0, 0, 0, 0, 0, 0, 0, 0, 1, 1, 4, 4, 4, 4, 4, 4, 4, 4, 4, 4, 4, 4] | [0, 0, 0, 0, 0, 0, 0, 0, 0, 0, 1, 4, 4, 4, 4, 4, 4, 4, 4, 4, 4, 4, 4]\n",
            "[330] [0, 0, 0, 0, 0, 0, 0, 0, 1, 1, 1, 1, 1, 1, 1, 2, 2, 2, 2, 2, 2, 2, 2] | [0, 0, 0, 0, 0, 0, 0, 0, 0, 1, 1, 1, 1, 1, 1, 2, 2, 2, 2, 2, 2, 2, 2]\n",
            "[335] [0, 0, 0, 0, 0, 0, 0, 1, 1, 1, 2, 2, 2, 2, 3, 3, 3, 3, 3, 3, 3, 3, 3] | [0, 0, 0, 0, 0, 0, 0, 0, 1, 1, 2, 2, 2, 2, 3, 3, 3, 3, 3, 3, 3, 3, 3]\n",
            "[339] [0, 0, 0, 1, 1, 1, 1, 1, 1, 1, 1, 1, 2, 2, 2, 2, 2, 2, 2, 3, 3, 3, 3] | [0, 0, 0, 0, 1, 1, 1, 1, 1, 1, 1, 1, 2, 2, 2, 2, 2, 2, 2, 3, 3, 3, 3]\n",
            "[340] [1, 1, 1, 1, 1, 1, 1, 1, 2, 2, 2, 2, 2, 2, 2, 2, 3, 3, 4, 4, 4, 4, 4] | [1, 1, 1, 1, 1, 1, 1, 1, 2, 2, 2, 2, 2, 2, 2, 2, 4, 3, 4, 4, 4, 4, 4]\n",
            "[341] [0, 0, 0, 0, 0, 0, 0, 0, 1, 1, 2, 2, 2, 2, 4, 4, 4, 4, 4, 4, 4, 4, 4] | [0, 0, 0, 0, 0, 0, 0, 0, 0, 1, 2, 2, 2, 2, 4, 4, 4, 4, 4, 4, 4, 4, 4]\n",
            "[342] [0, 0, 0, 0, 0, 0, 0, 0, 0, 0, 0, 1, 1, 1, 1, 2, 3, 3, 3, 4, 4, 4, 4] | [0, 0, 0, 0, 0, 0, 0, 0, 0, 0, 0, 0, 1, 1, 1, 2, 3, 3, 3, 4, 4, 4, 4]\n",
            "[378] [0, 0, 0, 0, 0, 0, 0, 0, 0, 0, 0, 0, 0, 0, 1, 1, 1, 1, 1, 1, 1, 1, 1] | [0, 0, 0, 0, 0, 0, 0, 0, 0, 0, 0, 0, 0, 0, 0, 1, 1, 1, 1, 1, 1, 1, 1]\n",
            "[392] [0, 0, 0, 0, 0, 0, 1, 2, 2, 2, 3, 3, 3, 3, 3, 3, 3, 3, 4, 4, 4, 4, 4] | [0, 0, 0, 0, 0, 0, 0, 2, 2, 2, 3, 3, 3, 3, 3, 3, 3, 3, 4, 4, 4, 4, 4]\n",
            "[396] [0, 0, 0, 0, 0, 0, 0, 0, 0, 0, 1, 1, 1, 1, 1, 1, 2, 2, 2, 2, 2, 2, 2] | [0, 0, 0, 0, 0, 0, 0, 0, 0, 0, 0, 1, 1, 1, 1, 1, 2, 2, 2, 2, 2, 2, 2]\n",
            "[404] [0, 0, 0, 0, 0, 0, 1, 1, 1, 1, 2, 2, 2, 2, 2, 2, 2, 2, 3, 3, 3, 3, 3] | [0, 0, 0, 0, 0, 0, 0, 1, 1, 1, 2, 2, 2, 2, 2, 2, 2, 2, 3, 3, 3, 3, 3]\n",
            "[406] [1, 1, 1, 1, 1, 1, 1, 1, 1, 2, 2, 3, 3, 3, 3, 3, 3, 3, 4, 4, 4, 4, 4] | [1, 1, 1, 1, 1, 1, 1, 1, 1, 3, 2, 3, 3, 3, 3, 3, 3, 3, 4, 4, 4, 4, 4]\n",
            "[422] [1, 1, 1, 3, 3, 3, 3, 4, 4, 4, 4, 4, 4, 4, 4, 4, 4, 4, 4, 4, 4, 4, 4] | [1, 1, 1, 4, 3, 3, 4, 4, 4, 4, 4, 4, 4, 4, 4, 4, 4, 4, 4, 4, 4, 4, 4]\n",
            "[432] [0, 0, 0, 0, 0, 0, 0, 0, 0, 0, 0, 1, 1, 1, 1, 1, 1, 1, 1, 1, 1, 1, 1] | [0, 0, 0, 0, 0, 0, 0, 0, 0, 0, 1, 1, 1, 1, 1, 1, 1, 1, 1, 1, 1, 1, 1]\n",
            "[437] [0, 0, 0, 0, 0, 1, 1, 1, 2, 2, 2, 2, 2, 2, 2, 2, 2, 2, 3, 3, 3, 3, 3] | [0, 0, 0, 0, 0, 0, 1, 1, 2, 2, 2, 2, 2, 2, 2, 2, 2, 2, 3, 3, 3, 3, 3]\n",
            "[439] [0, 0, 0, 0, 0, 1, 1, 1, 1, 2, 2, 2, 2, 3, 3, 3, 3, 3, 3, 3, 3, 3, 3] | [0, 0, 0, 0, 0, 0, 1, 1, 1, 2, 2, 2, 2, 3, 3, 3, 3, 3, 3, 3, 3, 3, 3]\n",
            "[442] [0, 0, 0, 0, 0, 0, 1, 1, 1, 1, 1, 1, 1, 1, 1, 1, 1, 1, 1, 2, 2, 2, 2] | [0, 0, 0, 0, 0, 0, 1, 1, 1, 1, 1, 1, 1, 1, 1, 1, 1, 1, 1, 1, 2, 2, 2]\n",
            "[448] [0, 0, 0, 0, 0, 1, 1, 1, 1, 1, 1, 2, 2, 2, 2, 2, 2, 2, 4, 4, 4, 4, 4] | [0, 0, 0, 0, 0, 0, 1, 1, 1, 1, 1, 2, 2, 2, 2, 2, 2, 2, 4, 4, 4, 4, 4]\n",
            "[449] [0, 0, 0, 0, 0, 0, 1, 1, 1, 1, 2, 2, 2, 2, 2, 2, 2, 2, 2, 3, 3, 3, 3] | [0, 0, 0, 0, 0, 0, 0, 1, 1, 1, 2, 2, 2, 2, 2, 2, 2, 2, 2, 3, 3, 3, 3]\n",
            "[450] [0, 0, 0, 0, 0, 0, 0, 0, 0, 0, 0, 1, 1, 1, 1, 1, 1, 3, 3, 3, 3, 3, 3] | [0, 0, 0, 0, 0, 0, 0, 0, 0, 0, 0, 0, 1, 1, 1, 1, 1, 3, 3, 3, 3, 3, 3]\n",
            "[454] [2, 2, 3, 3, 3, 3, 3, 3, 3, 3, 3, 4, 4, 4, 4, 4, 4, 4, 4, 4, 4, 4, 4] | [3, 2, 3, 3, 3, 3, 3, 3, 3, 3, 3, 3, 4, 4, 4, 4, 4, 4, 4, 4, 4, 4, 4]\n",
            "[465] [0, 0, 0, 0, 0, 0, 0, 0, 0, 0, 1, 1, 1, 1, 1, 1, 1, 1, 1, 1, 1, 1, 1] | [0, 0, 0, 0, 0, 0, 0, 0, 0, 1, 1, 1, 1, 1, 1, 1, 1, 1, 1, 1, 1, 1, 1]\n",
            "[469] [0, 0, 0, 0, 0, 0, 0, 0, 0, 0, 0, 0, 0, 0, 1, 1, 1, 1, 2, 2, 2, 2, 2] | [0, 0, 0, 0, 0, 0, 0, 0, 0, 0, 0, 0, 0, 0, 0, 1, 1, 1, 2, 2, 2, 2, 2]\n",
            "[486] [0, 0, 0, 0, 0, 0, 0, 0, 0, 0, 0, 0, 0, 0, 1, 1, 1, 1, 2, 2, 2, 2, 2] | [0, 0, 0, 0, 0, 0, 0, 0, 0, 0, 0, 0, 0, 0, 0, 1, 1, 1, 2, 2, 2, 2, 2]\n",
            "[487] [1, 1, 1, 1, 1, 1, 1, 1, 1, 1, 1, 1, 2, 2, 2, 3, 3, 3, 3, 3, 3, 3, 3] | [1, 1, 1, 1, 1, 1, 1, 1, 1, 1, 1, 1, 3, 2, 2, 3, 3, 3, 3, 3, 3, 3, 3]\n",
            "[491] [0, 0, 0, 0, 0, 0, 0, 0, 1, 1, 3, 3, 3, 3, 3, 3, 4, 4, 4, 4, 4, 4, 4] | [0, 0, 0, 0, 0, 0, 0, 0, 0, 1, 3, 3, 3, 3, 3, 3, 4, 4, 4, 4, 4, 4, 4]\n",
            "[492] [0, 0, 0, 0, 0, 0, 0, 0, 0, 0, 0, 0, 0, 1, 1, 1, 1, 4, 4, 4, 4, 4, 4] | [0, 0, 0, 0, 0, 0, 0, 0, 0, 0, 0, 0, 0, 0, 1, 1, 1, 4, 4, 4, 4, 4, 4]\n",
            "[498] [0, 0, 0, 0, 0, 0, 1, 1, 1, 1, 2, 2, 2, 2, 2, 2, 3, 3, 3, 3, 3, 3, 3] | [0, 0, 0, 0, 0, 0, 0, 1, 1, 1, 2, 2, 2, 2, 2, 2, 3, 3, 3, 3, 3, 3, 3]\n",
            "[510] [0, 0, 0, 0, 0, 0, 2, 2, 2, 2, 2, 2, 2, 3, 3, 4, 4, 4, 4, 4, 4, 4, 4] | [0, 0, 0, 0, 0, 0, 2, 2, 2, 2, 2, 2, 2, 4, 3, 4, 4, 4, 4, 4, 4, 4, 4]\n",
            "[520] [0, 0, 0, 0, 0, 0, 0, 0, 1, 1, 2, 2, 2, 3, 3, 3, 3, 3, 3, 4, 4, 4, 4] | [0, 0, 0, 0, 0, 0, 0, 0, 0, 1, 2, 2, 2, 3, 3, 3, 3, 3, 3, 4, 4, 4, 4]\n",
            "[521] [0, 0, 0, 0, 0, 1, 1, 1, 1, 1, 1, 1, 1, 2, 2, 2, 2, 2, 2, 2, 3, 3, 3] | [0, 0, 0, 0, 0, 0, 1, 1, 1, 1, 1, 1, 1, 2, 2, 2, 2, 2, 2, 2, 3, 3, 3]\n",
            "[526] [0, 0, 0, 0, 1, 1, 1, 2, 3, 3, 3, 3, 3, 3, 3, 3, 4, 4, 4, 4, 4, 4, 4] | [0, 0, 0, 0, 1, 1, 1, 3, 3, 3, 3, 3, 3, 3, 3, 3, 4, 4, 4, 4, 4, 4, 4]\n",
            "[537] [1, 1, 1, 1, 1, 1, 1, 1, 1, 1, 1, 1, 1, 2, 2, 2, 3, 3, 3, 3, 3, 4, 4] | [1, 1, 1, 1, 1, 1, 1, 1, 1, 1, 1, 1, 1, 3, 2, 2, 3, 3, 3, 3, 3, 4, 4]\n",
            "[542] [0, 0, 0, 0, 0, 0, 0, 0, 0, 0, 0, 0, 0, 0, 0, 1, 1, 1, 1, 1, 1, 1, 1] | [0, 0, 0, 0, 0, 0, 0, 0, 0, 0, 0, 0, 0, 0, 0, 0, 1, 1, 1, 1, 1, 1, 1]\n",
            "[555] [0, 0, 0, 0, 0, 0, 0, 0, 0, 0, 1, 1, 1, 4, 4, 4, 4, 4, 4, 4, 4, 4, 4] | [0, 0, 0, 0, 0, 0, 0, 0, 0, 0, 0, 1, 1, 4, 4, 4, 4, 4, 4, 4, 4, 4, 4]\n",
            "[569] [0, 0, 0, 1, 1, 1, 1, 1, 1, 1, 1, 1, 1, 1, 1, 2, 2, 2, 2, 2, 2, 2, 2] | [0, 0, 0, 0, 1, 1, 1, 1, 1, 1, 1, 1, 1, 1, 1, 2, 2, 2, 2, 2, 2, 2, 2]\n",
            "[577] [0, 0, 0, 0, 0, 0, 0, 0, 0, 0, 0, 0, 0, 0, 1, 1, 1, 1, 1, 1, 1, 1, 1] | [0, 0, 0, 0, 0, 0, 0, 0, 0, 0, 0, 0, 0, 0, 0, 1, 1, 1, 1, 1, 1, 1, 1]\n",
            "[601] [0, 0, 0, 0, 0, 0, 1, 1, 1, 1, 1, 1, 1, 2, 2, 2, 2, 2, 2, 2, 3, 3, 3] | [0, 0, 0, 0, 0, 0, 0, 1, 1, 1, 1, 1, 1, 2, 2, 2, 2, 2, 2, 2, 3, 3, 3]\n",
            "[603] [1, 1, 2, 2, 2, 2, 2, 2, 2, 2, 2, 2, 2, 3, 3, 3, 3, 3, 4, 4, 4, 4, 4] | [1, 1, 2, 2, 2, 2, 2, 2, 2, 2, 2, 2, 2, 2, 3, 3, 3, 3, 4, 4, 4, 4, 4]\n",
            "[612] [0, 0, 0, 0, 0, 0, 1, 1, 1, 1, 1, 1, 1, 2, 2, 2, 2, 2, 3, 3, 3, 3, 3] | [0, 0, 0, 0, 0, 0, 0, 1, 1, 1, 1, 1, 1, 2, 2, 2, 2, 2, 3, 3, 3, 3, 3]\n",
            "[625] [0, 0, 0, 0, 1, 1, 1, 2, 2, 2, 2, 2, 2, 2, 3, 3, 3, 3, 3, 3, 3, 3, 3] | [0, 0, 0, 0, 0, 1, 1, 2, 2, 2, 2, 2, 2, 2, 3, 3, 3, 3, 3, 3, 3, 3, 3]\n",
            "[626] [0, 0, 0, 0, 0, 0, 0, 1, 1, 1, 1, 1, 1, 3, 3, 3, 3, 3, 3, 3, 3, 3, 3] | [0, 0, 0, 0, 0, 0, 0, 0, 1, 1, 1, 1, 1, 3, 3, 3, 3, 3, 3, 3, 3, 3, 3]\n",
            "[631] [0, 0, 0, 0, 0, 0, 0, 0, 0, 1, 1, 1, 1, 1, 1, 1, 1, 1, 1, 1, 1, 1, 1] | [0, 0, 0, 0, 0, 0, 0, 0, 1, 1, 1, 1, 1, 1, 1, 1, 1, 1, 1, 1, 1, 1, 1]\n",
            "[640] [0, 0, 0, 0, 0, 0, 0, 0, 0, 1, 1, 1, 1, 1, 1, 1, 1, 1, 1, 1, 1, 1, 1] | [0, 0, 0, 0, 0, 0, 0, 0, 1, 1, 1, 1, 1, 1, 1, 1, 1, 1, 1, 1, 1, 1, 1]\n",
            "[643] [0, 0, 0, 0, 0, 0, 0, 0, 0, 1, 1, 1, 1, 1, 1, 1, 2, 2, 2, 2, 2, 2, 2] | [0, 0, 0, 0, 0, 0, 0, 0, 0, 0, 1, 1, 1, 1, 1, 1, 2, 2, 2, 2, 2, 2, 2]\n",
            "[647] [0, 0, 0, 0, 0, 0, 0, 0, 1, 1, 1, 1, 1, 2, 2, 2, 2, 2, 2, 2, 2, 4, 4] | [0, 0, 0, 0, 0, 0, 0, 0, 0, 1, 1, 1, 1, 2, 2, 2, 2, 2, 2, 2, 2, 4, 4]\n",
            "[648] [0, 0, 0, 0, 0, 0, 0, 0, 0, 0, 0, 0, 0, 1, 1, 1, 1, 1, 1, 2, 2, 2, 2] | [0, 0, 0, 0, 0, 0, 0, 0, 0, 0, 0, 0, 0, 0, 1, 1, 1, 1, 1, 2, 2, 2, 2]\n",
            "[649] [0, 0, 0, 0, 0, 1, 1, 1, 1, 1, 2, 2, 2, 2, 2, 2, 2, 2, 3, 3, 3, 3, 3] | [0, 0, 0, 0, 0, 0, 1, 1, 1, 1, 2, 2, 2, 2, 2, 2, 2, 2, 3, 3, 3, 3, 3]\n",
            "[666] [0, 0, 0, 0, 0, 0, 0, 0, 0, 2, 2, 2, 2, 3, 3, 3, 3, 3, 3, 3, 3, 3, 3] | [0, 0, 0, 0, 0, 0, 0, 0, 0, 0, 2, 2, 2, 3, 3, 3, 3, 3, 3, 3, 3, 3, 3]\n",
            "[676] [0, 0, 0, 0, 0, 0, 0, 0, 1, 1, 1, 1, 1, 2, 2, 2, 2, 2, 4, 4, 4, 4, 4] | [0, 0, 0, 0, 0, 0, 0, 0, 0, 1, 1, 1, 1, 2, 2, 2, 2, 2, 4, 4, 4, 4, 4]\n",
            "[692] [0, 0, 0, 0, 0, 0, 0, 0, 0, 1, 1, 2, 2, 2, 3, 3, 3, 3, 4, 4, 4, 4, 4] | [0, 0, 0, 0, 0, 0, 0, 0, 0, 0, 1, 2, 2, 2, 3, 3, 3, 3, 4, 4, 4, 4, 4]\n",
            "[697] [0, 0, 0, 0, 0, 0, 0, 1, 1, 1, 1, 1, 1, 2, 2, 2, 2, 2, 2, 2, 3, 3, 3] | [0, 0, 0, 0, 0, 0, 0, 0, 1, 1, 1, 1, 1, 2, 2, 2, 2, 2, 2, 2, 3, 3, 3]\n",
            "[700] [0, 0, 0, 0, 1, 1, 1, 1, 1, 1, 2, 2, 2, 2, 2, 2, 2, 2, 2, 2, 3, 3, 3] | [0, 0, 0, 0, 0, 1, 1, 1, 1, 1, 2, 2, 2, 2, 2, 2, 2, 2, 2, 2, 3, 3, 3]\n",
            "[703] [0, 0, 0, 0, 0, 0, 0, 0, 0, 0, 0, 0, 1, 1, 1, 1, 1, 2, 2, 2, 2, 2, 2] | [0, 0, 0, 0, 0, 0, 0, 0, 0, 0, 0, 0, 0, 1, 1, 1, 1, 2, 2, 2, 2, 2, 2]\n",
            "[707] [0, 0, 0, 0, 1, 1, 1, 1, 1, 1, 1, 2, 2, 2, 2, 2, 2, 2, 3, 3, 3, 3, 3] | [0, 0, 0, 0, 0, 1, 1, 1, 1, 1, 1, 2, 2, 2, 2, 2, 2, 2, 3, 3, 3, 3, 3]\n",
            "[708] [0, 0, 0, 0, 0, 0, 0, 0, 1, 1, 1, 1, 1, 3, 3, 3, 3, 3, 3, 3, 4, 4, 4] | [0, 0, 0, 0, 0, 0, 0, 0, 0, 1, 1, 1, 1, 3, 3, 3, 3, 3, 3, 3, 4, 4, 4]\n",
            "[711] [0, 0, 0, 0, 0, 0, 1, 1, 1, 1, 1, 1, 1, 2, 2, 2, 2, 2, 2, 2, 2, 2, 2] | [0, 0, 0, 0, 0, 0, 0, 1, 1, 1, 1, 1, 1, 2, 2, 2, 2, 2, 2, 2, 2, 2, 2]\n",
            "[715] [0, 0, 0, 0, 0, 0, 0, 0, 0, 0, 0, 1, 1, 1, 1, 1, 2, 2, 2, 2, 2, 2, 2] | [0, 0, 0, 0, 0, 0, 0, 0, 0, 0, 0, 0, 1, 1, 1, 1, 2, 2, 2, 2, 2, 2, 2]\n",
            "[721] [0, 0, 0, 0, 0, 0, 0, 0, 0, 2, 2, 2, 2, 2, 2, 3, 3, 4, 4, 4, 4, 4, 4] | [0, 0, 0, 0, 0, 0, 0, 0, 0, 2, 2, 2, 2, 2, 2, 4, 3, 4, 4, 4, 4, 4, 4]\n",
            "[725] [0, 0, 0, 0, 0, 0, 0, 0, 0, 1, 1, 1, 1, 1, 1, 1, 1, 1, 1, 1, 1, 1, 1] | [0, 0, 0, 0, 0, 0, 0, 0, 1, 1, 1, 1, 1, 1, 1, 1, 1, 1, 1, 1, 1, 1, 1]\n",
            "[727] [0, 0, 0, 0, 0, 0, 0, 0, 0, 0, 0, 1, 1, 1, 1, 1, 1, 1, 2, 2, 2, 2, 2] | [0, 0, 0, 0, 0, 0, 0, 0, 0, 0, 0, 0, 1, 1, 1, 1, 1, 1, 2, 2, 2, 2, 2]\n",
            "[729] [0, 0, 0, 0, 0, 0, 0, 0, 0, 0, 1, 1, 1, 1, 1, 3, 3, 3, 3, 3, 3, 3, 3] | [0, 0, 0, 0, 0, 0, 0, 0, 0, 0, 0, 1, 1, 1, 1, 3, 3, 3, 3, 3, 3, 3, 3]\n",
            "[730] [0, 1, 1, 1, 1, 1, 1, 1, 1, 2, 2, 2, 2, 2, 2, 4, 4, 4, 4, 4, 4, 4, 4] | [1, 1, 1, 1, 1, 1, 1, 1, 1, 2, 2, 2, 2, 2, 2, 4, 4, 4, 4, 4, 4, 4, 4]\n",
            "[736] [0, 0, 0, 0, 1, 1, 1, 1, 1, 1, 1, 1, 2, 2, 2, 2, 2, 2, 2, 2, 2, 2, 2] | [0, 0, 0, 0, 0, 1, 1, 1, 1, 1, 1, 1, 2, 2, 2, 2, 2, 2, 2, 2, 2, 2, 2]\n",
            "[740] [2, 2, 2, 3, 3, 3, 3, 3, 3, 3, 3, 3, 3, 3, 3, 3, 4, 4, 4, 4, 4, 4, 4] | [2, 2, 2, 3, 3, 3, 3, 3, 3, 3, 3, 3, 3, 3, 3, 3, 3, 4, 4, 4, 4, 4, 4]\n",
            "[748] [0, 0, 0, 0, 0, 0, 0, 0, 1, 1, 1, 1, 3, 3, 3, 3, 3, 3, 4, 4, 4, 4, 4] | [0, 0, 0, 0, 0, 0, 0, 0, 0, 1, 1, 1, 3, 3, 3, 3, 3, 3, 4, 4, 4, 4, 4]\n",
            "[754] [0, 0, 0, 0, 0, 0, 0, 0, 0, 1, 1, 1, 1, 1, 1, 3, 3, 3, 3, 3, 3, 4, 4] | [0, 0, 0, 0, 0, 0, 0, 0, 0, 0, 1, 1, 1, 1, 1, 3, 3, 3, 3, 3, 3, 4, 4]\n",
            "[757] [0, 0, 1, 1, 1, 1, 1, 1, 1, 1, 1, 1, 1, 1, 1, 1, 2, 2, 2, 2, 2, 3, 3] | [0, 0, 1, 1, 1, 1, 1, 1, 1, 1, 1, 1, 1, 1, 1, 1, 2, 2, 2, 2, 2, 2, 3]\n",
            "[758] [0, 0, 0, 0, 0, 0, 0, 0, 0, 1, 1, 3, 3, 3, 3, 3, 3, 3, 3, 3, 3, 4, 4] | [0, 0, 0, 0, 0, 0, 0, 0, 0, 0, 1, 3, 3, 3, 3, 3, 3, 3, 3, 3, 3, 4, 4]\n",
            "[759] [1, 1, 2, 2, 2, 2, 2, 2, 2, 3, 3, 3, 3, 3, 4, 4, 4, 4, 4, 4, 4, 4, 4] | [1, 1, 2, 2, 2, 2, 2, 2, 2, 2, 3, 3, 3, 3, 4, 4, 4, 4, 4, 4, 4, 4, 4]\n",
            "[761] [0, 1, 1, 1, 1, 1, 1, 1, 1, 2, 2, 2, 2, 2, 2, 2, 2, 2, 2, 2, 3, 3, 3] | [1, 1, 1, 1, 1, 1, 1, 1, 2, 2, 2, 2, 2, 2, 2, 2, 2, 2, 2, 2, 3, 3, 3]\n",
            "[786] [1, 1, 1, 1, 1, 1, 1, 1, 1, 1, 1, 1, 3, 3, 3, 4, 4, 4, 4, 4, 4, 4, 4] | [1, 1, 1, 1, 1, 1, 1, 1, 1, 1, 1, 1, 4, 3, 3, 4, 4, 4, 4, 4, 4, 4, 4]\n",
            "[799] [0, 0, 0, 0, 0, 0, 0, 1, 1, 1, 2, 2, 2, 2, 2, 2, 2, 4, 4, 4, 4, 4, 4] | [0, 0, 0, 0, 0, 0, 0, 0, 1, 1, 2, 2, 2, 2, 2, 2, 2, 4, 4, 4, 4, 4, 4]\n",
            "[801] [0, 0, 0, 0, 0, 0, 1, 1, 1, 1, 1, 1, 2, 2, 2, 2, 3, 3, 3, 3, 3, 3, 3] | [0, 0, 0, 0, 0, 0, 0, 1, 1, 1, 1, 1, 2, 2, 2, 2, 3, 3, 3, 3, 3, 3, 3]\n",
            "[804] [0, 0, 0, 0, 1, 1, 1, 1, 1, 2, 2, 2, 2, 2, 2, 3, 3, 3, 3, 3, 3, 3, 4] | [0, 0, 0, 0, 0, 1, 1, 1, 1, 2, 2, 2, 2, 2, 2, 3, 3, 3, 3, 3, 3, 3, 4]\n",
            "[817] [0, 0, 0, 0, 0, 0, 0, 0, 0, 0, 1, 1, 1, 1, 2, 2, 2, 2, 2, 2, 2, 2, 2] | [0, 0, 0, 0, 0, 0, 0, 0, 0, 0, 0, 1, 1, 1, 2, 2, 2, 2, 2, 2, 2, 2, 2]\n",
            "[824] [2, 2, 3, 3, 3, 3, 3, 3, 3, 3, 3, 3, 3, 4, 4, 4, 4, 4, 4, 4, 4, 4, 4] | [3, 3, 3, 3, 3, 3, 3, 3, 3, 3, 3, 3, 3, 3, 4, 4, 4, 4, 4, 4, 4, 4, 4]\n",
            "[832] [1, 1, 1, 1, 1, 2, 2, 2, 2, 2, 2, 2, 2, 3, 3, 3, 4, 4, 4, 4, 4, 4, 4] | [1, 1, 1, 1, 1, 2, 2, 2, 2, 2, 2, 2, 2, 2, 3, 3, 4, 4, 4, 4, 4, 4, 4]\n",
            "[839] [0, 0, 0, 0, 0, 0, 0, 1, 1, 1, 2, 2, 2, 2, 3, 3, 3, 3, 3, 4, 4, 4, 4] | [0, 0, 0, 0, 0, 0, 0, 0, 1, 1, 2, 2, 2, 2, 3, 3, 3, 3, 3, 4, 4, 4, 4]\n",
            "[842] [3, 3, 3, 3, 3, 3, 3, 4, 4, 4, 4, 4, 4, 4, 4, 4, 4, 4, 4, 4, 4, 4, 4] | [3, 3, 3, 3, 3, 3, 4, 4, 4, 4, 4, 4, 4, 4, 4, 4, 4, 4, 4, 4, 4, 4, 4]\n",
            "[857] [0, 0, 0, 0, 0, 1, 2, 2, 2, 2, 2, 2, 2, 2, 2, 4, 4, 4, 4, 4, 4, 4, 4] | [0, 0, 0, 0, 0, 2, 2, 2, 2, 2, 2, 2, 2, 2, 2, 4, 4, 4, 4, 4, 4, 4, 4]\n",
            "[869] [1, 1, 1, 1, 3, 3, 3, 3, 3, 4, 4, 4, 4, 4, 4, 4, 4, 4, 4, 4, 4, 4, 4] | [1, 1, 1, 1, 4, 3, 3, 3, 4, 4, 4, 4, 4, 4, 4, 4, 4, 4, 4, 4, 4, 4, 4]\n",
            "[870] [0, 0, 0, 0, 0, 0, 0, 1, 1, 1, 1, 1, 1, 1, 1, 2, 2, 2, 2, 2, 3, 3, 3] | [0, 0, 0, 0, 0, 0, 0, 0, 1, 1, 1, 1, 1, 1, 1, 2, 2, 2, 2, 2, 3, 3, 3]\n",
            "[871] [0, 0, 0, 0, 0, 1, 1, 1, 1, 1, 1, 1, 2, 2, 2, 2, 2, 2, 2, 2, 2, 2, 2] | [0, 0, 0, 0, 0, 0, 1, 1, 1, 1, 1, 1, 2, 2, 2, 2, 2, 2, 2, 2, 2, 2, 2]\n",
            "[879] [0, 0, 0, 0, 0, 0, 0, 0, 1, 1, 1, 1, 1, 1, 3, 3, 3, 4, 4, 4, 4, 4, 4] | [0, 0, 0, 0, 0, 0, 0, 0, 1, 1, 1, 1, 1, 1, 4, 3, 3, 4, 4, 4, 4, 4, 4]\n",
            "[887] [0, 0, 0, 0, 0, 0, 0, 1, 2, 2, 2, 2, 2, 4, 4, 4, 4, 4, 4, 4, 4, 4, 4] | [0, 0, 0, 0, 0, 0, 0, 2, 2, 2, 2, 2, 2, 4, 4, 4, 4, 4, 4, 4, 4, 4, 4]\n",
            "[893] [0, 0, 0, 0, 0, 0, 0, 0, 0, 0, 1, 1, 1, 1, 1, 3, 3, 3, 3, 3, 3, 3, 3] | [0, 0, 0, 0, 0, 0, 0, 0, 0, 0, 0, 1, 1, 1, 1, 3, 3, 3, 3, 3, 3, 3, 3]\n",
            "[899] [0, 0, 0, 0, 0, 0, 1, 1, 1, 2, 2, 2, 2, 2, 2, 3, 3, 3, 3, 3, 3, 3, 3] | [0, 0, 0, 0, 0, 0, 0, 1, 1, 2, 2, 2, 2, 2, 2, 3, 3, 3, 3, 3, 3, 3, 3]\n",
            "[911] [0, 0, 0, 0, 0, 0, 0, 1, 1, 2, 2, 2, 3, 3, 3, 3, 3, 4, 4, 4, 4, 4, 4] | [0, 0, 0, 0, 0, 0, 0, 0, 1, 2, 2, 2, 3, 3, 3, 3, 3, 4, 4, 4, 4, 4, 4]\n",
            "[914] [0, 0, 0, 0, 0, 0, 0, 0, 0, 1, 1, 1, 1, 1, 2, 2, 2, 2, 2, 2, 2, 2, 2] | [0, 0, 0, 0, 0, 0, 0, 0, 0, 0, 1, 1, 1, 1, 2, 2, 2, 2, 2, 2, 2, 2, 2]\n",
            "[917] [1, 1, 1, 1, 1, 1, 1, 3, 3, 3, 3, 4, 4, 4, 4, 4, 4, 4, 4, 4, 4, 4, 4] | [1, 1, 1, 1, 1, 1, 1, 4, 3, 3, 3, 4, 4, 4, 4, 4, 4, 4, 4, 4, 4, 4, 4]\n",
            "[928] [0, 0, 0, 0, 0, 0, 1, 1, 1, 2, 2, 2, 2, 2, 2, 3, 3, 3, 3, 3, 3, 3, 3] | [0, 0, 0, 0, 0, 0, 0, 1, 1, 2, 2, 2, 2, 2, 2, 3, 3, 3, 3, 3, 3, 3, 3]\n",
            "[932] [0, 0, 0, 0, 0, 0, 0, 0, 1, 1, 1, 1, 1, 1, 2, 2, 2, 2, 2, 3, 3, 3, 3] | [0, 0, 0, 0, 0, 0, 0, 0, 0, 1, 1, 1, 1, 1, 2, 2, 2, 2, 2, 3, 3, 3, 3]\n",
            "[951] [0, 0, 0, 0, 0, 0, 0, 0, 0, 0, 1, 1, 1, 1, 1, 2, 2, 2, 2, 2, 2, 2, 2] | [0, 0, 0, 0, 0, 0, 0, 0, 0, 0, 0, 1, 1, 1, 1, 2, 2, 2, 2, 2, 2, 2, 2]\n",
            "[954] [0, 0, 0, 0, 0, 0, 0, 0, 0, 0, 0, 0, 0, 1, 1, 1, 1, 1, 1, 2, 2, 2, 2] | [0, 0, 0, 0, 0, 0, 0, 0, 0, 0, 0, 0, 0, 0, 1, 1, 1, 1, 1, 2, 2, 2, 2]\n",
            "[963] [1, 1, 1, 2, 2, 3, 3, 3, 3, 3, 3, 3, 3, 3, 3, 3, 4, 4, 4, 4, 4, 4, 4] | [1, 1, 1, 3, 2, 3, 3, 3, 3, 3, 3, 3, 3, 3, 3, 3, 4, 4, 4, 4, 4, 4, 4]\n",
            "[979] [1, 1, 1, 1, 1, 1, 2, 2, 3, 3, 3, 3, 3, 3, 3, 3, 3, 3, 3, 3, 4, 4, 4] | [1, 1, 1, 1, 1, 1, 3, 2, 3, 3, 3, 3, 3, 3, 3, 3, 3, 3, 3, 3, 4, 4, 4]\n",
            "[983] [0, 0, 0, 0, 0, 0, 1, 1, 1, 2, 2, 2, 2, 3, 3, 3, 3, 3, 4, 4, 4, 4, 4] | [0, 0, 0, 0, 0, 0, 0, 1, 1, 2, 2, 2, 2, 3, 3, 3, 3, 3, 4, 4, 4, 4, 4]\n",
            "[988] [0, 0, 0, 0, 0, 0, 0, 0, 0, 0, 0, 0, 0, 0, 0, 1, 1, 1, 1, 1, 1, 1, 1] | [0, 0, 0, 0, 0, 0, 0, 0, 0, 0, 0, 0, 0, 0, 0, 0, 1, 1, 1, 1, 1, 1, 1]\n",
            "[996] [0, 0, 0, 0, 0, 0, 0, 0, 0, 0, 1, 1, 1, 1, 1, 3, 3, 3, 3, 3, 3, 3, 3] | [0, 0, 0, 0, 0, 0, 0, 0, 0, 0, 0, 1, 1, 1, 1, 3, 3, 3, 3, 3, 3, 3, 3]\n",
            "[1010] [0, 0, 0, 0, 0, 0, 0, 0, 0, 0, 1, 1, 1, 1, 1, 1, 1, 1, 1, 1, 1, 1, 1] | [0, 0, 0, 0, 0, 0, 0, 0, 0, 1, 1, 1, 1, 1, 1, 1, 1, 1, 1, 1, 1, 1, 1]\n",
            "[1021] [0, 0, 0, 0, 0, 0, 0, 0, 0, 1, 1, 1, 1, 1, 1, 1, 1, 1, 1, 1, 1, 1, 1] | [0, 0, 0, 0, 0, 0, 0, 0, 1, 1, 1, 1, 1, 1, 1, 1, 1, 1, 1, 1, 1, 1, 1]\n",
            "153/1024 (14.94%)\n"
          ]
        }
      ],
      "source": [
        "print(\"Validating on validation data:\")\n",
        "val_batch = next(iter(val_loader))[0]\n",
        "val_acc = validate(model, val_batch)\n",
        "print(f\"\\t{val_acc=:.3%}\\n\")\n",
        "if val_acc < 1:\n",
        "    show_mispreds(model, val_batch)\n",
        "\n",
        "test_batch = next(iter(test_loader))[0]\n",
        "print(\"\\nValidating on test data:\")\n",
        "test_acc = validate(model, test_batch)\n",
        "print(f\"\\t{test_acc=:.3%}\\n\")\n",
        "if test_acc < 1:\n",
        "    show_mispreds(model, test_batch)"
      ]
    },
    {
      "cell_type": "markdown",
      "metadata": {
        "id": "pNofXtfSQvh2"
      },
      "source": [
        "### Saving trained model"
      ]
    },
    {
      "cell_type": "code",
      "execution_count": 48,
      "metadata": {
        "id": "i9lLO9p1d8mC"
      },
      "outputs": [],
      "source": [
        "def save_model_state_dict(\n",
        "    model: HookedTransformer, \n",
        "    filename: str | None = None\n",
        ") -> None:\n",
        "    if not os.path.isdir(\"models\"):\n",
        "        os.mkdir(\"models\")\n",
        "    if not filename:\n",
        "        timestamp = dt.now().isoformat(\"T\", \"minutes\").replace(\":\", \"-\")\n",
        "        filename = f\"model_state_dict_{timestamp}.pkl\"\n",
        "    with open(f\"models/{filename}\", \"wb\") as f:\n",
        "        pickle.dump(model.state_dict(), f)\n",
        "\n",
        "save_model_state_dict(model)"
      ]
    },
    {
      "cell_type": "code",
      "execution_count": 49,
      "metadata": {},
      "outputs": [
        {
          "data": {
            "image/png": "[encoded data removed]",
            "text/plain": [
              "<Figure size 800x800 with 2 Axes>"
            ]
          },
          "metadata": {},
          "output_type": "display_data"
        }
      ],
      "source": [
        "attn = model.blocks[0].attn\n",
        "all_token_embeddings = model.embed(range(D_VOCAB))\n",
        "\n",
        "embeddings_key = einsum(\"d_vocab d_model, n_heads d_model d_head -> n_heads d_vocab d_head\", \n",
        "                        all_token_embeddings, attn.W_K) \n",
        "embeddings_query = einsum(\"d_vocab d_model, n_heads d_model d_head -> n_heads d_vocab d_head\", \n",
        "                          all_token_embeddings, attn.W_Q) \n",
        "\n",
        "plt.rcParams['figure.figsize'] = [20, 10]\n",
        "qk_circuit_attn_heatmap = einsum(\n",
        "    \"n_heads d_vocab_q d_head, n_heads d_vocab_k d_head -> ... d_vocab_q d_vocab_k\", \n",
        "    embeddings_query, embeddings_key\n",
        "    ).detach().cpu().numpy()\n",
        "fig, ax = plt.subplots(figsize=(8, 8))\n",
        "graph = ax.imshow(qk_circuit_attn_heatmap, cmap=\"hot\", interpolation=\"nearest\")\n",
        "plt.colorbar(graph)\n",
        "plt.tight_layout()"
      ]
    },
    {
      "cell_type": "code",
      "execution_count": 50,
      "metadata": {},
      "outputs": [],
      "source": [
        "input_tokens = torch.Tensor([START_TOKEN_ID] + [0] * 5 + [1] * 5 + [MID_TOKEN_ID] + 5 * [0] + 5 * [1]).long().to(DEVICE)"
      ]
    },
    {
      "cell_type": "code",
      "execution_count": 51,
      "metadata": {},
      "outputs": [],
      "source": [
        "input_tokens \n",
        "pos_embeds = model.pos_embed(input_tokens)"
      ]
    },
    {
      "cell_type": "code",
      "execution_count": 52,
      "metadata": {},
      "outputs": [
        {
          "data": {
            "text/plain": [
              "torch.Size([48, 128])"
            ]
          },
          "execution_count": 52,
          "metadata": {},
          "output_type": "execute_result"
        }
      ],
      "source": [
        "model.pos_embed.W_pos.shape"
      ]
    },
    {
      "cell_type": "code",
      "execution_count": 53,
      "metadata": {},
      "outputs": [],
      "source": [
        "from typing import *\n",
        "from transformer_lens import ActivationCache, HookedTransformer\n",
        "from jaxtyping import Float\n",
        "from circuitsvis.attention import attention_heads\n",
        "\n",
        "def sharpen_probabilities(tensor, temperature):\n",
        "    # Make sure the temperature is greater than 0 to avoid division by zero\n",
        "    assert temperature > 0, \"Temperature must be greater than 0\"\n",
        "    \n",
        "    # Sharpen the probabilities\n",
        "    sharpened = torch.pow(tensor, 1/temperature)\n",
        "    \n",
        "    # Renormalize the rows to sum to 1\n",
        "    row_sums = sharpened.sum(dim=1).unsqueeze(1)\n",
        "    normalized = sharpened / row_sums\n",
        "    \n",
        "    return normalized\n",
        "\n",
        "def visualize_attention_patterns(\n",
        "    heads: Union[List[int], int, Float[torch.Tensor, \"heads\"]],\n",
        "    local_cache: ActivationCache,\n",
        "    local_tokens: torch.Tensor,\n",
        "    title: Optional[str] = \"\",\n",
        "    max_width: Optional[int] = 1000,\n",
        "    temp = 0.9\n",
        ") -> str:\n",
        "    # If a single head is given, convert to a list\n",
        "    if isinstance(heads, int):\n",
        "        heads = [heads]\n",
        "\n",
        "    # Create the plotting data\n",
        "    labels: List[str] = []\n",
        "    patterns: List[Float[torch.Tensor, \"dest_pos src_pos\"]] = []\n",
        "\n",
        "    # Assume we have a single batch item\n",
        "    batch_index = 0\n",
        "\n",
        "    for head in heads:\n",
        "        # Set the label\n",
        "        layer = head // model.cfg.n_heads\n",
        "        head_index = head % model.cfg.n_heads\n",
        "        labels.append(f\"L{layer}H{head_index}\")\n",
        "\n",
        "        # Get the attention patterns for the head\n",
        "        # Attention patterns have shape [batch, head_index, query_pos, key_pos]\n",
        "        patterns.append(sharpen_probabilities(local_cache[\"attn\", layer][batch_index, head_index], temp))\n",
        "\n",
        "    # Convert the tokens to strings (for the axis labels)\n",
        "    str_tokens = local_tokens.detach().cpu().numpy().astype(str).tolist()\n",
        "\n",
        "    # Combine the patterns into a single tensor\n",
        "    patterns: Float[torch.Tensor, \"head_index dest_pos src_pos\"] = torch.stack(\n",
        "        patterns, dim=0\n",
        "    )\n",
        "\n",
        "    # Circuitsvis Plot (note we get the code version so we can concatenate with the title)\n",
        "    plot = attention_heads(\n",
        "        attention=patterns, tokens=str_tokens, attention_head_names=labels\n",
        "    ).show_code()\n",
        "\n",
        "    # Display the title\n",
        "    title_html = f\"<h2>{title}</h2><br/>\"\n",
        "\n",
        "    # Return the visualisation as raw code\n",
        "    return f\"<div style='max-width: {str(max_width)}px;'>{title_html + plot}</div>\""
      ]
    },
    {
      "cell_type": "code",
      "execution_count": 54,
      "metadata": {},
      "outputs": [
        {
          "name": "stdout",
          "output_type": "stream",
          "text": [
            "torch.Size([48])\n"
          ]
        },
        {
          "data": {
            "text/html": [
              "<div style='max-width: 1000px;'><h2>What</h2><br/><div id=\"circuits-vis-e7e0659e-e36d\" style=\"margin: 15px 0;\"/>\n",
              "    <script crossorigin type=\"module\">\n",
              "    import { render, AttentionHeads } from \"https://unpkg.com/circuitsvis@1.43.2/dist/cdn/esm.js\";\n",
              "    render(\n",
              "      \"circuits-vis-e7e0659e-e36d\",\n",
              "      AttentionHeads,\n",
              "      {\"attention\": [[[1.0, 0.0, 0.0, 0.0, 0.0, 0.0, 0.0, 0.0, 0.0, 0.0, 0.0, 0.0, 0.0, 0.0, 0.0, 0.0, 0.0, 0.0, 0.0, 0.0, 0.0, 0.0, 0.0, 0.0, 0.0, 0.0, 0.0, 0.0, 0.0, 0.0, 0.0, 0.0, 0.0, 0.0, 0.0, 0.0, 0.0, 0.0, 0.0, 0.0, 0.0, 0.0, 0.0, 0.0, 0.0, 0.0, 0.0, 0.0], [0.5547705292701721, 0.4452294707298279, 0.0, 0.0, 0.0, 0.0, 0.0, 0.0, 0.0, 0.0, 0.0, 0.0, 0.0, 0.0, 0.0, 0.0, 0.0, 0.0, 0.0, 0.0, 0.0, 0.0, 0.0, 0.0, 0.0, 0.0, 0.0, 0.0, 0.0, 0.0, 0.0, 0.0, 0.0, 0.0, 0.0, 0.0, 0.0, 0.0, 0.0, 0.0, 0.0, 0.0, 0.0, 0.0, 0.0, 0.0, 0.0, 0.0], [0.3343620300292969, 0.29963237047195435, 0.36600562930107117, 0.0, 0.0, 0.0, 0.0, 0.0, 0.0, 0.0, 0.0, 0.0, 0.0, 0.0, 0.0, 0.0, 0.0, 0.0, 0.0, 0.0, 0.0, 0.0, 0.0, 0.0, 0.0, 0.0, 0.0, 0.0, 0.0, 0.0, 0.0, 0.0, 0.0, 0.0, 0.0, 0.0, 0.0, 0.0, 0.0, 0.0, 0.0, 0.0, 0.0, 0.0, 0.0, 0.0, 0.0, 0.0], [0.2195153832435608, 0.25345733761787415, 0.24434217810630798, 0.28268513083457947, 0.0, 0.0, 0.0, 0.0, 0.0, 0.0, 0.0, 0.0, 0.0, 0.0, 0.0, 0.0, 0.0, 0.0, 0.0, 0.0, 0.0, 0.0, 0.0, 0.0, 0.0, 0.0, 0.0, 0.0, 0.0, 0.0, 0.0, 0.0, 0.0, 0.0, 0.0, 0.0, 0.0, 0.0, 0.0, 0.0, 0.0, 0.0, 0.0, 0.0, 0.0, 0.0, 0.0, 0.0], [0.20092405378818512, 0.2045007348060608, 0.21284639835357666, 0.18635687232017517, 0.19537195563316345, 0.0, 0.0, 0.0, 0.0, 0.0, 0.0, 0.0, 0.0, 0.0, 0.0, 0.0, 0.0, 0.0, 0.0, 0.0, 0.0, 0.0, 0.0, 0.0, 0.0, 0.0, 0.0, 0.0, 0.0, 0.0, 0.0, 0.0, 0.0, 0.0, 0.0, 0.0, 0.0, 0.0, 0.0, 0.0, 0.0, 0.0, 0.0, 0.0, 0.0, 0.0, 0.0, 0.0], [0.22885291278362274, 0.13947990536689758, 0.16024725139141083, 0.17410622537136078, 0.15584684908390045, 0.1414668709039688, 0.0, 0.0, 0.0, 0.0, 0.0, 0.0, 0.0, 0.0, 0.0, 0.0, 0.0, 0.0, 0.0, 0.0, 0.0, 0.0, 0.0, 0.0, 0.0, 0.0, 0.0, 0.0, 0.0, 0.0, 0.0, 0.0, 0.0, 0.0, 0.0, 0.0, 0.0, 0.0, 0.0, 0.0, 0.0, 0.0, 0.0, 0.0, 0.0, 0.0, 0.0, 0.0], [0.11088304966688156, 0.16095677018165588, 0.12014330923557281, 0.1661331057548523, 0.14995722472667694, 0.13495534658432007, 0.15697117149829865, 0.0, 0.0, 0.0, 0.0, 0.0, 0.0, 0.0, 0.0, 0.0, 0.0, 0.0, 0.0, 0.0, 0.0, 0.0, 0.0, 0.0, 0.0, 0.0, 0.0, 0.0, 0.0, 0.0, 0.0, 0.0, 0.0, 0.0, 0.0, 0.0, 0.0, 0.0, 0.0, 0.0, 0.0, 0.0, 0.0, 0.0, 0.0, 0.0, 0.0, 0.0], [0.1538139283657074, 0.10653790831565857, 0.13477244973182678, 0.12070070952177048, 0.09578082710504532, 0.14331020414829254, 0.13480742275714874, 0.11027660220861435, 0.0, 0.0, 0.0, 0.0, 0.0, 0.0, 0.0, 0.0, 0.0, 0.0, 0.0, 0.0, 0.0, 0.0, 0.0, 0.0, 0.0, 0.0, 0.0, 0.0, 0.0, 0.0, 0.0, 0.0, 0.0, 0.0, 0.0, 0.0, 0.0, 0.0, 0.0, 0.0, 0.0, 0.0, 0.0, 0.0, 0.0, 0.0, 0.0, 0.0], [0.18239125609397888, 0.11795424669981003, 0.09721972793340683, 0.1027594581246376, 0.07400576025247574, 0.10258948057889938, 0.11118143051862717, 0.11546763777732849, 0.09643098711967468, 0.0, 0.0, 0.0, 0.0, 0.0, 0.0, 0.0, 0.0, 0.0, 0.0, 0.0, 0.0, 0.0, 0.0, 0.0, 0.0, 0.0, 0.0, 0.0, 0.0, 0.0, 0.0, 0.0, 0.0, 0.0, 0.0, 0.0, 0.0, 0.0, 0.0, 0.0, 0.0, 0.0, 0.0, 0.0, 0.0, 0.0, 0.0, 0.0], [0.08926164358854294, 0.09371243417263031, 0.08188670128583908, 0.08902453631162643, 0.11833152174949646, 0.11061100661754608, 0.0941048339009285, 0.08652646839618683, 0.09685460478067398, 0.13968631625175476, 0.0, 0.0, 0.0, 0.0, 0.0, 0.0, 0.0, 0.0, 0.0, 0.0, 0.0, 0.0, 0.0, 0.0, 0.0, 0.0, 0.0, 0.0, 0.0, 0.0, 0.0, 0.0, 0.0, 0.0, 0.0, 0.0, 0.0, 0.0, 0.0, 0.0, 0.0, 0.0, 0.0, 0.0, 0.0, 0.0, 0.0, 0.0], [0.12886783480644226, 0.08562951534986496, 0.07838448882102966, 0.08447190374135971, 0.08376359939575195, 0.09251541644334793, 0.10404744744300842, 0.09009916335344315, 0.08183859288692474, 0.08861974626779556, 0.08176234364509583, 0.0, 0.0, 0.0, 0.0, 0.0, 0.0, 0.0, 0.0, 0.0, 0.0, 0.0, 0.0, 0.0, 0.0, 0.0, 0.0, 0.0, 0.0, 0.0, 0.0, 0.0, 0.0, 0.0, 0.0, 0.0, 0.0, 0.0, 0.0, 0.0, 0.0, 0.0, 0.0, 0.0, 0.0, 0.0, 0.0, 0.0], [0.12796282768249512, 0.07859160751104355, 0.08357839286327362, 0.07828516513109207, 0.0881173238158226, 0.07534996420145035, 0.09302400052547455, 0.08361246436834335, 0.05985923856496811, 0.09335493296384811, 0.07106678187847137, 0.06719734519720078, 0.0, 0.0, 0.0, 0.0, 0.0, 0.0, 0.0, 0.0, 0.0, 0.0, 0.0, 0.0, 0.0, 0.0, 0.0, 0.0, 0.0, 0.0, 0.0, 0.0, 0.0, 0.0, 0.0, 0.0, 0.0, 0.0, 0.0, 0.0, 0.0, 0.0, 0.0, 0.0, 0.0, 0.0, 0.0, 0.0], [0.10786998271942139, 0.06414902955293655, 0.0811685100197792, 0.056884486228227615, 0.08033805340528488, 0.06873198598623276, 0.08371620625257492, 0.07930852472782135, 0.05855677276849747, 0.09515757858753204, 0.08596938103437424, 0.07856649160385132, 0.05958305299282074, 0.0, 0.0, 0.0, 0.0, 0.0, 0.0, 0.0, 0.0, 0.0, 0.0, 0.0, 0.0, 0.0, 0.0, 0.0, 0.0, 0.0, 0.0, 0.0, 0.0, 0.0, 0.0, 0.0, 0.0, 0.0, 0.0, 0.0, 0.0, 0.0, 0.0, 0.0, 0.0, 0.0, 0.0, 0.0], [0.07516862452030182, 0.0711997002363205, 0.06958281993865967, 0.07225415110588074, 0.06890376657247543, 0.05431046336889267, 0.07493996620178223, 0.08646046370267868, 0.0747704803943634, 0.07584618031978607, 0.06044824793934822, 0.07009237259626389, 0.07223155349493027, 0.07379119843244553, 0.0, 0.0, 0.0, 0.0, 0.0, 0.0, 0.0, 0.0, 0.0, 0.0, 0.0, 0.0, 0.0, 0.0, 0.0, 0.0, 0.0, 0.0, 0.0, 0.0, 0.0, 0.0, 0.0, 0.0, 0.0, 0.0, 0.0, 0.0, 0.0, 0.0, 0.0, 0.0, 0.0, 0.0], [0.05294661968946457, 0.06306838989257812, 0.06305119395256042, 0.07292047142982483, 0.056943271309137344, 0.06572449952363968, 0.09363638609647751, 0.08398298919200897, 0.05820218846201897, 0.07498152554035187, 0.059190161526203156, 0.04779007285833359, 0.04505963250994682, 0.05579570308327675, 0.10670693963766098, 0.0, 0.0, 0.0, 0.0, 0.0, 0.0, 0.0, 0.0, 0.0, 0.0, 0.0, 0.0, 0.0, 0.0, 0.0, 0.0, 0.0, 0.0, 0.0, 0.0, 0.0, 0.0, 0.0, 0.0, 0.0, 0.0, 0.0, 0.0, 0.0, 0.0, 0.0, 0.0, 0.0], [0.09411031007766724, 0.056211646646261215, 0.07512455433607101, 0.06032748147845268, 0.06853841990232468, 0.047944772988557816, 0.05927978456020355, 0.0604032464325428, 0.047807302325963974, 0.07441374659538269, 0.06641893833875656, 0.037687137722969055, 0.07007018476724625, 0.06372980028390884, 0.05891803652048111, 0.05901462212204933, 0.0, 0.0, 0.0, 0.0, 0.0, 0.0, 0.0, 0.0, 0.0, 0.0, 0.0, 0.0, 0.0, 0.0, 0.0, 0.0, 0.0, 0.0, 0.0, 0.0, 0.0, 0.0, 0.0, 0.0, 0.0, 0.0, 0.0, 0.0, 0.0, 0.0, 0.0, 0.0], [0.06791636347770691, 0.04925195500254631, 0.056455619633197784, 0.044696029275655746, 0.05512203648686409, 0.03446115553379059, 0.07145294547080994, 0.0566101036965847, 0.03763565048575401, 0.08370107412338257, 0.054115355014801025, 0.0726284384727478, 0.049773603677749634, 0.09606484323740005, 0.07215089350938797, 0.04302230477333069, 0.054941575974226, 0.0, 0.0, 0.0, 0.0, 0.0, 0.0, 0.0, 0.0, 0.0, 0.0, 0.0, 0.0, 0.0, 0.0, 0.0, 0.0, 0.0, 0.0, 0.0, 0.0, 0.0, 0.0, 0.0, 0.0, 0.0, 0.0, 0.0, 0.0, 0.0, 0.0, 0.0], [0.06899036467075348, 0.05223681405186653, 0.050326697528362274, 0.05062641203403473, 0.058115869760513306, 0.037920478731393814, 0.05807988718152046, 0.05486442148685455, 0.04391049966216087, 0.06526430696249008, 0.05473821982741356, 0.05174543708562851, 0.04680096358060837, 0.06923434883356094, 0.07381824404001236, 0.061106495559215546, 0.038237810134887695, 0.06398273259401321, 0.0, 0.0, 0.0, 0.0, 0.0, 0.0, 0.0, 0.0, 0.0, 0.0, 0.0, 0.0, 0.0, 0.0, 0.0, 0.0, 0.0, 0.0, 0.0, 0.0, 0.0, 0.0, 0.0, 0.0, 0.0, 0.0, 0.0, 0.0, 0.0, 0.0], [0.08286817371845245, 0.026283038780093193, 0.034662630409002304, 0.029243258759379387, 0.032291095703840256, 0.03696836903691292, 0.034241385757923126, 0.035917978733778, 0.045332156121730804, 0.06138648837804794, 0.028939183801412582, 0.050794538110494614, 0.05297670140862465, 0.03387560322880745, 0.05394550785422325, 0.03635888546705246, 0.06355863809585571, 0.02771156094968319, 0.23264481127262115, 0.0, 0.0, 0.0, 0.0, 0.0, 0.0, 0.0, 0.0, 0.0, 0.0, 0.0, 0.0, 0.0, 0.0, 0.0, 0.0, 0.0, 0.0, 0.0, 0.0, 0.0, 0.0, 0.0, 0.0, 0.0, 0.0, 0.0, 0.0, 0.0], [0.03732159733772278, 0.029640845954418182, 0.027620859444141388, 0.028484011068940163, 0.025718478485941887, 0.020906152203679085, 0.026866108179092407, 0.034167446196079254, 0.02719717286527157, 0.037177667021751404, 0.02665359526872635, 0.022101912647485733, 0.031328387558460236, 0.024343112483620644, 0.021343789994716644, 0.021981416270136833, 0.04741303250193596, 0.02280678227543831, 0.2704959511756897, 0.2164316326379776, 0.0, 0.0, 0.0, 0.0, 0.0, 0.0, 0.0, 0.0, 0.0, 0.0, 0.0, 0.0, 0.0, 0.0, 0.0, 0.0, 0.0, 0.0, 0.0, 0.0, 0.0, 0.0, 0.0, 0.0, 0.0, 0.0, 0.0, 0.0], [0.0482591949403286, 0.013890865258872509, 0.019596673548221588, 0.015848105773329735, 0.017857970669865608, 0.015836117789149284, 0.014894826337695122, 0.015314684249460697, 0.016300523653626442, 0.022018348798155785, 0.01724274642765522, 0.015178908593952656, 0.03310373052954674, 0.019508501514792442, 0.01730554737150669, 0.017245298251509666, 0.023157885298132896, 0.013146872632205486, 0.21123118698596954, 0.2213619351387024, 0.21170009672641754, 0.0, 0.0, 0.0, 0.0, 0.0, 0.0, 0.0, 0.0, 0.0, 0.0, 0.0, 0.0, 0.0, 0.0, 0.0, 0.0, 0.0, 0.0, 0.0, 0.0, 0.0, 0.0, 0.0, 0.0, 0.0, 0.0, 0.0], [0.023487279191613197, 0.009788966737687588, 0.009933936409652233, 0.01065081637352705, 0.007314975373446941, 0.011764773167669773, 0.009955489076673985, 0.011470694094896317, 0.009707093238830566, 0.013040166348218918, 0.011014596559107304, 0.007529639173299074, 0.014938578940927982, 0.009342514909803867, 0.01099606417119503, 0.010927261784672737, 0.010352822951972485, 0.009028999134898186, 0.21517755091190338, 0.18096143007278442, 0.2333318144083023, 0.16928453743457794, 0.0, 0.0, 0.0, 0.0, 0.0, 0.0, 0.0, 0.0, 0.0, 0.0, 0.0, 0.0, 0.0, 0.0, 0.0, 0.0, 0.0, 0.0, 0.0, 0.0, 0.0, 0.0, 0.0, 0.0, 0.0, 0.0], [0.0420834980905056, 0.024561626836657524, 0.03156427666544914, 0.0266558974981308, 0.028829261660575867, 0.027985667809844017, 0.035124748945236206, 0.03380100429058075, 0.031174739822745323, 0.02399255707859993, 0.023315196856856346, 0.0172080360352993, 0.023666908964514732, 0.020649999380111694, 0.044621944427490234, 0.03194505348801613, 0.030936112627387047, 0.03126921504735947, 0.11025000363588333, 0.06393373757600784, 0.10060550272464752, 0.08114630728960037, 0.11467871814966202, 0.0, 0.0, 0.0, 0.0, 0.0, 0.0, 0.0, 0.0, 0.0, 0.0, 0.0, 0.0, 0.0, 0.0, 0.0, 0.0, 0.0, 0.0, 0.0, 0.0, 0.0, 0.0, 0.0, 0.0, 0.0], [0.029104113578796387, 0.006847900804132223, 0.011111686006188393, 0.008014853112399578, 0.009483706206083298, 0.008041792549192905, 0.01013738103210926, 0.008837085217237473, 0.00971122458577156, 0.009981825016438961, 0.007138828281313181, 0.007378924172371626, 0.011596268974244595, 0.012716475874185562, 0.007416070438921452, 0.007836057804524899, 0.011096757836639881, 0.0072510819882154465, 0.147054061293602, 0.17128582298755646, 0.11270134150981903, 0.14670787751674652, 0.12474282085895538, 0.11380604654550552, 0.0, 0.0, 0.0, 0.0, 0.0, 0.0, 0.0, 0.0, 0.0, 0.0, 0.0, 0.0, 0.0, 0.0, 0.0, 0.0, 0.0, 0.0, 0.0, 0.0, 0.0, 0.0, 0.0, 0.0], [0.012057572603225708, 0.059542570263147354, 0.05446259304881096, 0.07003147900104523, 0.05002911761403084, 0.047094859182834625, 0.04779520630836487, 0.05092240124940872, 0.052746180444955826, 0.05118236690759659, 0.05490351840853691, 0.0710643082857132, 0.06070293113589287, 0.043357644230127335, 0.0413203127682209, 0.05626596137881279, 0.05226689949631691, 0.062216296792030334, 0.009607579559087753, 0.0126208970323205, 0.011302427388727665, 0.010319660417735577, 0.008292541839182377, 0.009583457373082638, 0.0003112134290859103, 0.0, 0.0, 0.0, 0.0, 0.0, 0.0, 0.0, 0.0, 0.0, 0.0, 0.0, 0.0, 0.0, 0.0, 0.0, 0.0, 0.0, 0.0, 0.0, 0.0, 0.0, 0.0, 0.0], [0.017750848084688187, 0.04447902366518974, 0.057431746274232864, 0.053774528205394745, 0.05948423594236374, 0.05113601312041283, 0.055062927305698395, 0.05227306857705116, 0.05402219668030739, 0.05025639757514, 0.057010311633348465, 0.04543747380375862, 0.04577355831861496, 0.04689103737473488, 0.052982304245233536, 0.05438974127173424, 0.060214001685380936, 0.05225256830453873, 0.01096355076879263, 0.01206945814192295, 0.011036599054932594, 0.00937115028500557, 0.013095146045088768, 0.010664371773600578, 0.003379485569894314, 0.018798314034938812, 0.0, 0.0, 0.0, 0.0, 0.0, 0.0, 0.0, 0.0, 0.0, 0.0, 0.0, 0.0, 0.0, 0.0, 0.0, 0.0, 0.0, 0.0, 0.0, 0.0, 0.0, 0.0], [0.02578905038535595, 0.04515843838453293, 0.047292452305555344, 0.0496385283768177, 0.05071774497628212, 0.04862068593502045, 0.052413977682590485, 0.05096128582954407, 0.047720327973365784, 0.05126921087503433, 0.048132069408893585, 0.05162540823221207, 0.0472206212580204, 0.0485662966966629, 0.04901580885052681, 0.04836960509419441, 0.049736350774765015, 0.052798762917518616, 0.018268384039402008, 0.01786256581544876, 0.017914164811372757, 0.015759143978357315, 0.017188457772135735, 0.017505306750535965, 0.006317527033388615, 0.00722802709788084, 0.016909727826714516, 0.0, 0.0, 0.0, 0.0, 0.0, 0.0, 0.0, 0.0, 0.0, 0.0, 0.0, 0.0, 0.0, 0.0, 0.0, 0.0, 0.0, 0.0, 0.0, 0.0, 0.0], [0.02882920391857624, 0.043958280235528946, 0.047529738396406174, 0.04726735129952431, 0.04698196053504944, 0.043443724513053894, 0.0472758524119854, 0.04860001429915428, 0.04630229249596596, 0.04907815903425217, 0.044239435344934464, 0.05019022524356842, 0.04894895479083061, 0.049619946628808975, 0.047447409480810165, 0.04740588366985321, 0.045679427683353424, 0.04945797100663185, 0.02325364761054516, 0.021360015496611595, 0.020748082548379898, 0.018878955394029617, 0.021409563720226288, 0.02086143009364605, 0.0059377155266702175, 0.009233820252120495, 0.01392730325460434, 0.012133663520216942, 0.0, 0.0, 0.0, 0.0, 0.0, 0.0, 0.0, 0.0, 0.0, 0.0, 0.0, 0.0, 0.0, 0.0, 0.0, 0.0, 0.0, 0.0, 0.0, 0.0], [0.034948576241731644, 0.042730581015348434, 0.04377063363790512, 0.045156944543123245, 0.041395191103219986, 0.04136383533477783, 0.04315410181879997, 0.04418804496526718, 0.04281305894255638, 0.04428345337510109, 0.04040573909878731, 0.04483161121606827, 0.044934049248695374, 0.04337596520781517, 0.041840795427560806, 0.04441104084253311, 0.044740065932273865, 0.04619719088077545, 0.028363754972815514, 0.02885540947318077, 0.028652945533394814, 0.026776902377605438, 0.02845645882189274, 0.028932729735970497, 0.009791025891900063, 0.009035943076014519, 0.012578167952597141, 0.010455509647727013, 0.013560265302658081, 0.0, 0.0, 0.0, 0.0, 0.0, 0.0, 0.0, 0.0, 0.0, 0.0, 0.0, 0.0, 0.0, 0.0, 0.0, 0.0, 0.0, 0.0, 0.0], [0.03558771684765816, 0.03961445763707161, 0.041532065719366074, 0.04148950055241585, 0.0400036945939064, 0.038165464997291565, 0.04152701795101166, 0.041707854717969894, 0.03990599513053894, 0.04187804087996483, 0.037050772458314896, 0.043093543499708176, 0.040258754044771194, 0.039972517639398575, 0.039021387696266174, 0.04072769731283188, 0.042101580649614334, 0.04477619007229805, 0.035935044288635254, 0.03549846634268761, 0.033578574657440186, 0.032954975962638855, 0.03450489789247513, 0.03558962792158127, 0.010539009235799313, 0.007151068653911352, 0.012439490295946598, 0.009038371033966541, 0.013913599774241447, 0.010442581959068775, 0.0, 0.0, 0.0, 0.0, 0.0, 0.0, 0.0, 0.0, 0.0, 0.0, 0.0, 0.0, 0.0, 0.0, 0.0, 0.0, 0.0, 0.0], [0.036179788410663605, 0.0363650918006897, 0.03792944177985191, 0.037963319569826126, 0.03833948075771332, 0.03507860004901886, 0.03827903792262077, 0.03891396522521973, 0.037572771310806274, 0.03839191049337387, 0.0351860485970974, 0.03751575946807861, 0.03694713115692139, 0.036357562988996506, 0.03716408461332321, 0.03872402384877205, 0.037993695586919785, 0.04073631390929222, 0.04284963011741638, 0.04134852811694145, 0.03983408957719803, 0.03887171670794487, 0.04085259884595871, 0.04344537854194641, 0.013273382559418678, 0.007458925247192383, 0.01322129275649786, 0.008964348584413528, 0.013254513964056969, 0.010339492931962013, 0.010648137889802456, 0.0, 0.0, 0.0, 0.0, 0.0, 0.0, 0.0, 0.0, 0.0, 0.0, 0.0, 0.0, 0.0, 0.0, 0.0, 0.0, 0.0], [0.04192005470395088, 0.034129586070775986, 0.03583856672048569, 0.03584303334355354, 0.035393111407756805, 0.03323465958237648, 0.03735089674592018, 0.03661111742258072, 0.034396734088659286, 0.0353650227189064, 0.03163079172372818, 0.036490488797426224, 0.0341612808406353, 0.03566472977399826, 0.034367579966783524, 0.034641068428754807, 0.03565836697816849, 0.03692509979009628, 0.046303026378154755, 0.044255632907152176, 0.04279165714979172, 0.04373035579919815, 0.04498335346579552, 0.04594581201672554, 0.019779562950134277, 0.007199697196483612, 0.013158615678548813, 0.008083764463663101, 0.012157571502029896, 0.011836574412882328, 0.009740984067320824, 0.010411249473690987, 0.0, 0.0, 0.0, 0.0, 0.0, 0.0, 0.0, 0.0, 0.0, 0.0, 0.0, 0.0, 0.0, 0.0, 0.0, 0.0], [0.038820814341306686, 0.029195871204137802, 0.03222076594829559, 0.030542241409420967, 0.03169171139597893, 0.0286650862544775, 0.03176058456301689, 0.032575417309999466, 0.030588528141379356, 0.031191803514957428, 0.027400484308600426, 0.03072841465473175, 0.03034473955631256, 0.03164862096309662, 0.03067738562822342, 0.030994150787591934, 0.03119741380214691, 0.03399451822042465, 0.05740411952137947, 0.05500400438904762, 0.053395844995975494, 0.05212154984474182, 0.05404573306441307, 0.05726248025894165, 0.027861351147294044, 0.006243047770112753, 0.013132215477526188, 0.0066856504417955875, 0.011518613435328007, 0.011285721324384212, 0.010225208476185799, 0.009535576216876507, 0.010040385648608208, 0.0, 0.0, 0.0, 0.0, 0.0, 0.0, 0.0, 0.0, 0.0, 0.0, 0.0, 0.0, 0.0, 0.0, 0.0], [0.04408768564462662, 0.0286872498691082, 0.03047211840748787, 0.028977015987038612, 0.02912440150976181, 0.02794587053358555, 0.030803415924310684, 0.03069430962204933, 0.02945965901017189, 0.03006863407790661, 0.026093190535902977, 0.02986321970820427, 0.02895551733672619, 0.030193185433745384, 0.030134033411741257, 0.02908090502023697, 0.02970329485833645, 0.03128358721733093, 0.0620308592915535, 0.05438989773392677, 0.05594559386372566, 0.05430488660931587, 0.05834319815039635, 0.0616227425634861, 0.02386145479977131, 0.008741135708987713, 0.009653829969465733, 0.0062373336404562, 0.009903378784656525, 0.010636279359459877, 0.01064129639416933, 0.009054794907569885, 0.009159126318991184, 0.009846875444054604, 0.0, 0.0, 0.0, 0.0, 0.0, 0.0, 0.0, 0.0, 0.0, 0.0, 0.0, 0.0, 0.0, 0.0], [0.045934490859508514, 0.027111291885375977, 0.02844836562871933, 0.02703198976814747, 0.027093399316072464, 0.026516353711485863, 0.028995748609304428, 0.028557654470205307, 0.027581170201301575, 0.02886807918548584, 0.024206634610891342, 0.028987649828195572, 0.027756402269005775, 0.02813100442290306, 0.02787238359451294, 0.027556221932172775, 0.029328299686312675, 0.02995101548731327, 0.06377803534269333, 0.06254406273365021, 0.05845007672905922, 0.056332796812057495, 0.060088347643613815, 0.06182374060153961, 0.031083066016435623, 0.007395171094685793, 0.008889885619282722, 0.005887061823159456, 0.009070289321243763, 0.008857248350977898, 0.010453611612319946, 0.009028839878737926, 0.00918913446366787, 0.010088212788105011, 0.007112319115549326, 0.0, 0.0, 0.0, 0.0, 0.0, 0.0, 0.0, 0.0, 0.0, 0.0, 0.0, 0.0, 0.0], [0.04255629703402519, 0.024101413786411285, 0.025720251724123955, 0.024335840716958046, 0.02450774982571602, 0.024051515385508537, 0.026714293286204338, 0.026045238599181175, 0.025598064064979553, 0.026122931391000748, 0.021520039066672325, 0.025471217930316925, 0.024722594767808914, 0.02556861937046051, 0.026137737557291985, 0.02519521489739418, 0.02738288789987564, 0.027664050459861755, 0.07028646767139435, 0.06748266518115997, 0.06539995968341827, 0.0626104474067688, 0.06739271432161331, 0.0684637501835823, 0.03290221095085144, 0.008416367694735527, 0.007946720346808434, 0.0059013222344219685, 0.008371188305318356, 0.008705347776412964, 0.010005475953221321, 0.008430088870227337, 0.010117650032043457, 0.010221987962722778, 0.007239621132612228, 0.006690075621008873, 0.0, 0.0, 0.0, 0.0, 0.0, 0.0, 0.0, 0.0, 0.0, 0.0, 0.0, 0.0], [0.04512576758861542, 0.021271465346217155, 0.02440137043595314, 0.02183019556105137, 0.02205256186425686, 0.02184244617819786, 0.02464606799185276, 0.0241322610527277, 0.023270919919013977, 0.023075947538018227, 0.019066717475652695, 0.023506129160523415, 0.022090567275881767, 0.023336136713624, 0.0235782191157341, 0.022836236283183098, 0.0238015279173851, 0.02466418221592903, 0.07364556193351746, 0.07305765897035599, 0.07013345509767532, 0.07133911550045013, 0.0741375982761383, 0.07545661926269531, 0.036502350121736526, 0.007607043720781803, 0.006994995754212141, 0.004869419150054455, 0.00755759421736002, 0.007870178669691086, 0.009013504721224308, 0.0072378963232040405, 0.008611492812633514, 0.009235593490302563, 0.007077254354953766, 0.005573187954723835, 0.009550780057907104, 0.0, 0.0, 0.0, 0.0, 0.0, 0.0, 0.0, 0.0, 0.0, 0.0, 0.0], [0.04321252927184105, 0.020200153812766075, 0.0221262089908123, 0.02039116621017456, 0.020664338022470474, 0.020663071423768997, 0.023011144250631332, 0.023267950862646103, 0.022432701662182808, 0.022041331976652145, 0.018268469721078873, 0.021847644820809364, 0.021304843947291374, 0.022255001589655876, 0.021694263443350792, 0.02111254818737507, 0.02274099923670292, 0.022260013967752457, 0.07637512683868408, 0.07585737109184265, 0.06984376162290573, 0.07015960663557053, 0.07446248829364777, 0.07657372206449509, 0.04511871188879013, 0.008170121349394321, 0.006924828514456749, 0.005461677443236113, 0.007420039270073175, 0.007806500419974327, 0.007778342347592115, 0.007968072779476643, 0.008776041679084301, 0.010884849354624748, 0.0067895082756876945, 0.006930699106305838, 0.011589134112000465, 0.005615021102130413, 0.0, 0.0, 0.0, 0.0, 0.0, 0.0, 0.0, 0.0, 0.0, 0.0], [0.050860121846199036, 0.020113125443458557, 0.020941421389579773, 0.019546102732419968, 0.01999475248157978, 0.02000763826072216, 0.021490903571248055, 0.02089885249733925, 0.020733118057250977, 0.02167019248008728, 0.01741819828748703, 0.02096521481871605, 0.02005782350897789, 0.020959598943591118, 0.02116687409579754, 0.021207204088568687, 0.021407175809144974, 0.02236609160900116, 0.07543925195932388, 0.075635626912117, 0.07074467092752457, 0.06637600064277649, 0.07190580666065216, 0.07415802776813507, 0.06237197667360306, 0.006302688270807266, 0.007190892938524485, 0.004929598420858383, 0.007123702671378851, 0.007046357728540897, 0.007961219176650047, 0.006763423327356577, 0.00836467556655407, 0.010161277838051319, 0.006220361217856407, 0.0064385379664599895, 0.011695739813148975, 0.005660650786012411, 0.0057051414623856544, 0.0, 0.0, 0.0, 0.0, 0.0, 0.0, 0.0, 0.0, 0.0], [0.04907713457942009, 0.01893426850438118, 0.020656097680330276, 0.01977267675101757, 0.019044410437345505, 0.018783088773489, 0.02109290286898613, 0.021258395165205002, 0.020335456356406212, 0.02136319689452648, 0.016739431768655777, 0.019906776025891304, 0.019557898864150047, 0.021220119670033455, 0.021010927855968475, 0.020547514781355858, 0.02063569612801075, 0.02191878668963909, 0.07008446007966995, 0.06788715720176697, 0.06510976701974869, 0.06528414785861969, 0.06811265647411346, 0.07259439677000046, 0.08942669630050659, 0.00808419194072485, 0.00647308025509119, 0.004341910593211651, 0.006560802925378084, 0.007303385529667139, 0.007453897502273321, 0.007418658584356308, 0.007732026278972626, 0.010662712156772614, 0.006357268895953894, 0.006563968490809202, 0.010998972691595554, 0.005847602151334286, 0.006961135659366846, 0.006886388175189495, 0.0, 0.0, 0.0, 0.0, 0.0, 0.0, 0.0, 0.0], [0.06236661598086357, 0.02058459259569645, 0.02175016701221466, 0.021155904978513718, 0.02115752175450325, 0.02008931152522564, 0.022932587191462517, 0.022807417437434196, 0.02254222147166729, 0.023153988644480705, 0.018584154546260834, 0.02202434465289116, 0.020343409851193428, 0.02311260811984539, 0.022165166214108467, 0.02202744223177433, 0.022156182676553726, 0.024351907894015312, 0.05642875283956528, 0.05441845953464508, 0.05138292908668518, 0.05144752934575081, 0.05160278454422951, 0.05537441745400429, 0.1172599270939827, 0.008028284646570683, 0.008204834535717964, 0.004510320723056793, 0.006847122218459845, 0.008065246045589447, 0.009311452507972717, 0.007613780442625284, 0.008168011903762817, 0.01116484310477972, 0.007436890620738268, 0.007351165637373924, 0.01306537352502346, 0.00740060256794095, 0.008765914477407932, 0.0071446821093559265, 0.005701103713363409, 0.0, 0.0, 0.0, 0.0, 0.0, 0.0, 0.0], [0.06370263546705246, 0.023472702130675316, 0.025086766108870506, 0.024672463536262512, 0.02470501698553562, 0.02328714169561863, 0.026411278173327446, 0.025975467637181282, 0.02512234076857567, 0.026052620261907578, 0.021045830100774765, 0.025002872571349144, 0.023405490443110466, 0.024956049397587776, 0.025531023740768433, 0.02520628646016121, 0.025953583419322968, 0.028147989884018898, 0.040577586740255356, 0.03748195618391037, 0.03662331402301788, 0.03837037831544876, 0.03893714025616646, 0.03929851949214935, 0.13182269036769867, 0.00963993277400732, 0.008171752095222473, 0.005543956067413092, 0.008499076589941978, 0.007468882482498884, 0.01050088182091713, 0.007864423096179962, 0.008364161476492882, 0.012841150164604187, 0.007861415855586529, 0.007706366945058107, 0.013015711680054665, 0.00731119979172945, 0.010045142844319344, 0.009174851700663567, 0.007687876466661692, 0.0074540707282722, 0.0, 0.0, 0.0, 0.0, 0.0, 0.0], [0.038196150213479996, 0.007024270948022604, 0.00879143737256527, 0.00717866001650691, 0.007336679380387068, 0.007685000542551279, 0.008140894584357738, 0.008761868812143803, 0.009105821140110493, 0.008427930995821953, 0.006448724307119846, 0.007344262674450874, 0.009351315908133984, 0.008073193952441216, 0.008706124499440193, 0.008521096780896187, 0.008993959054350853, 0.00808248482644558, 0.07544387131929398, 0.06760291010141373, 0.07649210095405579, 0.07799042761325836, 0.07226283848285675, 0.06872387230396271, 0.2533627152442932, 0.007820792496204376, 0.005493675824254751, 0.0038840663619339466, 0.004971027374267578, 0.00615709787234664, 0.004968311637639999, 0.005371310282498598, 0.004954703617841005, 0.009982368908822536, 0.004745894111692905, 0.006265771109610796, 0.009577478282153606, 0.0036590849049389362, 0.01017750147730112, 0.004352437797933817, 0.0057137394323945045, 0.0020341575145721436, 0.03182194009423256, 0.0, 0.0, 0.0, 0.0, 0.0], [0.036074329167604446, 0.007944541983306408, 0.010715952143073082, 0.0073723094537854195, 0.007680423557758331, 0.008565720170736313, 0.008328801020979881, 0.009778084233403206, 0.009723790921270847, 0.009394420310854912, 0.007153832819312811, 0.008860795758664608, 0.009890231303870678, 0.008342277258634567, 0.009421134367585182, 0.009595421142876148, 0.009762602858245373, 0.009955940768122673, 0.05229572579264641, 0.05062568560242653, 0.05894917622208595, 0.05997120216488838, 0.050802357494831085, 0.05581076070666313, 0.3114089071750641, 0.008709779009222984, 0.007168803364038467, 0.005702771712094545, 0.007723367307335138, 0.00857481174170971, 0.0064937216229736805, 0.00768955098465085, 0.004279604181647301, 0.0104303527623415, 0.005706106312572956, 0.007900848053395748, 0.009171750396490097, 0.004044830799102783, 0.008875837549567223, 0.006382295861840248, 0.0065322923474013805, 0.0038294156547635794, 0.03289905562996864, 0.01946035400032997, 0.0, 0.0, 0.0, 0.0], [0.037983957678079605, 0.007919668219983578, 0.009674246422946453, 0.007683721370995045, 0.00808817520737648, 0.008344200439751148, 0.00912762526422739, 0.010050687938928604, 0.009711711667478085, 0.009482322260737419, 0.006848729681223631, 0.00830860249698162, 0.010532990097999573, 0.008856759406626225, 0.010112660937011242, 0.009462155401706696, 0.009694287553429604, 0.009098992682993412, 0.047262441366910934, 0.044721122831106186, 0.04927360638976097, 0.05413823202252388, 0.04556051641702652, 0.04616884887218475, 0.31254491209983826, 0.011239120736718178, 0.007996663451194763, 0.009893124923110008, 0.00921004731208086, 0.007923383265733719, 0.009894365444779396, 0.006588670890778303, 0.00698184734210372, 0.010640416294336319, 0.0061950585804879665, 0.007264391519129276, 0.008207923732697964, 0.004205602686852217, 0.007798115257173777, 0.006723703816533089, 0.007457831408828497, 0.004199943505227566, 0.027759678661823273, 0.026890268549323082, 0.02227870374917984, 0.0, 0.0, 0.0], [0.03857966884970665, 0.007796598598361015, 0.009795060381293297, 0.0072061168029904366, 0.0066020432859659195, 0.0077520981431007385, 0.009168986231088638, 0.00924568623304367, 0.0101521210744977, 0.007501109037548304, 0.006043195724487305, 0.007609332911670208, 0.010209626518189907, 0.008160116150975227, 0.008467338979244232, 0.008500157855451107, 0.00838522519916296, 0.010786871425807476, 0.04362188279628754, 0.03543752804398537, 0.045778315514326096, 0.04732761159539223, 0.03928034007549286, 0.041044507175683975, 0.33834052085876465, 0.011391151696443558, 0.007159925531595945, 0.008972903713583946, 0.00733793992549181, 0.009242501109838486, 0.008387934416532516, 0.007173565216362476, 0.004866240546107292, 0.008610906079411507, 0.004771933890879154, 0.006041761487722397, 0.0053257266990840435, 0.0034939495380967855, 0.005803863983601332, 0.004881716333329678, 0.007902872748672962, 0.0034917511511594057, 0.018461143597960472, 0.026859300211071968, 0.015952277928590775, 0.051078639924526215, 0.0, 0.0], [0.04876084253191948, 0.007191651035100222, 0.006895186845213175, 0.005914932116866112, 0.00541334506124258, 0.00563094113022089, 0.007374609354883432, 0.007295631337910891, 0.006799019873142242, 0.0064292834140360355, 0.004838829394429922, 0.008860869333148003, 0.008495123125612736, 0.007741137873381376, 0.007400232832878828, 0.0073715876787900925, 0.006147615145891905, 0.008348904550075531, 0.04671157896518707, 0.04383515939116478, 0.05537151172757149, 0.056570831686258316, 0.041085753589868546, 0.040487490594387054, 0.29441627860069275, 0.004482096992433071, 0.00420381361618638, 0.009085590951144695, 0.009621642529964447, 0.005504776258021593, 0.006336044520139694, 0.004102899692952633, 0.002552951220422983, 0.005853258538991213, 0.0022842425387352705, 0.0033374219201505184, 0.0037181051447987556, 0.002196870744228363, 0.0030499333515763283, 0.004571221768856049, 0.005286887288093567, 0.003384831128641963, 0.015552847646176815, 0.017184877768158913, 0.01462706457823515, 0.07541698217391968, 0.05225731059908867, 0.0], [0.01937527395784855, 0.006396024487912655, 0.007708911783993244, 0.006855214014649391, 0.006031832192093134, 0.00706406868994236, 0.007011876907199621, 0.006565141025930643, 0.005331760738044977, 0.009446061216294765, 0.007810904644429684, 0.00566479004919529, 0.01183303352445364, 0.008352845907211304, 0.006827459204941988, 0.006112698931246996, 0.008951732888817787, 0.005735400598496199, 0.08903679996728897, 0.07133796066045761, 0.08037411421537399, 0.08141783624887466, 0.06643887609243393, 0.04569664224982262, 0.04755939543247223, 0.0033218723256140947, 0.0121157206594944, 0.0058809672482311726, 0.004013965371996164, 0.004523546900600195, 0.007326006889343262, 0.004896853119134903, 0.005872134119272232, 0.0047122640535235405, 0.004673789720982313, 0.007684767711907625, 0.01093362458050251, 0.0035624431911855936, 0.009290306828916073, 0.0067981211468577385, 0.002267018426209688, 0.0070883105508983135, 0.04711628332734108, 0.039221618324518204, 0.033706676214933395, 0.06240983307361603, 0.03499220311641693, 0.05265500769019127]]], \"attentionHeadNames\": [\"L0H0\"], \"tokens\": [\"5\", \"0\", \"0\", \"0\", \"0\", \"0\", \"0\", \"0\", \"0\", \"0\", \"0\", \"0\", \"0\", \"0\", \"0\", \"0\", \"0\", \"0\", \"1\", \"1\", \"1\", \"1\", \"1\", \"1\", \"6\", \"0\", \"0\", \"0\", \"0\", \"0\", \"0\", \"0\", \"0\", \"0\", \"0\", \"0\", \"0\", \"0\", \"0\", \"0\", \"0\", \"0\", \"1\", \"1\", \"1\", \"1\", \"1\", \"1\"]}\n",
              "    )\n",
              "    </script></div>"
            ],
            "text/plain": [
              "<IPython.core.display.HTML object>"
            ]
          },
          "execution_count": 54,
          "metadata": {},
          "output_type": "execute_result"
        }
      ],
      "source": [
        "from IPython.display import HTML, IFrame\n",
        "\n",
        "# input_tokens = torch.Tensor([START_TOKEN_ID] + [0] * 5 + [1] * 5 + [MID_TOKEN_ID] + 5 * [0] + 5 * [1]).long().to(DEVICE)\n",
        "\n",
        "# list_to_sort = [1] * LIST_LENGTH // 2 + [0] * (LIST_LENGTH - (LIST_LENGTH // 2))\n",
        "list_to_sort = [0] * 17 + [1] * 6\n",
        "# list_to_sort = [0,1,1,0,1,0,2,3,4,5]\n",
        "# list_to_sort = [0,1,2,3,4,5,6,7,8,9]\n",
        "tokens = torch.Tensor([START_TOKEN_ID] + list_to_sort + [MID_TOKEN_ID] + sorted(list_to_sort)).long().to(DEVICE)\n",
        "\n",
        "# tokens = next(train_gen)[0].to(device=DEVICE)[0]\n",
        "print(tokens.shape)\n",
        "\n",
        "# Run the model and cache all activations\n",
        "original_logits, cache = model.run_with_cache(tokens)\n",
        "\n",
        "positive_html = visualize_attention_patterns(\n",
        "    [0],\n",
        "    cache,\n",
        "    tokens,\n",
        "    f\"What\",\n",
        "    temp=1\n",
        ")\n",
        "\n",
        "\n",
        "HTML(positive_html)"
      ]
    },
    {
      "cell_type": "code",
      "execution_count": 55,
      "metadata": {},
      "outputs": [
        {
          "data": {
            "text/plain": [
              "torch.Size([48])"
            ]
          },
          "execution_count": 55,
          "metadata": {},
          "output_type": "execute_result"
        }
      ],
      "source": [
        "next(iter(val_loader))[0][0].shape"
      ]
    },
    {
      "cell_type": "code",
      "execution_count": 56,
      "metadata": {},
      "outputs": [
        {
          "data": {
            "text/plain": [
              "1.0"
            ]
          },
          "execution_count": 56,
          "metadata": {},
          "output_type": "execute_result"
        }
      ],
      "source": [
        "tokens = next(iter(val_loader))[0][0].to(device=DEVICE)\n",
        "\n",
        "tokens = tokens[None, :]\n",
        "val_acc = validate(model, tokens)\n",
        "val_acc"
      ]
    },
    {
      "cell_type": "code",
      "execution_count": 57,
      "metadata": {},
      "outputs": [
        {
          "data": {
            "text/plain": [
              "tensor([5, 3, 2, 2, 2, 3, 4, 1, 3, 1, 2, 2, 3, 2, 2, 2, 1, 3, 2, 1, 4, 4, 1, 1,\n",
              "        6, 1, 1, 1, 1, 1, 1, 2, 2, 2, 2, 2, 2, 2, 2, 2, 3, 3, 3, 3, 3, 4, 4, 4],\n",
              "       device='mps:0')"
            ]
          },
          "execution_count": 57,
          "metadata": {},
          "output_type": "execute_result"
        }
      ],
      "source": [
        "tokens[0]"
      ]
    },
    {
      "cell_type": "code",
      "execution_count": 58,
      "metadata": {},
      "outputs": [
        {
          "data": {
            "text/plain": [
              "tensor([4, 3, 2, 2, 2, 3, 4, 1, 3, 1, 2, 2, 3, 2, 2, 2, 1, 3, 2, 1, 2, 1, 1, 1,\n",
              "        1, 1, 1, 1, 1, 1, 2, 2, 2, 2, 2, 2, 2, 2, 2, 3, 3, 3, 3, 3, 4, 4, 4],\n",
              "       device='mps:0')"
            ]
          },
          "execution_count": 58,
          "metadata": {},
          "output_type": "execute_result"
        }
      ],
      "source": [
        "model(tokens)[0].argmax(-1)[:-1]"
      ]
    },
    {
      "cell_type": "code",
      "execution_count": 59,
      "metadata": {},
      "outputs": [
        {
          "data": {
            "text/plain": [
              "tensor([True, True, True, True, True, True, True, True, True, True, True, True,\n",
              "        True, True, True, True, True, True, True, True, True, True, True])"
            ]
          },
          "execution_count": 59,
          "metadata": {},
          "output_type": "execute_result"
        }
      ],
      "source": [
        "model(tokens)[0].argmax(-1)[24:-1].cpu() == tokens[0][25:].cpu()"
      ]
    },
    {
      "cell_type": "code",
      "execution_count": 60,
      "metadata": {},
      "outputs": [
        {
          "name": "stdout",
          "output_type": "stream",
          "text": [
            "torch.Size([1, 48])\n"
          ]
        },
        {
          "data": {
            "text/html": [
              "<div style='max-width: 1000px;'><h2>What</h2><br/><div id=\"circuits-vis-b19b3cd4-53ea\" style=\"margin: 15px 0;\"/>\n",
              "    <script crossorigin type=\"module\">\n",
              "    import { render, AttentionHeads } from \"https://unpkg.com/circuitsvis@1.43.2/dist/cdn/esm.js\";\n",
              "    render(\n",
              "      \"circuits-vis-b19b3cd4-53ea\",\n",
              "      AttentionHeads,\n",
              "      {\"attention\": [[[1.0, 0.0, 0.0, 0.0, 0.0, 0.0, 0.0, 0.0, 0.0, 0.0, 0.0, 0.0, 0.0, 0.0, 0.0, 0.0, 0.0, 0.0, 0.0, 0.0, 0.0, 0.0, 0.0, 0.0, 0.0, 0.0, 0.0, 0.0, 0.0, 0.0, 0.0, 0.0, 0.0, 0.0, 0.0, 0.0, 0.0, 0.0, 0.0, 0.0, 0.0, 0.0, 0.0, 0.0, 0.0, 0.0, 0.0, 0.0], [0.060625843703746796, 0.9393741488456726, 0.0, 0.0, 0.0, 0.0, 0.0, 0.0, 0.0, 0.0, 0.0, 0.0, 0.0, 0.0, 0.0, 0.0, 0.0, 0.0, 0.0, 0.0, 0.0, 0.0, 0.0, 0.0, 0.0, 0.0, 0.0, 0.0, 0.0, 0.0, 0.0, 0.0, 0.0, 0.0, 0.0, 0.0, 0.0, 0.0, 0.0, 0.0, 0.0, 0.0, 0.0, 0.0, 0.0, 0.0, 0.0, 0.0], [0.0413341224193573, 0.13324682414531708, 0.8254190683364868, 0.0, 0.0, 0.0, 0.0, 0.0, 0.0, 0.0, 0.0, 0.0, 0.0, 0.0, 0.0, 0.0, 0.0, 0.0, 0.0, 0.0, 0.0, 0.0, 0.0, 0.0, 0.0, 0.0, 0.0, 0.0, 0.0, 0.0, 0.0, 0.0, 0.0, 0.0, 0.0, 0.0, 0.0, 0.0, 0.0, 0.0, 0.0, 0.0, 0.0, 0.0, 0.0, 0.0, 0.0, 0.0], [0.041463762521743774, 0.15236586332321167, 0.3894404470920563, 0.41672998666763306, 0.0, 0.0, 0.0, 0.0, 0.0, 0.0, 0.0, 0.0, 0.0, 0.0, 0.0, 0.0, 0.0, 0.0, 0.0, 0.0, 0.0, 0.0, 0.0, 0.0, 0.0, 0.0, 0.0, 0.0, 0.0, 0.0, 0.0, 0.0, 0.0, 0.0, 0.0, 0.0, 0.0, 0.0, 0.0, 0.0, 0.0, 0.0, 0.0, 0.0, 0.0, 0.0, 0.0, 0.0], [0.0196695476770401, 0.1717725247144699, 0.29505056142807007, 0.24631446599960327, 0.2671929895877838, 0.0, 0.0, 0.0, 0.0, 0.0, 0.0, 0.0, 0.0, 0.0, 0.0, 0.0, 0.0, 0.0, 0.0, 0.0, 0.0, 0.0, 0.0, 0.0, 0.0, 0.0, 0.0, 0.0, 0.0, 0.0, 0.0, 0.0, 0.0, 0.0, 0.0, 0.0, 0.0, 0.0, 0.0, 0.0, 0.0, 0.0, 0.0, 0.0, 0.0, 0.0, 0.0, 0.0], [0.06672844290733337, 0.4176188111305237, 0.02378692664206028, 0.020855018869042397, 0.02049272321164608, 0.45051807165145874, 0.0, 0.0, 0.0, 0.0, 0.0, 0.0, 0.0, 0.0, 0.0, 0.0, 0.0, 0.0, 0.0, 0.0, 0.0, 0.0, 0.0, 0.0, 0.0, 0.0, 0.0, 0.0, 0.0, 0.0, 0.0, 0.0, 0.0, 0.0, 0.0, 0.0, 0.0, 0.0, 0.0, 0.0, 0.0, 0.0, 0.0, 0.0, 0.0, 0.0, 0.0, 0.0], [0.11314212530851364, 0.08323032408952713, 0.024744903668761253, 0.030941158533096313, 0.022376934066414833, 0.061148934066295624, 0.6644155979156494, 0.0, 0.0, 0.0, 0.0, 0.0, 0.0, 0.0, 0.0, 0.0, 0.0, 0.0, 0.0, 0.0, 0.0, 0.0, 0.0, 0.0, 0.0, 0.0, 0.0, 0.0, 0.0, 0.0, 0.0, 0.0, 0.0, 0.0, 0.0, 0.0, 0.0, 0.0, 0.0, 0.0, 0.0, 0.0, 0.0, 0.0, 0.0, 0.0, 0.0, 0.0], [0.08221795409917831, 0.0652882382273674, 0.07785887271165848, 0.054944925010204315, 0.04531816393136978, 0.09767372906208038, 0.026137107983231544, 0.5505610704421997, 0.0, 0.0, 0.0, 0.0, 0.0, 0.0, 0.0, 0.0, 0.0, 0.0, 0.0, 0.0, 0.0, 0.0, 0.0, 0.0, 0.0, 0.0, 0.0, 0.0, 0.0, 0.0, 0.0, 0.0, 0.0, 0.0, 0.0, 0.0, 0.0, 0.0, 0.0, 0.0, 0.0, 0.0, 0.0, 0.0, 0.0, 0.0, 0.0, 0.0], [0.009760009124875069, 0.36087527871131897, 0.005447598174214363, 0.004814614541828632, 0.003680412657558918, 0.30667945742607117, 0.06266620755195618, 0.011747445911169052, 0.2343290150165558, 0.0, 0.0, 0.0, 0.0, 0.0, 0.0, 0.0, 0.0, 0.0, 0.0, 0.0, 0.0, 0.0, 0.0, 0.0, 0.0, 0.0, 0.0, 0.0, 0.0, 0.0, 0.0, 0.0, 0.0, 0.0, 0.0, 0.0, 0.0, 0.0, 0.0, 0.0, 0.0, 0.0, 0.0, 0.0, 0.0, 0.0, 0.0, 0.0], [0.05509914830327034, 0.034830354154109955, 0.07944285124540329, 0.06983794271945953, 0.09645777195692062, 0.0460115522146225, 0.01598062366247177, 0.21865756809711456, 0.0417666994035244, 0.341915488243103, 0.0, 0.0, 0.0, 0.0, 0.0, 0.0, 0.0, 0.0, 0.0, 0.0, 0.0, 0.0, 0.0, 0.0, 0.0, 0.0, 0.0, 0.0, 0.0, 0.0, 0.0, 0.0, 0.0, 0.0, 0.0, 0.0, 0.0, 0.0, 0.0, 0.0, 0.0, 0.0, 0.0, 0.0, 0.0, 0.0, 0.0, 0.0], [0.024735743179917336, 0.05125841125845909, 0.1762397736310959, 0.17849843204021454, 0.18332824110984802, 0.05500153452157974, 0.025624534115195274, 0.02410944737493992, 0.04532887786626816, 0.032688312232494354, 0.20318670570850372, 0.0, 0.0, 0.0, 0.0, 0.0, 0.0, 0.0, 0.0, 0.0, 0.0, 0.0, 0.0, 0.0, 0.0, 0.0, 0.0, 0.0, 0.0, 0.0, 0.0, 0.0, 0.0, 0.0, 0.0, 0.0, 0.0, 0.0, 0.0, 0.0, 0.0, 0.0, 0.0, 0.0, 0.0, 0.0, 0.0, 0.0], [0.015987982973456383, 0.09154270589351654, 0.1382489949464798, 0.12353816628456116, 0.14355167746543884, 0.08370183408260345, 0.051858145743608475, 0.017661619931459427, 0.06200764700770378, 0.02692437171936035, 0.13486184179782867, 0.11011499166488647, 0.0, 0.0, 0.0, 0.0, 0.0, 0.0, 0.0, 0.0, 0.0, 0.0, 0.0, 0.0, 0.0, 0.0, 0.0, 0.0, 0.0, 0.0, 0.0, 0.0, 0.0, 0.0, 0.0, 0.0, 0.0, 0.0, 0.0, 0.0, 0.0, 0.0, 0.0, 0.0, 0.0, 0.0, 0.0, 0.0], [0.014331494458019733, 0.21513518691062927, 0.012344980612397194, 0.00704321451485157, 0.011214722879230976, 0.24110335111618042, 0.0899706557393074, 0.006728536449372768, 0.16344070434570312, 0.009417079389095306, 0.014001298695802689, 0.011996280401945114, 0.2032725065946579, 0.0, 0.0, 0.0, 0.0, 0.0, 0.0, 0.0, 0.0, 0.0, 0.0, 0.0, 0.0, 0.0, 0.0, 0.0, 0.0, 0.0, 0.0, 0.0, 0.0, 0.0, 0.0, 0.0, 0.0, 0.0, 0.0, 0.0, 0.0, 0.0, 0.0, 0.0, 0.0, 0.0, 0.0, 0.0], [0.007112538442015648, 0.0620664581656456, 0.11813954263925552, 0.11930090934038162, 0.11666829884052277, 0.04359837621450424, 0.019623709842562675, 0.013292849063873291, 0.059941623359918594, 0.015898719429969788, 0.11889518797397614, 0.11777552962303162, 0.06122204288840294, 0.12646423280239105, 0.0, 0.0, 0.0, 0.0, 0.0, 0.0, 0.0, 0.0, 0.0, 0.0, 0.0, 0.0, 0.0, 0.0, 0.0, 0.0, 0.0, 0.0, 0.0, 0.0, 0.0, 0.0, 0.0, 0.0, 0.0, 0.0, 0.0, 0.0, 0.0, 0.0, 0.0, 0.0, 0.0, 0.0], [0.008357994258403778, 0.03208288550376892, 0.11014284938573837, 0.12143789231777191, 0.09635543078184128, 0.03326656296849251, 0.023905621841549873, 0.016137491911649704, 0.027023041620850563, 0.01979338377714157, 0.11327045410871506, 0.07972639799118042, 0.021739080548286438, 0.09736994653940201, 0.1993909776210785, 0.0, 0.0, 0.0, 0.0, 0.0, 0.0, 0.0, 0.0, 0.0, 0.0, 0.0, 0.0, 0.0, 0.0, 0.0, 0.0, 0.0, 0.0, 0.0, 0.0, 0.0, 0.0, 0.0, 0.0, 0.0, 0.0, 0.0, 0.0, 0.0, 0.0, 0.0, 0.0, 0.0], [0.005325839389115572, 0.028186630457639694, 0.12975771725177765, 0.10286343842744827, 0.11949614435434341, 0.022512255236506462, 0.013770883902907372, 0.006156028248369694, 0.02120318077504635, 0.01065214816480875, 0.134610116481781, 0.06368806213140488, 0.03538130223751068, 0.11100947856903076, 0.09827370941638947, 0.09711311012506485, 0.0, 0.0, 0.0, 0.0, 0.0, 0.0, 0.0, 0.0, 0.0, 0.0, 0.0, 0.0, 0.0, 0.0, 0.0, 0.0, 0.0, 0.0, 0.0, 0.0, 0.0, 0.0, 0.0, 0.0, 0.0, 0.0, 0.0, 0.0, 0.0, 0.0, 0.0, 0.0], [0.046156737953424454, 0.0248215701431036, 0.04331192374229431, 0.027121979743242264, 0.03499164059758186, 0.018188266083598137, 0.0221740510314703, 0.1470452845096588, 0.021056555211544037, 0.20812803506851196, 0.037177685648202896, 0.04758455976843834, 0.03137006610631943, 0.06362567096948624, 0.05279713496565819, 0.030889708548784256, 0.14355918765068054, 0.0, 0.0, 0.0, 0.0, 0.0, 0.0, 0.0, 0.0, 0.0, 0.0, 0.0, 0.0, 0.0, 0.0, 0.0, 0.0, 0.0, 0.0, 0.0, 0.0, 0.0, 0.0, 0.0, 0.0, 0.0, 0.0, 0.0, 0.0, 0.0, 0.0, 0.0], [0.008322554640471935, 0.18995018303394318, 0.008981460705399513, 0.007769704796373844, 0.009703329764306545, 0.1345854103565216, 0.050154030323028564, 0.0042696925811469555, 0.13257499039173126, 0.0058152806013822556, 0.010625978000462055, 0.009371105581521988, 0.170327290892601, 0.011377674527466297, 0.011760042980313301, 0.009800165891647339, 0.00325000355951488, 0.22136107087135315, 0.0, 0.0, 0.0, 0.0, 0.0, 0.0, 0.0, 0.0, 0.0, 0.0, 0.0, 0.0, 0.0, 0.0, 0.0, 0.0, 0.0, 0.0, 0.0, 0.0, 0.0, 0.0, 0.0, 0.0, 0.0, 0.0, 0.0, 0.0, 0.0, 0.0], [0.008881961926817894, 0.03653297573328018, 0.06475315988063812, 0.0679134950041771, 0.07351355999708176, 0.0469062440097332, 0.008639448322355747, 0.005893781781196594, 0.05346093326807022, 0.014832467772066593, 0.07034558057785034, 0.10949485749006271, 0.060662176460027695, 0.07601075619459152, 0.10983112454414368, 0.06893489509820938, 0.013023477047681808, 0.03125453367829323, 0.07911459356546402, 0.0, 0.0, 0.0, 0.0, 0.0, 0.0, 0.0, 0.0, 0.0, 0.0, 0.0, 0.0, 0.0, 0.0, 0.0, 0.0, 0.0, 0.0, 0.0, 0.0, 0.0, 0.0, 0.0, 0.0, 0.0, 0.0, 0.0, 0.0, 0.0], [0.01985323615372181, 0.03180514648556709, 0.02728985622525215, 0.029218582436442375, 0.02606550045311451, 0.021175097674131393, 0.00780872767791152, 0.14178775250911713, 0.02855820581316948, 0.15463481843471527, 0.02766355499625206, 0.02236471325159073, 0.03314751759171486, 0.024005422368645668, 0.02057546190917492, 0.02201000042259693, 0.18978305160999298, 0.02341976948082447, 0.03370266407728195, 0.11513087898492813, 0.0, 0.0, 0.0, 0.0, 0.0, 0.0, 0.0, 0.0, 0.0, 0.0, 0.0, 0.0, 0.0, 0.0, 0.0, 0.0, 0.0, 0.0, 0.0, 0.0, 0.0, 0.0, 0.0, 0.0, 0.0, 0.0, 0.0, 0.0], [0.13884875178337097, 0.02637435868382454, 0.01875159703195095, 0.01779482141137123, 0.015143639408051968, 0.025209888815879822, 0.18655329942703247, 0.028492208570241928, 0.014878214336931705, 0.03357692062854767, 0.018324360251426697, 0.03610917180776596, 0.029479311779141426, 0.019566643983125687, 0.013442224822938442, 0.015431124716997147, 0.027276715263724327, 0.017997944727540016, 0.016624469310045242, 0.044300612062215805, 0.2558237910270691, 0.0, 0.0, 0.0, 0.0, 0.0, 0.0, 0.0, 0.0, 0.0, 0.0, 0.0, 0.0, 0.0, 0.0, 0.0, 0.0, 0.0, 0.0, 0.0, 0.0, 0.0, 0.0, 0.0, 0.0, 0.0, 0.0, 0.0], [0.04704653099179268, 0.012194124050438404, 0.016358336433768272, 0.02189609222114086, 0.011071750894188881, 0.012478485703468323, 0.1716669499874115, 0.026401085779070854, 0.005798443220555782, 0.024043438956141472, 0.021502992138266563, 0.03079688921570778, 0.008429637178778648, 0.01600463315844536, 0.014976771548390388, 0.017675593495368958, 0.014790746383368969, 0.008603977970778942, 0.01843656226992607, 0.026967642828822136, 0.24481359124183655, 0.22804580628871918, 0.0, 0.0, 0.0, 0.0, 0.0, 0.0, 0.0, 0.0, 0.0, 0.0, 0.0, 0.0, 0.0, 0.0, 0.0, 0.0, 0.0, 0.0, 0.0, 0.0, 0.0, 0.0, 0.0, 0.0, 0.0, 0.0], [0.0374443493783474, 0.030997686088085175, 0.028744779527187347, 0.0242744293063879, 0.02627796307206154, 0.035458631813526154, 0.030327092856168747, 0.1276538223028183, 0.04026238992810249, 0.09025014191865921, 0.021547002717852592, 0.015848245471715927, 0.029535530135035515, 0.018575172871351242, 0.041757531464099884, 0.0291895754635334, 0.11356521397829056, 0.03909839317202568, 0.02320890501141548, 0.05688587948679924, 0.020457716658711433, 0.01660260371863842, 0.10203688591718674, 0.0, 0.0, 0.0, 0.0, 0.0, 0.0, 0.0, 0.0, 0.0, 0.0, 0.0, 0.0, 0.0, 0.0, 0.0, 0.0, 0.0, 0.0, 0.0, 0.0, 0.0, 0.0, 0.0, 0.0, 0.0], [0.027783401310443878, 0.009992185048758984, 0.01881333999335766, 0.014001860283315182, 0.016438808292150497, 0.011816616170108318, 0.005546854808926582, 0.1072743758559227, 0.014606313779950142, 0.12124434858560562, 0.012882092036306858, 0.012806616723537445, 0.01777525059878826, 0.021708887070417404, 0.012179379351437092, 0.013385173864662647, 0.12928663194179535, 0.010853365063667297, 0.01901835761964321, 0.16351306438446045, 0.004761608317494392, 0.00658767856657505, 0.11908213794231415, 0.10864165425300598, 0.0, 0.0, 0.0, 0.0, 0.0, 0.0, 0.0, 0.0, 0.0, 0.0, 0.0, 0.0, 0.0, 0.0, 0.0, 0.0, 0.0, 0.0, 0.0, 0.0, 0.0, 0.0, 0.0, 0.0], [0.1038164496421814, 0.01858658902347088, 0.02972652204334736, 0.03254334256052971, 0.024373192340135574, 0.01575181633234024, 0.006324796937406063, 0.08896492421627045, 0.017186757177114487, 0.09100499749183655, 0.02394183725118637, 0.035182636231184006, 0.020334919914603233, 0.02342388778924942, 0.023161526769399643, 0.028033876791596413, 0.0916619673371315, 0.02218564972281456, 0.02576449327170849, 0.10866671800613403, 0.006401744671165943, 0.006368367001414299, 0.07139929383993149, 0.08251417428255081, 0.002679566154256463, 0.0, 0.0, 0.0, 0.0, 0.0, 0.0, 0.0, 0.0, 0.0, 0.0, 0.0, 0.0, 0.0, 0.0, 0.0, 0.0, 0.0, 0.0, 0.0, 0.0, 0.0, 0.0, 0.0], [0.03947152569890022, 0.007821756415069103, 0.02680955082178116, 0.017627539113163948, 0.02118494361639023, 0.010761570185422897, 0.006710563320666552, 0.1022530272603035, 0.011847059242427349, 0.09403827786445618, 0.02031075581908226, 0.016775527969002724, 0.010777397081255913, 0.018099475651979446, 0.023829292505979538, 0.022600563243031502, 0.1212807223200798, 0.010245143435895443, 0.018793608993291855, 0.10434164106845856, 0.006353581789880991, 0.005475159268826246, 0.11375461518764496, 0.08647814393043518, 0.013744169846177101, 0.06861445307731628, 0.0, 0.0, 0.0, 0.0, 0.0, 0.0, 0.0, 0.0, 0.0, 0.0, 0.0, 0.0, 0.0, 0.0, 0.0, 0.0, 0.0, 0.0, 0.0, 0.0, 0.0, 0.0], [0.038037706166505814, 0.013793339021503925, 0.022913383319973946, 0.017727641388773918, 0.019373346120119095, 0.017050353810191154, 0.008598566986620426, 0.09711938351392746, 0.017387457191944122, 0.09399444609880447, 0.018663709983229637, 0.020641924813389778, 0.01855725236237049, 0.020072098821401596, 0.023114707320928574, 0.021413719281554222, 0.09592645615339279, 0.016818296164274216, 0.021381240338087082, 0.09583225101232529, 0.009199491702020168, 0.008017236366868019, 0.09175857901573181, 0.08881188184022903, 0.016040174290537834, 0.02034923993051052, 0.06740610301494598, 0.0, 0.0, 0.0, 0.0, 0.0, 0.0, 0.0, 0.0, 0.0, 0.0, 0.0, 0.0, 0.0, 0.0, 0.0, 0.0, 0.0, 0.0, 0.0, 0.0, 0.0], [0.0285669956356287, 0.016100246459245682, 0.021753394976258278, 0.01589534804224968, 0.01678520441055298, 0.01771954447031021, 0.009437997825443745, 0.09197394549846649, 0.020247437059879303, 0.08881943672895432, 0.01634342037141323, 0.01880388706922531, 0.023189323022961617, 0.019222984090447426, 0.0209535900503397, 0.020003261044621468, 0.08699482679367065, 0.017898965626955032, 0.019352121278643608, 0.08694442361593246, 0.010362282395362854, 0.00922764465212822, 0.08708292990922928, 0.08000290393829346, 0.010914328508079052, 0.029975395649671555, 0.057760149240493774, 0.057668086141347885, 0.0, 0.0, 0.0, 0.0, 0.0, 0.0, 0.0, 0.0, 0.0, 0.0, 0.0, 0.0, 0.0, 0.0, 0.0, 0.0, 0.0, 0.0, 0.0, 0.0], [0.02639739029109478, 0.016157398000359535, 0.01939389295876026, 0.015094836242496967, 0.014590590260922909, 0.01716720312833786, 0.008589768782258034, 0.08414879441261292, 0.018898045644164085, 0.08039318770170212, 0.015025030821561813, 0.01651877723634243, 0.021442463621497154, 0.01620052009820938, 0.017556535080075264, 0.01824631541967392, 0.08594246208667755, 0.01706169731914997, 0.01653067208826542, 0.0862010195851326, 0.010450863279402256, 0.009640167467296124, 0.08491502702236176, 0.08183369785547256, 0.014550065621733665, 0.031117865815758705, 0.05187135562300682, 0.05101941525936127, 0.05304500088095665, 0.0, 0.0, 0.0, 0.0, 0.0, 0.0, 0.0, 0.0, 0.0, 0.0, 0.0, 0.0, 0.0, 0.0, 0.0, 0.0, 0.0, 0.0, 0.0], [0.021845297887921333, 0.016004906967282295, 0.020135153084993362, 0.015685221180319786, 0.01582285948097706, 0.016730498522520065, 0.008489315398037434, 0.08017183840274811, 0.018620077520608902, 0.07688106596469879, 0.015452384017407894, 0.017588375136256218, 0.01995200105011463, 0.016614951193332672, 0.018188433721661568, 0.018697194755077362, 0.0810556560754776, 0.01726171001791954, 0.01737048104405403, 0.08007700741291046, 0.009408781304955482, 0.009118945337831974, 0.07784808427095413, 0.07629808038473129, 0.01304016262292862, 0.02599985897541046, 0.05271444097161293, 0.04593070223927498, 0.05641452595591545, 0.040581971406936646, 0.0, 0.0, 0.0, 0.0, 0.0, 0.0, 0.0, 0.0, 0.0, 0.0, 0.0, 0.0, 0.0, 0.0, 0.0, 0.0, 0.0, 0.0], [0.017466800287365913, 0.015054087154567242, 0.018597139045596123, 0.014674502424895763, 0.015439406037330627, 0.015637069940567017, 0.007224667351692915, 0.0781964659690857, 0.01798485964536667, 0.07356026768684387, 0.015035053715109825, 0.015600303187966347, 0.018743835389614105, 0.01522991992533207, 0.017474060878157616, 0.018156377598643303, 0.07628271728754044, 0.015979265794157982, 0.016119446605443954, 0.07521582394838333, 0.00799322035163641, 0.007698593661189079, 0.07425512373447418, 0.07507017999887466, 0.01252754032611847, 0.027000514790415764, 0.056527476757764816, 0.04624952748417854, 0.05492663010954857, 0.040365930646657944, 0.03971318528056145, 0.0, 0.0, 0.0, 0.0, 0.0, 0.0, 0.0, 0.0, 0.0, 0.0, 0.0, 0.0, 0.0, 0.0, 0.0, 0.0, 0.0], [0.006736674811691046, 0.03077857568860054, 0.07936234772205353, 0.07661378383636475, 0.07741277664899826, 0.02895514667034149, 0.009995016269385815, 0.0073541621677577496, 0.02869025431573391, 0.009684087708592415, 0.07760602980852127, 0.07867439091205597, 0.02995283342897892, 0.0805404856801033, 0.07617203891277313, 0.07321247458457947, 0.009112353436648846, 0.026555556803941727, 0.07642723619937897, 0.007735883351415396, 0.008908625692129135, 0.012522457167506218, 0.008324114605784416, 0.008306244388222694, 0.004781731404364109, 0.004029547795653343, 0.004969540052115917, 0.0021087280474603176, 0.004244670737534761, 0.005312053021043539, 0.003907175734639168, 0.04101298004388809, 0.0, 0.0, 0.0, 0.0, 0.0, 0.0, 0.0, 0.0, 0.0, 0.0, 0.0, 0.0, 0.0, 0.0, 0.0, 0.0], [0.005807898938655853, 0.030295919626951218, 0.07573994249105453, 0.07082028687000275, 0.07468011975288391, 0.02857300639152527, 0.008974357508122921, 0.008634325116872787, 0.02949582412838936, 0.010973984375596046, 0.07296676188707352, 0.07128040492534637, 0.03063356876373291, 0.0757453590631485, 0.07177399098873138, 0.07060302048921585, 0.010284989140927792, 0.028465813025832176, 0.07124561071395874, 0.008906848728656769, 0.008350863121449947, 0.01097236666828394, 0.009219015017151833, 0.009561868384480476, 0.00615664292126894, 0.004289646167308092, 0.006169875152409077, 0.0022839868906885386, 0.005187435075640678, 0.006361646577715874, 0.005200430750846863, 0.03840825706720352, 0.03193594142794609, 0.0, 0.0, 0.0, 0.0, 0.0, 0.0, 0.0, 0.0, 0.0, 0.0, 0.0, 0.0, 0.0, 0.0, 0.0], [0.006305281538516283, 0.029114309698343277, 0.07235277444124222, 0.06805776059627533, 0.06949961185455322, 0.0272529274225235, 0.00976724922657013, 0.008231692016124725, 0.027667712420225143, 0.010717825964093208, 0.0709659606218338, 0.07012505829334259, 0.02854045294225216, 0.0728745311498642, 0.07105577737092972, 0.06685459613800049, 0.009931445121765137, 0.025540903210639954, 0.07231851667165756, 0.008341108448803425, 0.009236649610102177, 0.012054153718054295, 0.00941101461648941, 0.009712250903248787, 0.005166374612599611, 0.006619016639888287, 0.004660467617213726, 0.0022993553429841995, 0.004715277813374996, 0.006349326577037573, 0.005738642532378435, 0.03870068117976189, 0.030773689970374107, 0.029047640040516853, 0.0, 0.0, 0.0, 0.0, 0.0, 0.0, 0.0, 0.0, 0.0, 0.0, 0.0, 0.0, 0.0, 0.0], [0.0058224801905453205, 0.028811149299144745, 0.06903831660747528, 0.06529433280229568, 0.06640645116567612, 0.026978367939591408, 0.009422260336577892, 0.007662578020244837, 0.027009762823581696, 0.010311289690434933, 0.0681939572095871, 0.06968294829130173, 0.028567414730787277, 0.06935258954763412, 0.06690021604299545, 0.0648944154381752, 0.009806807152926922, 0.02538253553211689, 0.0669248104095459, 0.008450396358966827, 0.008756275288760662, 0.011388852261006832, 0.00857781246304512, 0.008626165799796581, 0.005980946589261293, 0.005734071135520935, 0.004339456092566252, 0.0022269466426223516, 0.004415697883814573, 0.0054421392269432545, 0.005739453248679638, 0.0401327908039093, 0.031761638820171356, 0.030538056045770645, 0.031426675617694855, 0.0, 0.0, 0.0, 0.0, 0.0, 0.0, 0.0, 0.0, 0.0, 0.0, 0.0, 0.0, 0.0], [0.004703281447291374, 0.02725234255194664, 0.06636983901262283, 0.06306242942810059, 0.06427039951086044, 0.025912614539265633, 0.008759583346545696, 0.007481564301997423, 0.026689356192946434, 0.010025831870734692, 0.0652884840965271, 0.06563092023134232, 0.027022510766983032, 0.06704884022474289, 0.06662537157535553, 0.06341716647148132, 0.009819318540394306, 0.02486317791044712, 0.06447969377040863, 0.00804543774574995, 0.008155012503266335, 0.010544334538280964, 0.008478634059429169, 0.008422800339758396, 0.005457832477986813, 0.006798626855015755, 0.003927949815988541, 0.0022848050575703382, 0.004224592819809914, 0.005524551961570978, 0.00569827388972044, 0.038303859531879425, 0.0352725125849247, 0.031368933618068695, 0.03225550800561905, 0.02651357278227806, 0.0, 0.0, 0.0, 0.0, 0.0, 0.0, 0.0, 0.0, 0.0, 0.0, 0.0, 0.0], [0.0051175933331251144, 0.025872718542814255, 0.06560897827148438, 0.059933893382549286, 0.06096743419766426, 0.02531835250556469, 0.009103558026254177, 0.008190548047423363, 0.0261070616543293, 0.010281510651111603, 0.06136874854564667, 0.06350995600223541, 0.02592836134135723, 0.06391554325819016, 0.06265030801296234, 0.06059227138757706, 0.009934311732649803, 0.02390328235924244, 0.05953686311841011, 0.0086211534217, 0.008359517902135849, 0.011287321336567402, 0.009195307269692421, 0.009159985929727554, 0.006151952780783176, 0.007328111212700605, 0.004209643229842186, 0.002413322916254401, 0.004698107019066811, 0.006026261951774359, 0.006172661203891039, 0.03560817986726761, 0.03229881823062897, 0.030773364007472992, 0.03400716185569763, 0.024422537535429, 0.03142537921667099, 0.0, 0.0, 0.0, 0.0, 0.0, 0.0, 0.0, 0.0, 0.0, 0.0, 0.0], [0.004110739100724459, 0.023806827142834663, 0.06207587197422981, 0.05861269310116768, 0.05965476110577583, 0.023123260587453842, 0.0076107606291770935, 0.007412652485072613, 0.024520311504602432, 0.009266247041523457, 0.06111358478665352, 0.061794549226760864, 0.024242015555500984, 0.06371849030256271, 0.060137808322906494, 0.05869133397936821, 0.008940665982663631, 0.0208072979003191, 0.060276374220848083, 0.0078708091750741, 0.006949116941541433, 0.009334546513855457, 0.008133821189403534, 0.008188731968402863, 0.006345995701849461, 0.006908218376338482, 0.003531496739014983, 0.002260168781504035, 0.003979620523750782, 0.005192967131733894, 0.004640932660549879, 0.0374828577041626, 0.031219979748129845, 0.034522559493780136, 0.030849803239107132, 0.028045522049069405, 0.03595982864499092, 0.028666775673627853, 0.0, 0.0, 0.0, 0.0, 0.0, 0.0, 0.0, 0.0, 0.0, 0.0], [0.004641593899577856, 0.02530130371451378, 0.05898348242044449, 0.056886136531829834, 0.05829789116978645, 0.023770784959197044, 0.008068100549280643, 0.00645630294457078, 0.023907005786895752, 0.008745971135795116, 0.0594310499727726, 0.05977720022201538, 0.02419712021946907, 0.06001144275069237, 0.05856696516275406, 0.05934799462556839, 0.008120802231132984, 0.0222695991396904, 0.057639360427856445, 0.007322475779801607, 0.007773521821945906, 0.009659960865974426, 0.007335056085139513, 0.007402803748846054, 0.008261997252702713, 0.005227872636169195, 0.003708847565576434, 0.002095796400681138, 0.0038630792405456305, 0.004738329444080591, 0.004775861278176308, 0.033143844455480576, 0.030846847221255302, 0.03339193016290665, 0.029825575649738312, 0.027414653450250626, 0.03729654476046562, 0.03028261847794056, 0.021212289109826088, 0.0, 0.0, 0.0, 0.0, 0.0, 0.0, 0.0, 0.0, 0.0], [0.0033943576272577047, 0.026311853900551796, 0.05758662149310112, 0.057076286524534225, 0.05504785478115082, 0.024358075112104416, 0.007640721742063761, 0.004802229814231396, 0.0258247759193182, 0.006458201911300421, 0.05709598585963249, 0.056375905871391296, 0.0259054284542799, 0.06034093350172043, 0.057517893612384796, 0.05696495249867439, 0.005837048403918743, 0.02353532984852791, 0.05605584755539894, 0.005128385499119759, 0.007331683300435543, 0.009898118674755096, 0.005433134734630585, 0.005669089034199715, 0.009464268572628498, 0.005022191908210516, 0.0023443871177732944, 0.0012376343365758657, 0.0025219896342605352, 0.0035805688239634037, 0.0032377257011830807, 0.03519986569881439, 0.027071135118603706, 0.03348168358206749, 0.029125232249498367, 0.02651049941778183, 0.03382464125752449, 0.029966656118631363, 0.024010993540287018, 0.03180979564785957, 0.0, 0.0, 0.0, 0.0, 0.0, 0.0, 0.0, 0.0], [0.0048450990580022335, 0.1533173769712448, 0.006010770332068205, 0.005367110949009657, 0.00568431569263339, 0.14553247392177582, 0.029233483597636223, 0.0021657622419297695, 0.14404040575027466, 0.002474738284945488, 0.005964150186628103, 0.006372920703142881, 0.1473812460899353, 0.0058797504752874374, 0.005291410256177187, 0.005660257302224636, 0.0022938523907214403, 0.16203457117080688, 0.0051883552223443985, 0.002102919854223728, 0.025723092257976532, 0.032184429466724396, 0.0021894918754696846, 0.0020889409352093935, 0.018128734081983566, 0.0015783167909830809, 0.000752525229472667, 0.0003071506507694721, 0.0005408034776337445, 0.0008487133891321719, 0.0014467670116573572, 0.0027466597966849804, 0.0028460088651627302, 0.002701894612982869, 0.002468345919623971, 0.0023764092475175858, 0.0034516078885644674, 0.003045496065169573, 0.002708683954551816, 0.002379400422796607, 0.042645592242479324, 0.0, 0.0, 0.0, 0.0, 0.0, 0.0, 0.0], [0.003988419659435749, 0.14353787899017334, 0.004667655099183321, 0.0041669150814414024, 0.004430481232702732, 0.1390918642282486, 0.04148467257618904, 0.0012759945821017027, 0.13100552558898926, 0.00143599568400532, 0.004480551928281784, 0.004814105108380318, 0.13844414055347443, 0.00424369378015399, 0.00412831362336874, 0.004326691385358572, 0.0014010604936629534, 0.14983248710632324, 0.003936137072741985, 0.0011712389532476664, 0.036260176450014114, 0.04625678434967995, 0.0013438056921586394, 0.0011999636190012097, 0.015694748610258102, 0.0010509872809052467, 0.00042058818507939577, 0.0002174400578951463, 0.0003758464881684631, 0.00043684145202860236, 0.0008985794265754521, 0.002048626309260726, 0.0021269689314067364, 0.002209993312135339, 0.0018898674752563238, 0.0018174973083660007, 0.0024264005478471518, 0.002211612416431308, 0.0022530248388648033, 0.002270696684718132, 0.053257837891578674, 0.031467895954847336, 0.0, 0.0, 0.0, 0.0, 0.0, 0.0], [0.00361719005741179, 0.126440167427063, 0.003967765253037214, 0.003833746537566185, 0.003946178592741489, 0.12377838045358658, 0.045255258679389954, 0.0011183387832716107, 0.12366699427366257, 0.0012493502581492066, 0.003952329978346825, 0.004073610063642263, 0.13314811885356903, 0.003902741940692067, 0.0035973042249679565, 0.003813207382336259, 0.0012121180770918727, 0.1274765133857727, 0.003672065446153283, 0.000983033562079072, 0.04251469299197197, 0.052414149045944214, 0.0011466764844954014, 0.0010251571657136083, 0.020244227722287178, 0.0012209456181153655, 0.0003575105802156031, 0.00019252105266787112, 0.00032217628904618323, 0.0005013592890463769, 0.0006003833841532469, 0.001849965425208211, 0.0018468223279342055, 0.0024119755253195763, 0.0014535327209159732, 0.0017221486195921898, 0.0024222047068178654, 0.0018563098274171352, 0.002266982803121209, 0.0018249936401844025, 0.062086693942546844, 0.017883900552988052, 0.059130240231752396, 0.0, 0.0, 0.0, 0.0, 0.0], [0.00328268320299685, 0.10394153743982315, 0.00554690370336175, 0.004633320029824972, 0.004832148086279631, 0.10087937116622925, 0.06451430171728134, 0.0008587921620346606, 0.09608685970306396, 0.0009536176221445203, 0.0051252772100269794, 0.005653786472976208, 0.10338103771209717, 0.00468680402263999, 0.004514550324529409, 0.005008963402360678, 0.0009122094488702714, 0.11613127589225769, 0.004386847838759422, 0.0007469630800187588, 0.06784262508153915, 0.08161982893943787, 0.0008190549560822546, 0.0008386490517295897, 0.02249389886856079, 0.0009165070950984955, 0.00032863335218280554, 0.00019629564485512674, 0.0003446035843808204, 0.00048519697156734765, 0.0005436763167381287, 0.0030618382152169943, 0.0018781285034492612, 0.002932826289907098, 0.0020304571371525526, 0.002506991382688284, 0.00272908853366971, 0.0023652780801057816, 0.0023344848304986954, 0.003065964672714472, 0.053757283836603165, 0.025766635313630104, 0.06625524163246155, 0.018809612840414047, 0.0, 0.0, 0.0, 0.0], [0.0027800598181784153, 0.08016088604927063, 0.003239709883928299, 0.003007896477356553, 0.003212246811017394, 0.07647878676652908, 0.11582313477993011, 0.0005706319934688509, 0.074439138174057, 0.0006275925552472472, 0.0031277157831937075, 0.003424770897254348, 0.08803396672010422, 0.0031433391850441694, 0.003057320136576891, 0.003109452547505498, 0.0005901342374272645, 0.08603760600090027, 0.0028036257717758417, 0.00047148289741016924, 0.10636480897665024, 0.13891634345054626, 0.0005290171829983592, 0.0005003625992685556, 0.023044181987643242, 0.0007792511023581028, 0.00021733329049311578, 0.00020068392041139305, 0.00024565888452343643, 0.00027638967731036246, 0.0005192332318983972, 0.0015858729602769017, 0.0018279659561812878, 0.0018811911577358842, 0.0013147805584594607, 0.0014018247602507472, 0.0015448681078851223, 0.0014640437439084053, 0.0012720730155706406, 0.0019767354242503643, 0.04725205898284912, 0.01997428759932518, 0.04986410215497017, 0.02026231400668621, 0.022645127028226852, 0.0, 0.0, 0.0], [0.005043841898441315, 0.004114041104912758, 0.0018049550708383322, 0.0016733541851863265, 0.0012199172051623464, 0.0033573408145457506, 0.19558751583099365, 0.0006291098543442786, 0.0028671787586063147, 0.0004295181133784354, 0.0014370149001479149, 0.0030956792179495096, 0.0025428528897464275, 0.0015777756925672293, 0.0013148244470357895, 0.0015587368980050087, 0.0004021732311230153, 0.004021868109703064, 0.0014619975117966533, 0.0005350210703909397, 0.2193722426891327, 0.2527149021625519, 0.00044039313797838986, 0.0005980362766422331, 0.020397985354065895, 0.002161402255296707, 0.0002983565500471741, 0.0012884738389402628, 0.001133903511799872, 0.0011095074005424976, 0.0010938443010672927, 0.002238101325929165, 0.0007958508795127273, 0.0018765018321573734, 0.0012848277110606432, 0.0009887819178402424, 0.000748086313251406, 0.0014731072587892413, 0.0006118409219197929, 0.0016714243683964014, 0.010863861069083214, 0.0020277074072510004, 0.0032846841495484114, 0.003765095490962267, 0.0013566035777330399, 0.23172977566719055, 0.0, 0.0], [0.00424201088026166, 0.0012321945978328586, 0.0005440055392682552, 0.0005557483527809381, 0.00041093683103099465, 0.0008160573779605329, 0.1483587920665741, 0.00044573660125024617, 0.0006428874912671745, 0.0003288540174253285, 0.00046747602755203843, 0.0014028040459379554, 0.000719035801012069, 0.0006156605086289346, 0.00048009466263465583, 0.0005518271937035024, 0.00026690078084357083, 0.0010842339834198356, 0.0005191912641748786, 0.0004608703893609345, 0.20535628497600555, 0.22539010643959045, 0.00032951863249763846, 0.00042282670619897544, 0.012856119312345982, 0.0007948468555696309, 0.00016185687854886055, 0.001175717799924314, 0.0012664040550589561, 0.0006022249581292272, 0.0007338778814300895, 0.0005527818575501442, 0.00019111439178232104, 0.0005657625733874738, 0.0002834792248904705, 0.0002465275174472481, 0.0002352709707338363, 0.0004069586284458637, 0.0001525541883893311, 0.0006532074185088277, 0.002583577763289213, 0.00068338040728122, 0.0008381711668334901, 0.0007874880102463067, 0.0003708249714691192, 0.21490336954593658, 0.1633104383945465, 0.0], [0.01768743060529232, 0.011668290011584759, 0.00363564258441329, 0.003922073170542717, 0.002543160691857338, 0.01039269007742405, 0.08638856559991837, 0.0033713122829794884, 0.00429315771907568, 0.003949877340346575, 0.004298787098377943, 0.006755430717021227, 0.00935093779116869, 0.00414248276501894, 0.0025627645663917065, 0.002682644175365567, 0.0029067150317132473, 0.0069868373684585094, 0.004007711540907621, 0.0044261012226343155, 0.1113538146018982, 0.14722676575183868, 0.0028444817289710045, 0.0026783763896673918, 0.024641128256917, 0.006229044869542122, 0.0038987614680081606, 0.008477610535919666, 0.005636051297187805, 0.004591552074998617, 0.008669523522257805, 0.004249902907758951, 0.0022455472499132156, 0.002747975755482912, 0.0031141184736043215, 0.0029889207798987627, 0.00327245332300663, 0.004249999299645424, 0.0020813005976378918, 0.0067215170711278915, 0.013115232810378075, 0.014056351035833359, 0.01640959456562996, 0.011079979129135609, 0.0048663001507520676, 0.16590239107608795, 0.10529463738203049, 0.11538412421941757]]], \"attentionHeadNames\": [\"L0H0\"], \"tokens\": [\"5\", \"3\", \"2\", \"2\", \"2\", \"3\", \"4\", \"1\", \"3\", \"1\", \"2\", \"2\", \"3\", \"2\", \"2\", \"2\", \"1\", \"3\", \"2\", \"1\", \"4\", \"4\", \"1\", \"1\", \"6\", \"1\", \"1\", \"1\", \"1\", \"1\", \"1\", \"2\", \"2\", \"2\", \"2\", \"2\", \"2\", \"2\", \"2\", \"2\", \"3\", \"3\", \"3\", \"3\", \"3\", \"4\", \"4\", \"4\"]}\n",
              "    )\n",
              "    </script></div>"
            ],
            "text/plain": [
              "<IPython.core.display.HTML object>"
            ]
          },
          "execution_count": 60,
          "metadata": {},
          "output_type": "execute_result"
        }
      ],
      "source": [
        "from IPython.display import HTML, IFrame\n",
        "\n",
        "# input_tokens = torch.Tensor([START_TOKEN_ID] + [0] * 5 + [1] * 5 + [MID_TOKEN_ID] + 5 * [0] + 5 * [1]).long().to(DEVICE)\n",
        "\n",
        "# list_to_sort = [1] * LIST_LENGTH // 2 + [0] * (LIST_LENGTH - (LIST_LENGTH // 2))\n",
        "# list_to_sort = [0] * 17 + [1] * 6\n",
        "# list_to_sort = [0,1,1,0,1,0,2,3,4,5]\n",
        "# list_to_sort = [0,1,2,3,4,5,6,7,8,9]\n",
        "# tokens = torch.Tensor([START_TOKEN_ID] + list_to_sort + [MID_TOKEN_ID] + sorted(list_to_sort)).long().to(DEVICE)\n",
        "\n",
        "# tokens = next(train_gen)[0].to(device=DEVICE)[0]\n",
        "print(tokens.shape)\n",
        "\n",
        "# Run the model and cache all activations\n",
        "original_logits, cache = model.run_with_cache(tokens[0])\n",
        "\n",
        "positive_html = visualize_attention_patterns(\n",
        "    [0],\n",
        "    cache,\n",
        "    tokens[0],\n",
        "    f\"What\",\n",
        "    temp=1\n",
        ")\n",
        "\n",
        "\n",
        "HTML(positive_html)\n"
      ]
    },
    {
      "cell_type": "code",
      "execution_count": 61,
      "metadata": {},
      "outputs": [
        {
          "name": "stdout",
          "output_type": "stream",
          "text": [
            "torch.Size([1, 48])\n",
            "torch.Size([7, 48])\n",
            "tensor([[5, 3, 2, 2, 2, 3, 4, 1, 3, 1, 2, 2, 3, 2, 2, 2, 1, 3, 2, 1, 4, 4, 1, 1,\n",
            "         6, 1, 1, 1, 1, 1, 1, 2, 2, 2, 2, 2, 2, 2, 2, 2, 3, 3, 3, 3, 3, 4, 4, 4]],\n",
            "       device='mps:0')\n"
          ]
        },
        {
          "data": {
            "image/png": "[encoded data removed]",
            "text/plain": [
              "<Figure size 800x800 with 2 Axes>"
            ]
          },
          "metadata": {},
          "output_type": "display_data"
        }
      ],
      "source": [
        "attn = model.blocks[0].attn\n",
        "all_token_embeddings = model.input_to_embed(tokens)[0][0]\n",
        "\n",
        "print(tokens.shape)\n",
        "\n",
        "# attn.W_V.shape\n",
        "OV_circuit_1 = (attn.W_V[0] @ attn.W_O[0])\n",
        "OV_circuit_2 = model.unembed.W_U\n",
        "OV_circuit_1.shape\n",
        "\n",
        "out = (all_token_embeddings @ OV_circuit_1) @ OV_circuit_2\n",
        "\n",
        "out = torch.softmax(out, dim=-1)\n",
        "out = sharpen_probabilities(out, 1)\n",
        "\n",
        "out = out.transpose(0,1)\n",
        "\n",
        "print(out.shape)\n",
        "\n",
        "plt.rcParams['figure.figsize'] = [20, 10]\n",
        "fig, ax = plt.subplots(figsize=(8, 8))\n",
        "graph = ax.imshow(out.detach().cpu().numpy(), cmap=\"viridis\", interpolation=\"nearest\")\n",
        "cbar = plt.colorbar(graph, orientation='horizontal', shrink=0.5, pad=0.04)\n",
        "plt.tight_layout()\n",
        "\n",
        "print(tokens)\n"
      ]
    },
    {
      "cell_type": "code",
      "execution_count": 35,
      "metadata": {},
      "outputs": [
        {
          "data": {
            "text/plain": [
              "torch.Size([48, 128])"
            ]
          },
          "execution_count": 35,
          "metadata": {},
          "output_type": "execute_result"
        }
      ],
      "source": [
        "model.pos_embed(tokens)[0].shape"
      ]
    },
    {
      "cell_type": "code",
      "execution_count": 41,
      "metadata": {},
      "outputs": [
        {
          "name": "stdout",
          "output_type": "stream",
          "text": [
            "torch.Size([1, 48])\n",
            "torch.Size([7, 48])\n",
            "tensor([[5, 1, 1, 3, 1, 3, 3, 4, 3, 1, 4, 1, 1, 4, 3, 4, 3, 1, 1, 4, 4, 1, 1, 4,\n",
            "         6, 1, 1, 1, 1, 1, 1, 1, 1, 1, 1, 3, 3, 3, 3, 3, 3, 4, 4, 4, 4, 4, 4, 4]],\n",
            "       device='mps:0')\n"
          ]
        },
        {
          "data": {
            "image/png": "[encoded data removed]",
            "text/plain": [
              "<Figure size 800x800 with 2 Axes>"
            ]
          },
          "metadata": {},
          "output_type": "display_data"
        }
      ],
      "source": [
        "tokens = next(iter(val_loader))[0][0].to(device=DEVICE)\n",
        "\n",
        "tokens = tokens[None, :]\n",
        "val_acc = validate(model, tokens)\n",
        "\n",
        "attn = model.blocks[0].attn\n",
        "all_token_embeddings = model.pos_embed(tokens)[0]\n",
        "\n",
        "print(tokens.shape)\n",
        "\n",
        "# attn.W_V.shape\n",
        "OV_circuit_1 = (attn.W_V[0] @ attn.W_O[0])\n",
        "OV_circuit_2 = model.unembed.W_U\n",
        "OV_circuit_1.shape\n",
        "\n",
        "out = (all_token_embeddings @ OV_circuit_1) @ OV_circuit_2\n",
        "\n",
        "out = torch.softmax(out, dim=-1)\n",
        "out = sharpen_probabilities(out, 1)\n",
        "\n",
        "out = out.transpose(0,1)\n",
        "\n",
        "print(out.shape)\n",
        "\n",
        "plt.rcParams['figure.figsize'] = [20, 10]\n",
        "fig, ax = plt.subplots(figsize=(8, 8))\n",
        "graph = ax.imshow(out.detach().cpu().numpy(), cmap=\"viridis\", interpolation=\"nearest\")\n",
        "cbar = plt.colorbar(graph, orientation='horizontal', shrink=0.5, pad=0.04)\n",
        "plt.tight_layout()\n",
        "\n",
        "print(tokens)\n"
      ]
    },
    {
      "cell_type": "code",
      "execution_count": 64,
      "metadata": {},
      "outputs": [
        {
          "name": "stdout",
          "output_type": "stream",
          "text": [
            "25\n",
            "tensor([[3, 3, 3, 3, 3, 3, 3, 3, 3, 3, 3, 3, 3, 3, 3, 3, 3, 3, 3, 3, 4, 4, 3]],\n",
            "       device='mps:0')\n",
            "tensor([[3, 3, 3, 3, 3, 3, 3, 3, 3, 3, 3, 3, 3, 3, 3, 3, 3, 3, 3, 3, 3, 3, 3]],\n",
            "       device='mps:0')\n",
            "0.0\n",
            "torch.Size([48])\n",
            "torch.Size([7, 48])\n",
            "tensor([5, 3, 3, 3, 3, 3, 3, 3, 3, 3, 3, 3, 3, 3, 3, 3, 3, 3, 3, 3, 3, 3, 3, 3,\n",
            "        6, 3, 3, 3, 3, 3, 3, 3, 3, 3, 3, 3, 3, 3, 3, 3, 3, 3, 3, 3, 3, 3, 3, 3],\n",
            "       device='mps:0')\n"
          ]
        },
        {
          "data": {
            "image/png": "[encoded data removed]",
            "text/plain": [
              "<Figure size 800x800 with 2 Axes>"
            ]
          },
          "metadata": {},
          "output_type": "display_data"
        }
      ],
      "source": [
        "tokens = torch.Tensor([START_TOKEN_ID] + [3] * 23 + [MID_TOKEN_ID] + [3] * 23).long().to(DEVICE)\n",
        "val_acc = validate(model, tokens[None, :])\n",
        "print(val_acc)\n",
        "\n",
        "attn = model.blocks[0].attn\n",
        "all_token_embeddings = model.pos_embed(tokens)[0]\n",
        "# all_token_embeddings = model.embed(tokens)\n",
        "\n",
        "print(tokens.shape)\n",
        "\n",
        "# attn.W_V.shape\n",
        "OV_circuit_1 = (attn.W_V[0] @ attn.W_O[0])\n",
        "OV_circuit_2 = model.unembed.W_U\n",
        "OV_circuit_1.shape\n",
        "\n",
        "out = (all_token_embeddings @ OV_circuit_1) @ OV_circuit_2\n",
        "\n",
        "out = torch.softmax(out, dim=-1)\n",
        "out = sharpen_probabilities(out, 1)\n",
        "\n",
        "out = out.transpose(0,1)\n",
        "\n",
        "print(out.shape)\n",
        "\n",
        "plt.rcParams['figure.figsize'] = [20, 10]\n",
        "fig, ax = plt.subplots(figsize=(8, 8))\n",
        "graph = ax.imshow(out.detach().cpu().numpy(), cmap=\"viridis\", interpolation=\"nearest\")\n",
        "cbar = plt.colorbar(graph, orientation='horizontal', shrink=0.5, pad=0.04)\n",
        "plt.tight_layout()\n",
        "\n",
        "print(tokens)\n"
      ]
    },
    {
      "cell_type": "code",
      "execution_count": null,
      "metadata": {},
      "outputs": [],
      "source": []
    }
  ],
  "metadata": {
    "colab": {
      "collapsed_sections": [
        "7o--LiD_HMGs"
      ],
      "provenance": []
    },
    "kernelspec": {
      "display_name": "Python 3",
      "language": "python",
      "name": "python3"
    },
    "language_info": {
      "codemirror_mode": {
        "name": "ipython",
        "version": 3
      },
      "file_extension": ".py",
      "mimetype": "text/x-python",
      "name": "python",
      "nbconvert_exporter": "python",
      "pygments_lexer": "ipython3",
      "version": "3.9.16"
    },
    "vscode": {
      "interpreter": {
        "hash": "916dbcbb3f70747c44a77c7bcd40155683ae19c65e1c03b4aa3499c5328201f1"
      }
    }
  },
  "nbformat": 4,
  "nbformat_minor": 0
}
