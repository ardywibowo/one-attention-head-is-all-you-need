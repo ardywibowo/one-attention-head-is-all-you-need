{
  "cells": [
    {
      "cell_type": "markdown",
      "metadata": {
        "id": "jKyC3mZ72qlH"
      },
      "source": [
        "Copy-paste the contents of this notebook at the beginning of every other notebook in this project."
      ]
    },
    {
      "cell_type": "markdown",
      "metadata": {
        "id": "PBe5K-JpHXFs"
      },
      "source": [
        "## Variable hyperparameters"
      ]
    },
    {
      "cell_type": "code",
      "execution_count": 2,
      "metadata": {
        "id": "httbkgCwHYF4"
      },
      "outputs": [],
      "source": [
        "# Fixed length of list to be sorted\n",
        "LIST_LENGTH = 5\n",
        "\n",
        "# Size of vocabulary\n",
        "D_VOCAB = 66\n",
        "\n",
        "# Should lists have repetitions?\n",
        "ALLOW_REPETITIONS = False\n",
        "\n",
        "# Attention only? (False -> model includes MLPs)\n",
        "ATTN_ONLY = True\n",
        "\n",
        "# Model dimenions\n",
        "N_LAYERS = 1\n",
        "N_HEADS = 1\n",
        "D_MODEL = 128\n",
        "D_HEAD = 32\n",
        "D_MLP = None\n",
        "\n",
        "if ATTN_ONLY:\n",
        "    D_MLP = None\n",
        "\n",
        "# Default batch size\n",
        "DEFAULT_BATCH_SIZE = 32"
      ]
    },
    {
      "cell_type": "markdown",
      "metadata": {
        "id": "7o--LiD_HMGs"
      },
      "source": [
        "## Prelude"
      ]
    },
    {
      "cell_type": "markdown",
      "metadata": {
        "id": "7yjVSLZbEEJX"
      },
      "source": [
        "### Install and import"
      ]
    },
    {
      "cell_type": "code",
      "execution_count": 3,
      "metadata": {
        "id": "Wqa5uVY-2oC7"
      },
      "outputs": [
        {
          "name": "stderr",
          "output_type": "stream",
          "text": [
            "/Users/randyardywibowo/miniconda3/envs/lit/lib/python3.9/site-packages/tqdm/auto.py:21: TqdmWarning: IProgress not found. Please update jupyter and ipywidgets. See https://ipywidgets.readthedocs.io/en/stable/user_install.html\n",
            "  from .autonotebook import tqdm as notebook_tqdm\n"
          ]
        }
      ],
      "source": [
        "try:\n",
        "    import transformer_lens\n",
        "except:\n",
        "    !pip install git+https://github.com/neelnanda-io/TransformerLens\n",
        "    !pip install circuitsvis"
      ]
    },
    {
      "cell_type": "code",
      "execution_count": 4,
      "metadata": {
        "colab": {
          "base_uri": "https://localhost:8080/",
          "height": 64
        },
        "id": "dqFfW5V32yaO",
        "outputId": "323df961-4b90-49e8-8ab8-ef66c85061d1"
      },
      "outputs": [
        {
          "data": {
            "text/html": [
              "<div id=\"circuits-vis-b7b99d9a-24e0\" style=\"margin: 15px 0;\"/>\n",
              "    <script crossorigin type=\"module\">\n",
              "    import { render, Hello } from \"https://unpkg.com/circuitsvis@1.43.2/dist/cdn/esm.js\";\n",
              "    render(\n",
              "      \"circuits-vis-b7b99d9a-24e0\",\n",
              "      Hello,\n",
              "      {\"name\": \"You\"}\n",
              "    )\n",
              "    </script>"
            ],
            "text/plain": [
              "<circuitsvis.utils.render.RenderedHTML at 0x299d55fa0>"
            ]
          },
          "execution_count": 4,
          "metadata": {},
          "output_type": "execute_result"
        }
      ],
      "source": [
        "from __future__ import annotations\n",
        "from dataclasses import dataclass, field\n",
        "from datetime import datetime as dt\n",
        "from itertools import repeat\n",
        "import os\n",
        "import pickle\n",
        "import random\n",
        "from typing import cast, Generator, Literal\n",
        "\n",
        "import circuitsvis as cv\n",
        "from fancy_einsum import einsum\n",
        "from matplotlib import pyplot as plt\n",
        "import numpy as np\n",
        "import torch\n",
        "from torch import nn, tensor, Tensor, TensorType as TT\n",
        "from torch.nn import functional as F\n",
        "from transformer_lens import HookedTransformerConfig, HookedTransformer\n",
        "from tqdm import tqdm\n",
        "from typing_extensions import Self\n",
        "\n",
        "cv.examples.hello(\"You\")"
      ]
    },
    {
      "cell_type": "markdown",
      "metadata": {
        "id": "Oo4oP4dSrYhD"
      },
      "source": [
        "### Invariable hyperparameters"
      ]
    },
    {
      "cell_type": "code",
      "execution_count": 5,
      "metadata": {
        "colab": {
          "base_uri": "https://localhost:8080/"
        },
        "id": "_XwivtyM_Hru",
        "outputId": "253931dc-5c4d-4f11-a4e9-b80730e9372c"
      },
      "outputs": [
        {
          "name": "stdout",
          "output_type": "stream",
          "text": [
            "DEVICE = 'mps'\n"
          ]
        }
      ],
      "source": [
        "# DEVICE = \"cuda\" if torch.cuda.is_available() else \"cpu\"\n",
        "DEVICE = \"mps\"\n",
        "print(f\"{DEVICE = }\")\n",
        "\n",
        "# Seeds to generate training, validation, and test data\n",
        "TRAIN_SEED = 42\n",
        "VAL_SEED = 66\n",
        "TEST_SEED = 1729\n",
        "\n",
        "# Context length: [start, *(unsorted_)list_length, mid, *(sorted_)list_length]\n",
        "N_CTX = 2 * LIST_LENGTH + 2\n",
        "\n",
        "# \"Real\" tokens range from 0 to D_VOCAB - 2 (non-inclusive)\n",
        "VOCAB_MIN_ID = 0\n",
        "VOCAB_MAX_ID = D_VOCAB - 2\n",
        "\n",
        "# START token is D_VOCAB - 2 and MID token is D_VOCAB - 1\n",
        "START_TOKEN_ID = VOCAB_MAX_ID\n",
        "MID_TOKEN_ID = D_VOCAB - 1"
      ]
    },
    {
      "cell_type": "markdown",
      "metadata": {
        "id": "dlWGwox63j24"
      },
      "source": [
        "### Data generator and datasets"
      ]
    },
    {
      "cell_type": "code",
      "execution_count": 6,
      "metadata": {
        "colab": {
          "base_uri": "https://localhost:8080/"
        },
        "id": "44OZjOq83k1H",
        "outputId": "413c82ad-aa84-42bc-f9ab-fe4c0608481a"
      },
      "outputs": [],
      "source": [
        "import torch\n",
        "from torch.utils.data import TensorDataset, DataLoader, random_split\n",
        "\n",
        "def generate_unique_list(total_size: int) -> torch.Tensor:\n",
        "    # Generate a list of unique sequences\n",
        "    unique_sequences = set()\n",
        "    while len(unique_sequences) < total_size:\n",
        "        if ALLOW_REPETITIONS:\n",
        "            sequence = tuple(torch.randint(VOCAB_MIN_ID, VOCAB_MAX_ID, (LIST_LENGTH,)).tolist())\n",
        "        else:\n",
        "            sequence = tuple(random.sample(range(VOCAB_MIN_ID, VOCAB_MAX_ID), k=LIST_LENGTH))\n",
        "        unique_sequences.add(sequence)\n",
        "\n",
        "    # Convert to tensor and move to the correct DEVICE\n",
        "    return torch.tensor(list(unique_sequences), dtype=torch.int32)\n",
        "\n",
        "def process_data(data: torch.Tensor) -> torch.Tensor:\n",
        "    # Sort the data\n",
        "    data_sorted = torch.sort(data, dim=1).values\n",
        "    # Add START tokens\n",
        "    data_start = START_TOKEN_ID * torch.ones(data.size(0), 1, dtype=torch.int32)\n",
        "    # Add MID tokens\n",
        "    data_mid = MID_TOKEN_ID * torch.ones(data.size(0), 1, dtype=torch.int32)\n",
        "    # Concatenate all parts\n",
        "    return torch.cat((data_start, data, data_mid, data_sorted), dim=1)\n",
        "\n",
        "# Set the seeds\n",
        "torch.manual_seed(TRAIN_SEED)\n",
        "if not ALLOW_REPETITIONS:\n",
        "    # Generate the complete list of unique sequences\n",
        "    data = generate_unique_list(1_000_000 + 200_000)  # extra for validation and test\n",
        "else:\n",
        "    # If repetitions are allowed, just generate a large random tensor\n",
        "    data = torch.randint(VOCAB_MIN_ID, VOCAB_MAX_ID, (1_200_000, LIST_LENGTH), dtype=torch.int32)\n",
        "\n",
        "# Process the data with start, mid tokens and sorted sequences\n",
        "full_data = process_data(data)\n",
        "full_data = full_data.long()\n",
        "\n",
        "# Define the length of splits for train, validation, and test sets\n",
        "train_length = 1_000_000\n",
        "val_length = 100_000\n",
        "test_length = 100_000\n",
        "\n",
        "# Split the data into training, validation, and test sets\n",
        "train_data, val_data, test_data = random_split(\n",
        "    full_data, [train_length, val_length, test_length],\n",
        "    generator=torch.Generator().manual_seed(42)  # for reproducibility\n",
        ")\n",
        "\n",
        "# Create DataLoaders for each set\n",
        "# Wrap the actual data in a TensorDataset\n",
        "train_loader = DataLoader(TensorDataset(train_data.dataset[train_data.indices]), batch_size=128, shuffle=True)\n",
        "val_loader = DataLoader(TensorDataset(val_data.dataset[val_data.indices]), batch_size=1024, shuffle=True)\n",
        "test_loader = DataLoader(TensorDataset(test_data.dataset[test_data.indices]), batch_size=1024, shuffle=True)"
      ]
    },
    {
      "cell_type": "code",
      "execution_count": 7,
      "metadata": {},
      "outputs": [
        {
          "data": {
            "text/plain": [
              "tensor([[60, 27, 10, 39,  5],\n",
              "        [10, 37, 29, 34,  2],\n",
              "        [ 4,  3, 20, 47, 41],\n",
              "        ...,\n",
              "        [51, 16,  7, 41, 29],\n",
              "        [39, 63, 42, 58, 36],\n",
              "        [ 9, 42, 61,  6,  2]], dtype=torch.int32)"
            ]
          },
          "execution_count": 7,
          "metadata": {},
          "output_type": "execute_result"
        }
      ],
      "source": [
        "data"
      ]
    },
    {
      "cell_type": "code",
      "execution_count": 8,
      "metadata": {},
      "outputs": [
        {
          "data": {
            "text/plain": [
              "tensor([64,  9, 36, 22, 54, 15, 65,  9, 15, 22, 36, 54])"
            ]
          },
          "execution_count": 8,
          "metadata": {},
          "output_type": "execute_result"
        }
      ],
      "source": [
        "next(iter(test_loader))[0][0]"
      ]
    },
    {
      "cell_type": "markdown",
      "metadata": {
        "id": "hBJn1fKm3pMX"
      },
      "source": [
        "### Loss function"
      ]
    },
    {
      "cell_type": "code",
      "execution_count": 9,
      "metadata": {
        "colab": {
          "base_uri": "https://localhost:8080/"
        },
        "id": "PTlNfaKY3qkd",
        "outputId": "7d962ac8-efe5-4681-bb20-a4ff8b675156"
      },
      "outputs": [],
      "source": [
        "def loss_fn(\n",
        "    logits: Tensor, # [batch, pos, d_vocab] \n",
        "    tokens: Tensor, # [batch, pos] \n",
        "    return_per_token: bool = False\n",
        ") -> Tensor: # scalar\n",
        "    \"\"\"Mean cross-entropy between tokens in the sorted list part of the \n",
        "    sequence (last `LIST_LENGTH`) and model's predictions about them.\n",
        "    \"\"\"\n",
        "    sorted_start_pos = LIST_LENGTH + 2\n",
        "    logits = logits[:, (sorted_start_pos-1):-1]\n",
        "    tokens = tokens[:, sorted_start_pos : None]\n",
        "    log_probs = logits.log_softmax(-1)\n",
        "    correct_log_probs = log_probs.gather(-1, tokens[..., None])[..., 0]\n",
        "    if return_per_token:\n",
        "        return -correct_log_probs\n",
        "    return -correct_log_probs.mean()"
      ]
    },
    {
      "cell_type": "markdown",
      "metadata": {
        "id": "GKKrzLEq3sun"
      },
      "source": [
        "### Accuracy and validation"
      ]
    },
    {
      "cell_type": "code",
      "execution_count": 10,
      "metadata": {
        "id": "1x6q7b7O3rZa"
      },
      "outputs": [],
      "source": [
        "def get_diff_row_inds(\n",
        "    a: Tensor, # [dim1, dim2]\n",
        "    b: Tensor  # [dim1, dim2]\n",
        ") -> Tensor:   # [dim1]\n",
        "    \"\"\"Find indices of rows where a and b differ\"\"\"\n",
        "    assert a.shape == b.shape\n",
        "    return ((a == b).prod(dim=1) == 0).nonzero(as_tuple=True)[0]\n",
        "\n",
        "def acc_fn(\n",
        "    logits: Tensor, # [batch, pos, d_vocab]\n",
        "    tokens: Tensor, # [batch, pos]\n",
        "    per: Literal[\"token\", \"sequence\"] = \"sequence\"\n",
        ") -> float:\n",
        "    \"\"\"Compute accuracy as percentage of correct predictions\"\"\"\n",
        "    assert per in (\"token\", \"sequence\")\n",
        "    sorted_start_pos = LIST_LENGTH + 2\n",
        "    # Get logits of predictions for position\n",
        "    logits = logits[:, (sorted_start_pos-1):-1]\n",
        "    preds = logits.argmax(-1).to(tokens.device)\n",
        "    tokens = tokens[:, sorted_start_pos:]\n",
        "    if per == \"sequence\":\n",
        "        return (preds == tokens).prod(dim=1).float().mean().item()\n",
        "    return (preds == tokens).float().mean().item()\n",
        "\n",
        "def validate(\n",
        "    model: HookedTransformer, \n",
        "    data: Tensor, # [batch, pos]\n",
        "    per: Literal[\"token\", \"sequence\"] = \"sequence\"\n",
        ") -> float:\n",
        "    \"\"\"Test this model on `data`\"\"\"\n",
        "    logits = model(data)\n",
        "    acc = acc_fn(logits, tokens=data, per=per)\n",
        "    return acc\n",
        "\n",
        "def show_mispreds(\n",
        "    model: HookedTransformer, \n",
        "    data: Tensor # [batch, pos]\n",
        ") -> None:\n",
        "    \"\"\"Test this model on `data` and print mispredictions\"\"\"\n",
        "    logits = model(data)\n",
        "    sorted_start_pos = LIST_LENGTH + 2\n",
        "    logits = logits[:, (sorted_start_pos-1):-1]\n",
        "    tokens = data[:, sorted_start_pos:].cpu()\n",
        "    preds = logits.argmax(-1).cpu()\n",
        "    mispred_inds = get_diff_row_inds(tokens, preds)\n",
        "    for i in mispred_inds:\n",
        "        print(f\"[{i}] {tokens[i].numpy().tolist()} | {preds[i].numpy().tolist()}\")\n",
        "    print(f\"{len(mispred_inds)}/{len(preds)} ({len(mispred_inds) / len(preds) :.2%})\")"
      ]
    },
    {
      "cell_type": "markdown",
      "metadata": {
        "id": "V5trW5nKhF3I"
      },
      "source": [
        "## Training"
      ]
    },
    {
      "cell_type": "markdown",
      "metadata": {
        "id": "32Hj7N1nhHrI"
      },
      "source": [
        "### Model"
      ]
    },
    {
      "cell_type": "code",
      "execution_count": 11,
      "metadata": {
        "id": "YwIffvImhT4g"
      },
      "outputs": [],
      "source": [
        "cfg = HookedTransformerConfig(\n",
        "    d_model=D_MODEL,\n",
        "    n_layers=N_LAYERS,\n",
        "    n_heads=N_HEADS,\n",
        "    d_head=D_HEAD,\n",
        "    n_ctx=N_CTX,\n",
        "    d_vocab=D_VOCAB,\n",
        "    act_fn=\"relu\",\n",
        "    seed=42,\n",
        "    device=DEVICE,\n",
        "    attn_only=ATTN_ONLY\n",
        ")\n",
        "model = HookedTransformer(cfg, move_to_device=True)"
      ]
    },
    {
      "cell_type": "markdown",
      "metadata": {
        "id": "9vYV7QAd3vCT"
      },
      "source": [
        "### Training setup"
      ]
    },
    {
      "cell_type": "code",
      "execution_count": 13,
      "metadata": {
        "id": "LHBPL3Xw3uAt"
      },
      "outputs": [],
      "source": [
        "@dataclass(frozen=True)\n",
        "class TrainingHistory:\n",
        "    losses: list[float]\n",
        "    train_accuracies: list[float]\n",
        "    val_accuracies: list[float]\n",
        "\n",
        "def converged(val_accs: list[float], n_last: int = 10) -> bool:\n",
        "    return cast(bool, (tensor(val_accs[-n_last:]) == 1).all().item())\n",
        "\n",
        "# Number of epochs\n",
        "n_epochs = 2000\n",
        "\n",
        "# Optimization\n",
        "lr = 1e-3\n",
        "betas = (.9, .999)\n",
        "optim = torch.optim.AdamW(model.parameters(), lr=lr, betas=betas)\n",
        "scheduler = torch.optim.lr_scheduler.ReduceLROnPlateau(optim, \"min\", patience=100)\n",
        "\n",
        "# Training data generator\n",
        "def train_model(model: HookedTransformer) -> TrainingHistory:\n",
        "    losses = []\n",
        "    train_accuracies = []\n",
        "    val_accuracies = []\n",
        "    \n",
        "    train_gen = iter(train_loader)\n",
        "    for epoch in range(n_epochs):\n",
        "        \n",
        "        try:\n",
        "            tokens = next(train_gen)[0].to(device=DEVICE)\n",
        "        except StopIteration:\n",
        "            train_gen = iter(train_loader)\n",
        "            tokens = next(train_gen)[0].to(device=DEVICE)\n",
        "        \n",
        "        logits = model(tokens)\n",
        "        loss = loss_fn(logits, tokens)\n",
        "        loss.backward()\n",
        "        optim.step()\n",
        "        optim.zero_grad()\n",
        "        scheduler.step(loss)\n",
        "        \n",
        "        if epoch % 100 == 0:\n",
        "            losses.append(loss.item())\n",
        "            train_batch_acc = acc_fn(logits, tokens)\n",
        "            \n",
        "            val_data = next(iter(val_loader))[0].to(device=DEVICE)\n",
        "            val_acc = validate(model, val_data)\n",
        "            val_loss = loss_fn(model(val_data), val_data)\n",
        "\n",
        "            train_accuracies.append(train_batch_acc)\n",
        "            val_accuracies.append(val_acc)\n",
        "            print(\n",
        "                f\"Epoch {epoch}/{n_epochs} ({epoch / n_epochs:.0%}) : \"\n",
        "                f\"loss = {loss.item():.4f}; {train_batch_acc=:.3%}; \"\n",
        "                f\"{val_acc=:.3%}; lr={scheduler._last_lr[0]}\" #type:ignore\n",
        "            )\n",
        "            # If last 10 recorded val_accuracies are 100%\n",
        "            if converged(val_accuracies):\n",
        "                print(f\"\\nAchieved consistent perfect validation accuracy after {epoch} epochs\")\n",
        "                break\n",
        "    return TrainingHistory(losses, train_accuracies, val_accuracies)\n",
        "\n",
        "def load_model_state(model: HookedTransformer, filename: str) -> None:\n",
        "    assert os.path.isdir(\"models\"), \"Make a directory `models` with model state dicts\"\n",
        "    if not filename.startswith(\"models/\"):\n",
        "        filename = f\"models/{filename}\"\n",
        "    with open(filename, \"rb\") as f:\n",
        "        state_dict = pickle.load(f)\n",
        "    model.load_state_dict(state_dict)"
      ]
    },
    {
      "cell_type": "code",
      "execution_count": 14,
      "metadata": {},
      "outputs": [
        {
          "data": {
            "text/plain": [
              "torch.Size([128, 12])"
            ]
          },
          "execution_count": 14,
          "metadata": {},
          "output_type": "execute_result"
        }
      ],
      "source": [
        "train_gen = iter(train_loader)\n",
        "next(train_gen)[0].shape"
      ]
    },
    {
      "cell_type": "markdown",
      "metadata": {
        "id": "HXhR2JBjdXkD"
      },
      "source": [
        "### Train or load model"
      ]
    },
    {
      "cell_type": "code",
      "execution_count": 15,
      "metadata": {
        "id": "CMH8DwNHdWLA"
      },
      "outputs": [
        {
          "name": "stdout",
          "output_type": "stream",
          "text": [
            "Epoch 0/2000 (0%) : loss = 4.4672; train_batch_acc=0.000%; val_acc=0.000%; lr=0.001\n",
            "Epoch 100/2000 (5%) : loss = 0.3348; train_batch_acc=64.844%; val_acc=63.184%; lr=0.001\n",
            "Epoch 200/2000 (10%) : loss = 0.1054; train_batch_acc=87.500%; val_acc=88.477%; lr=0.001\n",
            "Epoch 300/2000 (15%) : loss = 0.0419; train_batch_acc=95.312%; val_acc=96.777%; lr=0.001\n",
            "Epoch 400/2000 (20%) : loss = 0.0234; train_batch_acc=99.219%; val_acc=97.559%; lr=0.001\n",
            "Epoch 500/2000 (25%) : loss = 0.0126; train_batch_acc=100.000%; val_acc=98.730%; lr=0.001\n",
            "Epoch 600/2000 (30%) : loss = 0.0116; train_batch_acc=100.000%; val_acc=99.023%; lr=0.001\n",
            "Epoch 700/2000 (35%) : loss = 0.0093; train_batch_acc=100.000%; val_acc=99.316%; lr=0.001\n",
            "Epoch 800/2000 (40%) : loss = 0.0095; train_batch_acc=99.219%; val_acc=99.805%; lr=0.001\n",
            "Epoch 900/2000 (45%) : loss = 0.0117; train_batch_acc=100.000%; val_acc=99.219%; lr=0.001\n",
            "Epoch 1000/2000 (50%) : loss = 0.0068; train_batch_acc=100.000%; val_acc=99.707%; lr=0.001\n",
            "Epoch 1100/2000 (55%) : loss = 0.0042; train_batch_acc=100.000%; val_acc=99.902%; lr=0.001\n",
            "Epoch 1200/2000 (60%) : loss = 0.0115; train_batch_acc=98.438%; val_acc=99.512%; lr=0.001\n",
            "Epoch 1300/2000 (65%) : loss = 0.0046; train_batch_acc=100.000%; val_acc=99.707%; lr=0.0001\n",
            "Epoch 1400/2000 (70%) : loss = 0.0029; train_batch_acc=100.000%; val_acc=100.000%; lr=0.0001\n",
            "Epoch 1500/2000 (75%) : loss = 0.0027; train_batch_acc=100.000%; val_acc=100.000%; lr=0.0001\n",
            "Epoch 1600/2000 (80%) : loss = 0.0023; train_batch_acc=100.000%; val_acc=99.902%; lr=0.0001\n",
            "Epoch 1700/2000 (85%) : loss = 0.0017; train_batch_acc=100.000%; val_acc=100.000%; lr=0.0001\n",
            "Epoch 1800/2000 (90%) : loss = 0.0022; train_batch_acc=100.000%; val_acc=99.902%; lr=1e-05\n",
            "Epoch 1900/2000 (95%) : loss = 0.0015; train_batch_acc=100.000%; val_acc=100.000%; lr=1e-05\n"
          ]
        }
      ],
      "source": [
        "history = train_model(model)\n",
        "# load_model_state(model, <filename>)"
      ]
    },
    {
      "cell_type": "code",
      "execution_count": 99,
      "metadata": {},
      "outputs": [
        {
          "name": "stdout",
          "output_type": "stream",
          "text": [
            "Validation loss: 0.0021\n",
            "Validation accuracy: 0.9997\n"
          ]
        },
        {
          "data": {
            "text/plain": [
              "([0.002087201224640012,\n",
              "  0.0018859083065763116,\n",
              "  0.0023081847466528416,\n",
              "  0.0023150641936808825,\n",
              "  0.001889377715997398,\n",
              "  0.0018851383356377482,\n",
              "  0.0023192677181214094,\n",
              "  0.002040601335465908,\n",
              "  0.0030082936864346266,\n",
              "  0.002082484308630228,\n",
              "  0.0020700651220977306,\n",
              "  0.0021915677934885025,\n",
              "  0.001967653166502714,\n",
              "  0.002161339158192277,\n",
              "  0.0018218591576442122,\n",
              "  0.0017929071327671409,\n",
              "  0.0020399075001478195,\n",
              "  0.002121303929015994,\n",
              "  0.0018925803015008569,\n",
              "  0.0019842691253870726,\n",
              "  0.0018019139533862472,\n",
              "  0.002351080998778343,\n",
              "  0.001997019862756133,\n",
              "  0.002066932152956724,\n",
              "  0.0023865129332989454,\n",
              "  0.002179789589717984,\n",
              "  0.0022724689915776253,\n",
              "  0.002088025910779834,\n",
              "  0.002069726586341858,\n",
              "  0.0019045399967581034,\n",
              "  0.0020427301060408354,\n",
              "  0.0021926616318523884,\n",
              "  0.0017711762338876724,\n",
              "  0.0025385550688952208,\n",
              "  0.002009064657613635,\n",
              "  0.002161126583814621,\n",
              "  0.002365406369790435,\n",
              "  0.0024338122457265854,\n",
              "  0.002256486564874649,\n",
              "  0.002119506010785699,\n",
              "  0.0021708623971790075,\n",
              "  0.0019323908491060138,\n",
              "  0.002276485785841942,\n",
              "  0.0032454205211251974,\n",
              "  0.0018829054897651076,\n",
              "  0.0018519535660743713,\n",
              "  0.002120600314810872,\n",
              "  0.0019947257824242115,\n",
              "  0.002149128820747137,\n",
              "  0.0021550357341766357,\n",
              "  0.0021117471624165773,\n",
              "  0.0020459741353988647,\n",
              "  0.002076416974887252,\n",
              "  0.0020808186382055283,\n",
              "  0.002063643652945757,\n",
              "  0.002331174211576581,\n",
              "  0.0018728765426203609,\n",
              "  0.002111933659762144,\n",
              "  0.0023745147045701742,\n",
              "  0.002222661627456546,\n",
              "  0.0019472040003165603,\n",
              "  0.002259846543893218,\n",
              "  0.0017380316276103258,\n",
              "  0.0019460078328847885,\n",
              "  0.0019365405896678567,\n",
              "  0.002313376870006323,\n",
              "  0.0020404052920639515,\n",
              "  0.001989413518458605,\n",
              "  0.0019452710403129458,\n",
              "  0.0022321906872093678,\n",
              "  0.0019551448058336973,\n",
              "  0.0018403877038508654,\n",
              "  0.001942739705555141,\n",
              "  0.002103555016219616,\n",
              "  0.0018957772990688682,\n",
              "  0.0019756488036364317,\n",
              "  0.002019605366513133,\n",
              "  0.0029011250007897615,\n",
              "  0.001928343321196735,\n",
              "  0.0019891073461622,\n",
              "  0.0019997358322143555,\n",
              "  0.0021271181758493185,\n",
              "  0.0020947090815752745,\n",
              "  0.0018941728631034493,\n",
              "  0.0025639988016337156,\n",
              "  0.0019062996143475175,\n",
              "  0.002045910805463791,\n",
              "  0.002236840082332492,\n",
              "  0.0022035485599189997,\n",
              "  0.00212701759301126,\n",
              "  0.0019098997581750154,\n",
              "  0.0025439453311264515,\n",
              "  0.002405112609267235,\n",
              "  0.0017898239893838763,\n",
              "  0.0019448684761300683,\n",
              "  0.0019569508731365204,\n",
              "  0.001996689708903432,\n",
              "  0.003309434512630105],\n",
              " [1.0,\n",
              "  1.0,\n",
              "  0.9990234375,\n",
              "  1.0,\n",
              "  1.0,\n",
              "  1.0,\n",
              "  0.9990234375,\n",
              "  1.0,\n",
              "  0.998046875,\n",
              "  0.9990234375,\n",
              "  1.0,\n",
              "  1.0,\n",
              "  1.0,\n",
              "  1.0,\n",
              "  1.0,\n",
              "  1.0,\n",
              "  1.0,\n",
              "  1.0,\n",
              "  1.0,\n",
              "  1.0,\n",
              "  1.0,\n",
              "  0.9990234375,\n",
              "  1.0,\n",
              "  1.0,\n",
              "  0.9990234375,\n",
              "  0.9990234375,\n",
              "  1.0,\n",
              "  1.0,\n",
              "  1.0,\n",
              "  1.0,\n",
              "  1.0,\n",
              "  0.9990234375,\n",
              "  1.0,\n",
              "  0.9990234375,\n",
              "  1.0,\n",
              "  0.9990234375,\n",
              "  0.9990234375,\n",
              "  0.9990234375,\n",
              "  1.0,\n",
              "  1.0,\n",
              "  1.0,\n",
              "  1.0,\n",
              "  0.9990234375,\n",
              "  0.998046875,\n",
              "  1.0,\n",
              "  1.0,\n",
              "  0.9990234375,\n",
              "  1.0,\n",
              "  1.0,\n",
              "  1.0,\n",
              "  1.0,\n",
              "  0.9990234375,\n",
              "  1.0,\n",
              "  0.9990234375,\n",
              "  1.0,\n",
              "  0.9990234375,\n",
              "  1.0,\n",
              "  1.0,\n",
              "  0.9990234375,\n",
              "  0.9990234375,\n",
              "  1.0,\n",
              "  0.9990234375,\n",
              "  1.0,\n",
              "  1.0,\n",
              "  1.0,\n",
              "  0.9990234375,\n",
              "  1.0,\n",
              "  1.0,\n",
              "  1.0,\n",
              "  0.9990234375,\n",
              "  1.0,\n",
              "  1.0,\n",
              "  1.0,\n",
              "  1.0,\n",
              "  1.0,\n",
              "  1.0,\n",
              "  1.0,\n",
              "  0.9990234375,\n",
              "  1.0,\n",
              "  1.0,\n",
              "  1.0,\n",
              "  1.0,\n",
              "  1.0,\n",
              "  1.0,\n",
              "  0.9990234375,\n",
              "  1.0,\n",
              "  1.0,\n",
              "  1.0,\n",
              "  1.0,\n",
              "  1.0,\n",
              "  1.0,\n",
              "  0.998046875,\n",
              "  0.9990234375,\n",
              "  1.0,\n",
              "  1.0,\n",
              "  1.0,\n",
              "  1.0,\n",
              "  0.9985119104385376])"
            ]
          },
          "execution_count": 99,
          "metadata": {},
          "output_type": "execute_result"
        }
      ],
      "source": [
        "def validate_all(val_loader):\n",
        "    \n",
        "    val_losses = []\n",
        "    val_accs = []\n",
        "    \n",
        "    for batch in val_loader:\n",
        "        val_data = batch[0].to(device=DEVICE)\n",
        "        val_acc = validate(model, val_data)\n",
        "        val_loss = loss_fn(model(val_data), val_data)\n",
        "        \n",
        "        val_losses.append(val_loss.item())\n",
        "        val_accs.append(val_acc)\n",
        "    \n",
        "    print(f\"Validation loss: {np.mean(val_losses):.4f}\")\n",
        "    print(f\"Validation accuracy: {np.mean(val_accs):.4f}\")\n",
        "    \n",
        "    return val_losses, val_accs\n",
        "\n",
        "validate_all(val_loader)"
      ]
    },
    {
      "cell_type": "code",
      "execution_count": 17,
      "metadata": {},
      "outputs": [
        {
          "data": {
            "text/plain": [
              "[tensor([[64, 61,  5,  ..., 55, 60, 61],\n",
              "         [64,  1, 21,  ..., 41, 55, 58],\n",
              "         [64, 61,  2,  ..., 37, 55, 61],\n",
              "         ...,\n",
              "         [64, 15, 42,  ..., 22, 23, 42],\n",
              "         [64, 10, 33,  ..., 33, 44, 62],\n",
              "         [64, 50, 42,  ..., 42, 50, 61]])]"
            ]
          },
          "execution_count": 17,
          "metadata": {},
          "output_type": "execute_result"
        }
      ],
      "source": [
        "next(iter(val_loader))"
      ]
    },
    {
      "cell_type": "markdown",
      "metadata": {
        "id": "HABWttcH34dv"
      },
      "source": [
        "### Testing post-training"
      ]
    },
    {
      "cell_type": "code",
      "execution_count": 18,
      "metadata": {
        "colab": {
          "base_uri": "https://localhost:8080/"
        },
        "id": "lakshPyuwdO7",
        "outputId": "259e2ca7-0398-476f-f6ba-094006179a44"
      },
      "outputs": [
        {
          "name": "stdout",
          "output_type": "stream",
          "text": [
            "Validating on validation data:\n",
            "\tval_acc=100.000%\n",
            "\n",
            "\n",
            "Validating on test data:\n",
            "\ttest_acc=100.000%\n",
            "\n"
          ]
        }
      ],
      "source": [
        "print(\"Validating on validation data:\")\n",
        "val_batch = next(iter(val_loader))[0]\n",
        "val_acc = validate(model, val_batch)\n",
        "print(f\"\\t{val_acc=:.3%}\\n\")\n",
        "if val_acc < 1:\n",
        "    show_mispreds(model, val_batch)\n",
        "\n",
        "test_batch = next(iter(test_loader))[0]\n",
        "print(\"\\nValidating on test data:\")\n",
        "test_acc = validate(model, test_batch)\n",
        "print(f\"\\t{test_acc=:.3%}\\n\")\n",
        "if test_acc < 1:\n",
        "    show_mispreds(model, test_batch)"
      ]
    },
    {
      "cell_type": "markdown",
      "metadata": {
        "id": "pNofXtfSQvh2"
      },
      "source": [
        "### Saving trained model"
      ]
    },
    {
      "cell_type": "code",
      "execution_count": 19,
      "metadata": {
        "id": "i9lLO9p1d8mC"
      },
      "outputs": [],
      "source": [
        "def save_model_state_dict(\n",
        "    model: HookedTransformer, \n",
        "    filename: str | None = None\n",
        ") -> None:\n",
        "    if not os.path.isdir(\"models\"):\n",
        "        os.mkdir(\"models\")\n",
        "    if not filename:\n",
        "        timestamp = dt.now().isoformat(\"T\", \"minutes\").replace(\":\", \"-\")\n",
        "        filename = f\"model_state_dict_{timestamp}.pkl\"\n",
        "    with open(f\"models/{filename}\", \"wb\") as f:\n",
        "        pickle.dump(model.state_dict(), f)\n",
        "\n",
        "save_model_state_dict(model)"
      ]
    },
    {
      "cell_type": "code",
      "execution_count": 88,
      "metadata": {},
      "outputs": [
        {
          "data": {
            "image/png": "[encoded data removed]",
            "text/plain": [
              "<Figure size 800x800 with 2 Axes>"
            ]
          },
          "metadata": {},
          "output_type": "display_data"
        }
      ],
      "source": [
        "attn = model.blocks[0].attn\n",
        "all_token_embeddings = model.embed(range(D_VOCAB))\n",
        "\n",
        "embeddings_key = einsum(\"d_vocab d_model, n_heads d_model d_head -> n_heads d_vocab d_head\", \n",
        "                        all_token_embeddings, attn.W_K) \n",
        "embeddings_query = einsum(\"d_vocab d_model, n_heads d_model d_head -> n_heads d_vocab d_head\", \n",
        "                          all_token_embeddings, attn.W_Q) \n",
        "\n",
        "plt.rcParams['figure.figsize'] = [20, 10]\n",
        "qk_circuit_attn_heatmap = einsum(\n",
        "    \"n_heads d_vocab_q d_head, n_heads d_vocab_k d_head -> ... d_vocab_q d_vocab_k\", \n",
        "    embeddings_query, embeddings_key\n",
        "    ).detach().cpu().numpy()\n",
        "fig, ax = plt.subplots(figsize=(8, 8))\n",
        "graph = ax.imshow(qk_circuit_attn_heatmap, cmap=\"viridis\", interpolation=\"nearest\")\n",
        "plt.colorbar(graph)\n",
        "plt.tight_layout()"
      ]
    },
    {
      "cell_type": "code",
      "execution_count": 26,
      "metadata": {},
      "outputs": [
        {
          "data": {
            "text/plain": [
              "torch.Size([66, 32])"
            ]
          },
          "execution_count": 26,
          "metadata": {},
          "output_type": "execute_result"
        }
      ],
      "source": [
        "attn = model.blocks[0].attn\n",
        "all_token_embeddings = model.embed(range(D_VOCAB))"
      ]
    },
    {
      "cell_type": "code",
      "execution_count": 63,
      "metadata": {},
      "outputs": [
        {
          "data": {
            "text/plain": [
              "torch.Size([128, 128])"
            ]
          },
          "execution_count": 63,
          "metadata": {},
          "output_type": "execute_result"
        }
      ],
      "source": [
        "# attn.W_V.shape\n",
        "OV_circuit_1 = (attn.W_V[0] @ attn.W_O[0])\n",
        "OV_circuit_2 = model.unembed.W_U\n",
        "OV_circuit_1.shape"
      ]
    },
    {
      "cell_type": "code",
      "execution_count": 90,
      "metadata": {},
      "outputs": [],
      "source": [
        "out = (all_token_embeddings @ OV_circuit_1) @ OV_circuit_2"
      ]
    },
    {
      "cell_type": "code",
      "execution_count": 91,
      "metadata": {},
      "outputs": [
        {
          "data": {
            "text/plain": [
              "torch.Size([66, 66])"
            ]
          },
          "execution_count": 91,
          "metadata": {},
          "output_type": "execute_result"
        }
      ],
      "source": [
        "out.shape"
      ]
    },
    {
      "cell_type": "code",
      "execution_count": 92,
      "metadata": {},
      "outputs": [
        {
          "data": {
            "image/png": "[encoded data removed]",
            "text/plain": [
              "<Figure size 800x800 with 2 Axes>"
            ]
          },
          "metadata": {},
          "output_type": "display_data"
        }
      ],
      "source": [
        "plt.rcParams['figure.figsize'] = [20, 10]\n",
        "fig, ax = plt.subplots(figsize=(8, 8))\n",
        "graph = ax.imshow(out.detach().cpu().numpy(), cmap=\"viridis\", interpolation=\"nearest\")\n",
        "plt.colorbar(graph)\n",
        "plt.tight_layout()"
      ]
    },
    {
      "cell_type": "code",
      "execution_count": 54,
      "metadata": {},
      "outputs": [
        {
          "data": {
            "text/plain": [
              "torch.Size([128, 66])"
            ]
          },
          "execution_count": 54,
          "metadata": {},
          "output_type": "execute_result"
        }
      ],
      "source": [
        "model.unembed.W_U.shape"
      ]
    },
    {
      "cell_type": "code",
      "execution_count": null,
      "metadata": {},
      "outputs": [],
      "source": [
        "plt.rcParams['figure.figsize'] = [20, 10]\n",
        "fig, ax = plt.subplots(figsize=(8, 8))\n",
        "graph = ax.imshow(qk_circuit_attn_heatmap, cmap=\"hot\", interpolation=\"nearest\")\n",
        "plt.colorbar(graph)\n",
        "plt.tight_layout()"
      ]
    },
    {
      "cell_type": "code",
      "execution_count": 118,
      "metadata": {},
      "outputs": [
        {
          "data": {
            "image/png": "[encoded data removed]",
            "text/plain": [
              "<Figure size 800x800 with 1 Axes>"
            ]
          },
          "metadata": {},
          "output_type": "display_data"
        }
      ],
      "source": [
        "fig, ax = plt.subplots(figsize=(8, 8))\n",
        "graph = ax.imshow(embeddings_value[0].detach().cpu().numpy(), cmap=\"hot\", interpolation=\"nearest\")"
      ]
    },
    {
      "cell_type": "code",
      "execution_count": 119,
      "metadata": {},
      "outputs": [
        {
          "data": {
            "text/plain": [
              "HookedTransformer(\n",
              "  (embed): Embed()\n",
              "  (hook_embed): HookPoint()\n",
              "  (pos_embed): PosEmbed()\n",
              "  (hook_pos_embed): HookPoint()\n",
              "  (blocks): ModuleList(\n",
              "    (0): TransformerBlock(\n",
              "      (ln1): LayerNorm(\n",
              "        (hook_scale): HookPoint()\n",
              "        (hook_normalized): HookPoint()\n",
              "      )\n",
              "      (attn): Attention(\n",
              "        (hook_k): HookPoint()\n",
              "        (hook_q): HookPoint()\n",
              "        (hook_v): HookPoint()\n",
              "        (hook_z): HookPoint()\n",
              "        (hook_attn_scores): HookPoint()\n",
              "        (hook_pattern): HookPoint()\n",
              "        (hook_result): HookPoint()\n",
              "      )\n",
              "      (hook_attn_in): HookPoint()\n",
              "      (hook_q_input): HookPoint()\n",
              "      (hook_k_input): HookPoint()\n",
              "      (hook_v_input): HookPoint()\n",
              "      (hook_mlp_in): HookPoint()\n",
              "      (hook_attn_out): HookPoint()\n",
              "      (hook_mlp_out): HookPoint()\n",
              "      (hook_resid_pre): HookPoint()\n",
              "      (hook_resid_post): HookPoint()\n",
              "    )\n",
              "  )\n",
              "  (ln_final): LayerNorm(\n",
              "    (hook_scale): HookPoint()\n",
              "    (hook_normalized): HookPoint()\n",
              "  )\n",
              "  (unembed): Unembed()\n",
              ")"
            ]
          },
          "execution_count": 119,
          "metadata": {},
          "output_type": "execute_result"
        }
      ],
      "source": [
        "model."
      ]
    },
    {
      "cell_type": "code",
      "execution_count": 98,
      "metadata": {},
      "outputs": [
        {
          "name": "stdout",
          "output_type": "stream",
          "text": [
            "tensor([64, 34, 43, 28, 62, 55, 65, 28, 34, 43, 55, 62], device='mps:0')\n"
          ]
        },
        {
          "data": {
            "text/html": [
              "<div style='max-width: 700px;'><h2>What</h2><br/><div id=\"circuits-vis-75aaf90e-0434\" style=\"margin: 15px 0;\"/>\n",
              "    <script crossorigin type=\"module\">\n",
              "    import { render, AttentionHeads } from \"https://unpkg.com/circuitsvis@1.43.2/dist/cdn/esm.js\";\n",
              "    render(\n",
              "      \"circuits-vis-75aaf90e-0434\",\n",
              "      AttentionHeads,\n",
              "      {\"attention\": [[[1.0, 0.0, 0.0, 0.0, 0.0, 0.0, 0.0, 0.0, 0.0, 0.0, 0.0, 0.0], [0.08226054906845093, 0.9177395105361938, 0.0, 0.0, 0.0, 0.0, 0.0, 0.0, 0.0, 0.0, 0.0, 0.0], [0.9642807245254517, 0.0038359505124390125, 0.031883276998996735, 0.0, 0.0, 0.0, 0.0, 0.0, 0.0, 0.0, 0.0, 0.0], [0.49628371000289917, 0.25583964586257935, 0.23565885424613953, 0.012217743322253227, 0.0, 0.0, 0.0, 0.0, 0.0, 0.0, 0.0, 0.0], [0.12552966177463531, 0.2662949860095978, 0.250078409910202, 0.04460173472762108, 0.31349512934684753, 0.0, 0.0, 0.0, 0.0, 0.0, 0.0, 0.0], [0.4547785520553589, 0.004807047545909882, 0.042493127286434174, 0.0012346933363005519, 0.3949719965457916, 0.10171464085578918, 0.0, 0.0, 0.0, 0.0, 0.0, 0.0], [0.0027272235602140427, 0.2173328399658203, 0.05605087801814079, 0.6647114753723145, 0.011265800334513187, 0.015085399150848389, 0.03282640501856804, 0.0, 0.0, 0.0, 0.0, 0.0], [0.010496900416910648, 0.6335595846176147, 0.21733146905899048, 0.04769881069660187, 0.022300763055682182, 0.05320270359516144, 0.004975042771548033, 0.010434674099087715, 0.0, 0.0, 0.0, 0.0], [0.0004462224314920604, 0.12247572094202042, 0.560802698135376, 0.027431102469563484, 0.15187010169029236, 0.13639889657497406, 8.883884584065527e-05, 0.0002881894470192492, 0.0001982159592444077, 0.0, 0.0, 0.0], [0.014159174636006355, 0.009754937142133713, 0.17706458270549774, 0.007652751635760069, 0.20494279265403748, 0.5714302062988281, 0.007291603833436966, 0.0023227219935506582, 0.00024078784917946905, 0.005140426568686962, 0.0, 0.0], [0.00012475778930820525, 0.0003441103908699006, 0.004650887567549944, 6.512880645459518e-05, 0.9564108848571777, 0.037961140275001526, 8.022967813303694e-05, 9.470578334003221e-06, 1.74150918610394e-05, 0.0001386382064083591, 0.0001972719473997131, 0.0], [0.031826429069042206, 0.058088984340429306, 0.011871853843331337, 0.014255085028707981, 0.029187042266130447, 0.05011238902807236, 0.2601146101951599, 0.06823469698429108, 0.3427361845970154, 0.03527141362428665, 0.08343604952096939, 0.014865288510918617]]], \"attentionHeadNames\": [\"L0H0\"], \"tokens\": [\"64\", \"34\", \"43\", \"28\", \"62\", \"55\", \"65\", \"28\", \"34\", \"43\", \"55\", \"62\"]}\n",
              "    )\n",
              "    </script></div>"
            ],
            "text/plain": [
              "<IPython.core.display.HTML object>"
            ]
          },
          "execution_count": 98,
          "metadata": {},
          "output_type": "execute_result"
        }
      ],
      "source": [
        "from IPython.display import HTML, IFrame\n",
        "\n",
        "from typing import *\n",
        "from transformer_lens import ActivationCache, HookedTransformer\n",
        "from jaxtyping import Float\n",
        "from circuitsvis.attention import attention_heads\n",
        "\n",
        "def visualize_attention_patterns(\n",
        "    heads: Union[List[int], int, Float[torch.Tensor, \"heads\"]],\n",
        "    local_cache: ActivationCache,\n",
        "    local_tokens: torch.Tensor,\n",
        "    title: Optional[str] = \"\",\n",
        "    max_width: Optional[int] = 700,\n",
        ") -> str:\n",
        "    # If a single head is given, convert to a list\n",
        "    if isinstance(heads, int):\n",
        "        heads = [heads]\n",
        "\n",
        "    # Create the plotting data\n",
        "    labels: List[str] = []\n",
        "    patterns: List[Float[torch.Tensor, \"dest_pos src_pos\"]] = []\n",
        "\n",
        "    # Assume we have a single batch item\n",
        "    batch_index = 0\n",
        "\n",
        "    for head in heads:\n",
        "        # Set the label\n",
        "        layer = head // model.cfg.n_heads\n",
        "        head_index = head % model.cfg.n_heads\n",
        "        labels.append(f\"L{layer}H{head_index}\")\n",
        "\n",
        "        # Get the attention patterns for the head\n",
        "        # Attention patterns have shape [batch, head_index, query_pos, key_pos]\n",
        "        patterns.append(local_cache[\"attn\", layer][batch_index, head_index])\n",
        "\n",
        "    # Convert the tokens to strings (for the axis labels)\n",
        "    str_tokens = local_tokens.detach().cpu().numpy().astype(str).tolist()\n",
        "\n",
        "    # Combine the patterns into a single tensor\n",
        "    patterns: Float[torch.Tensor, \"head_index dest_pos src_pos\"] = torch.stack(\n",
        "        patterns, dim=0\n",
        "    )\n",
        "\n",
        "    # Circuitsvis Plot (note we get the code version so we can concatenate with the title)\n",
        "    plot = attention_heads(\n",
        "        attention=patterns, tokens=str_tokens, attention_head_names=labels\n",
        "    ).show_code()\n",
        "\n",
        "    # Display the title\n",
        "    title_html = f\"<h2>{title}</h2><br/>\"\n",
        "\n",
        "    # Return the visualisation as raw code\n",
        "    return f\"<div style='max-width: {str(max_width)}px;'>{title_html + plot}</div>\"\n",
        "\n",
        "# input_tokens = torch.Tensor([START_TOKEN_ID] + [0] * 5 + [1] * 5 + [MID_TOKEN_ID] + 5 * [0] + 5 * [1]).long().to(DEVICE)\n",
        "\n",
        "# list_to_sort = [0,1,1,0,1,0,2,3,4,5]\n",
        "list_to_sort = [0,1,2,3,4]\n",
        "tokens = torch.Tensor([START_TOKEN_ID] + list_to_sort + [MID_TOKEN_ID] + sorted(list_to_sort)).long().to(DEVICE)\n",
        "\n",
        "tokens = next(train_gen)[0].to(device=DEVICE)[0]\n",
        "print(tokens)\n",
        "\n",
        "# Run the model and cache all activations\n",
        "original_logits, cache = model.run_with_cache(tokens)\n",
        "\n",
        "positive_html = visualize_attention_patterns(\n",
        "    0,\n",
        "    cache,\n",
        "    tokens,\n",
        "    f\"What\",\n",
        ")\n",
        "\n",
        "\n",
        "HTML(positive_html)"
      ]
    },
    {
      "cell_type": "code",
      "execution_count": null,
      "metadata": {},
      "outputs": [],
      "source": []
    }
  ],
  "metadata": {
    "colab": {
      "collapsed_sections": [
        "7o--LiD_HMGs"
      ],
      "provenance": []
    },
    "kernelspec": {
      "display_name": "Python 3",
      "language": "python",
      "name": "python3"
    },
    "language_info": {
      "codemirror_mode": {
        "name": "ipython",
        "version": 3
      },
      "file_extension": ".py",
      "mimetype": "text/x-python",
      "name": "python",
      "nbconvert_exporter": "python",
      "pygments_lexer": "ipython3",
      "version": "3.9.16"
    },
    "vscode": {
      "interpreter": {
        "hash": "916dbcbb3f70747c44a77c7bcd40155683ae19c65e1c03b4aa3499c5328201f1"
      }
    }
  },
  "nbformat": 4,
  "nbformat_minor": 0
}
