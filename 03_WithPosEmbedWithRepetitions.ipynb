{
  "cells": [
    {
      "cell_type": "markdown",
      "metadata": {
        "id": "jKyC3mZ72qlH"
      },
      "source": [
        "Copy-paste the contents of this notebook at the beginning of every other notebook in this project."
      ]
    },
    {
      "cell_type": "markdown",
      "metadata": {
        "id": "PBe5K-JpHXFs"
      },
      "source": [
        "## Variable hyperparameters"
      ]
    },
    {
      "cell_type": "code",
      "execution_count": 1,
      "metadata": {
        "id": "httbkgCwHYF4"
      },
      "outputs": [],
      "source": [
        "# Fixed length of list to be sorted\n",
        "LIST_LENGTH = 10\n",
        "\n",
        "# Size of vocabulary\n",
        "D_VOCAB = 16\n",
        "\n",
        "# Should lists have repetitions?\n",
        "ALLOW_REPETITIONS = True\n",
        "\n",
        "# Attention only? (False -> model includes MLPs)\n",
        "ATTN_ONLY = True\n",
        "\n",
        "# Model dimenions\n",
        "N_LAYERS = 1\n",
        "N_HEADS = 1\n",
        "D_MODEL = 128\n",
        "D_HEAD = 32\n",
        "D_MLP = None\n",
        "\n",
        "if ATTN_ONLY:\n",
        "    D_MLP = None\n",
        "\n",
        "# Default batch size\n",
        "DEFAULT_BATCH_SIZE = 32"
      ]
    },
    {
      "cell_type": "markdown",
      "metadata": {
        "id": "7o--LiD_HMGs"
      },
      "source": [
        "## Prelude"
      ]
    },
    {
      "cell_type": "markdown",
      "metadata": {
        "id": "7yjVSLZbEEJX"
      },
      "source": [
        "### Install and import"
      ]
    },
    {
      "cell_type": "code",
      "execution_count": 2,
      "metadata": {
        "id": "Wqa5uVY-2oC7"
      },
      "outputs": [
        {
          "name": "stderr",
          "output_type": "stream",
          "text": [
            "/Users/randyardywibowo/miniconda3/envs/lit/lib/python3.9/site-packages/tqdm/auto.py:21: TqdmWarning: IProgress not found. Please update jupyter and ipywidgets. See https://ipywidgets.readthedocs.io/en/stable/user_install.html\n",
            "  from .autonotebook import tqdm as notebook_tqdm\n"
          ]
        }
      ],
      "source": [
        "try:\n",
        "    import transformer_lens\n",
        "except:\n",
        "    !pip install git+https://github.com/neelnanda-io/TransformerLens\n",
        "    !pip install circuitsvis"
      ]
    },
    {
      "cell_type": "code",
      "execution_count": 3,
      "metadata": {
        "colab": {
          "base_uri": "https://localhost:8080/",
          "height": 64
        },
        "id": "dqFfW5V32yaO",
        "outputId": "323df961-4b90-49e8-8ab8-ef66c85061d1"
      },
      "outputs": [
        {
          "data": {
            "text/html": [
              "<div id=\"circuits-vis-f933bbae-f650\" style=\"margin: 15px 0;\"/>\n",
              "    <script crossorigin type=\"module\">\n",
              "    import { render, Hello } from \"https://unpkg.com/circuitsvis@1.43.2/dist/cdn/esm.js\";\n",
              "    render(\n",
              "      \"circuits-vis-f933bbae-f650\",\n",
              "      Hello,\n",
              "      {\"name\": \"You\"}\n",
              "    )\n",
              "    </script>"
            ],
            "text/plain": [
              "<circuitsvis.utils.render.RenderedHTML at 0x28d1c16a0>"
            ]
          },
          "execution_count": 3,
          "metadata": {},
          "output_type": "execute_result"
        }
      ],
      "source": [
        "from __future__ import annotations\n",
        "from dataclasses import dataclass, field\n",
        "from datetime import datetime as dt\n",
        "from itertools import repeat\n",
        "import os\n",
        "import pickle\n",
        "import random\n",
        "from typing import cast, Generator, Literal\n",
        "\n",
        "import circuitsvis as cv\n",
        "from fancy_einsum import einsum\n",
        "from matplotlib import pyplot as plt\n",
        "import numpy as np\n",
        "import torch\n",
        "from torch import nn, tensor, Tensor, TensorType as TT\n",
        "from torch.nn import functional as F\n",
        "from transformer_lens import HookedTransformerConfig, HookedTransformer\n",
        "from tqdm import tqdm\n",
        "from typing_extensions import Self\n",
        "\n",
        "cv.examples.hello(\"You\")"
      ]
    },
    {
      "cell_type": "markdown",
      "metadata": {
        "id": "Oo4oP4dSrYhD"
      },
      "source": [
        "### Invariable hyperparameters"
      ]
    },
    {
      "cell_type": "code",
      "execution_count": 4,
      "metadata": {
        "colab": {
          "base_uri": "https://localhost:8080/"
        },
        "id": "_XwivtyM_Hru",
        "outputId": "253931dc-5c4d-4f11-a4e9-b80730e9372c"
      },
      "outputs": [
        {
          "name": "stdout",
          "output_type": "stream",
          "text": [
            "DEVICE = 'mps'\n"
          ]
        }
      ],
      "source": [
        "# DEVICE = \"cuda\" if torch.cuda.is_available() else \"cpu\"\n",
        "DEVICE = \"mps\"\n",
        "print(f\"{DEVICE = }\")\n",
        "\n",
        "# Seeds to generate training, validation, and test data\n",
        "TRAIN_SEED = 42\n",
        "VAL_SEED = 66\n",
        "TEST_SEED = 1729\n",
        "\n",
        "# Context length: [start, *(unsorted_)list_length, mid, *(sorted_)list_length]\n",
        "N_CTX = 2 * LIST_LENGTH + 2\n",
        "\n",
        "# \"Real\" tokens range from 0 to D_VOCAB - 2 (non-inclusive)\n",
        "VOCAB_MIN_ID = 0\n",
        "VOCAB_MAX_ID = D_VOCAB - 2\n",
        "\n",
        "# START token is D_VOCAB - 2 and MID token is D_VOCAB - 1\n",
        "START_TOKEN_ID = VOCAB_MAX_ID\n",
        "MID_TOKEN_ID = D_VOCAB - 1"
      ]
    },
    {
      "cell_type": "markdown",
      "metadata": {
        "id": "dlWGwox63j24"
      },
      "source": [
        "### Data generator and datasets"
      ]
    },
    {
      "cell_type": "code",
      "execution_count": 5,
      "metadata": {
        "colab": {
          "base_uri": "https://localhost:8080/"
        },
        "id": "44OZjOq83k1H",
        "outputId": "413c82ad-aa84-42bc-f9ab-fe4c0608481a"
      },
      "outputs": [],
      "source": [
        "import torch\n",
        "from torch.utils.data import TensorDataset, DataLoader, random_split\n",
        "\n",
        "def generate_unique_list(total_size: int) -> torch.Tensor:\n",
        "    # Generate a list of unique sequences\n",
        "    unique_sequences = set()\n",
        "    while len(unique_sequences) < total_size:\n",
        "        if ALLOW_REPETITIONS:\n",
        "            sequence = tuple(torch.randint(VOCAB_MIN_ID, VOCAB_MAX_ID, (LIST_LENGTH,)).tolist())\n",
        "        else:\n",
        "            sequence = tuple(random.sample(range(VOCAB_MIN_ID, VOCAB_MAX_ID), k=LIST_LENGTH))\n",
        "        unique_sequences.add(sequence)\n",
        "\n",
        "    # Convert to tensor and move to the correct DEVICE\n",
        "    return torch.tensor(list(unique_sequences), dtype=torch.int32)\n",
        "\n",
        "def process_data(data: torch.Tensor) -> torch.Tensor:\n",
        "    # Sort the data\n",
        "    data_sorted = torch.sort(data, dim=1).values\n",
        "    # Add START tokens\n",
        "    data_start = START_TOKEN_ID * torch.ones(data.size(0), 1, dtype=torch.int32)\n",
        "    # Add MID tokens\n",
        "    data_mid = MID_TOKEN_ID * torch.ones(data.size(0), 1, dtype=torch.int32)\n",
        "    # Concatenate all parts\n",
        "    return torch.cat((data_start, data, data_mid, data_sorted), dim=1)\n",
        "\n",
        "# Set the seeds\n",
        "torch.manual_seed(TRAIN_SEED)\n",
        "data = generate_unique_list(1_000_000 + 200_000)  # extra for validation and test\n",
        "\n",
        "# if not ALLOW_REPETITIONS:\n",
        "#     # Generate the complete list of unique sequences\n",
        "#     data = generate_unique_list(1_000_000 + 200_000)  # extra for validation and test\n",
        "# else:\n",
        "#     # If repetitions are allowed, just generate a large random tensor\n",
        "#     data = torch.randint(VOCAB_MIN_ID, VOCAB_MAX_ID, (1_200_000, LIST_LENGTH), dtype=torch.int32)\n",
        "\n",
        "# Process the data with start, mid tokens and sorted sequences\n",
        "full_data = process_data(data)\n",
        "full_data = full_data.long()\n",
        "\n",
        "# Define the length of splits for train, validation, and test sets\n",
        "train_length = 1_000_000\n",
        "val_length = 100_000\n",
        "test_length = 100_000\n",
        "\n",
        "# Split the data into training, validation, and test sets\n",
        "train_data, val_data, test_data = random_split(\n",
        "    full_data, [train_length, val_length, test_length],\n",
        "    generator=torch.Generator().manual_seed(42)  # for reproducibility\n",
        ")\n",
        "\n",
        "# Create DataLoaders for each set\n",
        "# Wrap the actual data in a TensorDataset\n",
        "train_loader = DataLoader(TensorDataset(train_data.dataset[train_data.indices]), batch_size=128, shuffle=True)\n",
        "val_loader = DataLoader(TensorDataset(val_data.dataset[val_data.indices]), batch_size=1024, shuffle=True)\n",
        "test_loader = DataLoader(TensorDataset(test_data.dataset[test_data.indices]), batch_size=1024, shuffle=True)"
      ]
    },
    {
      "cell_type": "code",
      "execution_count": 6,
      "metadata": {},
      "outputs": [
        {
          "data": {
            "text/plain": [
              "tensor([ 0,  5, 13,  2,  8,  3, 11, 11,  9,  1], dtype=torch.int32)"
            ]
          },
          "execution_count": 6,
          "metadata": {},
          "output_type": "execute_result"
        }
      ],
      "source": [
        "data[0]"
      ]
    },
    {
      "cell_type": "code",
      "execution_count": 7,
      "metadata": {},
      "outputs": [
        {
          "data": {
            "text/plain": [
              "tensor([14, 11,  8,  2,  1, 12,  5, 10,  0,  6,  9, 15,  0,  1,  2,  5,  6,  8,\n",
              "         9, 10, 11, 12])"
            ]
          },
          "execution_count": 7,
          "metadata": {},
          "output_type": "execute_result"
        }
      ],
      "source": [
        "next(iter(test_loader))[0][0]"
      ]
    },
    {
      "cell_type": "markdown",
      "metadata": {
        "id": "hBJn1fKm3pMX"
      },
      "source": [
        "### Loss function"
      ]
    },
    {
      "cell_type": "code",
      "execution_count": 8,
      "metadata": {
        "colab": {
          "base_uri": "https://localhost:8080/"
        },
        "id": "PTlNfaKY3qkd",
        "outputId": "7d962ac8-efe5-4681-bb20-a4ff8b675156"
      },
      "outputs": [],
      "source": [
        "def loss_fn(\n",
        "    logits: Tensor, # [batch, pos, d_vocab] \n",
        "    tokens: Tensor, # [batch, pos] \n",
        "    return_per_token: bool = False\n",
        ") -> Tensor: # scalar\n",
        "    \"\"\"Mean cross-entropy between tokens in the sorted list part of the \n",
        "    sequence (last `LIST_LENGTH`) and model's predictions about them.\n",
        "    \"\"\"\n",
        "    sorted_start_pos = LIST_LENGTH + 2\n",
        "    logits = logits[:, (sorted_start_pos-1):-1]\n",
        "    tokens = tokens[:, sorted_start_pos : None]\n",
        "    log_probs = logits.log_softmax(-1)\n",
        "    correct_log_probs = log_probs.gather(-1, tokens[..., None])[..., 0]\n",
        "    if return_per_token:\n",
        "        return -correct_log_probs\n",
        "    return -correct_log_probs.mean()"
      ]
    },
    {
      "cell_type": "markdown",
      "metadata": {
        "id": "GKKrzLEq3sun"
      },
      "source": [
        "### Accuracy and validation"
      ]
    },
    {
      "cell_type": "code",
      "execution_count": 9,
      "metadata": {
        "id": "1x6q7b7O3rZa"
      },
      "outputs": [],
      "source": [
        "def get_diff_row_inds(\n",
        "    a: Tensor, # [dim1, dim2]\n",
        "    b: Tensor  # [dim1, dim2]\n",
        ") -> Tensor:   # [dim1]\n",
        "    \"\"\"Find indices of rows where a and b differ\"\"\"\n",
        "    assert a.shape == b.shape\n",
        "    return ((a == b).prod(dim=1) == 0).nonzero(as_tuple=True)[0]\n",
        "\n",
        "def acc_fn(\n",
        "    logits: Tensor, # [batch, pos, d_vocab]\n",
        "    tokens: Tensor, # [batch, pos]\n",
        "    per: Literal[\"token\", \"sequence\"] = \"sequence\"\n",
        ") -> float:\n",
        "    \"\"\"Compute accuracy as percentage of correct predictions\"\"\"\n",
        "    assert per in (\"token\", \"sequence\")\n",
        "    sorted_start_pos = LIST_LENGTH + 2\n",
        "    # Get logits of predictions for position\n",
        "    logits = logits[:, (sorted_start_pos-1):-1]\n",
        "    preds = logits.argmax(-1).to(tokens.device)\n",
        "    tokens = tokens[:, sorted_start_pos:]\n",
        "    if per == \"sequence\":\n",
        "        return (preds == tokens).prod(dim=1).float().mean().item()\n",
        "    return (preds == tokens).float().mean().item()\n",
        "\n",
        "def validate(\n",
        "    model: HookedTransformer, \n",
        "    data: Tensor, # [batch, pos]\n",
        "    per: Literal[\"token\", \"sequence\"] = \"sequence\"\n",
        ") -> float:\n",
        "    \"\"\"Test this model on `data`\"\"\"\n",
        "    logits = model(data)\n",
        "    acc = acc_fn(logits, tokens=data, per=per)\n",
        "    return acc\n",
        "\n",
        "def show_mispreds(\n",
        "    model: HookedTransformer, \n",
        "    data: Tensor # [batch, pos]\n",
        ") -> None:\n",
        "    \"\"\"Test this model on `data` and print mispredictions\"\"\"\n",
        "    logits = model(data)\n",
        "    sorted_start_pos = LIST_LENGTH + 2\n",
        "    logits = logits[:, (sorted_start_pos-1):-1]\n",
        "    tokens = data[:, sorted_start_pos:].cpu()\n",
        "    preds = logits.argmax(-1).cpu()\n",
        "    mispred_inds = get_diff_row_inds(tokens, preds)\n",
        "    for i in mispred_inds:\n",
        "        print(f\"[{i}] {tokens[i].numpy().tolist()} | {preds[i].numpy().tolist()}\")\n",
        "    print(f\"{len(mispred_inds)}/{len(preds)} ({len(mispred_inds) / len(preds) :.2%})\")"
      ]
    },
    {
      "cell_type": "markdown",
      "metadata": {
        "id": "V5trW5nKhF3I"
      },
      "source": [
        "## Training"
      ]
    },
    {
      "cell_type": "markdown",
      "metadata": {
        "id": "32Hj7N1nhHrI"
      },
      "source": [
        "### Model"
      ]
    },
    {
      "cell_type": "code",
      "execution_count": 10,
      "metadata": {
        "id": "YwIffvImhT4g"
      },
      "outputs": [],
      "source": [
        "cfg = HookedTransformerConfig(\n",
        "    d_model=D_MODEL,\n",
        "    n_layers=N_LAYERS,\n",
        "    n_heads=N_HEADS,\n",
        "    d_head=D_HEAD,\n",
        "    n_ctx=N_CTX,\n",
        "    d_vocab=D_VOCAB,\n",
        "    act_fn=\"relu\",\n",
        "    seed=42,\n",
        "    device=DEVICE,\n",
        "    attn_only=ATTN_ONLY\n",
        ")\n",
        "model = HookedTransformer(cfg, move_to_device=True)\n"
      ]
    },
    {
      "cell_type": "code",
      "execution_count": 11,
      "metadata": {},
      "outputs": [],
      "source": [
        "# model.pos_embed.W_pos.data[:] = 0\n",
        "# model.pos_embed.W_pos.requires_grad = False"
      ]
    },
    {
      "cell_type": "markdown",
      "metadata": {
        "id": "9vYV7QAd3vCT"
      },
      "source": [
        "### Training setup"
      ]
    },
    {
      "cell_type": "code",
      "execution_count": 12,
      "metadata": {
        "id": "LHBPL3Xw3uAt"
      },
      "outputs": [],
      "source": [
        "@dataclass(frozen=True)\n",
        "class TrainingHistory:\n",
        "    losses: list[float]\n",
        "    train_accuracies: list[float]\n",
        "    val_accuracies: list[float]\n",
        "\n",
        "def converged(val_accs: list[float], n_last: int = 10) -> bool:\n",
        "    return cast(bool, (tensor(val_accs[-n_last:]) == 1).all().item())\n",
        "\n",
        "# Number of epochs\n",
        "# n_epochs = 20000\n",
        "n_epochs = 2500\n",
        "\n",
        "# Optimization\n",
        "lr = 1e-3\n",
        "betas = (.9, .999)\n",
        "optim = torch.optim.AdamW(model.parameters(), lr=lr, betas=betas)\n",
        "scheduler = torch.optim.lr_scheduler.ReduceLROnPlateau(optim, \"min\", patience=100)\n",
        "\n",
        "# Training data generator\n",
        "def train_model(model: HookedTransformer) -> TrainingHistory:\n",
        "    losses = []\n",
        "    train_accuracies = []\n",
        "    val_accuracies = []\n",
        "    \n",
        "    train_gen = iter(train_loader)\n",
        "    for epoch in range(n_epochs):\n",
        "        \n",
        "        try:\n",
        "            tokens = next(train_gen)[0].to(device=DEVICE)\n",
        "        except StopIteration:\n",
        "            train_gen = iter(train_loader)\n",
        "            tokens = next(train_gen)[0].to(device=DEVICE)\n",
        "        \n",
        "        logits = model(tokens)\n",
        "        loss = loss_fn(logits, tokens)\n",
        "        loss.backward()\n",
        "        optim.step()\n",
        "        optim.zero_grad()\n",
        "        scheduler.step(loss)\n",
        "        \n",
        "        if epoch % 100 == 0:\n",
        "            losses.append(loss.item())\n",
        "            train_batch_acc = acc_fn(logits, tokens)\n",
        "            \n",
        "            val_data = next(iter(val_loader))[0].to(device=DEVICE)\n",
        "            val_acc = validate(model, val_data)\n",
        "            val_loss = loss_fn(model(val_data), val_data)\n",
        "\n",
        "            train_accuracies.append(train_batch_acc)\n",
        "            val_accuracies.append(val_acc)\n",
        "            print(\n",
        "                f\"Epoch {epoch}/{n_epochs} ({epoch / n_epochs:.0%}) : \"\n",
        "                f\"loss = {loss.item():.4f}; {train_batch_acc=:.3%}; \"\n",
        "                f\"{val_acc=:.3%}; lr={scheduler._last_lr[0]}\" #type:ignore\n",
        "            )\n",
        "            # If last 10 recorded val_accuracies are 100%\n",
        "            if converged(val_accuracies):\n",
        "                print(f\"\\nAchieved consistent perfect validation accuracy after {epoch} epochs\")\n",
        "                break\n",
        "    return TrainingHistory(losses, train_accuracies, val_accuracies)\n",
        "\n",
        "def load_model_state(model: HookedTransformer, filename: str) -> None:\n",
        "    assert os.path.isdir(\"models\"), \"Make a directory `models` with model state dicts\"\n",
        "    if not filename.startswith(\"models/\"):\n",
        "        filename = f\"models/{filename}\"\n",
        "    with open(filename, \"rb\") as f:\n",
        "        state_dict = pickle.load(f)\n",
        "    model.load_state_dict(state_dict)"
      ]
    },
    {
      "cell_type": "code",
      "execution_count": 13,
      "metadata": {},
      "outputs": [
        {
          "data": {
            "text/plain": [
              "torch.Size([128, 22])"
            ]
          },
          "execution_count": 13,
          "metadata": {},
          "output_type": "execute_result"
        }
      ],
      "source": [
        "train_gen = iter(train_loader)\n",
        "next(train_gen)[0].shape"
      ]
    },
    {
      "cell_type": "markdown",
      "metadata": {
        "id": "HXhR2JBjdXkD"
      },
      "source": [
        "### Train or load model"
      ]
    },
    {
      "cell_type": "code",
      "execution_count": 119,
      "metadata": {
        "id": "CMH8DwNHdWLA"
      },
      "outputs": [
        {
          "name": "stdout",
          "output_type": "stream",
          "text": [
            "Epoch 0/2500 (0%) : loss = 0.0333; train_batch_acc=96.094%; val_acc=96.387%; lr=1.0000000000000004e-08\n",
            "Epoch 100/2500 (4%) : loss = 0.0291; train_batch_acc=97.656%; val_acc=96.484%; lr=1.0000000000000004e-08\n",
            "Epoch 200/2500 (8%) : loss = 0.0313; train_batch_acc=96.875%; val_acc=96.582%; lr=1.0000000000000004e-08\n",
            "Epoch 300/2500 (12%) : loss = 0.0336; train_batch_acc=98.438%; val_acc=96.387%; lr=1.0000000000000004e-08\n",
            "Epoch 400/2500 (16%) : loss = 0.0283; train_batch_acc=97.656%; val_acc=97.070%; lr=1.0000000000000004e-08\n",
            "Epoch 500/2500 (20%) : loss = 0.0337; train_batch_acc=96.875%; val_acc=96.191%; lr=1.0000000000000004e-08\n",
            "Epoch 600/2500 (24%) : loss = 0.0348; train_batch_acc=97.656%; val_acc=96.191%; lr=1.0000000000000004e-08\n",
            "Epoch 700/2500 (28%) : loss = 0.0330; train_batch_acc=98.438%; val_acc=97.363%; lr=1.0000000000000004e-08\n",
            "Epoch 800/2500 (32%) : loss = 0.0308; train_batch_acc=97.656%; val_acc=96.484%; lr=1.0000000000000004e-08\n",
            "Epoch 900/2500 (36%) : loss = 0.0345; train_batch_acc=96.875%; val_acc=97.266%; lr=1.0000000000000004e-08\n",
            "Epoch 1000/2500 (40%) : loss = 0.0313; train_batch_acc=98.438%; val_acc=97.168%; lr=1.0000000000000004e-08\n",
            "Epoch 1100/2500 (44%) : loss = 0.0354; train_batch_acc=96.094%; val_acc=98.047%; lr=1.0000000000000004e-08\n",
            "Epoch 1200/2500 (48%) : loss = 0.0413; train_batch_acc=95.312%; val_acc=95.605%; lr=1.0000000000000004e-08\n",
            "Epoch 1300/2500 (52%) : loss = 0.0290; train_batch_acc=98.438%; val_acc=96.582%; lr=1.0000000000000004e-08\n",
            "Epoch 1400/2500 (56%) : loss = 0.0334; train_batch_acc=96.875%; val_acc=97.070%; lr=1.0000000000000004e-08\n",
            "Epoch 1500/2500 (60%) : loss = 0.0430; train_batch_acc=93.750%; val_acc=96.875%; lr=1.0000000000000004e-08\n",
            "Epoch 1600/2500 (64%) : loss = 0.0304; train_batch_acc=98.438%; val_acc=97.168%; lr=1.0000000000000004e-08\n",
            "Epoch 1700/2500 (68%) : loss = 0.0318; train_batch_acc=96.875%; val_acc=96.777%; lr=1.0000000000000004e-08\n",
            "Epoch 1800/2500 (72%) : loss = 0.0347; train_batch_acc=97.656%; val_acc=96.484%; lr=1.0000000000000004e-08\n",
            "Epoch 1900/2500 (76%) : loss = 0.0379; train_batch_acc=96.094%; val_acc=96.875%; lr=1.0000000000000004e-08\n",
            "Epoch 2000/2500 (80%) : loss = 0.0275; train_batch_acc=98.438%; val_acc=96.875%; lr=1.0000000000000004e-08\n",
            "Epoch 2100/2500 (84%) : loss = 0.0319; train_batch_acc=97.656%; val_acc=95.996%; lr=1.0000000000000004e-08\n",
            "Epoch 2200/2500 (88%) : loss = 0.0308; train_batch_acc=98.438%; val_acc=97.461%; lr=1.0000000000000004e-08\n",
            "Epoch 2300/2500 (92%) : loss = 0.0283; train_batch_acc=98.438%; val_acc=96.680%; lr=1.0000000000000004e-08\n",
            "Epoch 2400/2500 (96%) : loss = 0.0302; train_batch_acc=96.875%; val_acc=97.363%; lr=1.0000000000000004e-08\n"
          ]
        }
      ],
      "source": [
        "history = train_model(model)\n",
        "# load_model_state(model, <filename>)"
      ]
    },
    {
      "cell_type": "code",
      "execution_count": 121,
      "metadata": {},
      "outputs": [
        {
          "name": "stdout",
          "output_type": "stream",
          "text": [
            "Validation loss: 0.0332\n",
            "Validation accuracy: 0.9678\n"
          ]
        },
        {
          "data": {
            "text/plain": [
              "([0.033607594668865204,\n",
              "  0.03171655908226967,\n",
              "  0.032280560582876205,\n",
              "  0.03285164758563042,\n",
              "  0.03426142409443855,\n",
              "  0.03253848850727081,\n",
              "  0.03143266588449478,\n",
              "  0.03312055394053459,\n",
              "  0.034894365817308426,\n",
              "  0.03317312151193619,\n",
              "  0.03629045560956001,\n",
              "  0.03328852728009224,\n",
              "  0.032698508352041245,\n",
              "  0.033223286271095276,\n",
              "  0.031752437353134155,\n",
              "  0.032472264021635056,\n",
              "  0.03376508504152298,\n",
              "  0.03588315472006798,\n",
              "  0.03369876369833946,\n",
              "  0.03445648029446602,\n",
              "  0.03204433247447014,\n",
              "  0.03392691910266876,\n",
              "  0.03426434099674225,\n",
              "  0.032955463975667953,\n",
              "  0.032773640006780624,\n",
              "  0.03405335918068886,\n",
              "  0.03545823693275452,\n",
              "  0.0323360338807106,\n",
              "  0.03325837478041649,\n",
              "  0.03233121708035469,\n",
              "  0.03269752487540245,\n",
              "  0.034336891025304794,\n",
              "  0.031443752348423004,\n",
              "  0.03269389644265175,\n",
              "  0.031312666833400726,\n",
              "  0.034023646265268326,\n",
              "  0.03300826624035835,\n",
              "  0.03108534775674343,\n",
              "  0.034166112542152405,\n",
              "  0.033738113939762115,\n",
              "  0.0326349250972271,\n",
              "  0.034147292375564575,\n",
              "  0.03508433327078819,\n",
              "  0.03380642086267471,\n",
              "  0.03076820634305477,\n",
              "  0.032466303557157516,\n",
              "  0.03126620873808861,\n",
              "  0.033390652388334274,\n",
              "  0.034309860318899155,\n",
              "  0.03240218386054039,\n",
              "  0.03273453935980797,\n",
              "  0.03415917605161667,\n",
              "  0.03212284296751022,\n",
              "  0.03374328836798668,\n",
              "  0.03579975664615631,\n",
              "  0.029647141695022583,\n",
              "  0.03359423205256462,\n",
              "  0.03435845673084259,\n",
              "  0.032652612775564194,\n",
              "  0.03384316712617874,\n",
              "  0.03205990791320801,\n",
              "  0.035009998828172684,\n",
              "  0.035734474658966064,\n",
              "  0.03399103507399559,\n",
              "  0.03682209551334381,\n",
              "  0.03431346267461777,\n",
              "  0.03437088057398796,\n",
              "  0.03490571305155754,\n",
              "  0.03316635638475418,\n",
              "  0.032571759074926376,\n",
              "  0.03105786442756653,\n",
              "  0.03256848081946373,\n",
              "  0.034541789442300797,\n",
              "  0.03526126220822334,\n",
              "  0.029991043731570244,\n",
              "  0.0322515033185482,\n",
              "  0.03248543292284012,\n",
              "  0.03149925544857979,\n",
              "  0.03236233815550804,\n",
              "  0.03281150758266449,\n",
              "  0.031539250165224075,\n",
              "  0.03210898116230965,\n",
              "  0.032575011253356934,\n",
              "  0.036164864897727966,\n",
              "  0.03391057997941971,\n",
              "  0.033201511949300766,\n",
              "  0.03328048065304756,\n",
              "  0.034563370048999786,\n",
              "  0.03163277730345726,\n",
              "  0.03293132781982422,\n",
              "  0.030435239896178246,\n",
              "  0.032602813094854355,\n",
              "  0.03222430869936943,\n",
              "  0.03317549452185631,\n",
              "  0.03169899806380272,\n",
              "  0.03398597240447998,\n",
              "  0.0334232859313488,\n",
              "  0.03306107595562935],\n",
              " [0.96875,\n",
              "  0.974609375,\n",
              "  0.97265625,\n",
              "  0.970703125,\n",
              "  0.9677734375,\n",
              "  0.9716796875,\n",
              "  0.9775390625,\n",
              "  0.9638671875,\n",
              "  0.966796875,\n",
              "  0.9658203125,\n",
              "  0.9638671875,\n",
              "  0.970703125,\n",
              "  0.9619140625,\n",
              "  0.966796875,\n",
              "  0.970703125,\n",
              "  0.96484375,\n",
              "  0.96875,\n",
              "  0.9599609375,\n",
              "  0.9599609375,\n",
              "  0.9677734375,\n",
              "  0.9765625,\n",
              "  0.955078125,\n",
              "  0.9658203125,\n",
              "  0.974609375,\n",
              "  0.96484375,\n",
              "  0.9658203125,\n",
              "  0.96484375,\n",
              "  0.9697265625,\n",
              "  0.9619140625,\n",
              "  0.9794921875,\n",
              "  0.9658203125,\n",
              "  0.9609375,\n",
              "  0.9716796875,\n",
              "  0.96875,\n",
              "  0.96484375,\n",
              "  0.9609375,\n",
              "  0.962890625,\n",
              "  0.9755859375,\n",
              "  0.9609375,\n",
              "  0.9697265625,\n",
              "  0.9658203125,\n",
              "  0.9638671875,\n",
              "  0.9580078125,\n",
              "  0.95703125,\n",
              "  0.97265625,\n",
              "  0.9677734375,\n",
              "  0.974609375,\n",
              "  0.974609375,\n",
              "  0.96875,\n",
              "  0.9755859375,\n",
              "  0.97265625,\n",
              "  0.96484375,\n",
              "  0.9677734375,\n",
              "  0.9677734375,\n",
              "  0.9658203125,\n",
              "  0.9775390625,\n",
              "  0.9619140625,\n",
              "  0.9619140625,\n",
              "  0.9765625,\n",
              "  0.9609375,\n",
              "  0.9765625,\n",
              "  0.9609375,\n",
              "  0.9638671875,\n",
              "  0.9638671875,\n",
              "  0.9677734375,\n",
              "  0.97265625,\n",
              "  0.9560546875,\n",
              "  0.962890625,\n",
              "  0.9638671875,\n",
              "  0.9677734375,\n",
              "  0.970703125,\n",
              "  0.9677734375,\n",
              "  0.9609375,\n",
              "  0.9560546875,\n",
              "  0.9697265625,\n",
              "  0.962890625,\n",
              "  0.98046875,\n",
              "  0.97265625,\n",
              "  0.962890625,\n",
              "  0.970703125,\n",
              "  0.9697265625,\n",
              "  0.970703125,\n",
              "  0.9658203125,\n",
              "  0.962890625,\n",
              "  0.9677734375,\n",
              "  0.9716796875,\n",
              "  0.9736328125,\n",
              "  0.96484375,\n",
              "  0.974609375,\n",
              "  0.9697265625,\n",
              "  0.982421875,\n",
              "  0.966796875,\n",
              "  0.9658203125,\n",
              "  0.97265625,\n",
              "  0.9765625,\n",
              "  0.9580078125,\n",
              "  0.9755859375,\n",
              "  0.973214328289032])"
            ]
          },
          "execution_count": 121,
          "metadata": {},
          "output_type": "execute_result"
        }
      ],
      "source": [
        "def validate_all(val_loader):\n",
        "    \n",
        "    val_losses = []\n",
        "    val_accs = []\n",
        "    \n",
        "    for batch in val_loader:\n",
        "        val_data = batch[0].to(device=DEVICE)\n",
        "        val_acc = validate(model, val_data)\n",
        "        val_loss = loss_fn(model(val_data), val_data)\n",
        "        \n",
        "        val_losses.append(val_loss.item())\n",
        "        val_accs.append(val_acc)\n",
        "    \n",
        "    print(f\"Validation loss: {np.mean(val_losses):.4f}\")\n",
        "    print(f\"Validation accuracy: {np.mean(val_accs):.4f}\")\n",
        "    \n",
        "    return val_losses, val_accs\n",
        "\n",
        "validate_all(val_loader)"
      ]
    },
    {
      "cell_type": "code",
      "execution_count": 22,
      "metadata": {},
      "outputs": [
        {
          "data": {
            "text/plain": [
              "[tensor([[64, 39, 49,  ..., 22, 39, 49],\n",
              "         [64, 28, 46,  ..., 28, 46, 51],\n",
              "         [64,  5, 26,  ..., 26, 34, 39],\n",
              "         ...,\n",
              "         [64, 16, 29,  ..., 45, 47, 59],\n",
              "         [64, 58, 46,  ..., 46, 54, 58],\n",
              "         [64, 38, 57,  ..., 38, 44, 57]])]"
            ]
          },
          "execution_count": 22,
          "metadata": {},
          "output_type": "execute_result"
        }
      ],
      "source": [
        "next(iter(val_loader))"
      ]
    },
    {
      "cell_type": "markdown",
      "metadata": {
        "id": "HABWttcH34dv"
      },
      "source": [
        "### Testing post-training"
      ]
    },
    {
      "cell_type": "code",
      "execution_count": 15,
      "metadata": {
        "colab": {
          "base_uri": "https://localhost:8080/"
        },
        "id": "lakshPyuwdO7",
        "outputId": "259e2ca7-0398-476f-f6ba-094006179a44"
      },
      "outputs": [
        {
          "name": "stdout",
          "output_type": "stream",
          "text": [
            "Validating on validation data:\n",
            "\tval_acc=97.363%\n",
            "\n",
            "[42] [2, 5, 6, 6, 6, 6, 7, 8, 12, 12] | [2, 5, 6, 6, 6, 6, 6, 8, 12, 12]\n",
            "[50] [0, 1, 3, 4, 4, 5, 5, 5, 7, 11] | [0, 1, 3, 4, 5, 5, 5, 5, 7, 11]\n",
            "[52] [1, 6, 10, 10, 12, 12, 12, 12, 13, 13] | [1, 6, 10, 10, 12, 12, 12, 12, 12, 13]\n",
            "[86] [2, 3, 5, 6, 6, 8, 8, 8, 8, 9] | [2, 3, 5, 6, 6, 8, 8, 8, 8, 8]\n",
            "[172] [2, 4, 6, 6, 6, 7, 8, 11, 11, 13] | [2, 4, 6, 6, 6, 6, 8, 11, 11, 13]\n",
            "[209] [6, 7, 8, 9, 10, 10, 10, 10, 10, 12] | [6, 7, 8, 9, 10, 6, 10, 10, 10, 12]\n",
            "[226] [0, 1, 4, 7, 8, 8, 8, 8, 9, 11] | [0, 1, 4, 7, 8, 8, 8, 8, 8, 11]\n",
            "[253] [1, 7, 11, 11, 12, 12, 13, 13, 13, 13] | [1, 7, 11, 12, 12, 13, 13, 13, 13, 13]\n",
            "[265] [0, 0, 0, 1, 1, 1, 2, 6, 7, 9] | [0, 0, 1, 1, 1, 1, 2, 6, 7, 9]\n",
            "[345] [6, 8, 9, 9, 9, 9, 10, 13, 13, 13] | [6, 8, 9, 9, 9, 9, 9, 13, 13, 13]\n",
            "[361] [0, 0, 2, 4, 4, 5, 5, 5, 7, 10] | [0, 0, 2, 4, 5, 5, 5, 5, 7, 10]\n",
            "[408] [3, 3, 5, 7, 8, 8, 8, 8, 8, 12] | [3, 3, 5, 7, 8, 6, 8, 8, 8, 12]\n",
            "[432] [5, 7, 7, 7, 7, 8, 9, 11, 13, 13] | [5, 7, 7, 7, 7, 7, 9, 11, 13, 13]\n",
            "[467] [0, 3, 3, 5, 5, 6, 6, 6, 8, 13] | [0, 3, 3, 5, 6, 6, 6, 6, 8, 13]\n",
            "[491] [1, 1, 1, 4, 11, 12, 12, 12, 13, 13] | [1, 1, 1, 4, 12, 12, 12, 12, 13, 13]\n",
            "[560] [0, 2, 2, 4, 4, 5, 6, 6, 6, 7] | [0, 2, 2, 4, 4, 5, 6, 6, 6, 6]\n",
            "[587] [2, 5, 8, 8, 8, 9, 10, 11, 13, 13] | [2, 5, 8, 8, 8, 8, 10, 11, 13, 13]\n",
            "[651] [3, 6, 7, 7, 7, 8, 9, 12, 13, 13] | [3, 6, 7, 7, 7, 7, 9, 12, 13, 13]\n",
            "[729] [0, 1, 1, 1, 1, 1, 2, 6, 9, 9] | [0, 1, 1, 1, 1, 1, 1, 6, 9, 9]\n",
            "[827] [0, 1, 4, 5, 5, 10, 10, 10, 10, 10] | [0, 1, 4, 5, 5, 10, 5, 10, 10, 10]\n",
            "[876] [5, 5, 5, 6, 8, 9, 9, 10, 12, 13] | [5, 5, 5, 5, 8, 9, 9, 10, 12, 13]\n",
            "[910] [0, 0, 3, 3, 3, 5, 5, 7, 7, 7] | [0, 0, 3, 3, 3, 5, 7, 7, 5, 7]\n",
            "[923] [4, 4, 6, 9, 9, 9, 9, 10, 13, 13] | [4, 4, 6, 9, 9, 9, 9, 9, 13, 13]\n",
            "[970] [0, 1, 2, 3, 6, 6, 7, 7, 7, 7] | [0, 1, 2, 3, 6, 7, 7, 5, 7, 7]\n",
            "[1002] [1, 4, 6, 6, 6, 7, 8, 9, 12, 13] | [1, 4, 6, 6, 6, 6, 8, 9, 12, 13]\n",
            "[1013] [1, 2, 9, 10, 11, 12, 12, 12, 13, 13] | [1, 2, 7, 10, 11, 12, 12, 12, 13, 13]\n",
            "[1022] [3, 5, 5, 5, 6, 6, 7, 7, 7, 8] | [3, 5, 5, 5, 6, 7, 7, 7, 7, 8]\n",
            "27/1024 (2.64%)\n",
            "\n",
            "Validating on test data:\n",
            "\ttest_acc=97.168%\n",
            "\n",
            "[69] [0, 0, 4, 6, 6, 6, 6, 7, 7, 12] | [0, 0, 6, 6, 6, 6, 6, 7, 7, 12]\n",
            "[92] [2, 3, 3, 5, 6, 6, 7, 7, 7, 9] | [2, 3, 3, 5, 6, 7, 7, 7, 7, 9]\n",
            "[106] [0, 2, 6, 6, 6, 6, 7, 8, 10, 13] | [0, 2, 6, 6, 6, 6, 6, 8, 10, 13]\n",
            "[136] [1, 9, 10, 10, 11, 11, 11, 12, 13, 13] | [1, 7, 10, 10, 11, 11, 11, 12, 13, 13]\n",
            "[175] [1, 8, 9, 9, 9, 10, 10, 10, 11, 11] | [1, 7, 9, 9, 9, 10, 10, 10, 11, 11]\n",
            "[176] [3, 8, 9, 9, 9, 11, 11, 11, 11, 12] | [3, 7, 9, 9, 9, 11, 11, 11, 11, 12]\n",
            "[196] [1, 4, 8, 8, 8, 9, 10, 11, 12, 13] | [1, 4, 8, 8, 8, 8, 10, 11, 12, 13]\n",
            "[273] [0, 0, 1, 1, 1, 2, 5, 7, 7, 8] | [0, 0, 1, 1, 1, 2, 7, 7, 7, 8]\n",
            "[307] [1, 5, 5, 5, 6, 7, 8, 11, 11, 13] | [1, 5, 5, 5, 5, 7, 8, 11, 11, 13]\n",
            "[333] [2, 3, 4, 4, 6, 6, 6, 6, 12, 12] | [2, 3, 4, 6, 6, 6, 6, 6, 12, 12]\n",
            "[338] [0, 0, 0, 0, 2, 2, 8, 9, 9, 10] | [0, 0, 0, 0, 2, 2, 9, 9, 9, 10]\n",
            "[398] [3, 4, 4, 5, 5, 5, 6, 6, 11, 12] | [3, 4, 5, 5, 5, 5, 6, 6, 11, 12]\n",
            "[399] [0, 0, 0, 4, 4, 5, 6, 7, 7, 7] | [0, 0, 0, 4, 4, 5, 6, 7, 5, 7]\n",
            "[400] [1, 5, 5, 5, 6, 7, 8, 9, 10, 11] | [1, 5, 5, 5, 5, 7, 8, 9, 10, 11]\n",
            "[432] [3, 6, 6, 7, 7, 7, 8, 9, 10, 11] | [3, 6, 7, 7, 7, 7, 8, 9, 10, 11]\n",
            "[510] [3, 9, 9, 9, 10, 11, 11, 12, 13, 13] | [3, 7, 9, 9, 9, 11, 11, 12, 13, 13]\n",
            "[555] [0, 2, 2, 2, 4, 5, 12, 12, 13, 13] | [0, 2, 2, 2, 4, 2, 12, 12, 13, 13]\n",
            "[568] [1, 3, 5, 5, 5, 6, 7, 7, 8, 13] | [1, 3, 5, 5, 5, 5, 7, 7, 8, 13]\n",
            "[600] [1, 2, 3, 4, 4, 5, 5, 5, 7, 9] | [1, 2, 3, 4, 5, 5, 5, 5, 7, 9]\n",
            "[695] [3, 3, 4, 4, 5, 5, 5, 8, 9, 11] | [3, 3, 4, 5, 5, 5, 5, 8, 9, 11]\n",
            "[698] [0, 2, 8, 8, 8, 8, 9, 11, 12, 13] | [0, 2, 8, 8, 8, 8, 8, 11, 12, 13]\n",
            "[709] [0, 0, 2, 2, 2, 3, 8, 10, 10, 10] | [0, 0, 2, 2, 2, 3, 10, 10, 10, 10]\n",
            "[716] [0, 3, 5, 5, 5, 5, 6, 8, 8, 13] | [0, 3, 5, 5, 5, 5, 5, 8, 8, 13]\n",
            "[717] [1, 2, 4, 5, 5, 6, 9, 9, 9, 9] | [1, 2, 4, 5, 5, 6, 9, 6, 9, 9]\n",
            "[734] [8, 8, 8, 9, 9, 10, 11, 11, 13, 13] | [8, 8, 8, 8, 9, 10, 11, 11, 13, 13]\n",
            "[859] [2, 4, 5, 5, 5, 6, 8, 9, 13, 13] | [2, 4, 5, 5, 5, 5, 8, 9, 13, 13]\n",
            "[972] [6, 8, 9, 11, 12, 12, 12, 13, 13, 13] | [6, 8, 9, 11, 12, 12, 12, 12, 13, 13]\n",
            "[984] [2, 5, 5, 5, 6, 9, 10, 11, 12, 12] | [2, 5, 5, 5, 5, 9, 10, 11, 12, 12]\n",
            "[1022] [1, 4, 4, 6, 6, 7, 7, 7, 8, 10] | [1, 4, 4, 6, 7, 7, 7, 7, 8, 10]\n",
            "29/1024 (2.83%)\n"
          ]
        }
      ],
      "source": [
        "print(\"Validating on validation data:\")\n",
        "val_batch = next(iter(val_loader))[0]\n",
        "val_acc = validate(model, val_batch)\n",
        "print(f\"\\t{val_acc=:.3%}\\n\")\n",
        "if val_acc < 1:\n",
        "    show_mispreds(model, val_batch)\n",
        "\n",
        "test_batch = next(iter(test_loader))[0]\n",
        "print(\"\\nValidating on test data:\")\n",
        "test_acc = validate(model, test_batch)\n",
        "print(f\"\\t{test_acc=:.3%}\\n\")\n",
        "if test_acc < 1:\n",
        "    show_mispreds(model, test_batch)"
      ]
    },
    {
      "cell_type": "markdown",
      "metadata": {
        "id": "pNofXtfSQvh2"
      },
      "source": [
        "### Saving trained model"
      ]
    },
    {
      "cell_type": "code",
      "execution_count": 16,
      "metadata": {
        "id": "i9lLO9p1d8mC"
      },
      "outputs": [],
      "source": [
        "def save_model_state_dict(\n",
        "    model: HookedTransformer, \n",
        "    filename: str | None = None\n",
        ") -> None:\n",
        "    if not os.path.isdir(\"models\"):\n",
        "        os.mkdir(\"models\")\n",
        "    if not filename:\n",
        "        timestamp = dt.now().isoformat(\"T\", \"minutes\").replace(\":\", \"-\")\n",
        "        filename = f\"model_state_dict_{timestamp}.pkl\"\n",
        "    with open(f\"models/{filename}\", \"wb\") as f:\n",
        "        pickle.dump(model.state_dict(), f)\n",
        "\n",
        "save_model_state_dict(model)"
      ]
    },
    {
      "cell_type": "code",
      "execution_count": 17,
      "metadata": {},
      "outputs": [
        {
          "data": {
            "image/png": "[encoded data removed]",
            "text/plain": [
              "<Figure size 800x800 with 2 Axes>"
            ]
          },
          "metadata": {},
          "output_type": "display_data"
        }
      ],
      "source": [
        "attn = model.blocks[0].attn\n",
        "all_token_embeddings = model.embed(range(D_VOCAB))\n",
        "\n",
        "embeddings_key = einsum(\"d_vocab d_model, n_heads d_model d_head -> n_heads d_vocab d_head\", \n",
        "                        all_token_embeddings, attn.W_K) \n",
        "embeddings_query = einsum(\"d_vocab d_model, n_heads d_model d_head -> n_heads d_vocab d_head\", \n",
        "                          all_token_embeddings, attn.W_Q) \n",
        "\n",
        "plt.rcParams['figure.figsize'] = [20, 10]\n",
        "qk_circuit_attn_heatmap = einsum(\n",
        "    \"n_heads d_vocab_q d_head, n_heads d_vocab_k d_head -> ... d_vocab_q d_vocab_k\", \n",
        "    embeddings_query, embeddings_key\n",
        "    ).detach().cpu().numpy()\n",
        "fig, ax = plt.subplots(figsize=(8, 8))\n",
        "graph = ax.imshow(qk_circuit_attn_heatmap, cmap=\"hot\", interpolation=\"nearest\")\n",
        "plt.colorbar(graph)\n",
        "plt.tight_layout()"
      ]
    },
    {
      "cell_type": "code",
      "execution_count": 63,
      "metadata": {},
      "outputs": [],
      "source": [
        "input_tokens = torch.Tensor([START_TOKEN_ID] + [0] * 5 + [1] * 5 + [MID_TOKEN_ID] + 5 * [0] + 5 * [1]).long().to(DEVICE)"
      ]
    },
    {
      "cell_type": "code",
      "execution_count": 64,
      "metadata": {},
      "outputs": [],
      "source": [
        "input_tokens \n",
        "pos_embeds = model.pos_embed(input_tokens)"
      ]
    },
    {
      "cell_type": "code",
      "execution_count": 68,
      "metadata": {},
      "outputs": [
        {
          "data": {
            "text/plain": [
              "torch.Size([22, 128])"
            ]
          },
          "execution_count": 68,
          "metadata": {},
          "output_type": "execute_result"
        }
      ],
      "source": [
        "model.pos_embed.W_pos.shape"
      ]
    },
    {
      "cell_type": "code",
      "execution_count": 115,
      "metadata": {},
      "outputs": [],
      "source": [
        "from typing import *\n",
        "from transformer_lens import ActivationCache, HookedTransformer\n",
        "from jaxtyping import Float\n",
        "from circuitsvis.attention import attention_heads\n",
        "\n",
        "def sharpen_probabilities(tensor, temperature):\n",
        "    # Make sure the temperature is greater than 0 to avoid division by zero\n",
        "    assert temperature > 0, \"Temperature must be greater than 0\"\n",
        "    \n",
        "    # Sharpen the probabilities\n",
        "    sharpened = torch.pow(tensor, 1/temperature)\n",
        "    \n",
        "    # Renormalize the rows to sum to 1\n",
        "    row_sums = sharpened.sum(dim=1).unsqueeze(1)\n",
        "    normalized = sharpened / row_sums\n",
        "    \n",
        "    return normalized\n",
        "\n",
        "def visualize_attention_patterns(\n",
        "    heads: Union[List[int], int, Float[torch.Tensor, \"heads\"]],\n",
        "    local_cache: ActivationCache,\n",
        "    local_tokens: torch.Tensor,\n",
        "    title: Optional[str] = \"\",\n",
        "    max_width: Optional[int] = 700,\n",
        "    temp = 0.9\n",
        ") -> str:\n",
        "    # If a single head is given, convert to a list\n",
        "    if isinstance(heads, int):\n",
        "        heads = [heads]\n",
        "\n",
        "    # Create the plotting data\n",
        "    labels: List[str] = []\n",
        "    patterns: List[Float[torch.Tensor, \"dest_pos src_pos\"]] = []\n",
        "\n",
        "    # Assume we have a single batch item\n",
        "    batch_index = 0\n",
        "\n",
        "    for head in heads:\n",
        "        # Set the label\n",
        "        layer = head // model.cfg.n_heads\n",
        "        head_index = head % model.cfg.n_heads\n",
        "        labels.append(f\"L{layer}H{head_index}\")\n",
        "\n",
        "        # Get the attention patterns for the head\n",
        "        # Attention patterns have shape [batch, head_index, query_pos, key_pos]\n",
        "        patterns.append(sharpen_probabilities(local_cache[\"attn\", layer][batch_index, head_index], temp))\n",
        "\n",
        "    # Convert the tokens to strings (for the axis labels)\n",
        "    str_tokens = local_tokens.detach().cpu().numpy().astype(str).tolist()\n",
        "\n",
        "    # Combine the patterns into a single tensor\n",
        "    patterns: Float[torch.Tensor, \"head_index dest_pos src_pos\"] = torch.stack(\n",
        "        patterns, dim=0\n",
        "    )\n",
        "\n",
        "    # Circuitsvis Plot (note we get the code version so we can concatenate with the title)\n",
        "    plot = attention_heads(\n",
        "        attention=patterns, tokens=str_tokens, attention_head_names=labels\n",
        "    ).show_code()\n",
        "\n",
        "    # Display the title\n",
        "    title_html = f\"<h2>{title}</h2><br/>\"\n",
        "\n",
        "    # Return the visualisation as raw code\n",
        "    return f\"<div style='max-width: {str(max_width)}px;'>{title_html + plot}</div>\""
      ]
    },
    {
      "cell_type": "code",
      "execution_count": 120,
      "metadata": {},
      "outputs": [
        {
          "name": "stdout",
          "output_type": "stream",
          "text": [
            "torch.Size([22])\n"
          ]
        },
        {
          "data": {
            "text/html": [
              "<div style='max-width: 700px;'><h2>What</h2><br/><div id=\"circuits-vis-73850315-763d\" style=\"margin: 15px 0;\"/>\n",
              "    <script crossorigin type=\"module\">\n",
              "    import { render, AttentionHeads } from \"https://unpkg.com/circuitsvis@1.43.2/dist/cdn/esm.js\";\n",
              "    render(\n",
              "      \"circuits-vis-73850315-763d\",\n",
              "      AttentionHeads,\n",
              "      {\"attention\": [[[1.0, 0.0, 0.0, 0.0, 0.0, 0.0, 0.0, 0.0, 0.0, 0.0, 0.0, 0.0, 0.0, 0.0, 0.0, 0.0, 0.0, 0.0, 0.0, 0.0, 0.0, 0.0], [0.9861143827438354, 0.013885639607906342, 0.0, 0.0, 0.0, 0.0, 0.0, 0.0, 0.0, 0.0, 0.0, 0.0, 0.0, 0.0, 0.0, 0.0, 0.0, 0.0, 0.0, 0.0, 0.0, 0.0], [0.9999244809150696, 1.4496580951167508e-14, 7.552558236056939e-05, 0.0, 0.0, 0.0, 0.0, 0.0, 0.0, 0.0, 0.0, 0.0, 0.0, 0.0, 0.0, 0.0, 0.0, 0.0, 0.0, 0.0, 0.0, 0.0], [0.7767114639282227, 1.3271165277828345e-09, 1.2944128684466705e-06, 0.22328722476959229, 0.0, 0.0, 0.0, 0.0, 0.0, 0.0, 0.0, 0.0, 0.0, 0.0, 0.0, 0.0, 0.0, 0.0, 0.0, 0.0, 0.0, 0.0], [3.826383832006286e-08, 0.7298805117607117, 3.488659058348276e-05, 6.103646228439175e-06, 0.2700784206390381, 0.0, 0.0, 0.0, 0.0, 0.0, 0.0, 0.0, 0.0, 0.0, 0.0, 0.0, 0.0, 0.0, 0.0, 0.0, 0.0, 0.0], [7.769857047965339e-16, 0.9900632500648499, 2.337882491765253e-12, 5.145779202048173e-12, 0.00945558026432991, 0.000481117342133075, 0.0, 0.0, 0.0, 0.0, 0.0, 0.0, 0.0, 0.0, 0.0, 0.0, 0.0, 0.0, 0.0, 0.0, 0.0, 0.0], [0.03329402953386307, 2.1220967890468203e-16, 0.9340289831161499, 0.03267136216163635, 4.2442307650320536e-20, 3.507054950113909e-16, 5.585130566032603e-06, 0.0, 0.0, 0.0, 0.0, 0.0, 0.0, 0.0, 0.0, 0.0, 0.0, 0.0, 0.0, 0.0, 0.0, 0.0], [0.7733563184738159, 2.6521584928218545e-10, 2.752837815478415e-07, 0.15907685458660126, 3.652027465161911e-12, 1.3417935917914292e-07, 5.475807363097829e-09, 0.0675664097070694, 0.0, 0.0, 0.0, 0.0, 0.0, 0.0, 0.0, 0.0, 0.0, 0.0, 0.0, 0.0, 0.0, 0.0], [0.9094613790512085, 4.522246224952613e-15, 1.8956829705985e-07, 0.03390669822692871, 2.0591936739291028e-17, 4.684990730866728e-14, 2.1427423724240668e-10, 0.025145361199975014, 0.03148635849356651, 0.0, 0.0, 0.0, 0.0, 0.0, 0.0, 0.0, 0.0, 0.0, 0.0, 0.0, 0.0, 0.0], [0.9915056228637695, 1.3062967258846441e-16, 1.0165944530626803e-08, 2.417391624476295e-05, 1.5127311753362687e-15, 1.2824405437334568e-13, 4.41481606827665e-09, 2.987008201671415e-06, 1.5696783520979807e-05, 0.008451465517282486, 0.0, 0.0, 0.0, 0.0, 0.0, 0.0, 0.0, 0.0, 0.0, 0.0, 0.0, 0.0], [1.7854328042063439e-12, 0.011423400603234768, 6.11390049698457e-09, 9.85420300914086e-10, 0.1083376333117485, 0.8487437963485718, 1.0003368089428477e-07, 3.5720706947905967e-10, 1.5168984957014686e-09, 2.0470110329018354e-10, 0.031495045870542526, 0.0, 0.0, 0.0, 0.0, 0.0, 0.0, 0.0, 0.0, 0.0, 0.0, 0.0], [4.6834558544216345e-25, 5.580185619136202e-11, 1.95851729534385e-25, 1.665705685872619e-25, 0.9999942183494568, 3.4475991839144626e-08, 1.9500433570219923e-21, 6.706656292727147e-26, 1.5868709945688736e-25, 3.258834858832543e-27, 5.735494141845265e-06, 4.194428658566007e-12, 0.0, 0.0, 0.0, 0.0, 0.0, 0.0, 0.0, 0.0, 0.0, 0.0], [1.1849778103201203e-11, 4.284296664991416e-05, 1.5948629839129531e-15, 1.2068623688301153e-14, 0.343153178691864, 0.07192210853099823, 6.429306685564601e-14, 6.9111315520280214e-15, 7.678127509063316e-15, 4.414746732517728e-15, 0.5648152232170105, 0.01975642889738083, 0.00031019654124975204, 0.0, 0.0, 0.0, 0.0, 0.0, 0.0, 0.0, 0.0, 0.0], [8.713519272438019e-13, 0.00042834231862798333, 8.366819505289686e-15, 1.8934211972821205e-14, 0.035116273909807205, 0.12143952399492264, 6.16398696407644e-13, 9.5116226499865e-15, 1.1895647702010563e-14, 1.473647169325824e-15, 0.015408988110721111, 0.8276069164276123, 2.183361998142619e-11, 2.349386685196464e-09, 0.0, 0.0, 0.0, 0.0, 0.0, 0.0, 0.0, 0.0], [7.414625713408896e-08, 0.016039660200476646, 1.2629385315321429e-09, 5.589835816444122e-10, 0.0027982613537460566, 0.0015390306944027543, 5.911422906734742e-09, 3.3786756725717737e-10, 3.963940564677415e-10, 5.233034561236138e-10, 0.005372494924813509, 0.9742504954338074, 1.1656544869967367e-12, 1.8060159487701122e-12, 7.543616425964572e-11, 0.0, 0.0, 0.0, 0.0, 0.0, 0.0, 0.0], [0.9833728671073914, 5.427235919341911e-06, 0.0016066617099568248, 0.003047429956495762, 3.3245267871961914e-08, 9.480971812081407e-07, 0.0026759894099086523, 0.0029445691034197807, 0.003440113505348563, 0.0029040537774562836, 2.0212597462432313e-07, 1.8409859876555856e-06, 5.3448477112183346e-17, 1.3165289790132465e-18, 6.291151229340462e-20, 2.215008527862859e-18, 0.0, 0.0, 0.0, 0.0, 0.0, 0.0], [0.9634187817573547, 1.268314863263299e-14, 0.0071945092640817165, 0.007481973152607679, 1.0698052593601415e-17, 9.953318991760569e-15, 8.878999324224424e-06, 0.006839602254331112, 0.008441582322120667, 0.00661469716578722, 1.2452480173513725e-16, 7.097196420815177e-17, 8.947396197310159e-20, 9.95307066294799e-24, 5.954725171226958e-26, 2.1518315120281478e-27, 4.386304124337508e-21, 0.0, 0.0, 0.0, 0.0, 0.0], [0.6752898693084717, 6.526243936551065e-17, 0.00013253903307486326, 0.08283161371946335, 8.307553898924492e-20, 1.9807369163174282e-16, 4.454471902448631e-09, 0.084034264087677, 0.10188580304384232, 0.05582590028643608, 3.601789232517198e-18, 8.684610610224865e-18, 2.3823569045415796e-21, 1.241153023330508e-24, 2.3423572253016283e-29, 3.0676855384708663e-30, 3.1576626003287724e-26, 7.489063206447246e-20, 0.0, 0.0, 0.0, 0.0], [0.3173586428165436, 1.5545515444438756e-19, 5.599091856822724e-09, 0.002523174975067377, 2.0055141373674124e-22, 2.6677056587541955e-18, 2.0234480757608253e-10, 0.0023747074883431196, 0.0034187366254627705, 0.6743247509002686, 1.9585349233874103e-20, 5.692737108711778e-19, 3.161698794824384e-25, 1.5729741042396174e-27, 0.0, 0.0, 2.560645407178705e-31, 1.311815692664775e-27, 4.056046610220743e-22, 0.0, 0.0, 0.0], [0.0014844363322481513, 2.41026550310366e-27, 4.552176344208014e-11, 0.0006998931639827788, 8.40757946374787e-31, 1.6373155679698463e-25, 1.2642679871749385e-12, 0.0006176517345011234, 0.0010969351278617978, 0.9961010813713074, 2.3045494751192947e-28, 2.629344579472377e-26, 4.385243976943137e-32, 0.0, 0.0, 0.0, 0.0, 0.0, 3.833400572481249e-28, 3.4211854683926193e-25, 0.0, 0.0], [2.131269878462294e-13, 2.8831436267984634e-33, 3.874475826975976e-12, 2.7241316274739802e-05, 7.9967110185060875e-28, 8.924686022878169e-26, 6.294327665551597e-15, 1.3210412362241186e-05, 3.256127456552349e-05, 0.9999269843101501, 4.785936393284767e-28, 1.5669228323543527e-27, 1.0287447416719483e-16, 1.323416558767854e-14, 4.054454962606251e-34, 1.2174798498925918e-32, 6.267331864608127e-24, 9.518946898954252e-25, 6.074151162632038e-27, 3.8966110377034966e-28, 1.0565045006975894e-27, 0.0], [0.9979151487350464, 1.2608321000918716e-16, 6.022195631061322e-09, 1.1458155313448515e-08, 1.3030594801111627e-18, 4.384031438495935e-17, 9.030908243445879e-10, 4.378679108185679e-08, 1.1195920990303421e-07, 0.002083207480609417, 1.123263732122847e-15, 2.1254913133910088e-20, 1.1263889126977844e-11, 1.5907449850091106e-14, 3.361005475193969e-21, 3.1026167488832425e-21, 1.1572248497810732e-17, 2.796968172189316e-16, 1.0692938963054612e-18, 6.641718929089896e-18, 3.725377956966501e-14, 1.530642521174741e-06]]], \"attentionHeadNames\": [\"L0H0\"], \"tokens\": [\"14\", \"5\", \"9\", \"10\", \"0\", \"2\", \"8\", \"10\", \"10\", \"11\", \"1\", \"15\", \"0\", \"1\", \"2\", \"5\", \"8\", \"9\", \"10\", \"10\", \"10\", \"11\"]}\n",
              "    )\n",
              "    </script></div>"
            ],
            "text/plain": [
              "<IPython.core.display.HTML object>"
            ]
          },
          "execution_count": 120,
          "metadata": {},
          "output_type": "execute_result"
        }
      ],
      "source": [
        "from IPython.display import HTML, IFrame\n",
        "\n",
        "# input_tokens = torch.Tensor([START_TOKEN_ID] + [0] * 5 + [1] * 5 + [MID_TOKEN_ID] + 5 * [0] + 5 * [1]).long().to(DEVICE)\n",
        "\n",
        "# list_to_sort = [0,1,1,0,1,0,2,3,4,5]\n",
        "list_to_sort = [0,1,2,3,4,5,6,7,8,9]\n",
        "tokens = torch.Tensor([START_TOKEN_ID] + list_to_sort + [MID_TOKEN_ID] + sorted(list_to_sort)).long().to(DEVICE)\n",
        "\n",
        "tokens = next(train_gen)[0].to(device=DEVICE)[0]\n",
        "print(tokens.shape)\n",
        "\n",
        "# Run the model and cache all activations\n",
        "original_logits, cache = model.run_with_cache(tokens)\n",
        "\n",
        "positive_html = visualize_attention_patterns(\n",
        "    0,\n",
        "    cache,\n",
        "    tokens,\n",
        "    f\"What\",\n",
        "    temp=0.1\n",
        ")\n",
        "\n",
        "\n",
        "HTML(positive_html)"
      ]
    },
    {
      "cell_type": "code",
      "execution_count": 71,
      "metadata": {},
      "outputs": [],
      "source": [
        "attn = model.blocks[0].attn\n",
        "all_token_embeddings = model.input_to_embed(input_tokens)[0][0]\n",
        "\n",
        "# all_token_embeddings = model.pos_embed.W_pos\n",
        "\n",
        "embeddings_key = einsum(\"d_vocab d_model, n_heads d_model d_head -> n_heads d_vocab d_head\", \n",
        "                        all_token_embeddings, attn.W_K) \n",
        "embeddings_query = einsum(\"d_vocab d_model, n_heads d_model d_head -> n_heads d_vocab d_head\", \n",
        "                          all_token_embeddings, attn.W_Q) \n",
        "\n",
        "plt.rcParams['figure.figsize'] = [20, 10]\n",
        "qk_circuit_attn_heatmap = einsum(\n",
        "    \"n_heads d_vocab_q d_head, n_heads d_vocab_k d_head -> ... d_vocab_q d_vocab_k\", \n",
        "    embeddings_query, embeddings_key)\n",
        "\n",
        "mask = torch.tril(torch.ones_like(qk_circuit_attn_heatmap), diagonal=-1)"
      ]
    },
    {
      "cell_type": "code",
      "execution_count": 76,
      "metadata": {},
      "outputs": [
        {
          "data": {
            "text/plain": [
              "tensor([0., 1.], device='mps:0')"
            ]
          },
          "execution_count": 76,
          "metadata": {},
          "output_type": "execute_result"
        }
      ],
      "source": [
        "mask.unique()"
      ]
    },
    {
      "cell_type": "code",
      "execution_count": 114,
      "metadata": {},
      "outputs": [
        {
          "data": {
            "image/png": "[encoded data removed]",
            "text/plain": [
              "<Figure size 800x800 with 2 Axes>"
            ]
          },
          "metadata": {},
          "output_type": "display_data"
        }
      ],
      "source": [
        "attn = model.blocks[0].attn\n",
        "all_token_embeddings = model.embed(range(D_VOCAB))\n",
        "\n",
        "embeddings_value = einsum(\"d_vocab d_model, n_heads d_model d_head -> n_heads d_vocab d_head\", \n",
        "                          all_token_embeddings, attn.W_V) \n",
        "\n",
        "plt.rcParams['figure.figsize'] = [20, 10]\n",
        "qk_circuit_attn_heatmap = einsum(\n",
        "    \"n_heads d_vocab_e1 d_head, n_heads d_vocab_e2 d_head -> ... d_vocab_e1 d_vocab_e2\", \n",
        "    embeddings_value, embeddings_value\n",
        "    ).detach().cpu().numpy()\n",
        "fig, ax = plt.subplots(figsize=(8, 8))\n",
        "graph = ax.imshow(qk_circuit_attn_heatmap, cmap=\"hot\", interpolation=\"nearest\")\n",
        "plt.colorbar(graph)\n",
        "plt.tight_layout()"
      ]
    },
    {
      "cell_type": "code",
      "execution_count": 118,
      "metadata": {},
      "outputs": [
        {
          "data": {
            "image/png": "[encoded data removed]",
            "text/plain": [
              "<Figure size 800x800 with 1 Axes>"
            ]
          },
          "metadata": {},
          "output_type": "display_data"
        }
      ],
      "source": [
        "fig, ax = plt.subplots(figsize=(8, 8))\n",
        "graph = ax.imshow(embeddings_value[0].detach().cpu().numpy(), cmap=\"hot\", interpolation=\"nearest\")"
      ]
    },
    {
      "cell_type": "code",
      "execution_count": 119,
      "metadata": {},
      "outputs": [
        {
          "data": {
            "text/plain": [
              "HookedTransformer(\n",
              "  (embed): Embed()\n",
              "  (hook_embed): HookPoint()\n",
              "  (pos_embed): PosEmbed()\n",
              "  (hook_pos_embed): HookPoint()\n",
              "  (blocks): ModuleList(\n",
              "    (0): TransformerBlock(\n",
              "      (ln1): LayerNorm(\n",
              "        (hook_scale): HookPoint()\n",
              "        (hook_normalized): HookPoint()\n",
              "      )\n",
              "      (attn): Attention(\n",
              "        (hook_k): HookPoint()\n",
              "        (hook_q): HookPoint()\n",
              "        (hook_v): HookPoint()\n",
              "        (hook_z): HookPoint()\n",
              "        (hook_attn_scores): HookPoint()\n",
              "        (hook_pattern): HookPoint()\n",
              "        (hook_result): HookPoint()\n",
              "      )\n",
              "      (hook_attn_in): HookPoint()\n",
              "      (hook_q_input): HookPoint()\n",
              "      (hook_k_input): HookPoint()\n",
              "      (hook_v_input): HookPoint()\n",
              "      (hook_mlp_in): HookPoint()\n",
              "      (hook_attn_out): HookPoint()\n",
              "      (hook_mlp_out): HookPoint()\n",
              "      (hook_resid_pre): HookPoint()\n",
              "      (hook_resid_post): HookPoint()\n",
              "    )\n",
              "  )\n",
              "  (ln_final): LayerNorm(\n",
              "    (hook_scale): HookPoint()\n",
              "    (hook_normalized): HookPoint()\n",
              "  )\n",
              "  (unembed): Unembed()\n",
              ")"
            ]
          },
          "execution_count": 119,
          "metadata": {},
          "output_type": "execute_result"
        }
      ],
      "source": [
        "model"
      ]
    },
    {
      "cell_type": "code",
      "execution_count": 114,
      "metadata": {},
      "outputs": [
        {
          "data": {
            "text/plain": [
              "tensor([[[[1.0000e+00, 0.0000e+00, 0.0000e+00, 0.0000e+00, 0.0000e+00,\n",
              "           0.0000e+00, 0.0000e+00, 0.0000e+00, 0.0000e+00, 0.0000e+00,\n",
              "           0.0000e+00, 0.0000e+00, 0.0000e+00, 0.0000e+00, 0.0000e+00,\n",
              "           0.0000e+00, 0.0000e+00, 0.0000e+00, 0.0000e+00, 0.0000e+00,\n",
              "           0.0000e+00, 0.0000e+00],\n",
              "          [9.2659e-02, 9.0734e-01, 0.0000e+00, 0.0000e+00, 0.0000e+00,\n",
              "           0.0000e+00, 0.0000e+00, 0.0000e+00, 0.0000e+00, 0.0000e+00,\n",
              "           0.0000e+00, 0.0000e+00, 0.0000e+00, 0.0000e+00, 0.0000e+00,\n",
              "           0.0000e+00, 0.0000e+00, 0.0000e+00, 0.0000e+00, 0.0000e+00,\n",
              "           0.0000e+00, 0.0000e+00],\n",
              "          [2.9933e-02, 5.5924e-01, 4.1083e-01, 0.0000e+00, 0.0000e+00,\n",
              "           0.0000e+00, 0.0000e+00, 0.0000e+00, 0.0000e+00, 0.0000e+00,\n",
              "           0.0000e+00, 0.0000e+00, 0.0000e+00, 0.0000e+00, 0.0000e+00,\n",
              "           0.0000e+00, 0.0000e+00, 0.0000e+00, 0.0000e+00, 0.0000e+00,\n",
              "           0.0000e+00, 0.0000e+00],\n",
              "          [1.0819e-02, 4.0490e-01, 3.0105e-01, 2.8323e-01, 0.0000e+00,\n",
              "           0.0000e+00, 0.0000e+00, 0.0000e+00, 0.0000e+00, 0.0000e+00,\n",
              "           0.0000e+00, 0.0000e+00, 0.0000e+00, 0.0000e+00, 0.0000e+00,\n",
              "           0.0000e+00, 0.0000e+00, 0.0000e+00, 0.0000e+00, 0.0000e+00,\n",
              "           0.0000e+00, 0.0000e+00],\n",
              "          [1.1483e-01, 2.9516e-01, 2.3563e-01, 1.9251e-01, 1.6187e-01,\n",
              "           0.0000e+00, 0.0000e+00, 0.0000e+00, 0.0000e+00, 0.0000e+00,\n",
              "           0.0000e+00, 0.0000e+00, 0.0000e+00, 0.0000e+00, 0.0000e+00,\n",
              "           0.0000e+00, 0.0000e+00, 0.0000e+00, 0.0000e+00, 0.0000e+00,\n",
              "           0.0000e+00, 0.0000e+00],\n",
              "          [6.4522e-02, 2.2792e-01, 2.0188e-01, 2.1735e-01, 1.4605e-01,\n",
              "           1.4228e-01, 0.0000e+00, 0.0000e+00, 0.0000e+00, 0.0000e+00,\n",
              "           0.0000e+00, 0.0000e+00, 0.0000e+00, 0.0000e+00, 0.0000e+00,\n",
              "           0.0000e+00, 0.0000e+00, 0.0000e+00, 0.0000e+00, 0.0000e+00,\n",
              "           0.0000e+00, 0.0000e+00],\n",
              "          [4.3310e-01, 7.6085e-02, 9.0895e-02, 9.7288e-02, 8.6813e-02,\n",
              "           9.6822e-02, 1.1900e-01, 0.0000e+00, 0.0000e+00, 0.0000e+00,\n",
              "           0.0000e+00, 0.0000e+00, 0.0000e+00, 0.0000e+00, 0.0000e+00,\n",
              "           0.0000e+00, 0.0000e+00, 0.0000e+00, 0.0000e+00, 0.0000e+00,\n",
              "           0.0000e+00, 0.0000e+00],\n",
              "          [3.2494e-01, 3.5459e-02, 5.2666e-02, 7.5042e-02, 5.3429e-02,\n",
              "           1.1679e-01, 7.0976e-02, 2.7069e-01, 0.0000e+00, 0.0000e+00,\n",
              "           0.0000e+00, 0.0000e+00, 0.0000e+00, 0.0000e+00, 0.0000e+00,\n",
              "           0.0000e+00, 0.0000e+00, 0.0000e+00, 0.0000e+00, 0.0000e+00,\n",
              "           0.0000e+00, 0.0000e+00],\n",
              "          [4.9528e-01, 1.5320e-02, 1.6338e-02, 2.6282e-02, 1.6001e-02,\n",
              "           4.0680e-02, 3.1127e-02, 6.7887e-02, 2.9109e-01, 0.0000e+00,\n",
              "           0.0000e+00, 0.0000e+00, 0.0000e+00, 0.0000e+00, 0.0000e+00,\n",
              "           0.0000e+00, 0.0000e+00, 0.0000e+00, 0.0000e+00, 0.0000e+00,\n",
              "           0.0000e+00, 0.0000e+00],\n",
              "          [4.8636e-01, 1.6545e-02, 1.5432e-02, 3.5742e-02, 3.2486e-02,\n",
              "           2.2246e-02, 2.1954e-02, 3.0701e-02, 5.7410e-02, 2.8113e-01,\n",
              "           0.0000e+00, 0.0000e+00, 0.0000e+00, 0.0000e+00, 0.0000e+00,\n",
              "           0.0000e+00, 0.0000e+00, 0.0000e+00, 0.0000e+00, 0.0000e+00,\n",
              "           0.0000e+00, 0.0000e+00],\n",
              "          [4.8433e-01, 1.0274e-02, 1.3521e-02, 1.8614e-02, 2.2037e-02,\n",
              "           3.1433e-02, 1.0936e-02, 1.7310e-02, 4.4071e-02, 6.8662e-02,\n",
              "           2.7881e-01, 0.0000e+00, 0.0000e+00, 0.0000e+00, 0.0000e+00,\n",
              "           0.0000e+00, 0.0000e+00, 0.0000e+00, 0.0000e+00, 0.0000e+00,\n",
              "           0.0000e+00, 0.0000e+00],\n",
              "          [1.8496e-03, 4.9503e-01, 1.5155e-01, 9.3451e-02, 7.7817e-02,\n",
              "           6.6781e-02, 5.1687e-02, 1.5050e-02, 4.7739e-03, 3.8238e-03,\n",
              "           1.6873e-03, 3.6501e-02, 0.0000e+00, 0.0000e+00, 0.0000e+00,\n",
              "           0.0000e+00, 0.0000e+00, 0.0000e+00, 0.0000e+00, 0.0000e+00,\n",
              "           0.0000e+00, 0.0000e+00],\n",
              "          [1.4246e-02, 1.6130e-01, 1.6661e-01, 1.3596e-01, 1.1625e-01,\n",
              "           8.8769e-02, 6.4358e-02, 2.6657e-02, 1.3950e-02, 8.3623e-03,\n",
              "           5.8572e-03, 1.1908e-01, 7.8606e-02, 0.0000e+00, 0.0000e+00,\n",
              "           0.0000e+00, 0.0000e+00, 0.0000e+00, 0.0000e+00, 0.0000e+00,\n",
              "           0.0000e+00, 0.0000e+00],\n",
              "          [1.1062e-02, 1.2832e-01, 1.1426e-01, 1.4154e-01, 1.2422e-01,\n",
              "           9.8331e-02, 8.3009e-02, 4.8753e-02, 1.8794e-02, 1.0369e-02,\n",
              "           7.1478e-03, 1.7451e-01, 1.5282e-02, 2.4402e-02, 0.0000e+00,\n",
              "           0.0000e+00, 0.0000e+00, 0.0000e+00, 0.0000e+00, 0.0000e+00,\n",
              "           0.0000e+00, 0.0000e+00],\n",
              "          [3.1273e-02, 9.2243e-02, 9.3502e-02, 8.6697e-02, 1.3200e-01,\n",
              "           1.0505e-01, 1.0533e-01, 7.2969e-02, 3.6879e-02, 2.4689e-02,\n",
              "           2.1331e-02, 1.6114e-01, 1.0358e-02, 1.0823e-02, 1.5719e-02,\n",
              "           0.0000e+00, 0.0000e+00, 0.0000e+00, 0.0000e+00, 0.0000e+00,\n",
              "           0.0000e+00, 0.0000e+00],\n",
              "          [7.3885e-02, 6.6762e-02, 7.3699e-02, 7.4244e-02, 6.8782e-02,\n",
              "           1.0375e-01, 1.0943e-01, 9.8032e-02, 6.6549e-02, 5.2725e-02,\n",
              "           4.3986e-02, 1.4420e-01, 7.1583e-03, 6.6422e-03, 5.4045e-03,\n",
              "           4.7417e-03, 0.0000e+00, 0.0000e+00, 0.0000e+00, 0.0000e+00,\n",
              "           0.0000e+00, 0.0000e+00],\n",
              "          [1.2295e-01, 4.2180e-02, 4.6816e-02, 5.3124e-02, 5.4689e-02,\n",
              "           4.2473e-02, 1.1455e-01, 1.3100e-01, 1.0174e-01, 9.2989e-02,\n",
              "           8.4404e-02, 1.0587e-01, 2.4389e-03, 1.5704e-03, 1.0080e-03,\n",
              "           7.7148e-04, 1.4229e-03, 0.0000e+00, 0.0000e+00, 0.0000e+00,\n",
              "           0.0000e+00, 0.0000e+00],\n",
              "          [1.8514e-01, 1.5784e-02, 1.8186e-02, 2.3326e-02, 2.6119e-02,\n",
              "           1.8096e-02, 3.8034e-02, 1.6986e-01, 1.6724e-01, 1.5485e-01,\n",
              "           1.4344e-01, 3.3990e-02, 1.6090e-03, 9.8133e-04, 4.3635e-04,\n",
              "           5.1714e-04, 5.0753e-04, 1.8822e-03, 0.0000e+00, 0.0000e+00,\n",
              "           0.0000e+00, 0.0000e+00],\n",
              "          [2.0506e-01, 1.9702e-03, 2.5471e-03, 3.7978e-03, 3.7195e-03,\n",
              "           4.3151e-03, 5.8205e-03, 4.0296e-02, 2.4294e-01, 2.5297e-01,\n",
              "           2.2907e-01, 4.7906e-03, 1.0024e-03, 5.4145e-04, 9.9859e-05,\n",
              "           7.7197e-05, 7.8839e-05, 1.3377e-04, 7.7160e-04, 0.0000e+00,\n",
              "           0.0000e+00, 0.0000e+00],\n",
              "          [1.6423e-01, 7.3918e-04, 9.1999e-04, 1.6159e-03, 1.3394e-03,\n",
              "           1.1704e-03, 2.2648e-03, 1.0099e-02, 9.6132e-02, 3.9910e-01,\n",
              "           3.1687e-01, 1.4206e-03, 1.0672e-03, 4.5912e-04, 5.6593e-05,\n",
              "           4.8929e-05, 2.7883e-05, 4.9933e-05, 1.4364e-04, 2.2502e-03,\n",
              "           0.0000e+00, 0.0000e+00],\n",
              "          [7.4212e-02, 2.5106e-03, 1.8515e-03, 3.9707e-03, 2.9199e-03,\n",
              "           7.1723e-04, 1.1147e-03, 4.5661e-03, 2.4418e-02, 1.5815e-01,\n",
              "           5.8270e-01, 2.1287e-03, 6.3146e-02, 7.1224e-02, 1.2019e-03,\n",
              "           3.3750e-03, 3.0281e-04, 1.4710e-04, 5.2863e-05, 1.1996e-04,\n",
              "           1.1668e-03, 0.0000e+00],\n",
              "          [3.9525e-01, 8.7428e-03, 1.1228e-02, 9.7053e-03, 1.2147e-02,\n",
              "           1.3498e-02, 1.1967e-02, 2.2376e-02, 5.4741e-02, 6.7934e-02,\n",
              "           1.9635e-01, 4.8102e-03, 4.0204e-02, 1.9161e-02, 5.8951e-03,\n",
              "           6.2706e-03, 3.3099e-03, 2.3619e-03, 3.0100e-03, 5.8552e-03,\n",
              "           2.7335e-02, 7.7849e-02]]]], device='mps:0')"
            ]
          },
          "execution_count": 114,
          "metadata": {},
          "output_type": "execute_result"
        }
      ],
      "source": [
        "cache[\"attn\", 0]"
      ]
    },
    {
      "cell_type": "code",
      "execution_count": null,
      "metadata": {},
      "outputs": [],
      "source": []
    }
  ],
  "metadata": {
    "colab": {
      "collapsed_sections": [
        "7o--LiD_HMGs"
      ],
      "provenance": []
    },
    "kernelspec": {
      "display_name": "Python 3",
      "language": "python",
      "name": "python3"
    },
    "language_info": {
      "codemirror_mode": {
        "name": "ipython",
        "version": 3
      },
      "file_extension": ".py",
      "mimetype": "text/x-python",
      "name": "python",
      "nbconvert_exporter": "python",
      "pygments_lexer": "ipython3",
      "version": "3.9.16"
    },
    "vscode": {
      "interpreter": {
        "hash": "916dbcbb3f70747c44a77c7bcd40155683ae19c65e1c03b4aa3499c5328201f1"
      }
    }
  },
  "nbformat": 4,
  "nbformat_minor": 0
}
